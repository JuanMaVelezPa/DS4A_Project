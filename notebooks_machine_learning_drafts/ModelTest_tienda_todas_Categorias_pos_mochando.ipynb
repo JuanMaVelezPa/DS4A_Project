{
 "cells": [
  {
   "cell_type": "code",
   "execution_count": 2,
   "source": [
    "%pylab inline\r\n",
    "import pandas as pd\r\n",
    "\r\n",
    "from dataManager import DataManager\r\n",
    "from model import ModelManager as manager\r\n",
    "\r\n",
    "from sklearn.preprocessing import MinMaxScaler\r\n",
    "from sklearn.ensemble import GradientBoostingRegressor\r\n",
    "from sklearn.metrics import mean_squared_error as mse\r\n",
    "from sklearn.model_selection import GridSearchCV\r\n",
    "from sklearn.model_selection import RandomizedSearchCV\r\n",
    "\r\n",
    "import plotly.graph_objects as go"
   ],
   "outputs": [
    {
     "output_type": "stream",
     "name": "stdout",
     "text": [
      "Populating the interactive namespace from numpy and matplotlib\n"
     ]
    }
   ],
   "metadata": {}
  },
  {
   "cell_type": "code",
   "execution_count": 166,
   "source": [
    "a=DataManager().sales_prod"
   ],
   "outputs": [],
   "metadata": {}
  },
  {
   "cell_type": "code",
   "execution_count": 169,
   "source": [
    "a[a['PROD_REF']=='XZ0993:00100:']\r\n"
   ],
   "outputs": [
    {
     "output_type": "execute_result",
     "data": {
      "text/plain": [
       "                                   ID NRO_DOCUMENTO      FECHA  CODIGO_TIENDA  \\\n",
       "20771   11:FSV-00001893:XZ0993:00100:  FSV-00001893 2020-03-09             11   \n",
       "20772   11:FSV-00002298:XZ0993:00100:  FSV-00002298 2021-02-25             11   \n",
       "20773   11:FSV-00002360:XZ0993:00100:  FSV-00002360 2021-04-15             11   \n",
       "20774  100:FVP-00024639:XZ0993:00100:  FVP-00024639 2019-11-30            100   \n",
       "20775  100:FVP-00026652:XZ0993:00100:  FVP-00026652 2020-02-24            100   \n",
       "20776  100:FVP-00026845:XZ0993:00100:  FVP-00026845 2020-03-02            100   \n",
       "20777  100:FVP-00031467:XZ0993:00100:  FVP-00031467 2021-02-12            100   \n",
       "20778  100:FVP-00032203:XZ0993:00100:  FVP-00032203 2021-03-30            100   \n",
       "20779  100:FVP-00032262:XZ0993:00100:  FVP-00032262 2021-04-05            100   \n",
       "20780  102:FVP-00009240:XZ0993:00100:  FVP-00009240 2020-02-17            102   \n",
       "20781  103:FVP-00003983:XZ0993:00100:  FVP-00003983 2019-04-02            103   \n",
       "20782  104:FVP-00005080:XZ0993:00100:  FVP-00005080 2019-01-31            104   \n",
       "20783  104:FVP-00007319:XZ0993:00100:  FVP-00007319 2020-02-28            104   \n",
       "20784  104:FVP-00012084:XZ0993:00100:  FVP-00012084 2021-04-22            104   \n",
       "20785  107:FVP-00001322:XZ0993:00100:  FVP-00001322 2020-10-03            107   \n",
       "20786  201:FVP-00001834:XZ0993:00100:  FVP-00001834 2019-12-30            201   \n",
       "20787  903:FVP-00000849:XZ0993:00100:  FVP-00000849 2019-09-25            903   \n",
       "20788  903:FVP-00000850:XZ0993:00100:  FVP-00000850 2019-09-25            903   \n",
       "20789  903:FVP-00001062:XZ0993:00100:  FVP-00001062 2020-03-03            903   \n",
       "20790  903:FVP-00001131:XZ0993:00100:  FVP-00001131 2020-05-05            903   \n",
       "20791  903:FVP-00001659:XZ0993:00100:  FVP-00001659 2020-07-27            903   \n",
       "\n",
       "                              TIENDA       PROD_REF  CANTIDAD    PRECIO  \\\n",
       "20771                 ADMINISTRACION  XZ0993:00100:         1  546677.0   \n",
       "20772                 ADMINISTRACION  XZ0993:00100:         1  546677.0   \n",
       "20773                 ADMINISTRACION  XZ0993:00100:         1  593462.0   \n",
       "20774           PUNTO DE VENTA AV 68  XZ0993:00100:         1  546677.0   \n",
       "20775           PUNTO DE VENTA AV 68  XZ0993:00100:         1  546677.0   \n",
       "20776           PUNTO DE VENTA AV 68  XZ0993:00100:         1  546677.0   \n",
       "20777           PUNTO DE VENTA AV 68  XZ0993:00100:         1  546678.0   \n",
       "20778           PUNTO DE VENTA AV 68  XZ0993:00100:         1  546678.0   \n",
       "20779           PUNTO DE VENTA AV 68  XZ0993:00100:         1  546678.0   \n",
       "20780    PUNTO DE VENTA CENTRO MAYOR  XZ0993:00100:         1  546677.0   \n",
       "20781  PUNTO DE VENTA PLAZA IMPERIAL  XZ0993:00100:         1  546677.0   \n",
       "20782       PUNTO DE VENTA CALLE 134  XZ0993:00100:         1  546677.0   \n",
       "20783       PUNTO DE VENTA CALLE 134  XZ0993:00100:         1  546677.0   \n",
       "20784       PUNTO DE VENTA CALLE 134  XZ0993:00100:         1  593462.0   \n",
       "20785          PUNTO DE VENTA SOACHA  XZ0993:00100:         1  546677.0   \n",
       "20786         PUNTO DE VENTA POBLADO  XZ0993:00100:         1  546677.0   \n",
       "20787              PAGINA WEB FIOTTI  XZ0993:00100:         1  159199.0   \n",
       "20788              PAGINA WEB FIOTTI  XZ0993:00100:         1  159199.0   \n",
       "20789              PAGINA WEB FIOTTI  XZ0993:00100:         1  423920.0   \n",
       "20790              PAGINA WEB FIOTTI  XZ0993:00100:         1  423920.0   \n",
       "20791              PAGINA WEB FIOTTI  XZ0993:00100:         1  164003.0   \n",
       "\n",
       "       SUBTOTAL  DESCUENTO(%)  ...  PUESTOS   COLOR  ANCHO  ALTO  FONDO  \\\n",
       "20771    546677      0.700000  ...      0.0  BLANCO  100.0  44.0   50.0   \n",
       "20772    546677      0.800001  ...      0.0  BLANCO  100.0  44.0   50.0   \n",
       "20773    593462      0.493755  ...      0.0  BLANCO  100.0  44.0   50.0   \n",
       "20774    546677      0.500001  ...      0.0  BLANCO  100.0  44.0   50.0   \n",
       "20775    546677      0.700000  ...      0.0  BLANCO  100.0  44.0   50.0   \n",
       "20776    546677      0.700000  ...      0.0  BLANCO  100.0  44.0   50.0   \n",
       "20777    546678      0.600000  ...      0.0  BLANCO  100.0  44.0   50.0   \n",
       "20778    546678      0.600000  ...      0.0  BLANCO  100.0  44.0   50.0   \n",
       "20779    546678      0.619999  ...      0.0  BLANCO  100.0  44.0   50.0   \n",
       "20780    546677      0.700000  ...      0.0  BLANCO  100.0  44.0   50.0   \n",
       "20781    546677      0.500001  ...      0.0  BLANCO  100.0  44.0   50.0   \n",
       "20782    546677      0.500001  ...      0.0  BLANCO  100.0  44.0   50.0   \n",
       "20783    546677      0.700000  ...      0.0  BLANCO  100.0  44.0   50.0   \n",
       "20784    593462      0.493755  ...      0.0  BLANCO  100.0  44.0   50.0   \n",
       "20785    546677      0.700000  ...      0.0  BLANCO  100.0  44.0   50.0   \n",
       "20786    546677      0.800001  ...      0.0  BLANCO  100.0  44.0   50.0   \n",
       "20787    159199      0.000000  ...      0.0  BLANCO  100.0  44.0   50.0   \n",
       "20788    159199      0.000000  ...      0.0  BLANCO  100.0  44.0   50.0   \n",
       "20789    423920      0.000000  ...      0.0  BLANCO  100.0  44.0   50.0   \n",
       "20790    423920      0.000000  ...      0.0  BLANCO  100.0  44.0   50.0   \n",
       "20791    164003      0.000000  ...      0.0  BLANCO  100.0  44.0   50.0   \n",
       "\n",
       "                                     DESC_LARGA SUBCATEGORIA_POS COLOR_POS  \\\n",
       "20771  MESA CENTRO FILIS LACA BL 2C LIQUIDACIÓN  MESAS DE CENTRO    BLANCO   \n",
       "20772  MESA CENTRO FILIS LACA BL 2C LIQUIDACIÓN  MESAS DE CENTRO    BLANCO   \n",
       "20773  MESA CENTRO FILIS LACA BL 2C LIQUIDACIÓN  MESAS DE CENTRO    BLANCO   \n",
       "20774  MESA CENTRO FILIS LACA BL 2C LIQUIDACIÓN  MESAS DE CENTRO    BLANCO   \n",
       "20775  MESA CENTRO FILIS LACA BL 2C LIQUIDACIÓN  MESAS DE CENTRO    BLANCO   \n",
       "20776  MESA CENTRO FILIS LACA BL 2C LIQUIDACIÓN  MESAS DE CENTRO    BLANCO   \n",
       "20777  MESA CENTRO FILIS LACA BL 2C LIQUIDACIÓN  MESAS DE CENTRO    BLANCO   \n",
       "20778  MESA CENTRO FILIS LACA BL 2C LIQUIDACIÓN  MESAS DE CENTRO    BLANCO   \n",
       "20779  MESA CENTRO FILIS LACA BL 2C LIQUIDACIÓN  MESAS DE CENTRO    BLANCO   \n",
       "20780  MESA CENTRO FILIS LACA BL 2C LIQUIDACIÓN  MESAS DE CENTRO    BLANCO   \n",
       "20781  MESA CENTRO FILIS LACA BL 2C LIQUIDACIÓN  MESAS DE CENTRO    BLANCO   \n",
       "20782  MESA CENTRO FILIS LACA BL 2C LIQUIDACIÓN  MESAS DE CENTRO    BLANCO   \n",
       "20783  MESA CENTRO FILIS LACA BL 2C LIQUIDACIÓN  MESAS DE CENTRO    BLANCO   \n",
       "20784  MESA CENTRO FILIS LACA BL 2C LIQUIDACIÓN  MESAS DE CENTRO    BLANCO   \n",
       "20785  MESA CENTRO FILIS LACA BL 2C LIQUIDACIÓN  MESAS DE CENTRO    BLANCO   \n",
       "20786  MESA CENTRO FILIS LACA BL 2C LIQUIDACIÓN  MESAS DE CENTRO    BLANCO   \n",
       "20787  MESA CENTRO FILIS LACA BL 2C LIQUIDACIÓN  MESAS DE CENTRO    BLANCO   \n",
       "20788  MESA CENTRO FILIS LACA BL 2C LIQUIDACIÓN  MESAS DE CENTRO    BLANCO   \n",
       "20789  MESA CENTRO FILIS LACA BL 2C LIQUIDACIÓN  MESAS DE CENTRO    BLANCO   \n",
       "20790  MESA CENTRO FILIS LACA BL 2C LIQUIDACIÓN  MESAS DE CENTRO    BLANCO   \n",
       "20791  MESA CENTRO FILIS LACA BL 2C LIQUIDACIÓN  MESAS DE CENTRO    BLANCO   \n",
       "\n",
       "      MATERIAL_POS    AREA  \n",
       "20771       VIDRIO  5000.0  \n",
       "20772       VIDRIO  5000.0  \n",
       "20773       VIDRIO  5000.0  \n",
       "20774       VIDRIO  5000.0  \n",
       "20775       VIDRIO  5000.0  \n",
       "20776       VIDRIO  5000.0  \n",
       "20777       VIDRIO  5000.0  \n",
       "20778       VIDRIO  5000.0  \n",
       "20779       VIDRIO  5000.0  \n",
       "20780       VIDRIO  5000.0  \n",
       "20781       VIDRIO  5000.0  \n",
       "20782       VIDRIO  5000.0  \n",
       "20783       VIDRIO  5000.0  \n",
       "20784       VIDRIO  5000.0  \n",
       "20785       VIDRIO  5000.0  \n",
       "20786       VIDRIO  5000.0  \n",
       "20787       VIDRIO  5000.0  \n",
       "20788       VIDRIO  5000.0  \n",
       "20789       VIDRIO  5000.0  \n",
       "20790       VIDRIO  5000.0  \n",
       "20791       VIDRIO  5000.0  \n",
       "\n",
       "[21 rows x 34 columns]"
      ],
      "text/html": [
       "<div>\n",
       "<style scoped>\n",
       "    .dataframe tbody tr th:only-of-type {\n",
       "        vertical-align: middle;\n",
       "    }\n",
       "\n",
       "    .dataframe tbody tr th {\n",
       "        vertical-align: top;\n",
       "    }\n",
       "\n",
       "    .dataframe thead th {\n",
       "        text-align: right;\n",
       "    }\n",
       "</style>\n",
       "<table border=\"1\" class=\"dataframe\">\n",
       "  <thead>\n",
       "    <tr style=\"text-align: right;\">\n",
       "      <th></th>\n",
       "      <th>ID</th>\n",
       "      <th>NRO_DOCUMENTO</th>\n",
       "      <th>FECHA</th>\n",
       "      <th>CODIGO_TIENDA</th>\n",
       "      <th>TIENDA</th>\n",
       "      <th>PROD_REF</th>\n",
       "      <th>CANTIDAD</th>\n",
       "      <th>PRECIO</th>\n",
       "      <th>SUBTOTAL</th>\n",
       "      <th>DESCUENTO(%)</th>\n",
       "      <th>...</th>\n",
       "      <th>PUESTOS</th>\n",
       "      <th>COLOR</th>\n",
       "      <th>ANCHO</th>\n",
       "      <th>ALTO</th>\n",
       "      <th>FONDO</th>\n",
       "      <th>DESC_LARGA</th>\n",
       "      <th>SUBCATEGORIA_POS</th>\n",
       "      <th>COLOR_POS</th>\n",
       "      <th>MATERIAL_POS</th>\n",
       "      <th>AREA</th>\n",
       "    </tr>\n",
       "  </thead>\n",
       "  <tbody>\n",
       "    <tr>\n",
       "      <th>20771</th>\n",
       "      <td>11:FSV-00001893:XZ0993:00100:</td>\n",
       "      <td>FSV-00001893</td>\n",
       "      <td>2020-03-09</td>\n",
       "      <td>11</td>\n",
       "      <td>ADMINISTRACION</td>\n",
       "      <td>XZ0993:00100:</td>\n",
       "      <td>1</td>\n",
       "      <td>546677.0</td>\n",
       "      <td>546677</td>\n",
       "      <td>0.700000</td>\n",
       "      <td>...</td>\n",
       "      <td>0.0</td>\n",
       "      <td>BLANCO</td>\n",
       "      <td>100.0</td>\n",
       "      <td>44.0</td>\n",
       "      <td>50.0</td>\n",
       "      <td>MESA CENTRO FILIS LACA BL 2C LIQUIDACIÓN</td>\n",
       "      <td>MESAS DE CENTRO</td>\n",
       "      <td>BLANCO</td>\n",
       "      <td>VIDRIO</td>\n",
       "      <td>5000.0</td>\n",
       "    </tr>\n",
       "    <tr>\n",
       "      <th>20772</th>\n",
       "      <td>11:FSV-00002298:XZ0993:00100:</td>\n",
       "      <td>FSV-00002298</td>\n",
       "      <td>2021-02-25</td>\n",
       "      <td>11</td>\n",
       "      <td>ADMINISTRACION</td>\n",
       "      <td>XZ0993:00100:</td>\n",
       "      <td>1</td>\n",
       "      <td>546677.0</td>\n",
       "      <td>546677</td>\n",
       "      <td>0.800001</td>\n",
       "      <td>...</td>\n",
       "      <td>0.0</td>\n",
       "      <td>BLANCO</td>\n",
       "      <td>100.0</td>\n",
       "      <td>44.0</td>\n",
       "      <td>50.0</td>\n",
       "      <td>MESA CENTRO FILIS LACA BL 2C LIQUIDACIÓN</td>\n",
       "      <td>MESAS DE CENTRO</td>\n",
       "      <td>BLANCO</td>\n",
       "      <td>VIDRIO</td>\n",
       "      <td>5000.0</td>\n",
       "    </tr>\n",
       "    <tr>\n",
       "      <th>20773</th>\n",
       "      <td>11:FSV-00002360:XZ0993:00100:</td>\n",
       "      <td>FSV-00002360</td>\n",
       "      <td>2021-04-15</td>\n",
       "      <td>11</td>\n",
       "      <td>ADMINISTRACION</td>\n",
       "      <td>XZ0993:00100:</td>\n",
       "      <td>1</td>\n",
       "      <td>593462.0</td>\n",
       "      <td>593462</td>\n",
       "      <td>0.493755</td>\n",
       "      <td>...</td>\n",
       "      <td>0.0</td>\n",
       "      <td>BLANCO</td>\n",
       "      <td>100.0</td>\n",
       "      <td>44.0</td>\n",
       "      <td>50.0</td>\n",
       "      <td>MESA CENTRO FILIS LACA BL 2C LIQUIDACIÓN</td>\n",
       "      <td>MESAS DE CENTRO</td>\n",
       "      <td>BLANCO</td>\n",
       "      <td>VIDRIO</td>\n",
       "      <td>5000.0</td>\n",
       "    </tr>\n",
       "    <tr>\n",
       "      <th>20774</th>\n",
       "      <td>100:FVP-00024639:XZ0993:00100:</td>\n",
       "      <td>FVP-00024639</td>\n",
       "      <td>2019-11-30</td>\n",
       "      <td>100</td>\n",
       "      <td>PUNTO DE VENTA AV 68</td>\n",
       "      <td>XZ0993:00100:</td>\n",
       "      <td>1</td>\n",
       "      <td>546677.0</td>\n",
       "      <td>546677</td>\n",
       "      <td>0.500001</td>\n",
       "      <td>...</td>\n",
       "      <td>0.0</td>\n",
       "      <td>BLANCO</td>\n",
       "      <td>100.0</td>\n",
       "      <td>44.0</td>\n",
       "      <td>50.0</td>\n",
       "      <td>MESA CENTRO FILIS LACA BL 2C LIQUIDACIÓN</td>\n",
       "      <td>MESAS DE CENTRO</td>\n",
       "      <td>BLANCO</td>\n",
       "      <td>VIDRIO</td>\n",
       "      <td>5000.0</td>\n",
       "    </tr>\n",
       "    <tr>\n",
       "      <th>20775</th>\n",
       "      <td>100:FVP-00026652:XZ0993:00100:</td>\n",
       "      <td>FVP-00026652</td>\n",
       "      <td>2020-02-24</td>\n",
       "      <td>100</td>\n",
       "      <td>PUNTO DE VENTA AV 68</td>\n",
       "      <td>XZ0993:00100:</td>\n",
       "      <td>1</td>\n",
       "      <td>546677.0</td>\n",
       "      <td>546677</td>\n",
       "      <td>0.700000</td>\n",
       "      <td>...</td>\n",
       "      <td>0.0</td>\n",
       "      <td>BLANCO</td>\n",
       "      <td>100.0</td>\n",
       "      <td>44.0</td>\n",
       "      <td>50.0</td>\n",
       "      <td>MESA CENTRO FILIS LACA BL 2C LIQUIDACIÓN</td>\n",
       "      <td>MESAS DE CENTRO</td>\n",
       "      <td>BLANCO</td>\n",
       "      <td>VIDRIO</td>\n",
       "      <td>5000.0</td>\n",
       "    </tr>\n",
       "    <tr>\n",
       "      <th>20776</th>\n",
       "      <td>100:FVP-00026845:XZ0993:00100:</td>\n",
       "      <td>FVP-00026845</td>\n",
       "      <td>2020-03-02</td>\n",
       "      <td>100</td>\n",
       "      <td>PUNTO DE VENTA AV 68</td>\n",
       "      <td>XZ0993:00100:</td>\n",
       "      <td>1</td>\n",
       "      <td>546677.0</td>\n",
       "      <td>546677</td>\n",
       "      <td>0.700000</td>\n",
       "      <td>...</td>\n",
       "      <td>0.0</td>\n",
       "      <td>BLANCO</td>\n",
       "      <td>100.0</td>\n",
       "      <td>44.0</td>\n",
       "      <td>50.0</td>\n",
       "      <td>MESA CENTRO FILIS LACA BL 2C LIQUIDACIÓN</td>\n",
       "      <td>MESAS DE CENTRO</td>\n",
       "      <td>BLANCO</td>\n",
       "      <td>VIDRIO</td>\n",
       "      <td>5000.0</td>\n",
       "    </tr>\n",
       "    <tr>\n",
       "      <th>20777</th>\n",
       "      <td>100:FVP-00031467:XZ0993:00100:</td>\n",
       "      <td>FVP-00031467</td>\n",
       "      <td>2021-02-12</td>\n",
       "      <td>100</td>\n",
       "      <td>PUNTO DE VENTA AV 68</td>\n",
       "      <td>XZ0993:00100:</td>\n",
       "      <td>1</td>\n",
       "      <td>546678.0</td>\n",
       "      <td>546678</td>\n",
       "      <td>0.600000</td>\n",
       "      <td>...</td>\n",
       "      <td>0.0</td>\n",
       "      <td>BLANCO</td>\n",
       "      <td>100.0</td>\n",
       "      <td>44.0</td>\n",
       "      <td>50.0</td>\n",
       "      <td>MESA CENTRO FILIS LACA BL 2C LIQUIDACIÓN</td>\n",
       "      <td>MESAS DE CENTRO</td>\n",
       "      <td>BLANCO</td>\n",
       "      <td>VIDRIO</td>\n",
       "      <td>5000.0</td>\n",
       "    </tr>\n",
       "    <tr>\n",
       "      <th>20778</th>\n",
       "      <td>100:FVP-00032203:XZ0993:00100:</td>\n",
       "      <td>FVP-00032203</td>\n",
       "      <td>2021-03-30</td>\n",
       "      <td>100</td>\n",
       "      <td>PUNTO DE VENTA AV 68</td>\n",
       "      <td>XZ0993:00100:</td>\n",
       "      <td>1</td>\n",
       "      <td>546678.0</td>\n",
       "      <td>546678</td>\n",
       "      <td>0.600000</td>\n",
       "      <td>...</td>\n",
       "      <td>0.0</td>\n",
       "      <td>BLANCO</td>\n",
       "      <td>100.0</td>\n",
       "      <td>44.0</td>\n",
       "      <td>50.0</td>\n",
       "      <td>MESA CENTRO FILIS LACA BL 2C LIQUIDACIÓN</td>\n",
       "      <td>MESAS DE CENTRO</td>\n",
       "      <td>BLANCO</td>\n",
       "      <td>VIDRIO</td>\n",
       "      <td>5000.0</td>\n",
       "    </tr>\n",
       "    <tr>\n",
       "      <th>20779</th>\n",
       "      <td>100:FVP-00032262:XZ0993:00100:</td>\n",
       "      <td>FVP-00032262</td>\n",
       "      <td>2021-04-05</td>\n",
       "      <td>100</td>\n",
       "      <td>PUNTO DE VENTA AV 68</td>\n",
       "      <td>XZ0993:00100:</td>\n",
       "      <td>1</td>\n",
       "      <td>546678.0</td>\n",
       "      <td>546678</td>\n",
       "      <td>0.619999</td>\n",
       "      <td>...</td>\n",
       "      <td>0.0</td>\n",
       "      <td>BLANCO</td>\n",
       "      <td>100.0</td>\n",
       "      <td>44.0</td>\n",
       "      <td>50.0</td>\n",
       "      <td>MESA CENTRO FILIS LACA BL 2C LIQUIDACIÓN</td>\n",
       "      <td>MESAS DE CENTRO</td>\n",
       "      <td>BLANCO</td>\n",
       "      <td>VIDRIO</td>\n",
       "      <td>5000.0</td>\n",
       "    </tr>\n",
       "    <tr>\n",
       "      <th>20780</th>\n",
       "      <td>102:FVP-00009240:XZ0993:00100:</td>\n",
       "      <td>FVP-00009240</td>\n",
       "      <td>2020-02-17</td>\n",
       "      <td>102</td>\n",
       "      <td>PUNTO DE VENTA CENTRO MAYOR</td>\n",
       "      <td>XZ0993:00100:</td>\n",
       "      <td>1</td>\n",
       "      <td>546677.0</td>\n",
       "      <td>546677</td>\n",
       "      <td>0.700000</td>\n",
       "      <td>...</td>\n",
       "      <td>0.0</td>\n",
       "      <td>BLANCO</td>\n",
       "      <td>100.0</td>\n",
       "      <td>44.0</td>\n",
       "      <td>50.0</td>\n",
       "      <td>MESA CENTRO FILIS LACA BL 2C LIQUIDACIÓN</td>\n",
       "      <td>MESAS DE CENTRO</td>\n",
       "      <td>BLANCO</td>\n",
       "      <td>VIDRIO</td>\n",
       "      <td>5000.0</td>\n",
       "    </tr>\n",
       "    <tr>\n",
       "      <th>20781</th>\n",
       "      <td>103:FVP-00003983:XZ0993:00100:</td>\n",
       "      <td>FVP-00003983</td>\n",
       "      <td>2019-04-02</td>\n",
       "      <td>103</td>\n",
       "      <td>PUNTO DE VENTA PLAZA IMPERIAL</td>\n",
       "      <td>XZ0993:00100:</td>\n",
       "      <td>1</td>\n",
       "      <td>546677.0</td>\n",
       "      <td>546677</td>\n",
       "      <td>0.500001</td>\n",
       "      <td>...</td>\n",
       "      <td>0.0</td>\n",
       "      <td>BLANCO</td>\n",
       "      <td>100.0</td>\n",
       "      <td>44.0</td>\n",
       "      <td>50.0</td>\n",
       "      <td>MESA CENTRO FILIS LACA BL 2C LIQUIDACIÓN</td>\n",
       "      <td>MESAS DE CENTRO</td>\n",
       "      <td>BLANCO</td>\n",
       "      <td>VIDRIO</td>\n",
       "      <td>5000.0</td>\n",
       "    </tr>\n",
       "    <tr>\n",
       "      <th>20782</th>\n",
       "      <td>104:FVP-00005080:XZ0993:00100:</td>\n",
       "      <td>FVP-00005080</td>\n",
       "      <td>2019-01-31</td>\n",
       "      <td>104</td>\n",
       "      <td>PUNTO DE VENTA CALLE 134</td>\n",
       "      <td>XZ0993:00100:</td>\n",
       "      <td>1</td>\n",
       "      <td>546677.0</td>\n",
       "      <td>546677</td>\n",
       "      <td>0.500001</td>\n",
       "      <td>...</td>\n",
       "      <td>0.0</td>\n",
       "      <td>BLANCO</td>\n",
       "      <td>100.0</td>\n",
       "      <td>44.0</td>\n",
       "      <td>50.0</td>\n",
       "      <td>MESA CENTRO FILIS LACA BL 2C LIQUIDACIÓN</td>\n",
       "      <td>MESAS DE CENTRO</td>\n",
       "      <td>BLANCO</td>\n",
       "      <td>VIDRIO</td>\n",
       "      <td>5000.0</td>\n",
       "    </tr>\n",
       "    <tr>\n",
       "      <th>20783</th>\n",
       "      <td>104:FVP-00007319:XZ0993:00100:</td>\n",
       "      <td>FVP-00007319</td>\n",
       "      <td>2020-02-28</td>\n",
       "      <td>104</td>\n",
       "      <td>PUNTO DE VENTA CALLE 134</td>\n",
       "      <td>XZ0993:00100:</td>\n",
       "      <td>1</td>\n",
       "      <td>546677.0</td>\n",
       "      <td>546677</td>\n",
       "      <td>0.700000</td>\n",
       "      <td>...</td>\n",
       "      <td>0.0</td>\n",
       "      <td>BLANCO</td>\n",
       "      <td>100.0</td>\n",
       "      <td>44.0</td>\n",
       "      <td>50.0</td>\n",
       "      <td>MESA CENTRO FILIS LACA BL 2C LIQUIDACIÓN</td>\n",
       "      <td>MESAS DE CENTRO</td>\n",
       "      <td>BLANCO</td>\n",
       "      <td>VIDRIO</td>\n",
       "      <td>5000.0</td>\n",
       "    </tr>\n",
       "    <tr>\n",
       "      <th>20784</th>\n",
       "      <td>104:FVP-00012084:XZ0993:00100:</td>\n",
       "      <td>FVP-00012084</td>\n",
       "      <td>2021-04-22</td>\n",
       "      <td>104</td>\n",
       "      <td>PUNTO DE VENTA CALLE 134</td>\n",
       "      <td>XZ0993:00100:</td>\n",
       "      <td>1</td>\n",
       "      <td>593462.0</td>\n",
       "      <td>593462</td>\n",
       "      <td>0.493755</td>\n",
       "      <td>...</td>\n",
       "      <td>0.0</td>\n",
       "      <td>BLANCO</td>\n",
       "      <td>100.0</td>\n",
       "      <td>44.0</td>\n",
       "      <td>50.0</td>\n",
       "      <td>MESA CENTRO FILIS LACA BL 2C LIQUIDACIÓN</td>\n",
       "      <td>MESAS DE CENTRO</td>\n",
       "      <td>BLANCO</td>\n",
       "      <td>VIDRIO</td>\n",
       "      <td>5000.0</td>\n",
       "    </tr>\n",
       "    <tr>\n",
       "      <th>20785</th>\n",
       "      <td>107:FVP-00001322:XZ0993:00100:</td>\n",
       "      <td>FVP-00001322</td>\n",
       "      <td>2020-10-03</td>\n",
       "      <td>107</td>\n",
       "      <td>PUNTO DE VENTA SOACHA</td>\n",
       "      <td>XZ0993:00100:</td>\n",
       "      <td>1</td>\n",
       "      <td>546677.0</td>\n",
       "      <td>546677</td>\n",
       "      <td>0.700000</td>\n",
       "      <td>...</td>\n",
       "      <td>0.0</td>\n",
       "      <td>BLANCO</td>\n",
       "      <td>100.0</td>\n",
       "      <td>44.0</td>\n",
       "      <td>50.0</td>\n",
       "      <td>MESA CENTRO FILIS LACA BL 2C LIQUIDACIÓN</td>\n",
       "      <td>MESAS DE CENTRO</td>\n",
       "      <td>BLANCO</td>\n",
       "      <td>VIDRIO</td>\n",
       "      <td>5000.0</td>\n",
       "    </tr>\n",
       "    <tr>\n",
       "      <th>20786</th>\n",
       "      <td>201:FVP-00001834:XZ0993:00100:</td>\n",
       "      <td>FVP-00001834</td>\n",
       "      <td>2019-12-30</td>\n",
       "      <td>201</td>\n",
       "      <td>PUNTO DE VENTA POBLADO</td>\n",
       "      <td>XZ0993:00100:</td>\n",
       "      <td>1</td>\n",
       "      <td>546677.0</td>\n",
       "      <td>546677</td>\n",
       "      <td>0.800001</td>\n",
       "      <td>...</td>\n",
       "      <td>0.0</td>\n",
       "      <td>BLANCO</td>\n",
       "      <td>100.0</td>\n",
       "      <td>44.0</td>\n",
       "      <td>50.0</td>\n",
       "      <td>MESA CENTRO FILIS LACA BL 2C LIQUIDACIÓN</td>\n",
       "      <td>MESAS DE CENTRO</td>\n",
       "      <td>BLANCO</td>\n",
       "      <td>VIDRIO</td>\n",
       "      <td>5000.0</td>\n",
       "    </tr>\n",
       "    <tr>\n",
       "      <th>20787</th>\n",
       "      <td>903:FVP-00000849:XZ0993:00100:</td>\n",
       "      <td>FVP-00000849</td>\n",
       "      <td>2019-09-25</td>\n",
       "      <td>903</td>\n",
       "      <td>PAGINA WEB FIOTTI</td>\n",
       "      <td>XZ0993:00100:</td>\n",
       "      <td>1</td>\n",
       "      <td>159199.0</td>\n",
       "      <td>159199</td>\n",
       "      <td>0.000000</td>\n",
       "      <td>...</td>\n",
       "      <td>0.0</td>\n",
       "      <td>BLANCO</td>\n",
       "      <td>100.0</td>\n",
       "      <td>44.0</td>\n",
       "      <td>50.0</td>\n",
       "      <td>MESA CENTRO FILIS LACA BL 2C LIQUIDACIÓN</td>\n",
       "      <td>MESAS DE CENTRO</td>\n",
       "      <td>BLANCO</td>\n",
       "      <td>VIDRIO</td>\n",
       "      <td>5000.0</td>\n",
       "    </tr>\n",
       "    <tr>\n",
       "      <th>20788</th>\n",
       "      <td>903:FVP-00000850:XZ0993:00100:</td>\n",
       "      <td>FVP-00000850</td>\n",
       "      <td>2019-09-25</td>\n",
       "      <td>903</td>\n",
       "      <td>PAGINA WEB FIOTTI</td>\n",
       "      <td>XZ0993:00100:</td>\n",
       "      <td>1</td>\n",
       "      <td>159199.0</td>\n",
       "      <td>159199</td>\n",
       "      <td>0.000000</td>\n",
       "      <td>...</td>\n",
       "      <td>0.0</td>\n",
       "      <td>BLANCO</td>\n",
       "      <td>100.0</td>\n",
       "      <td>44.0</td>\n",
       "      <td>50.0</td>\n",
       "      <td>MESA CENTRO FILIS LACA BL 2C LIQUIDACIÓN</td>\n",
       "      <td>MESAS DE CENTRO</td>\n",
       "      <td>BLANCO</td>\n",
       "      <td>VIDRIO</td>\n",
       "      <td>5000.0</td>\n",
       "    </tr>\n",
       "    <tr>\n",
       "      <th>20789</th>\n",
       "      <td>903:FVP-00001062:XZ0993:00100:</td>\n",
       "      <td>FVP-00001062</td>\n",
       "      <td>2020-03-03</td>\n",
       "      <td>903</td>\n",
       "      <td>PAGINA WEB FIOTTI</td>\n",
       "      <td>XZ0993:00100:</td>\n",
       "      <td>1</td>\n",
       "      <td>423920.0</td>\n",
       "      <td>423920</td>\n",
       "      <td>0.000000</td>\n",
       "      <td>...</td>\n",
       "      <td>0.0</td>\n",
       "      <td>BLANCO</td>\n",
       "      <td>100.0</td>\n",
       "      <td>44.0</td>\n",
       "      <td>50.0</td>\n",
       "      <td>MESA CENTRO FILIS LACA BL 2C LIQUIDACIÓN</td>\n",
       "      <td>MESAS DE CENTRO</td>\n",
       "      <td>BLANCO</td>\n",
       "      <td>VIDRIO</td>\n",
       "      <td>5000.0</td>\n",
       "    </tr>\n",
       "    <tr>\n",
       "      <th>20790</th>\n",
       "      <td>903:FVP-00001131:XZ0993:00100:</td>\n",
       "      <td>FVP-00001131</td>\n",
       "      <td>2020-05-05</td>\n",
       "      <td>903</td>\n",
       "      <td>PAGINA WEB FIOTTI</td>\n",
       "      <td>XZ0993:00100:</td>\n",
       "      <td>1</td>\n",
       "      <td>423920.0</td>\n",
       "      <td>423920</td>\n",
       "      <td>0.000000</td>\n",
       "      <td>...</td>\n",
       "      <td>0.0</td>\n",
       "      <td>BLANCO</td>\n",
       "      <td>100.0</td>\n",
       "      <td>44.0</td>\n",
       "      <td>50.0</td>\n",
       "      <td>MESA CENTRO FILIS LACA BL 2C LIQUIDACIÓN</td>\n",
       "      <td>MESAS DE CENTRO</td>\n",
       "      <td>BLANCO</td>\n",
       "      <td>VIDRIO</td>\n",
       "      <td>5000.0</td>\n",
       "    </tr>\n",
       "    <tr>\n",
       "      <th>20791</th>\n",
       "      <td>903:FVP-00001659:XZ0993:00100:</td>\n",
       "      <td>FVP-00001659</td>\n",
       "      <td>2020-07-27</td>\n",
       "      <td>903</td>\n",
       "      <td>PAGINA WEB FIOTTI</td>\n",
       "      <td>XZ0993:00100:</td>\n",
       "      <td>1</td>\n",
       "      <td>164003.0</td>\n",
       "      <td>164003</td>\n",
       "      <td>0.000000</td>\n",
       "      <td>...</td>\n",
       "      <td>0.0</td>\n",
       "      <td>BLANCO</td>\n",
       "      <td>100.0</td>\n",
       "      <td>44.0</td>\n",
       "      <td>50.0</td>\n",
       "      <td>MESA CENTRO FILIS LACA BL 2C LIQUIDACIÓN</td>\n",
       "      <td>MESAS DE CENTRO</td>\n",
       "      <td>BLANCO</td>\n",
       "      <td>VIDRIO</td>\n",
       "      <td>5000.0</td>\n",
       "    </tr>\n",
       "  </tbody>\n",
       "</table>\n",
       "<p>21 rows × 34 columns</p>\n",
       "</div>"
      ]
     },
     "metadata": {},
     "execution_count": 169
    }
   ],
   "metadata": {}
  },
  {
   "cell_type": "code",
   "execution_count": 133,
   "source": [
    "prods = data = DataManager().products.drop_duplicates().copy()\r\n",
    "prods['AREA'] = prods.ANCHO * prods.FONDO\r\n",
    "\r\n",
    "data = DataManager().sales_ref_month_sin_ventas_mayores()\r\n",
    "data['DATE'] = data['ANIO'].astype(str) + '-' + data['MES'].astype(str).str.zfill(2)\r\n",
    "\r\n",
    "df = data.pivot_table(index='REF',columns=['DATE','ANIO','MES','TIENDA'],values='CANTIDAD',aggfunc='sum').reset_index()\r\n",
    "df = pd.melt(df,id_vars='REF')\r\n",
    "\r\n",
    "df = df.sort_values(['REF','DATE'])\r\n",
    "df = df.rename(columns={'value':'CANTIDAD'})\r\n",
    "df = df.reset_index(drop=True).fillna(0)\r\n",
    "\r\n",
    "df = df.merge(data.drop(columns=['ANIO','MES','CANTIDAD']).groupby(['REF','DATE','TIENDA']).mean(),on=['REF','DATE','TIENDA'],how='left',validate='1:1')\r\n",
    "df = df[['REF','TIENDA','DATE','ANIO','MES','CANTIDAD','PRECIO','DESCUENTO(%)','F_COVID']]\r\n",
    "display(df.info())\r\n",
    "df = df.fillna(0)\r\n",
    "\r\n",
    "df = df.merge(prods,on='REF',validate='m:1')\r\n",
    "df = df.sort_values(['ANIO','MES']).reset_index(drop=True)"
   ],
   "outputs": [
    {
     "output_type": "stream",
     "name": "stdout",
     "text": [
      "<class 'pandas.core.frame.DataFrame'>\n",
      "Int64Index: 382165 entries, 0 to 382164\n",
      "Data columns (total 9 columns):\n",
      " #   Column        Non-Null Count   Dtype  \n",
      "---  ------        --------------   -----  \n",
      " 0   REF           382165 non-null  object \n",
      " 1   TIENDA        382165 non-null  object \n",
      " 2   DATE          382165 non-null  object \n",
      " 3   ANIO          382165 non-null  int64  \n",
      " 4   MES           382165 non-null  int64  \n",
      " 5   CANTIDAD      382165 non-null  float64\n",
      " 6   PRECIO        20341 non-null   float64\n",
      " 7   DESCUENTO(%)  20341 non-null   float64\n",
      " 8   F_COVID       20341 non-null   float64\n",
      "dtypes: float64(4), int64(2), object(3)\n",
      "memory usage: 29.2+ MB\n"
     ]
    },
    {
     "output_type": "display_data",
     "data": {
      "text/plain": [
       "None"
      ]
     },
     "metadata": {}
    }
   ],
   "metadata": {}
  },
  {
   "cell_type": "code",
   "execution_count": 134,
   "source": [
    "df.PUESTOS.fillna(0,inplace=True)"
   ],
   "outputs": [],
   "metadata": {}
  },
  {
   "cell_type": "code",
   "execution_count": 135,
   "source": [
    "aux=DataManager().sales_accounting_stores().groupby(['REF','TIENDA']).agg({'PRECIO':'mean','DESCUENTO(%)':'mean','AREA':'first',\r\n",
    "                                            'ALTO':'first','PUESTOS':'first', 'COLOR_POS':'first', \r\n",
    "                                            'SUBCATEGORIA_POS':'first','MATERIAL_POS':'first','ACABADO':'first',\r\n",
    "                                            'CATEGORIA':'first','ORIGEN':'first'}).reset_index()\r\n",
    "# 2021 future months and covid\r\n",
    "months=[5,6,7,8,9,10,11,12]\r\n",
    "covid=[1,1,1,1,1,1,1,1]\r\n",
    "#aux0=pd.pivot_table(data=aux,index=['REF','TIENDA'],values='F_COVID',columns='MES',fill_value=1)\r\n",
    "aux0=aux[['REF','TIENDA']].copy()\r\n",
    "for m,c in zip(months,covid):\r\n",
    "    aux0[m]=c\r\n",
    "display(aux0)\r\n",
    "aux1=pd.melt(aux0,id_vars=['REF','TIENDA'],var_name='MES',value_name='F_COVID')\r\n",
    "display(aux1.sort_values(by=['REF','TIENDA']))\r\n",
    "final_df_future=aux1.merge(aux,on=['REF','TIENDA'],how='left')\r\n",
    "final_df_future['ANIO']=2021\r\n",
    "final_df_future['DATE'] = final_df_future['ANIO'].astype(str) + '-' +final_df_future['MES'].astype(str).str.zfill(2)\r\n",
    "final_df_future"
   ],
   "outputs": [
    {
     "output_type": "display_data",
     "data": {
      "text/plain": [
       "                 REF                         TIENDA  5  6  7  8  9  10  11  12\n",
       "0      A01040:00005:                 ADMINISTRACION  1  1  1  1  1   1   1   1\n",
       "1      A01040:00005:              PAGINA WEB FIOTTI  1  1  1  1  1   1   1   1\n",
       "2      A01040:00005:           PUNTO DE VENTA AV 68  1  1  1  1  1   1   1   1\n",
       "3      A01040:00005:     PUNTO DE VENTA BUCARAMANGA  1  1  1  1  1   1   1   1\n",
       "4      A01040:00005:            PUNTO DE VENTA CALI  1  1  1  1  1   1   1   1\n",
       "...              ...                            ... .. .. .. .. ..  ..  ..  ..\n",
       "17537  XZ0993:00100:  PUNTO DE VENTA PLAZA IMPERIAL  1  1  1  1  1   1   1   1\n",
       "17538  XZ0993:00100:         PUNTO DE VENTA POBLADO  1  1  1  1  1   1   1   1\n",
       "17539  XZ0993:00100:          PUNTO DE VENTA SOACHA  1  1  1  1  1   1   1   1\n",
       "17540  XZ0993:00100:               VENTAS DIGITALES  1  1  1  1  1   1   1   1\n",
       "17541  XZ0993:00100:                  VILLA DEL RIO  1  1  1  1  1   1   1   1\n",
       "\n",
       "[17542 rows x 10 columns]"
      ],
      "text/html": [
       "<div>\n",
       "<style scoped>\n",
       "    .dataframe tbody tr th:only-of-type {\n",
       "        vertical-align: middle;\n",
       "    }\n",
       "\n",
       "    .dataframe tbody tr th {\n",
       "        vertical-align: top;\n",
       "    }\n",
       "\n",
       "    .dataframe thead th {\n",
       "        text-align: right;\n",
       "    }\n",
       "</style>\n",
       "<table border=\"1\" class=\"dataframe\">\n",
       "  <thead>\n",
       "    <tr style=\"text-align: right;\">\n",
       "      <th></th>\n",
       "      <th>REF</th>\n",
       "      <th>TIENDA</th>\n",
       "      <th>5</th>\n",
       "      <th>6</th>\n",
       "      <th>7</th>\n",
       "      <th>8</th>\n",
       "      <th>9</th>\n",
       "      <th>10</th>\n",
       "      <th>11</th>\n",
       "      <th>12</th>\n",
       "    </tr>\n",
       "  </thead>\n",
       "  <tbody>\n",
       "    <tr>\n",
       "      <th>0</th>\n",
       "      <td>A01040:00005:</td>\n",
       "      <td>ADMINISTRACION</td>\n",
       "      <td>1</td>\n",
       "      <td>1</td>\n",
       "      <td>1</td>\n",
       "      <td>1</td>\n",
       "      <td>1</td>\n",
       "      <td>1</td>\n",
       "      <td>1</td>\n",
       "      <td>1</td>\n",
       "    </tr>\n",
       "    <tr>\n",
       "      <th>1</th>\n",
       "      <td>A01040:00005:</td>\n",
       "      <td>PAGINA WEB FIOTTI</td>\n",
       "      <td>1</td>\n",
       "      <td>1</td>\n",
       "      <td>1</td>\n",
       "      <td>1</td>\n",
       "      <td>1</td>\n",
       "      <td>1</td>\n",
       "      <td>1</td>\n",
       "      <td>1</td>\n",
       "    </tr>\n",
       "    <tr>\n",
       "      <th>2</th>\n",
       "      <td>A01040:00005:</td>\n",
       "      <td>PUNTO DE VENTA AV 68</td>\n",
       "      <td>1</td>\n",
       "      <td>1</td>\n",
       "      <td>1</td>\n",
       "      <td>1</td>\n",
       "      <td>1</td>\n",
       "      <td>1</td>\n",
       "      <td>1</td>\n",
       "      <td>1</td>\n",
       "    </tr>\n",
       "    <tr>\n",
       "      <th>3</th>\n",
       "      <td>A01040:00005:</td>\n",
       "      <td>PUNTO DE VENTA BUCARAMANGA</td>\n",
       "      <td>1</td>\n",
       "      <td>1</td>\n",
       "      <td>1</td>\n",
       "      <td>1</td>\n",
       "      <td>1</td>\n",
       "      <td>1</td>\n",
       "      <td>1</td>\n",
       "      <td>1</td>\n",
       "    </tr>\n",
       "    <tr>\n",
       "      <th>4</th>\n",
       "      <td>A01040:00005:</td>\n",
       "      <td>PUNTO DE VENTA CALI</td>\n",
       "      <td>1</td>\n",
       "      <td>1</td>\n",
       "      <td>1</td>\n",
       "      <td>1</td>\n",
       "      <td>1</td>\n",
       "      <td>1</td>\n",
       "      <td>1</td>\n",
       "      <td>1</td>\n",
       "    </tr>\n",
       "    <tr>\n",
       "      <th>...</th>\n",
       "      <td>...</td>\n",
       "      <td>...</td>\n",
       "      <td>...</td>\n",
       "      <td>...</td>\n",
       "      <td>...</td>\n",
       "      <td>...</td>\n",
       "      <td>...</td>\n",
       "      <td>...</td>\n",
       "      <td>...</td>\n",
       "      <td>...</td>\n",
       "    </tr>\n",
       "    <tr>\n",
       "      <th>17537</th>\n",
       "      <td>XZ0993:00100:</td>\n",
       "      <td>PUNTO DE VENTA PLAZA IMPERIAL</td>\n",
       "      <td>1</td>\n",
       "      <td>1</td>\n",
       "      <td>1</td>\n",
       "      <td>1</td>\n",
       "      <td>1</td>\n",
       "      <td>1</td>\n",
       "      <td>1</td>\n",
       "      <td>1</td>\n",
       "    </tr>\n",
       "    <tr>\n",
       "      <th>17538</th>\n",
       "      <td>XZ0993:00100:</td>\n",
       "      <td>PUNTO DE VENTA POBLADO</td>\n",
       "      <td>1</td>\n",
       "      <td>1</td>\n",
       "      <td>1</td>\n",
       "      <td>1</td>\n",
       "      <td>1</td>\n",
       "      <td>1</td>\n",
       "      <td>1</td>\n",
       "      <td>1</td>\n",
       "    </tr>\n",
       "    <tr>\n",
       "      <th>17539</th>\n",
       "      <td>XZ0993:00100:</td>\n",
       "      <td>PUNTO DE VENTA SOACHA</td>\n",
       "      <td>1</td>\n",
       "      <td>1</td>\n",
       "      <td>1</td>\n",
       "      <td>1</td>\n",
       "      <td>1</td>\n",
       "      <td>1</td>\n",
       "      <td>1</td>\n",
       "      <td>1</td>\n",
       "    </tr>\n",
       "    <tr>\n",
       "      <th>17540</th>\n",
       "      <td>XZ0993:00100:</td>\n",
       "      <td>VENTAS DIGITALES</td>\n",
       "      <td>1</td>\n",
       "      <td>1</td>\n",
       "      <td>1</td>\n",
       "      <td>1</td>\n",
       "      <td>1</td>\n",
       "      <td>1</td>\n",
       "      <td>1</td>\n",
       "      <td>1</td>\n",
       "    </tr>\n",
       "    <tr>\n",
       "      <th>17541</th>\n",
       "      <td>XZ0993:00100:</td>\n",
       "      <td>VILLA DEL RIO</td>\n",
       "      <td>1</td>\n",
       "      <td>1</td>\n",
       "      <td>1</td>\n",
       "      <td>1</td>\n",
       "      <td>1</td>\n",
       "      <td>1</td>\n",
       "      <td>1</td>\n",
       "      <td>1</td>\n",
       "    </tr>\n",
       "  </tbody>\n",
       "</table>\n",
       "<p>17542 rows × 10 columns</p>\n",
       "</div>"
      ]
     },
     "metadata": {}
    },
    {
     "output_type": "display_data",
     "data": {
      "text/plain": [
       "                  REF          TIENDA MES  F_COVID\n",
       "0       A01040:00005:  ADMINISTRACION   5        1\n",
       "17542   A01040:00005:  ADMINISTRACION   6        1\n",
       "35084   A01040:00005:  ADMINISTRACION   7        1\n",
       "52626   A01040:00005:  ADMINISTRACION   8        1\n",
       "70168   A01040:00005:  ADMINISTRACION   9        1\n",
       "...               ...             ...  ..      ...\n",
       "70167   XZ0993:00100:   VILLA DEL RIO   8        1\n",
       "87709   XZ0993:00100:   VILLA DEL RIO   9        1\n",
       "105251  XZ0993:00100:   VILLA DEL RIO  10        1\n",
       "122793  XZ0993:00100:   VILLA DEL RIO  11        1\n",
       "140335  XZ0993:00100:   VILLA DEL RIO  12        1\n",
       "\n",
       "[140336 rows x 4 columns]"
      ],
      "text/html": [
       "<div>\n",
       "<style scoped>\n",
       "    .dataframe tbody tr th:only-of-type {\n",
       "        vertical-align: middle;\n",
       "    }\n",
       "\n",
       "    .dataframe tbody tr th {\n",
       "        vertical-align: top;\n",
       "    }\n",
       "\n",
       "    .dataframe thead th {\n",
       "        text-align: right;\n",
       "    }\n",
       "</style>\n",
       "<table border=\"1\" class=\"dataframe\">\n",
       "  <thead>\n",
       "    <tr style=\"text-align: right;\">\n",
       "      <th></th>\n",
       "      <th>REF</th>\n",
       "      <th>TIENDA</th>\n",
       "      <th>MES</th>\n",
       "      <th>F_COVID</th>\n",
       "    </tr>\n",
       "  </thead>\n",
       "  <tbody>\n",
       "    <tr>\n",
       "      <th>0</th>\n",
       "      <td>A01040:00005:</td>\n",
       "      <td>ADMINISTRACION</td>\n",
       "      <td>5</td>\n",
       "      <td>1</td>\n",
       "    </tr>\n",
       "    <tr>\n",
       "      <th>17542</th>\n",
       "      <td>A01040:00005:</td>\n",
       "      <td>ADMINISTRACION</td>\n",
       "      <td>6</td>\n",
       "      <td>1</td>\n",
       "    </tr>\n",
       "    <tr>\n",
       "      <th>35084</th>\n",
       "      <td>A01040:00005:</td>\n",
       "      <td>ADMINISTRACION</td>\n",
       "      <td>7</td>\n",
       "      <td>1</td>\n",
       "    </tr>\n",
       "    <tr>\n",
       "      <th>52626</th>\n",
       "      <td>A01040:00005:</td>\n",
       "      <td>ADMINISTRACION</td>\n",
       "      <td>8</td>\n",
       "      <td>1</td>\n",
       "    </tr>\n",
       "    <tr>\n",
       "      <th>70168</th>\n",
       "      <td>A01040:00005:</td>\n",
       "      <td>ADMINISTRACION</td>\n",
       "      <td>9</td>\n",
       "      <td>1</td>\n",
       "    </tr>\n",
       "    <tr>\n",
       "      <th>...</th>\n",
       "      <td>...</td>\n",
       "      <td>...</td>\n",
       "      <td>...</td>\n",
       "      <td>...</td>\n",
       "    </tr>\n",
       "    <tr>\n",
       "      <th>70167</th>\n",
       "      <td>XZ0993:00100:</td>\n",
       "      <td>VILLA DEL RIO</td>\n",
       "      <td>8</td>\n",
       "      <td>1</td>\n",
       "    </tr>\n",
       "    <tr>\n",
       "      <th>87709</th>\n",
       "      <td>XZ0993:00100:</td>\n",
       "      <td>VILLA DEL RIO</td>\n",
       "      <td>9</td>\n",
       "      <td>1</td>\n",
       "    </tr>\n",
       "    <tr>\n",
       "      <th>105251</th>\n",
       "      <td>XZ0993:00100:</td>\n",
       "      <td>VILLA DEL RIO</td>\n",
       "      <td>10</td>\n",
       "      <td>1</td>\n",
       "    </tr>\n",
       "    <tr>\n",
       "      <th>122793</th>\n",
       "      <td>XZ0993:00100:</td>\n",
       "      <td>VILLA DEL RIO</td>\n",
       "      <td>11</td>\n",
       "      <td>1</td>\n",
       "    </tr>\n",
       "    <tr>\n",
       "      <th>140335</th>\n",
       "      <td>XZ0993:00100:</td>\n",
       "      <td>VILLA DEL RIO</td>\n",
       "      <td>12</td>\n",
       "      <td>1</td>\n",
       "    </tr>\n",
       "  </tbody>\n",
       "</table>\n",
       "<p>140336 rows × 4 columns</p>\n",
       "</div>"
      ]
     },
     "metadata": {}
    },
    {
     "output_type": "execute_result",
     "data": {
      "text/plain": [
       "                  REF                         TIENDA MES  F_COVID  \\\n",
       "0       A01040:00005:                 ADMINISTRACION   5        1   \n",
       "1       A01040:00005:              PAGINA WEB FIOTTI   5        1   \n",
       "2       A01040:00005:           PUNTO DE VENTA AV 68   5        1   \n",
       "3       A01040:00005:     PUNTO DE VENTA BUCARAMANGA   5        1   \n",
       "4       A01040:00005:            PUNTO DE VENTA CALI   5        1   \n",
       "...               ...                            ...  ..      ...   \n",
       "140331  XZ0993:00100:  PUNTO DE VENTA PLAZA IMPERIAL  12        1   \n",
       "140332  XZ0993:00100:         PUNTO DE VENTA POBLADO  12        1   \n",
       "140333  XZ0993:00100:          PUNTO DE VENTA SOACHA  12        1   \n",
       "140334  XZ0993:00100:               VENTAS DIGITALES  12        1   \n",
       "140335  XZ0993:00100:                  VILLA DEL RIO  12        1   \n",
       "\n",
       "              PRECIO  DESCUENTO(%)    AREA  ALTO  PUESTOS COLOR_POS  \\\n",
       "0           0.000000      0.000000  1880.0  77.0      1.0     NEGRO   \n",
       "1           0.000000      0.000000  1880.0  77.0      1.0     NEGRO   \n",
       "2        5186.079365      0.023214  1880.0  77.0      1.0     NEGRO   \n",
       "3           0.000000      0.000000  1880.0  77.0      1.0     NEGRO   \n",
       "4           0.000000      0.000000  1880.0  77.0      1.0     NEGRO   \n",
       "...              ...           ...     ...   ...      ...       ...   \n",
       "140331  19524.178571      0.017857  5000.0  44.0      0.0    BLANCO   \n",
       "140332  21026.038462      0.030769  5000.0  44.0      0.0    BLANCO   \n",
       "140333  32157.470588      0.041176  5000.0  44.0      0.0    BLANCO   \n",
       "140334      0.000000      0.000000  5000.0  44.0      0.0    BLANCO   \n",
       "140335      0.000000      0.000000  5000.0  44.0      0.0    BLANCO   \n",
       "\n",
       "         SUBCATEGORIA_POS MATERIAL_POS            ACABADO      CATEGORIA  \\\n",
       "0       SILLAS DE COMEDOR    SINTÉTICO  SUPERFICIES MATES      COMEDORES   \n",
       "1       SILLAS DE COMEDOR    SINTÉTICO  SUPERFICIES MATES      COMEDORES   \n",
       "2       SILLAS DE COMEDOR    SINTÉTICO  SUPERFICIES MATES      COMEDORES   \n",
       "3       SILLAS DE COMEDOR    SINTÉTICO  SUPERFICIES MATES      COMEDORES   \n",
       "4       SILLAS DE COMEDOR    SINTÉTICO  SUPERFICIES MATES      COMEDORES   \n",
       "...                   ...          ...                ...            ...   \n",
       "140331    MESAS DE CENTRO       VIDRIO          BRILLANTE  SALAS Y SOFAS   \n",
       "140332    MESAS DE CENTRO       VIDRIO          BRILLANTE  SALAS Y SOFAS   \n",
       "140333    MESAS DE CENTRO       VIDRIO          BRILLANTE  SALAS Y SOFAS   \n",
       "140334    MESAS DE CENTRO       VIDRIO          BRILLANTE  SALAS Y SOFAS   \n",
       "140335    MESAS DE CENTRO       VIDRIO          BRILLANTE  SALAS Y SOFAS   \n",
       "\n",
       "           ORIGEN  ANIO     DATE  \n",
       "0       IMPORTADO  2021  2021-05  \n",
       "1       IMPORTADO  2021  2021-05  \n",
       "2       IMPORTADO  2021  2021-05  \n",
       "3       IMPORTADO  2021  2021-05  \n",
       "4       IMPORTADO  2021  2021-05  \n",
       "...           ...   ...      ...  \n",
       "140331  IMPORTADO  2021  2021-12  \n",
       "140332  IMPORTADO  2021  2021-12  \n",
       "140333  IMPORTADO  2021  2021-12  \n",
       "140334  IMPORTADO  2021  2021-12  \n",
       "140335  IMPORTADO  2021  2021-12  \n",
       "\n",
       "[140336 rows x 17 columns]"
      ],
      "text/html": [
       "<div>\n",
       "<style scoped>\n",
       "    .dataframe tbody tr th:only-of-type {\n",
       "        vertical-align: middle;\n",
       "    }\n",
       "\n",
       "    .dataframe tbody tr th {\n",
       "        vertical-align: top;\n",
       "    }\n",
       "\n",
       "    .dataframe thead th {\n",
       "        text-align: right;\n",
       "    }\n",
       "</style>\n",
       "<table border=\"1\" class=\"dataframe\">\n",
       "  <thead>\n",
       "    <tr style=\"text-align: right;\">\n",
       "      <th></th>\n",
       "      <th>REF</th>\n",
       "      <th>TIENDA</th>\n",
       "      <th>MES</th>\n",
       "      <th>F_COVID</th>\n",
       "      <th>PRECIO</th>\n",
       "      <th>DESCUENTO(%)</th>\n",
       "      <th>AREA</th>\n",
       "      <th>ALTO</th>\n",
       "      <th>PUESTOS</th>\n",
       "      <th>COLOR_POS</th>\n",
       "      <th>SUBCATEGORIA_POS</th>\n",
       "      <th>MATERIAL_POS</th>\n",
       "      <th>ACABADO</th>\n",
       "      <th>CATEGORIA</th>\n",
       "      <th>ORIGEN</th>\n",
       "      <th>ANIO</th>\n",
       "      <th>DATE</th>\n",
       "    </tr>\n",
       "  </thead>\n",
       "  <tbody>\n",
       "    <tr>\n",
       "      <th>0</th>\n",
       "      <td>A01040:00005:</td>\n",
       "      <td>ADMINISTRACION</td>\n",
       "      <td>5</td>\n",
       "      <td>1</td>\n",
       "      <td>0.000000</td>\n",
       "      <td>0.000000</td>\n",
       "      <td>1880.0</td>\n",
       "      <td>77.0</td>\n",
       "      <td>1.0</td>\n",
       "      <td>NEGRO</td>\n",
       "      <td>SILLAS DE COMEDOR</td>\n",
       "      <td>SINTÉTICO</td>\n",
       "      <td>SUPERFICIES MATES</td>\n",
       "      <td>COMEDORES</td>\n",
       "      <td>IMPORTADO</td>\n",
       "      <td>2021</td>\n",
       "      <td>2021-05</td>\n",
       "    </tr>\n",
       "    <tr>\n",
       "      <th>1</th>\n",
       "      <td>A01040:00005:</td>\n",
       "      <td>PAGINA WEB FIOTTI</td>\n",
       "      <td>5</td>\n",
       "      <td>1</td>\n",
       "      <td>0.000000</td>\n",
       "      <td>0.000000</td>\n",
       "      <td>1880.0</td>\n",
       "      <td>77.0</td>\n",
       "      <td>1.0</td>\n",
       "      <td>NEGRO</td>\n",
       "      <td>SILLAS DE COMEDOR</td>\n",
       "      <td>SINTÉTICO</td>\n",
       "      <td>SUPERFICIES MATES</td>\n",
       "      <td>COMEDORES</td>\n",
       "      <td>IMPORTADO</td>\n",
       "      <td>2021</td>\n",
       "      <td>2021-05</td>\n",
       "    </tr>\n",
       "    <tr>\n",
       "      <th>2</th>\n",
       "      <td>A01040:00005:</td>\n",
       "      <td>PUNTO DE VENTA AV 68</td>\n",
       "      <td>5</td>\n",
       "      <td>1</td>\n",
       "      <td>5186.079365</td>\n",
       "      <td>0.023214</td>\n",
       "      <td>1880.0</td>\n",
       "      <td>77.0</td>\n",
       "      <td>1.0</td>\n",
       "      <td>NEGRO</td>\n",
       "      <td>SILLAS DE COMEDOR</td>\n",
       "      <td>SINTÉTICO</td>\n",
       "      <td>SUPERFICIES MATES</td>\n",
       "      <td>COMEDORES</td>\n",
       "      <td>IMPORTADO</td>\n",
       "      <td>2021</td>\n",
       "      <td>2021-05</td>\n",
       "    </tr>\n",
       "    <tr>\n",
       "      <th>3</th>\n",
       "      <td>A01040:00005:</td>\n",
       "      <td>PUNTO DE VENTA BUCARAMANGA</td>\n",
       "      <td>5</td>\n",
       "      <td>1</td>\n",
       "      <td>0.000000</td>\n",
       "      <td>0.000000</td>\n",
       "      <td>1880.0</td>\n",
       "      <td>77.0</td>\n",
       "      <td>1.0</td>\n",
       "      <td>NEGRO</td>\n",
       "      <td>SILLAS DE COMEDOR</td>\n",
       "      <td>SINTÉTICO</td>\n",
       "      <td>SUPERFICIES MATES</td>\n",
       "      <td>COMEDORES</td>\n",
       "      <td>IMPORTADO</td>\n",
       "      <td>2021</td>\n",
       "      <td>2021-05</td>\n",
       "    </tr>\n",
       "    <tr>\n",
       "      <th>4</th>\n",
       "      <td>A01040:00005:</td>\n",
       "      <td>PUNTO DE VENTA CALI</td>\n",
       "      <td>5</td>\n",
       "      <td>1</td>\n",
       "      <td>0.000000</td>\n",
       "      <td>0.000000</td>\n",
       "      <td>1880.0</td>\n",
       "      <td>77.0</td>\n",
       "      <td>1.0</td>\n",
       "      <td>NEGRO</td>\n",
       "      <td>SILLAS DE COMEDOR</td>\n",
       "      <td>SINTÉTICO</td>\n",
       "      <td>SUPERFICIES MATES</td>\n",
       "      <td>COMEDORES</td>\n",
       "      <td>IMPORTADO</td>\n",
       "      <td>2021</td>\n",
       "      <td>2021-05</td>\n",
       "    </tr>\n",
       "    <tr>\n",
       "      <th>...</th>\n",
       "      <td>...</td>\n",
       "      <td>...</td>\n",
       "      <td>...</td>\n",
       "      <td>...</td>\n",
       "      <td>...</td>\n",
       "      <td>...</td>\n",
       "      <td>...</td>\n",
       "      <td>...</td>\n",
       "      <td>...</td>\n",
       "      <td>...</td>\n",
       "      <td>...</td>\n",
       "      <td>...</td>\n",
       "      <td>...</td>\n",
       "      <td>...</td>\n",
       "      <td>...</td>\n",
       "      <td>...</td>\n",
       "      <td>...</td>\n",
       "    </tr>\n",
       "    <tr>\n",
       "      <th>140331</th>\n",
       "      <td>XZ0993:00100:</td>\n",
       "      <td>PUNTO DE VENTA PLAZA IMPERIAL</td>\n",
       "      <td>12</td>\n",
       "      <td>1</td>\n",
       "      <td>19524.178571</td>\n",
       "      <td>0.017857</td>\n",
       "      <td>5000.0</td>\n",
       "      <td>44.0</td>\n",
       "      <td>0.0</td>\n",
       "      <td>BLANCO</td>\n",
       "      <td>MESAS DE CENTRO</td>\n",
       "      <td>VIDRIO</td>\n",
       "      <td>BRILLANTE</td>\n",
       "      <td>SALAS Y SOFAS</td>\n",
       "      <td>IMPORTADO</td>\n",
       "      <td>2021</td>\n",
       "      <td>2021-12</td>\n",
       "    </tr>\n",
       "    <tr>\n",
       "      <th>140332</th>\n",
       "      <td>XZ0993:00100:</td>\n",
       "      <td>PUNTO DE VENTA POBLADO</td>\n",
       "      <td>12</td>\n",
       "      <td>1</td>\n",
       "      <td>21026.038462</td>\n",
       "      <td>0.030769</td>\n",
       "      <td>5000.0</td>\n",
       "      <td>44.0</td>\n",
       "      <td>0.0</td>\n",
       "      <td>BLANCO</td>\n",
       "      <td>MESAS DE CENTRO</td>\n",
       "      <td>VIDRIO</td>\n",
       "      <td>BRILLANTE</td>\n",
       "      <td>SALAS Y SOFAS</td>\n",
       "      <td>IMPORTADO</td>\n",
       "      <td>2021</td>\n",
       "      <td>2021-12</td>\n",
       "    </tr>\n",
       "    <tr>\n",
       "      <th>140333</th>\n",
       "      <td>XZ0993:00100:</td>\n",
       "      <td>PUNTO DE VENTA SOACHA</td>\n",
       "      <td>12</td>\n",
       "      <td>1</td>\n",
       "      <td>32157.470588</td>\n",
       "      <td>0.041176</td>\n",
       "      <td>5000.0</td>\n",
       "      <td>44.0</td>\n",
       "      <td>0.0</td>\n",
       "      <td>BLANCO</td>\n",
       "      <td>MESAS DE CENTRO</td>\n",
       "      <td>VIDRIO</td>\n",
       "      <td>BRILLANTE</td>\n",
       "      <td>SALAS Y SOFAS</td>\n",
       "      <td>IMPORTADO</td>\n",
       "      <td>2021</td>\n",
       "      <td>2021-12</td>\n",
       "    </tr>\n",
       "    <tr>\n",
       "      <th>140334</th>\n",
       "      <td>XZ0993:00100:</td>\n",
       "      <td>VENTAS DIGITALES</td>\n",
       "      <td>12</td>\n",
       "      <td>1</td>\n",
       "      <td>0.000000</td>\n",
       "      <td>0.000000</td>\n",
       "      <td>5000.0</td>\n",
       "      <td>44.0</td>\n",
       "      <td>0.0</td>\n",
       "      <td>BLANCO</td>\n",
       "      <td>MESAS DE CENTRO</td>\n",
       "      <td>VIDRIO</td>\n",
       "      <td>BRILLANTE</td>\n",
       "      <td>SALAS Y SOFAS</td>\n",
       "      <td>IMPORTADO</td>\n",
       "      <td>2021</td>\n",
       "      <td>2021-12</td>\n",
       "    </tr>\n",
       "    <tr>\n",
       "      <th>140335</th>\n",
       "      <td>XZ0993:00100:</td>\n",
       "      <td>VILLA DEL RIO</td>\n",
       "      <td>12</td>\n",
       "      <td>1</td>\n",
       "      <td>0.000000</td>\n",
       "      <td>0.000000</td>\n",
       "      <td>5000.0</td>\n",
       "      <td>44.0</td>\n",
       "      <td>0.0</td>\n",
       "      <td>BLANCO</td>\n",
       "      <td>MESAS DE CENTRO</td>\n",
       "      <td>VIDRIO</td>\n",
       "      <td>BRILLANTE</td>\n",
       "      <td>SALAS Y SOFAS</td>\n",
       "      <td>IMPORTADO</td>\n",
       "      <td>2021</td>\n",
       "      <td>2021-12</td>\n",
       "    </tr>\n",
       "  </tbody>\n",
       "</table>\n",
       "<p>140336 rows × 17 columns</p>\n",
       "</div>"
      ]
     },
     "metadata": {},
     "execution_count": 135
    }
   ],
   "metadata": {}
  },
  {
   "cell_type": "code",
   "execution_count": 148,
   "source": [
    "num_var=['PRECIO','AREA','ALTO','DESCUENTO(%)','CANTIDAD']\r\n",
    "x_num=df[num_var[:-1]].astype('float')\r\n",
    "\r\n",
    "cat_var=[\r\n",
    "    'MES','TIENDA', 'PUESTOS', 'COLOR_POS', 'SUBCATEGORIA_POS', 'F_COVID' ,'MATERIAL_POS','ACABADO','CATEGORIA','ORIGEN'#quitamos anio, vigencia y estilo-validado errro casi no cambia\r\n",
    "]\r\n",
    "x_cat=df[cat_var].astype('category')\r\n",
    "x_cat_dummies=pd.get_dummies(x_cat)\r\n",
    "\r\n",
    "y = df['CANTIDAD']\r\n",
    "\r\n",
    "scaler = MinMaxScaler()\r\n",
    "x_num_norm = scaler.fit_transform(x_num)\r\n",
    "x = np.append(x_num_norm,x_cat_dummies,axis=1)\r\n",
    "\r\n",
    "#split data till januar 2021\r\n",
    "\r\n",
    "index = df[(df.ANIO==2021)].index[0]\r\n",
    "date_index=df[(df.ANIO==2021)]['DATE'].values[0]\r\n",
    "date_indebef=df.loc[index-1]['DATE']\r\n",
    "date_indeaf=df.loc[index+1]['DATE']\r\n",
    "\r\n",
    "x_train = x[:index]\r\n",
    "y_train = y[:index]\r\n",
    "x_test = x[index:]\r\n",
    "y_test = y[index:]"
   ],
   "outputs": [],
   "metadata": {}
  },
  {
   "cell_type": "code",
   "execution_count": 149,
   "source": [
    "x_train.shape"
   ],
   "outputs": [
    {
     "output_type": "execute_result",
     "data": {
      "text/plain": [
       "(325780, 88)"
      ]
     },
     "metadata": {},
     "execution_count": 149
    }
   ],
   "metadata": {}
  },
  {
   "cell_type": "code",
   "execution_count": 155,
   "source": [
    "df.shape"
   ],
   "outputs": [
    {
     "output_type": "execute_result",
     "data": {
      "text/plain": [
       "(382165, 28)"
      ]
     },
     "metadata": {},
     "execution_count": 155
    }
   ],
   "metadata": {}
  },
  {
   "cell_type": "code",
   "execution_count": 157,
   "source": [
    "#incorporate data future\r\n",
    "num_var=['PRECIO','AREA','ALTO','DESCUENTO(%)','CANTIDAD']\r\n",
    "\r\n",
    "data_future=final_df_future\r\n",
    "\r\n",
    "df_concat=pd.concat([df.drop('CANTIDAD',axis=1),data_future]).reset_index(drop=True)\r\n",
    "max_index=df.tail(1).index[0]\r\n",
    "\r\n",
    "x_num=df_concat[num_var[:-1]].astype('float')\r\n",
    "\r\n",
    "cat_var=[\r\n",
    "'MES',\r\n",
    "'TIENDA', \r\n",
    "'PUESTOS', 'COLOR_POS', 'SUBCATEGORIA_POS', 'F_COVID' ,'MATERIAL_POS','ACABADO','CATEGORIA','ORIGEN'\r\n",
    "#quitamos anio, vigencia y estilo. validado: error casi no cambia y en el eda se demuestra\r\n",
    "]\r\n",
    "x_cat=df_concat[cat_var].astype('category')\r\n",
    "x_cat_dummies=pd.get_dummies(x_cat)\r\n",
    "\r\n",
    "y = df['CANTIDAD']\r\n",
    "\r\n",
    "scaler = MinMaxScaler()\r\n",
    "x_num_norm = scaler.fit_transform(x_num)\r\n",
    "x = np.append(x_num_norm,x_cat_dummies,axis=1)\r\n",
    "\r\n",
    "#split data till januar 2021 and future\r\n",
    "index = df[(df.ANIO==2021)].index[0]\r\n",
    "max_index=df.tail(1).index[0]# from data, future begins here\r\n",
    "\r\n",
    "date_index=df[(df.ANIO==2021)]['DATE'].values[0]\r\n",
    "date_before=df.loc[index-1]['DATE']\r\n",
    "date_after=df.loc[index+1]['DATE']\r\n",
    "last_date_known=df.tail(1)['DATE'] #future begins here\r\n",
    "\r\n",
    "\r\n",
    "x_train = x[:index]\r\n",
    "y_train = y[:index]\r\n",
    "x_test = x[index:max_index+1]\r\n",
    "y_test = y[index:max_index+1]\r\n",
    "x_future=x[max_index+1:]\r\n",
    "#no y from future...."
   ],
   "outputs": [],
   "metadata": {}
  },
  {
   "cell_type": "code",
   "execution_count": 158,
   "source": [
    "x_train.shape"
   ],
   "outputs": [
    {
     "output_type": "execute_result",
     "data": {
      "text/plain": [
       "(325780, 88)"
      ]
     },
     "metadata": {},
     "execution_count": 158
    }
   ],
   "metadata": {}
  },
  {
   "cell_type": "code",
   "execution_count": 128,
   "source": [
    "y[index:max_index].shapeb"
   ],
   "outputs": [
    {
     "output_type": "execute_result",
     "data": {
      "text/plain": [
       "(2730,)"
      ]
     },
     "metadata": {},
     "execution_count": 128
    }
   ],
   "metadata": {}
  },
  {
   "cell_type": "code",
   "execution_count": 129,
   "source": [
    "np.nan"
   ],
   "outputs": [
    {
     "output_type": "execute_result",
     "data": {
      "text/plain": [
       "nan"
      ]
     },
     "metadata": {},
     "execution_count": 129
    }
   ],
   "metadata": {}
  },
  {
   "cell_type": "code",
   "execution_count": 161,
   "source": [
    "df_concat[max_index+1:]"
   ],
   "outputs": [
    {
     "output_type": "execute_result",
     "data": {
      "text/plain": [
       "                  REF                         TIENDA     DATE  ANIO MES  \\\n",
       "382165  A01040:00005:                 ADMINISTRACION  2021-05  2021   5   \n",
       "382166  A01040:00005:              PAGINA WEB FIOTTI  2021-05  2021   5   \n",
       "382167  A01040:00005:           PUNTO DE VENTA AV 68  2021-05  2021   5   \n",
       "382168  A01040:00005:     PUNTO DE VENTA BUCARAMANGA  2021-05  2021   5   \n",
       "382169  A01040:00005:            PUNTO DE VENTA CALI  2021-05  2021   5   \n",
       "...               ...                            ...      ...   ...  ..   \n",
       "522496  XZ0993:00100:  PUNTO DE VENTA PLAZA IMPERIAL  2021-12  2021  12   \n",
       "522497  XZ0993:00100:         PUNTO DE VENTA POBLADO  2021-12  2021  12   \n",
       "522498  XZ0993:00100:          PUNTO DE VENTA SOACHA  2021-12  2021  12   \n",
       "522499  XZ0993:00100:               VENTAS DIGITALES  2021-12  2021  12   \n",
       "522500  XZ0993:00100:                  VILLA DEL RIO  2021-12  2021  12   \n",
       "\n",
       "              PRECIO  DESCUENTO(%)  F_COVID  ITEM DESCRIPCION  ... PUESTOS  \\\n",
       "382165      0.000000      0.000000      1.0   NaN         NaN  ...     1.0   \n",
       "382166      0.000000      0.000000      1.0   NaN         NaN  ...     1.0   \n",
       "382167   5186.079365      0.023214      1.0   NaN         NaN  ...     1.0   \n",
       "382168      0.000000      0.000000      1.0   NaN         NaN  ...     1.0   \n",
       "382169      0.000000      0.000000      1.0   NaN         NaN  ...     1.0   \n",
       "...              ...           ...      ...   ...         ...  ...     ...   \n",
       "522496  19524.178571      0.017857      1.0   NaN         NaN  ...     0.0   \n",
       "522497  21026.038462      0.030769      1.0   NaN         NaN  ...     0.0   \n",
       "522498  32157.470588      0.041176      1.0   NaN         NaN  ...     0.0   \n",
       "522499      0.000000      0.000000      1.0   NaN         NaN  ...     0.0   \n",
       "522500      0.000000      0.000000      1.0   NaN         NaN  ...     0.0   \n",
       "\n",
       "       COLOR ANCHO  ALTO FONDO DESC_LARGA   SUBCATEGORIA_POS  COLOR_POS  \\\n",
       "382165   NaN   NaN  77.0   NaN        NaN  SILLAS DE COMEDOR      NEGRO   \n",
       "382166   NaN   NaN  77.0   NaN        NaN  SILLAS DE COMEDOR      NEGRO   \n",
       "382167   NaN   NaN  77.0   NaN        NaN  SILLAS DE COMEDOR      NEGRO   \n",
       "382168   NaN   NaN  77.0   NaN        NaN  SILLAS DE COMEDOR      NEGRO   \n",
       "382169   NaN   NaN  77.0   NaN        NaN  SILLAS DE COMEDOR      NEGRO   \n",
       "...      ...   ...   ...   ...        ...                ...        ...   \n",
       "522496   NaN   NaN  44.0   NaN        NaN    MESAS DE CENTRO     BLANCO   \n",
       "522497   NaN   NaN  44.0   NaN        NaN    MESAS DE CENTRO     BLANCO   \n",
       "522498   NaN   NaN  44.0   NaN        NaN    MESAS DE CENTRO     BLANCO   \n",
       "522499   NaN   NaN  44.0   NaN        NaN    MESAS DE CENTRO     BLANCO   \n",
       "522500   NaN   NaN  44.0   NaN        NaN    MESAS DE CENTRO     BLANCO   \n",
       "\n",
       "       MATERIAL_POS    AREA  \n",
       "382165    SINTÉTICO  1880.0  \n",
       "382166    SINTÉTICO  1880.0  \n",
       "382167    SINTÉTICO  1880.0  \n",
       "382168    SINTÉTICO  1880.0  \n",
       "382169    SINTÉTICO  1880.0  \n",
       "...             ...     ...  \n",
       "522496       VIDRIO  5000.0  \n",
       "522497       VIDRIO  5000.0  \n",
       "522498       VIDRIO  5000.0  \n",
       "522499       VIDRIO  5000.0  \n",
       "522500       VIDRIO  5000.0  \n",
       "\n",
       "[140336 rows x 27 columns]"
      ],
      "text/html": [
       "<div>\n",
       "<style scoped>\n",
       "    .dataframe tbody tr th:only-of-type {\n",
       "        vertical-align: middle;\n",
       "    }\n",
       "\n",
       "    .dataframe tbody tr th {\n",
       "        vertical-align: top;\n",
       "    }\n",
       "\n",
       "    .dataframe thead th {\n",
       "        text-align: right;\n",
       "    }\n",
       "</style>\n",
       "<table border=\"1\" class=\"dataframe\">\n",
       "  <thead>\n",
       "    <tr style=\"text-align: right;\">\n",
       "      <th></th>\n",
       "      <th>REF</th>\n",
       "      <th>TIENDA</th>\n",
       "      <th>DATE</th>\n",
       "      <th>ANIO</th>\n",
       "      <th>MES</th>\n",
       "      <th>PRECIO</th>\n",
       "      <th>DESCUENTO(%)</th>\n",
       "      <th>F_COVID</th>\n",
       "      <th>ITEM</th>\n",
       "      <th>DESCRIPCION</th>\n",
       "      <th>...</th>\n",
       "      <th>PUESTOS</th>\n",
       "      <th>COLOR</th>\n",
       "      <th>ANCHO</th>\n",
       "      <th>ALTO</th>\n",
       "      <th>FONDO</th>\n",
       "      <th>DESC_LARGA</th>\n",
       "      <th>SUBCATEGORIA_POS</th>\n",
       "      <th>COLOR_POS</th>\n",
       "      <th>MATERIAL_POS</th>\n",
       "      <th>AREA</th>\n",
       "    </tr>\n",
       "  </thead>\n",
       "  <tbody>\n",
       "    <tr>\n",
       "      <th>382165</th>\n",
       "      <td>A01040:00005:</td>\n",
       "      <td>ADMINISTRACION</td>\n",
       "      <td>2021-05</td>\n",
       "      <td>2021</td>\n",
       "      <td>5</td>\n",
       "      <td>0.000000</td>\n",
       "      <td>0.000000</td>\n",
       "      <td>1.0</td>\n",
       "      <td>NaN</td>\n",
       "      <td>NaN</td>\n",
       "      <td>...</td>\n",
       "      <td>1.0</td>\n",
       "      <td>NaN</td>\n",
       "      <td>NaN</td>\n",
       "      <td>77.0</td>\n",
       "      <td>NaN</td>\n",
       "      <td>NaN</td>\n",
       "      <td>SILLAS DE COMEDOR</td>\n",
       "      <td>NEGRO</td>\n",
       "      <td>SINTÉTICO</td>\n",
       "      <td>1880.0</td>\n",
       "    </tr>\n",
       "    <tr>\n",
       "      <th>382166</th>\n",
       "      <td>A01040:00005:</td>\n",
       "      <td>PAGINA WEB FIOTTI</td>\n",
       "      <td>2021-05</td>\n",
       "      <td>2021</td>\n",
       "      <td>5</td>\n",
       "      <td>0.000000</td>\n",
       "      <td>0.000000</td>\n",
       "      <td>1.0</td>\n",
       "      <td>NaN</td>\n",
       "      <td>NaN</td>\n",
       "      <td>...</td>\n",
       "      <td>1.0</td>\n",
       "      <td>NaN</td>\n",
       "      <td>NaN</td>\n",
       "      <td>77.0</td>\n",
       "      <td>NaN</td>\n",
       "      <td>NaN</td>\n",
       "      <td>SILLAS DE COMEDOR</td>\n",
       "      <td>NEGRO</td>\n",
       "      <td>SINTÉTICO</td>\n",
       "      <td>1880.0</td>\n",
       "    </tr>\n",
       "    <tr>\n",
       "      <th>382167</th>\n",
       "      <td>A01040:00005:</td>\n",
       "      <td>PUNTO DE VENTA AV 68</td>\n",
       "      <td>2021-05</td>\n",
       "      <td>2021</td>\n",
       "      <td>5</td>\n",
       "      <td>5186.079365</td>\n",
       "      <td>0.023214</td>\n",
       "      <td>1.0</td>\n",
       "      <td>NaN</td>\n",
       "      <td>NaN</td>\n",
       "      <td>...</td>\n",
       "      <td>1.0</td>\n",
       "      <td>NaN</td>\n",
       "      <td>NaN</td>\n",
       "      <td>77.0</td>\n",
       "      <td>NaN</td>\n",
       "      <td>NaN</td>\n",
       "      <td>SILLAS DE COMEDOR</td>\n",
       "      <td>NEGRO</td>\n",
       "      <td>SINTÉTICO</td>\n",
       "      <td>1880.0</td>\n",
       "    </tr>\n",
       "    <tr>\n",
       "      <th>382168</th>\n",
       "      <td>A01040:00005:</td>\n",
       "      <td>PUNTO DE VENTA BUCARAMANGA</td>\n",
       "      <td>2021-05</td>\n",
       "      <td>2021</td>\n",
       "      <td>5</td>\n",
       "      <td>0.000000</td>\n",
       "      <td>0.000000</td>\n",
       "      <td>1.0</td>\n",
       "      <td>NaN</td>\n",
       "      <td>NaN</td>\n",
       "      <td>...</td>\n",
       "      <td>1.0</td>\n",
       "      <td>NaN</td>\n",
       "      <td>NaN</td>\n",
       "      <td>77.0</td>\n",
       "      <td>NaN</td>\n",
       "      <td>NaN</td>\n",
       "      <td>SILLAS DE COMEDOR</td>\n",
       "      <td>NEGRO</td>\n",
       "      <td>SINTÉTICO</td>\n",
       "      <td>1880.0</td>\n",
       "    </tr>\n",
       "    <tr>\n",
       "      <th>382169</th>\n",
       "      <td>A01040:00005:</td>\n",
       "      <td>PUNTO DE VENTA CALI</td>\n",
       "      <td>2021-05</td>\n",
       "      <td>2021</td>\n",
       "      <td>5</td>\n",
       "      <td>0.000000</td>\n",
       "      <td>0.000000</td>\n",
       "      <td>1.0</td>\n",
       "      <td>NaN</td>\n",
       "      <td>NaN</td>\n",
       "      <td>...</td>\n",
       "      <td>1.0</td>\n",
       "      <td>NaN</td>\n",
       "      <td>NaN</td>\n",
       "      <td>77.0</td>\n",
       "      <td>NaN</td>\n",
       "      <td>NaN</td>\n",
       "      <td>SILLAS DE COMEDOR</td>\n",
       "      <td>NEGRO</td>\n",
       "      <td>SINTÉTICO</td>\n",
       "      <td>1880.0</td>\n",
       "    </tr>\n",
       "    <tr>\n",
       "      <th>...</th>\n",
       "      <td>...</td>\n",
       "      <td>...</td>\n",
       "      <td>...</td>\n",
       "      <td>...</td>\n",
       "      <td>...</td>\n",
       "      <td>...</td>\n",
       "      <td>...</td>\n",
       "      <td>...</td>\n",
       "      <td>...</td>\n",
       "      <td>...</td>\n",
       "      <td>...</td>\n",
       "      <td>...</td>\n",
       "      <td>...</td>\n",
       "      <td>...</td>\n",
       "      <td>...</td>\n",
       "      <td>...</td>\n",
       "      <td>...</td>\n",
       "      <td>...</td>\n",
       "      <td>...</td>\n",
       "      <td>...</td>\n",
       "      <td>...</td>\n",
       "    </tr>\n",
       "    <tr>\n",
       "      <th>522496</th>\n",
       "      <td>XZ0993:00100:</td>\n",
       "      <td>PUNTO DE VENTA PLAZA IMPERIAL</td>\n",
       "      <td>2021-12</td>\n",
       "      <td>2021</td>\n",
       "      <td>12</td>\n",
       "      <td>19524.178571</td>\n",
       "      <td>0.017857</td>\n",
       "      <td>1.0</td>\n",
       "      <td>NaN</td>\n",
       "      <td>NaN</td>\n",
       "      <td>...</td>\n",
       "      <td>0.0</td>\n",
       "      <td>NaN</td>\n",
       "      <td>NaN</td>\n",
       "      <td>44.0</td>\n",
       "      <td>NaN</td>\n",
       "      <td>NaN</td>\n",
       "      <td>MESAS DE CENTRO</td>\n",
       "      <td>BLANCO</td>\n",
       "      <td>VIDRIO</td>\n",
       "      <td>5000.0</td>\n",
       "    </tr>\n",
       "    <tr>\n",
       "      <th>522497</th>\n",
       "      <td>XZ0993:00100:</td>\n",
       "      <td>PUNTO DE VENTA POBLADO</td>\n",
       "      <td>2021-12</td>\n",
       "      <td>2021</td>\n",
       "      <td>12</td>\n",
       "      <td>21026.038462</td>\n",
       "      <td>0.030769</td>\n",
       "      <td>1.0</td>\n",
       "      <td>NaN</td>\n",
       "      <td>NaN</td>\n",
       "      <td>...</td>\n",
       "      <td>0.0</td>\n",
       "      <td>NaN</td>\n",
       "      <td>NaN</td>\n",
       "      <td>44.0</td>\n",
       "      <td>NaN</td>\n",
       "      <td>NaN</td>\n",
       "      <td>MESAS DE CENTRO</td>\n",
       "      <td>BLANCO</td>\n",
       "      <td>VIDRIO</td>\n",
       "      <td>5000.0</td>\n",
       "    </tr>\n",
       "    <tr>\n",
       "      <th>522498</th>\n",
       "      <td>XZ0993:00100:</td>\n",
       "      <td>PUNTO DE VENTA SOACHA</td>\n",
       "      <td>2021-12</td>\n",
       "      <td>2021</td>\n",
       "      <td>12</td>\n",
       "      <td>32157.470588</td>\n",
       "      <td>0.041176</td>\n",
       "      <td>1.0</td>\n",
       "      <td>NaN</td>\n",
       "      <td>NaN</td>\n",
       "      <td>...</td>\n",
       "      <td>0.0</td>\n",
       "      <td>NaN</td>\n",
       "      <td>NaN</td>\n",
       "      <td>44.0</td>\n",
       "      <td>NaN</td>\n",
       "      <td>NaN</td>\n",
       "      <td>MESAS DE CENTRO</td>\n",
       "      <td>BLANCO</td>\n",
       "      <td>VIDRIO</td>\n",
       "      <td>5000.0</td>\n",
       "    </tr>\n",
       "    <tr>\n",
       "      <th>522499</th>\n",
       "      <td>XZ0993:00100:</td>\n",
       "      <td>VENTAS DIGITALES</td>\n",
       "      <td>2021-12</td>\n",
       "      <td>2021</td>\n",
       "      <td>12</td>\n",
       "      <td>0.000000</td>\n",
       "      <td>0.000000</td>\n",
       "      <td>1.0</td>\n",
       "      <td>NaN</td>\n",
       "      <td>NaN</td>\n",
       "      <td>...</td>\n",
       "      <td>0.0</td>\n",
       "      <td>NaN</td>\n",
       "      <td>NaN</td>\n",
       "      <td>44.0</td>\n",
       "      <td>NaN</td>\n",
       "      <td>NaN</td>\n",
       "      <td>MESAS DE CENTRO</td>\n",
       "      <td>BLANCO</td>\n",
       "      <td>VIDRIO</td>\n",
       "      <td>5000.0</td>\n",
       "    </tr>\n",
       "    <tr>\n",
       "      <th>522500</th>\n",
       "      <td>XZ0993:00100:</td>\n",
       "      <td>VILLA DEL RIO</td>\n",
       "      <td>2021-12</td>\n",
       "      <td>2021</td>\n",
       "      <td>12</td>\n",
       "      <td>0.000000</td>\n",
       "      <td>0.000000</td>\n",
       "      <td>1.0</td>\n",
       "      <td>NaN</td>\n",
       "      <td>NaN</td>\n",
       "      <td>...</td>\n",
       "      <td>0.0</td>\n",
       "      <td>NaN</td>\n",
       "      <td>NaN</td>\n",
       "      <td>44.0</td>\n",
       "      <td>NaN</td>\n",
       "      <td>NaN</td>\n",
       "      <td>MESAS DE CENTRO</td>\n",
       "      <td>BLANCO</td>\n",
       "      <td>VIDRIO</td>\n",
       "      <td>5000.0</td>\n",
       "    </tr>\n",
       "  </tbody>\n",
       "</table>\n",
       "<p>140336 rows × 27 columns</p>\n",
       "</div>"
      ]
     },
     "metadata": {},
     "execution_count": 161
    }
   ],
   "metadata": {}
  },
  {
   "cell_type": "code",
   "execution_count": 84,
   "source": [
    "len(df_concat.iloc[:index])"
   ],
   "outputs": [
    {
     "output_type": "execute_result",
     "data": {
      "text/plain": [
       "17610"
      ]
     },
     "metadata": {},
     "execution_count": 84
    }
   ],
   "metadata": {}
  },
  {
   "cell_type": "code",
   "execution_count": 159,
   "source": [
    "%%time\r\n",
    "model = GradientBoostingRegressor(**{'learning_rate': 0.01, 'max_depth': 6, 'n_estimators': 200})\r\n",
    "model.fit(x_train,y_train)"
   ],
   "outputs": [
    {
     "output_type": "stream",
     "name": "stdout",
     "text": [
      "Wall time: 5min 28s\n"
     ]
    },
    {
     "output_type": "execute_result",
     "data": {
      "text/plain": [
       "GradientBoostingRegressor(learning_rate=0.01, max_depth=6, n_estimators=200)"
      ]
     },
     "metadata": {},
     "execution_count": 159
    }
   ],
   "metadata": {}
  },
  {
   "cell_type": "code",
   "execution_count": null,
   "source": [
    "list(zip(x_num.columns.append(x_cat_dummies.columns),model.feature_importances_))"
   ],
   "outputs": [
    {
     "output_type": "execute_result",
     "data": {
      "text/plain": [
       "[('PRECIO', 0.7131566873768391),\n",
       " ('AREA', 0.00017771921479726085),\n",
       " ('ALTO', 0.002995079867702089),\n",
       " ('DESCUENTO(%)', 0.10340316503200166),\n",
       " ('MES_1', 0.0),\n",
       " ('MES_2', 0.0),\n",
       " ('MES_3', 0.0),\n",
       " ('MES_4', 6.383708842572016e-05),\n",
       " ('MES_5', 0.0),\n",
       " ('MES_6', 9.715629529746664e-05),\n",
       " ('MES_7', 0.0),\n",
       " ('MES_8', 0.00010232720194786048),\n",
       " ('MES_9', 0.0),\n",
       " ('MES_10', 9.312023090214922e-05),\n",
       " ('MES_11', 0.0004398910052304852),\n",
       " ('MES_12', 0.0),\n",
       " ('TIENDA_ADMINISTRACION', 0.0),\n",
       " ('TIENDA_PAGINA WEB FIOTTI', 0.0009845301002492804),\n",
       " ('TIENDA_PUNTO DE VENTA AV 68', 0.016982014737535862),\n",
       " ('TIENDA_PUNTO DE VENTA BUCARAMANGA', 0.0),\n",
       " ('TIENDA_PUNTO DE VENTA CALI', 5.115495074385719e-06),\n",
       " ('TIENDA_PUNTO DE VENTA CALLE 134', 0.0002094220749586712),\n",
       " ('TIENDA_PUNTO DE VENTA CENTRO MAYOR', 0.003950830730045819),\n",
       " ('TIENDA_PUNTO DE VENTA LAURELES', 0.0),\n",
       " ('TIENDA_PUNTO DE VENTA PLAZA CENTRAL', 0.0),\n",
       " ('TIENDA_PUNTO DE VENTA PLAZA IMPERIAL', 0.0),\n",
       " ('TIENDA_PUNTO DE VENTA POBLADO', 0.00014034117376160384),\n",
       " ('TIENDA_PUNTO DE VENTA SOACHA', 0.0),\n",
       " ('TIENDA_VENTAS DIGITALES', 0.0001098885159802779),\n",
       " ('TIENDA_VILLA DEL RIO', 0.0),\n",
       " ('PUESTOS_0.0', 0.00013519074147989017),\n",
       " ('PUESTOS_1.0', 0.012877603802575839),\n",
       " ('PUESTOS_2.0', 0.0),\n",
       " ('PUESTOS_3.0', 0.0),\n",
       " ('PUESTOS_4.0', 0.00037786640070377374),\n",
       " ('PUESTOS_6.0', 0.0),\n",
       " ('PUESTOS_7.0', 0.0),\n",
       " ('COLOR_POS_AMARILLO', 0.0),\n",
       " ('COLOR_POS_AZUL', 0.0),\n",
       " ('COLOR_POS_BEIGE', 0.0),\n",
       " ('COLOR_POS_BLANCO', 0.0003162607883333485),\n",
       " ('COLOR_POS_CAFE', 0.00039154520241335293),\n",
       " ('COLOR_POS_CRISTAL', 0.0),\n",
       " ('COLOR_POS_GRIS', 0.0),\n",
       " ('COLOR_POS_MIEL', 0.00013436450528704573),\n",
       " ('COLOR_POS_NEGRO', 1.224363121816465e-05),\n",
       " ('COLOR_POS_OTRO', 5.79809374169904e-06),\n",
       " ('COLOR_POS_ROJO', 0.0),\n",
       " ('SUBCATEGORIA_POS_MESAS DE 4P', 0.0),\n",
       " ('SUBCATEGORIA_POS_MESAS DE CENTRO', 0.0),\n",
       " ('SUBCATEGORIA_POS_OTROS', 0.0003895850261160749),\n",
       " ('SUBCATEGORIA_POS_POLTRONAS', 0.0),\n",
       " ('SUBCATEGORIA_POS_PUFF', 1.7803530212698486e-05),\n",
       " ('SUBCATEGORIA_POS_RECLINABLES', 0.002670207399770517),\n",
       " ('SUBCATEGORIA_POS_RECLINABLES 1P', 0.0),\n",
       " ('SUBCATEGORIA_POS_SET 4P', 0.0012850338477654738),\n",
       " ('SUBCATEGORIA_POS_SET 6P', 0.0),\n",
       " ('SUBCATEGORIA_POS_SILLAS AUXILIARES', 0.002279050953251085),\n",
       " ('SUBCATEGORIA_POS_SILLAS DE COMEDOR', 0.11822942019443042),\n",
       " ('SUBCATEGORIA_POS_SOFA 2P', 0.0),\n",
       " ('SUBCATEGORIA_POS_SOFA 3P', 0.0),\n",
       " ('SUBCATEGORIA_POS_SOFA CAMA ABATIBLE', 8.412937390754717e-05),\n",
       " ('F_COVID_0.0', 0.00019743845360161227),\n",
       " ('F_COVID_1.0', 0.00012487687095173302),\n",
       " ('F_COVID_2.0', 9.271621510777678e-05),\n",
       " ('F_COVID_3.0', 0.0004259292974508952),\n",
       " ('MATERIAL_POS_MADERA LAMINADA', 0.0),\n",
       " ('MATERIAL_POS_METAL + VIDRIO', 0.002516112524223183),\n",
       " ('MATERIAL_POS_MICROFIBRA', 0.0),\n",
       " ('MATERIAL_POS_SINTÉTICO', 0.0),\n",
       " ('MATERIAL_POS_VIDRIO', 0.0),\n",
       " ('MATERIAL_POS_otros', 0.0),\n",
       " ('ACABADO_BRILLANTE', 0.00016790721859904725),\n",
       " ('ACABADO_MADERA NATURAL', -2.770555755667782e-14),\n",
       " ('ACABADO_MATE', 0.0),\n",
       " ('ACABADO_METÁLICO', 0.0),\n",
       " ('ACABADO_SEMI MATE', 0.0),\n",
       " ('ACABADO_SUPERFICIES MATES', 0.00019302221022686632),\n",
       " ('ACABADO_TEXTILES SUAVES', 0.0),\n",
       " ('ACABADO_TEXTURA', 0.00012445702224748512),\n",
       " ('ACABADO_TEXTURA SUAVE', 0.0031286553994083243),\n",
       " ('CATEGORIA_ALCOBAS', 0.0),\n",
       " ('CATEGORIA_COMEDORES', 0.0026938916543787473),\n",
       " ('CATEGORIA_ESTUDIO', 0.0),\n",
       " ('CATEGORIA_SALAS Y SOFAS', 0.0),\n",
       " ('ORIGEN_IMPORTADO', 0.008217763501875443),\n",
       " ('ORIGEN_MANUFACTURADO', 0.0),\n",
       " ('ORIGEN_NACIONAL', 0.0)]"
      ]
     },
     "metadata": {},
     "execution_count": 7
    }
   ],
   "metadata": {}
  },
  {
   "cell_type": "code",
   "execution_count": 131,
   "source": [
    "mse(model.predict(x_test),y_test)"
   ],
   "outputs": [
    {
     "output_type": "execute_result",
     "data": {
      "text/plain": [
       "3.03795497927721"
      ]
     },
     "metadata": {},
     "execution_count": 131
    }
   ],
   "metadata": {}
  },
  {
   "cell_type": "code",
   "execution_count": 132,
   "source": [
    "mse(model.predict(x_train),y_train)"
   ],
   "outputs": [
    {
     "output_type": "execute_result",
     "data": {
      "text/plain": [
       "3.391056458689399"
      ]
     },
     "metadata": {},
     "execution_count": 132
    }
   ],
   "metadata": {}
  },
  {
   "cell_type": "code",
   "execution_count": 10,
   "source": [
    "import joblib\r\n",
    "joblib.dump(model,'assets/model/model.pkl')"
   ],
   "outputs": [
    {
     "output_type": "execute_result",
     "data": {
      "text/plain": [
       "['assets/model/model.pkl']"
      ]
     },
     "metadata": {},
     "execution_count": 10
    }
   ],
   "metadata": {}
  },
  {
   "cell_type": "code",
   "execution_count": 10,
   "source": [
    "%%time\r\n",
    "param_dist = {'n_estimators':[30, 40, 100, 200, 300],'learning_rate':[0.01, 0.05, 0.1, 0.3, 0.4, 1], 'max_depth': [2,4,6,8,10]}\r\n",
    "\r\n",
    "grid_br = RandomizedSearchCV(GradientBoostingRegressor(), param_distributions = param_dist,cv=3,n_jobs=4,scoring='neg_mean_squared_error',n_iter=50)\r\n",
    "grid_br.fit(x_train, y_train)\r\n"
   ],
   "outputs": [],
   "metadata": {}
  },
  {
   "cell_type": "code",
   "execution_count": null,
   "source": [
    "grid_br.best_params_"
   ],
   "outputs": [],
   "metadata": {}
  },
  {
   "cell_type": "code",
   "execution_count": null,
   "source": [
    "mse(gird_br.predict(x_test),y_test)"
   ],
   "outputs": [],
   "metadata": {}
  },
  {
   "cell_type": "code",
   "execution_count": 60,
   "source": [
    "df['PREDICTED'] = model.predict(np.concatenate([x_train,x_test,x_future],axis=0)).round()\r\n",
    "df_train=df[:index]\r\n",
    "df_test=df[index:]\r\n",
    "res = df.groupby(['REF','DATE']).sum().reset_index()\r\n",
    "res_train=df_train.groupby(['REF','DATE']).sum().reset_index()\r\n",
    "res_test=df_test.groupby(['REF','DATE']).sum().reset_index()"
   ],
   "outputs": [],
   "metadata": {}
  },
  {
   "cell_type": "code",
   "execution_count": 61,
   "source": [
    "mse(df_train.PREDICTED,df_train.CANTIDAD) #crece por el round"
   ],
   "outputs": [
    {
     "output_type": "execute_result",
     "data": {
      "text/plain": [
       "0.2164988642642274"
      ]
     },
     "metadata": {},
     "execution_count": 61
    }
   ],
   "metadata": {}
  },
  {
   "cell_type": "code",
   "execution_count": 62,
   "source": [
    "def plot_by_ref_tienda(ref,tienda):\r\n",
    "    aux=df.query('REF==@ref & TIENDA==@tienda')\r\n",
    "    plt.figure(figsize=(20,5))\r\n",
    "    plt.plot(aux['DATE'],aux['PREDICTED'],label='predicho',marker='.')\r\n",
    "    plt.plot(aux['DATE'],aux['CANTIDAD'],label='real',marker='.')\r\n",
    "    plt.legend()\r\n",
    "plot_by_ref_tienda('XA0539:00061:','PUNTO DE VENTA AV 68')\r\n"
   ],
   "outputs": [
    {
     "output_type": "display_data",
     "data": {
      "text/plain": [
       "<Figure size 1440x360 with 1 Axes>"
      ],
      "image/svg+xml": "<?xml version=\"1.0\" encoding=\"utf-8\" standalone=\"no\"?>\r\n<!DOCTYPE svg PUBLIC \"-//W3C//DTD SVG 1.1//EN\"\r\n  \"http://www.w3.org/Graphics/SVG/1.1/DTD/svg11.dtd\">\r\n<svg height=\"302.878125pt\" version=\"1.1\" viewBox=\"0 0 1150.125 302.878125\" width=\"1150.125pt\" xmlns=\"http://www.w3.org/2000/svg\" xmlns:xlink=\"http://www.w3.org/1999/xlink\">\r\n <metadata>\r\n  <rdf:RDF xmlns:cc=\"http://creativecommons.org/ns#\" xmlns:dc=\"http://purl.org/dc/elements/1.1/\" xmlns:rdf=\"http://www.w3.org/1999/02/22-rdf-syntax-ns#\">\r\n   <cc:Work>\r\n    <dc:type rdf:resource=\"http://purl.org/dc/dcmitype/StillImage\"/>\r\n    <dc:date>2021-08-30T22:03:23.745857</dc:date>\r\n    <dc:format>image/svg+xml</dc:format>\r\n    <dc:creator>\r\n     <cc:Agent>\r\n      <dc:title>Matplotlib v3.4.3, https://matplotlib.org/</dc:title>\r\n     </cc:Agent>\r\n    </dc:creator>\r\n   </cc:Work>\r\n  </rdf:RDF>\r\n </metadata>\r\n <defs>\r\n  <style type=\"text/css\">*{stroke-linecap:butt;stroke-linejoin:round;}</style>\r\n </defs>\r\n <g id=\"figure_1\">\r\n  <g id=\"patch_1\">\r\n   <path d=\"M 0 302.878125 \r\nL 1150.125 302.878125 \r\nL 1150.125 0 \r\nL 0 0 \r\nz\r\n\" style=\"fill:none;\"/>\r\n  </g>\r\n  <g id=\"axes_1\">\r\n   <g id=\"patch_2\">\r\n    <path d=\"M 26.925 279 \r\nL 1142.925 279 \r\nL 1142.925 7.2 \r\nL 26.925 7.2 \r\nz\r\n\" style=\"fill:#ffffff;\"/>\r\n   </g>\r\n   <g id=\"matplotlib.axis_1\">\r\n    <g id=\"xtick_1\">\r\n     <g id=\"line2d_1\">\r\n      <defs>\r\n       <path d=\"M 0 0 \r\nL 0 3.5 \r\n\" id=\"mcf732ff0a1\" style=\"stroke:#000000;stroke-width:0.8;\"/>\r\n      </defs>\r\n      <g>\r\n       <use style=\"stroke:#000000;stroke-width:0.8;\" x=\"77.652273\" xlink:href=\"#mcf732ff0a1\" y=\"279\"/>\r\n      </g>\r\n     </g>\r\n     <g id=\"text_1\">\r\n      <!-- 2019-01 -->\r\n      <g transform=\"translate(56.760866 293.598437)scale(0.1 -0.1)\">\r\n       <defs>\r\n        <path d=\"M 1228 531 \r\nL 3431 531 \r\nL 3431 0 \r\nL 469 0 \r\nL 469 531 \r\nQ 828 903 1448 1529 \r\nQ 2069 2156 2228 2338 \r\nQ 2531 2678 2651 2914 \r\nQ 2772 3150 2772 3378 \r\nQ 2772 3750 2511 3984 \r\nQ 2250 4219 1831 4219 \r\nQ 1534 4219 1204 4116 \r\nQ 875 4013 500 3803 \r\nL 500 4441 \r\nQ 881 4594 1212 4672 \r\nQ 1544 4750 1819 4750 \r\nQ 2544 4750 2975 4387 \r\nQ 3406 4025 3406 3419 \r\nQ 3406 3131 3298 2873 \r\nQ 3191 2616 2906 2266 \r\nQ 2828 2175 2409 1742 \r\nQ 1991 1309 1228 531 \r\nz\r\n\" id=\"DejaVuSans-32\" transform=\"scale(0.015625)\"/>\r\n        <path d=\"M 2034 4250 \r\nQ 1547 4250 1301 3770 \r\nQ 1056 3291 1056 2328 \r\nQ 1056 1369 1301 889 \r\nQ 1547 409 2034 409 \r\nQ 2525 409 2770 889 \r\nQ 3016 1369 3016 2328 \r\nQ 3016 3291 2770 3770 \r\nQ 2525 4250 2034 4250 \r\nz\r\nM 2034 4750 \r\nQ 2819 4750 3233 4129 \r\nQ 3647 3509 3647 2328 \r\nQ 3647 1150 3233 529 \r\nQ 2819 -91 2034 -91 \r\nQ 1250 -91 836 529 \r\nQ 422 1150 422 2328 \r\nQ 422 3509 836 4129 \r\nQ 1250 4750 2034 4750 \r\nz\r\n\" id=\"DejaVuSans-30\" transform=\"scale(0.015625)\"/>\r\n        <path d=\"M 794 531 \r\nL 1825 531 \r\nL 1825 4091 \r\nL 703 3866 \r\nL 703 4441 \r\nL 1819 4666 \r\nL 2450 4666 \r\nL 2450 531 \r\nL 3481 531 \r\nL 3481 0 \r\nL 794 0 \r\nL 794 531 \r\nz\r\n\" id=\"DejaVuSans-31\" transform=\"scale(0.015625)\"/>\r\n        <path d=\"M 703 97 \r\nL 703 672 \r\nQ 941 559 1184 500 \r\nQ 1428 441 1663 441 \r\nQ 2288 441 2617 861 \r\nQ 2947 1281 2994 2138 \r\nQ 2813 1869 2534 1725 \r\nQ 2256 1581 1919 1581 \r\nQ 1219 1581 811 2004 \r\nQ 403 2428 403 3163 \r\nQ 403 3881 828 4315 \r\nQ 1253 4750 1959 4750 \r\nQ 2769 4750 3195 4129 \r\nQ 3622 3509 3622 2328 \r\nQ 3622 1225 3098 567 \r\nQ 2575 -91 1691 -91 \r\nQ 1453 -91 1209 -44 \r\nQ 966 3 703 97 \r\nz\r\nM 1959 2075 \r\nQ 2384 2075 2632 2365 \r\nQ 2881 2656 2881 3163 \r\nQ 2881 3666 2632 3958 \r\nQ 2384 4250 1959 4250 \r\nQ 1534 4250 1286 3958 \r\nQ 1038 3666 1038 3163 \r\nQ 1038 2656 1286 2365 \r\nQ 1534 2075 1959 2075 \r\nz\r\n\" id=\"DejaVuSans-39\" transform=\"scale(0.015625)\"/>\r\n        <path d=\"M 313 2009 \r\nL 1997 2009 \r\nL 1997 1497 \r\nL 313 1497 \r\nL 313 2009 \r\nz\r\n\" id=\"DejaVuSans-2d\" transform=\"scale(0.015625)\"/>\r\n       </defs>\r\n       <use xlink:href=\"#DejaVuSans-32\"/>\r\n       <use x=\"63.623047\" xlink:href=\"#DejaVuSans-30\"/>\r\n       <use x=\"127.246094\" xlink:href=\"#DejaVuSans-31\"/>\r\n       <use x=\"190.869141\" xlink:href=\"#DejaVuSans-39\"/>\r\n       <use x=\"254.492188\" xlink:href=\"#DejaVuSans-2d\"/>\r\n       <use x=\"290.576172\" xlink:href=\"#DejaVuSans-30\"/>\r\n       <use x=\"354.199219\" xlink:href=\"#DejaVuSans-31\"/>\r\n      </g>\r\n     </g>\r\n    </g>\r\n    <g id=\"xtick_2\">\r\n     <g id=\"line2d_2\">\r\n      <g>\r\n       <use style=\"stroke:#000000;stroke-width:0.8;\" x=\"115.22803\" xlink:href=\"#mcf732ff0a1\" y=\"279\"/>\r\n      </g>\r\n     </g>\r\n     <g id=\"text_2\">\r\n      <!-- 2019-02 -->\r\n      <g transform=\"translate(94.336624 293.598437)scale(0.1 -0.1)\">\r\n       <use xlink:href=\"#DejaVuSans-32\"/>\r\n       <use x=\"63.623047\" xlink:href=\"#DejaVuSans-30\"/>\r\n       <use x=\"127.246094\" xlink:href=\"#DejaVuSans-31\"/>\r\n       <use x=\"190.869141\" xlink:href=\"#DejaVuSans-39\"/>\r\n       <use x=\"254.492188\" xlink:href=\"#DejaVuSans-2d\"/>\r\n       <use x=\"290.576172\" xlink:href=\"#DejaVuSans-30\"/>\r\n       <use x=\"354.199219\" xlink:href=\"#DejaVuSans-32\"/>\r\n      </g>\r\n     </g>\r\n    </g>\r\n    <g id=\"xtick_3\">\r\n     <g id=\"line2d_3\">\r\n      <g>\r\n       <use style=\"stroke:#000000;stroke-width:0.8;\" x=\"152.803788\" xlink:href=\"#mcf732ff0a1\" y=\"279\"/>\r\n      </g>\r\n     </g>\r\n     <g id=\"text_3\">\r\n      <!-- 2019-03 -->\r\n      <g transform=\"translate(131.912382 293.598437)scale(0.1 -0.1)\">\r\n       <defs>\r\n        <path d=\"M 2597 2516 \r\nQ 3050 2419 3304 2112 \r\nQ 3559 1806 3559 1356 \r\nQ 3559 666 3084 287 \r\nQ 2609 -91 1734 -91 \r\nQ 1441 -91 1130 -33 \r\nQ 819 25 488 141 \r\nL 488 750 \r\nQ 750 597 1062 519 \r\nQ 1375 441 1716 441 \r\nQ 2309 441 2620 675 \r\nQ 2931 909 2931 1356 \r\nQ 2931 1769 2642 2001 \r\nQ 2353 2234 1838 2234 \r\nL 1294 2234 \r\nL 1294 2753 \r\nL 1863 2753 \r\nQ 2328 2753 2575 2939 \r\nQ 2822 3125 2822 3475 \r\nQ 2822 3834 2567 4026 \r\nQ 2313 4219 1838 4219 \r\nQ 1578 4219 1281 4162 \r\nQ 984 4106 628 3988 \r\nL 628 4550 \r\nQ 988 4650 1302 4700 \r\nQ 1616 4750 1894 4750 \r\nQ 2613 4750 3031 4423 \r\nQ 3450 4097 3450 3541 \r\nQ 3450 3153 3228 2886 \r\nQ 3006 2619 2597 2516 \r\nz\r\n\" id=\"DejaVuSans-33\" transform=\"scale(0.015625)\"/>\r\n       </defs>\r\n       <use xlink:href=\"#DejaVuSans-32\"/>\r\n       <use x=\"63.623047\" xlink:href=\"#DejaVuSans-30\"/>\r\n       <use x=\"127.246094\" xlink:href=\"#DejaVuSans-31\"/>\r\n       <use x=\"190.869141\" xlink:href=\"#DejaVuSans-39\"/>\r\n       <use x=\"254.492188\" xlink:href=\"#DejaVuSans-2d\"/>\r\n       <use x=\"290.576172\" xlink:href=\"#DejaVuSans-30\"/>\r\n       <use x=\"354.199219\" xlink:href=\"#DejaVuSans-33\"/>\r\n      </g>\r\n     </g>\r\n    </g>\r\n    <g id=\"xtick_4\">\r\n     <g id=\"line2d_4\">\r\n      <g>\r\n       <use style=\"stroke:#000000;stroke-width:0.8;\" x=\"190.379545\" xlink:href=\"#mcf732ff0a1\" y=\"279\"/>\r\n      </g>\r\n     </g>\r\n     <g id=\"text_4\">\r\n      <!-- 2019-04 -->\r\n      <g transform=\"translate(169.488139 293.598437)scale(0.1 -0.1)\">\r\n       <defs>\r\n        <path d=\"M 2419 4116 \r\nL 825 1625 \r\nL 2419 1625 \r\nL 2419 4116 \r\nz\r\nM 2253 4666 \r\nL 3047 4666 \r\nL 3047 1625 \r\nL 3713 1625 \r\nL 3713 1100 \r\nL 3047 1100 \r\nL 3047 0 \r\nL 2419 0 \r\nL 2419 1100 \r\nL 313 1100 \r\nL 313 1709 \r\nL 2253 4666 \r\nz\r\n\" id=\"DejaVuSans-34\" transform=\"scale(0.015625)\"/>\r\n       </defs>\r\n       <use xlink:href=\"#DejaVuSans-32\"/>\r\n       <use x=\"63.623047\" xlink:href=\"#DejaVuSans-30\"/>\r\n       <use x=\"127.246094\" xlink:href=\"#DejaVuSans-31\"/>\r\n       <use x=\"190.869141\" xlink:href=\"#DejaVuSans-39\"/>\r\n       <use x=\"254.492188\" xlink:href=\"#DejaVuSans-2d\"/>\r\n       <use x=\"290.576172\" xlink:href=\"#DejaVuSans-30\"/>\r\n       <use x=\"354.199219\" xlink:href=\"#DejaVuSans-34\"/>\r\n      </g>\r\n     </g>\r\n    </g>\r\n    <g id=\"xtick_5\">\r\n     <g id=\"line2d_5\">\r\n      <g>\r\n       <use style=\"stroke:#000000;stroke-width:0.8;\" x=\"227.955303\" xlink:href=\"#mcf732ff0a1\" y=\"279\"/>\r\n      </g>\r\n     </g>\r\n     <g id=\"text_5\">\r\n      <!-- 2019-05 -->\r\n      <g transform=\"translate(207.063897 293.598437)scale(0.1 -0.1)\">\r\n       <defs>\r\n        <path d=\"M 691 4666 \r\nL 3169 4666 \r\nL 3169 4134 \r\nL 1269 4134 \r\nL 1269 2991 \r\nQ 1406 3038 1543 3061 \r\nQ 1681 3084 1819 3084 \r\nQ 2600 3084 3056 2656 \r\nQ 3513 2228 3513 1497 \r\nQ 3513 744 3044 326 \r\nQ 2575 -91 1722 -91 \r\nQ 1428 -91 1123 -41 \r\nQ 819 9 494 109 \r\nL 494 744 \r\nQ 775 591 1075 516 \r\nQ 1375 441 1709 441 \r\nQ 2250 441 2565 725 \r\nQ 2881 1009 2881 1497 \r\nQ 2881 1984 2565 2268 \r\nQ 2250 2553 1709 2553 \r\nQ 1456 2553 1204 2497 \r\nQ 953 2441 691 2322 \r\nL 691 4666 \r\nz\r\n\" id=\"DejaVuSans-35\" transform=\"scale(0.015625)\"/>\r\n       </defs>\r\n       <use xlink:href=\"#DejaVuSans-32\"/>\r\n       <use x=\"63.623047\" xlink:href=\"#DejaVuSans-30\"/>\r\n       <use x=\"127.246094\" xlink:href=\"#DejaVuSans-31\"/>\r\n       <use x=\"190.869141\" xlink:href=\"#DejaVuSans-39\"/>\r\n       <use x=\"254.492188\" xlink:href=\"#DejaVuSans-2d\"/>\r\n       <use x=\"290.576172\" xlink:href=\"#DejaVuSans-30\"/>\r\n       <use x=\"354.199219\" xlink:href=\"#DejaVuSans-35\"/>\r\n      </g>\r\n     </g>\r\n    </g>\r\n    <g id=\"xtick_6\">\r\n     <g id=\"line2d_6\">\r\n      <g>\r\n       <use style=\"stroke:#000000;stroke-width:0.8;\" x=\"265.531061\" xlink:href=\"#mcf732ff0a1\" y=\"279\"/>\r\n      </g>\r\n     </g>\r\n     <g id=\"text_6\">\r\n      <!-- 2019-06 -->\r\n      <g transform=\"translate(244.639654 293.598437)scale(0.1 -0.1)\">\r\n       <defs>\r\n        <path d=\"M 2113 2584 \r\nQ 1688 2584 1439 2293 \r\nQ 1191 2003 1191 1497 \r\nQ 1191 994 1439 701 \r\nQ 1688 409 2113 409 \r\nQ 2538 409 2786 701 \r\nQ 3034 994 3034 1497 \r\nQ 3034 2003 2786 2293 \r\nQ 2538 2584 2113 2584 \r\nz\r\nM 3366 4563 \r\nL 3366 3988 \r\nQ 3128 4100 2886 4159 \r\nQ 2644 4219 2406 4219 \r\nQ 1781 4219 1451 3797 \r\nQ 1122 3375 1075 2522 \r\nQ 1259 2794 1537 2939 \r\nQ 1816 3084 2150 3084 \r\nQ 2853 3084 3261 2657 \r\nQ 3669 2231 3669 1497 \r\nQ 3669 778 3244 343 \r\nQ 2819 -91 2113 -91 \r\nQ 1303 -91 875 529 \r\nQ 447 1150 447 2328 \r\nQ 447 3434 972 4092 \r\nQ 1497 4750 2381 4750 \r\nQ 2619 4750 2861 4703 \r\nQ 3103 4656 3366 4563 \r\nz\r\n\" id=\"DejaVuSans-36\" transform=\"scale(0.015625)\"/>\r\n       </defs>\r\n       <use xlink:href=\"#DejaVuSans-32\"/>\r\n       <use x=\"63.623047\" xlink:href=\"#DejaVuSans-30\"/>\r\n       <use x=\"127.246094\" xlink:href=\"#DejaVuSans-31\"/>\r\n       <use x=\"190.869141\" xlink:href=\"#DejaVuSans-39\"/>\r\n       <use x=\"254.492188\" xlink:href=\"#DejaVuSans-2d\"/>\r\n       <use x=\"290.576172\" xlink:href=\"#DejaVuSans-30\"/>\r\n       <use x=\"354.199219\" xlink:href=\"#DejaVuSans-36\"/>\r\n      </g>\r\n     </g>\r\n    </g>\r\n    <g id=\"xtick_7\">\r\n     <g id=\"line2d_7\">\r\n      <g>\r\n       <use style=\"stroke:#000000;stroke-width:0.8;\" x=\"303.106818\" xlink:href=\"#mcf732ff0a1\" y=\"279\"/>\r\n      </g>\r\n     </g>\r\n     <g id=\"text_7\">\r\n      <!-- 2019-07 -->\r\n      <g transform=\"translate(282.215412 293.598437)scale(0.1 -0.1)\">\r\n       <defs>\r\n        <path d=\"M 525 4666 \r\nL 3525 4666 \r\nL 3525 4397 \r\nL 1831 0 \r\nL 1172 0 \r\nL 2766 4134 \r\nL 525 4134 \r\nL 525 4666 \r\nz\r\n\" id=\"DejaVuSans-37\" transform=\"scale(0.015625)\"/>\r\n       </defs>\r\n       <use xlink:href=\"#DejaVuSans-32\"/>\r\n       <use x=\"63.623047\" xlink:href=\"#DejaVuSans-30\"/>\r\n       <use x=\"127.246094\" xlink:href=\"#DejaVuSans-31\"/>\r\n       <use x=\"190.869141\" xlink:href=\"#DejaVuSans-39\"/>\r\n       <use x=\"254.492188\" xlink:href=\"#DejaVuSans-2d\"/>\r\n       <use x=\"290.576172\" xlink:href=\"#DejaVuSans-30\"/>\r\n       <use x=\"354.199219\" xlink:href=\"#DejaVuSans-37\"/>\r\n      </g>\r\n     </g>\r\n    </g>\r\n    <g id=\"xtick_8\">\r\n     <g id=\"line2d_8\">\r\n      <g>\r\n       <use style=\"stroke:#000000;stroke-width:0.8;\" x=\"340.682576\" xlink:href=\"#mcf732ff0a1\" y=\"279\"/>\r\n      </g>\r\n     </g>\r\n     <g id=\"text_8\">\r\n      <!-- 2019-08 -->\r\n      <g transform=\"translate(319.79117 293.598437)scale(0.1 -0.1)\">\r\n       <defs>\r\n        <path d=\"M 2034 2216 \r\nQ 1584 2216 1326 1975 \r\nQ 1069 1734 1069 1313 \r\nQ 1069 891 1326 650 \r\nQ 1584 409 2034 409 \r\nQ 2484 409 2743 651 \r\nQ 3003 894 3003 1313 \r\nQ 3003 1734 2745 1975 \r\nQ 2488 2216 2034 2216 \r\nz\r\nM 1403 2484 \r\nQ 997 2584 770 2862 \r\nQ 544 3141 544 3541 \r\nQ 544 4100 942 4425 \r\nQ 1341 4750 2034 4750 \r\nQ 2731 4750 3128 4425 \r\nQ 3525 4100 3525 3541 \r\nQ 3525 3141 3298 2862 \r\nQ 3072 2584 2669 2484 \r\nQ 3125 2378 3379 2068 \r\nQ 3634 1759 3634 1313 \r\nQ 3634 634 3220 271 \r\nQ 2806 -91 2034 -91 \r\nQ 1263 -91 848 271 \r\nQ 434 634 434 1313 \r\nQ 434 1759 690 2068 \r\nQ 947 2378 1403 2484 \r\nz\r\nM 1172 3481 \r\nQ 1172 3119 1398 2916 \r\nQ 1625 2713 2034 2713 \r\nQ 2441 2713 2670 2916 \r\nQ 2900 3119 2900 3481 \r\nQ 2900 3844 2670 4047 \r\nQ 2441 4250 2034 4250 \r\nQ 1625 4250 1398 4047 \r\nQ 1172 3844 1172 3481 \r\nz\r\n\" id=\"DejaVuSans-38\" transform=\"scale(0.015625)\"/>\r\n       </defs>\r\n       <use xlink:href=\"#DejaVuSans-32\"/>\r\n       <use x=\"63.623047\" xlink:href=\"#DejaVuSans-30\"/>\r\n       <use x=\"127.246094\" xlink:href=\"#DejaVuSans-31\"/>\r\n       <use x=\"190.869141\" xlink:href=\"#DejaVuSans-39\"/>\r\n       <use x=\"254.492188\" xlink:href=\"#DejaVuSans-2d\"/>\r\n       <use x=\"290.576172\" xlink:href=\"#DejaVuSans-30\"/>\r\n       <use x=\"354.199219\" xlink:href=\"#DejaVuSans-38\"/>\r\n      </g>\r\n     </g>\r\n    </g>\r\n    <g id=\"xtick_9\">\r\n     <g id=\"line2d_9\">\r\n      <g>\r\n       <use style=\"stroke:#000000;stroke-width:0.8;\" x=\"378.258333\" xlink:href=\"#mcf732ff0a1\" y=\"279\"/>\r\n      </g>\r\n     </g>\r\n     <g id=\"text_9\">\r\n      <!-- 2019-09 -->\r\n      <g transform=\"translate(357.366927 293.598437)scale(0.1 -0.1)\">\r\n       <use xlink:href=\"#DejaVuSans-32\"/>\r\n       <use x=\"63.623047\" xlink:href=\"#DejaVuSans-30\"/>\r\n       <use x=\"127.246094\" xlink:href=\"#DejaVuSans-31\"/>\r\n       <use x=\"190.869141\" xlink:href=\"#DejaVuSans-39\"/>\r\n       <use x=\"254.492188\" xlink:href=\"#DejaVuSans-2d\"/>\r\n       <use x=\"290.576172\" xlink:href=\"#DejaVuSans-30\"/>\r\n       <use x=\"354.199219\" xlink:href=\"#DejaVuSans-39\"/>\r\n      </g>\r\n     </g>\r\n    </g>\r\n    <g id=\"xtick_10\">\r\n     <g id=\"line2d_10\">\r\n      <g>\r\n       <use style=\"stroke:#000000;stroke-width:0.8;\" x=\"415.834091\" xlink:href=\"#mcf732ff0a1\" y=\"279\"/>\r\n      </g>\r\n     </g>\r\n     <g id=\"text_10\">\r\n      <!-- 2019-10 -->\r\n      <g transform=\"translate(394.942685 293.598437)scale(0.1 -0.1)\">\r\n       <use xlink:href=\"#DejaVuSans-32\"/>\r\n       <use x=\"63.623047\" xlink:href=\"#DejaVuSans-30\"/>\r\n       <use x=\"127.246094\" xlink:href=\"#DejaVuSans-31\"/>\r\n       <use x=\"190.869141\" xlink:href=\"#DejaVuSans-39\"/>\r\n       <use x=\"254.492188\" xlink:href=\"#DejaVuSans-2d\"/>\r\n       <use x=\"290.576172\" xlink:href=\"#DejaVuSans-31\"/>\r\n       <use x=\"354.199219\" xlink:href=\"#DejaVuSans-30\"/>\r\n      </g>\r\n     </g>\r\n    </g>\r\n    <g id=\"xtick_11\">\r\n     <g id=\"line2d_11\">\r\n      <g>\r\n       <use style=\"stroke:#000000;stroke-width:0.8;\" x=\"453.409848\" xlink:href=\"#mcf732ff0a1\" y=\"279\"/>\r\n      </g>\r\n     </g>\r\n     <g id=\"text_11\">\r\n      <!-- 2019-11 -->\r\n      <g transform=\"translate(432.518442 293.598437)scale(0.1 -0.1)\">\r\n       <use xlink:href=\"#DejaVuSans-32\"/>\r\n       <use x=\"63.623047\" xlink:href=\"#DejaVuSans-30\"/>\r\n       <use x=\"127.246094\" xlink:href=\"#DejaVuSans-31\"/>\r\n       <use x=\"190.869141\" xlink:href=\"#DejaVuSans-39\"/>\r\n       <use x=\"254.492188\" xlink:href=\"#DejaVuSans-2d\"/>\r\n       <use x=\"290.576172\" xlink:href=\"#DejaVuSans-31\"/>\r\n       <use x=\"354.199219\" xlink:href=\"#DejaVuSans-31\"/>\r\n      </g>\r\n     </g>\r\n    </g>\r\n    <g id=\"xtick_12\">\r\n     <g id=\"line2d_12\">\r\n      <g>\r\n       <use style=\"stroke:#000000;stroke-width:0.8;\" x=\"490.985606\" xlink:href=\"#mcf732ff0a1\" y=\"279\"/>\r\n      </g>\r\n     </g>\r\n     <g id=\"text_12\">\r\n      <!-- 2019-12 -->\r\n      <g transform=\"translate(470.0942 293.598437)scale(0.1 -0.1)\">\r\n       <use xlink:href=\"#DejaVuSans-32\"/>\r\n       <use x=\"63.623047\" xlink:href=\"#DejaVuSans-30\"/>\r\n       <use x=\"127.246094\" xlink:href=\"#DejaVuSans-31\"/>\r\n       <use x=\"190.869141\" xlink:href=\"#DejaVuSans-39\"/>\r\n       <use x=\"254.492188\" xlink:href=\"#DejaVuSans-2d\"/>\r\n       <use x=\"290.576172\" xlink:href=\"#DejaVuSans-31\"/>\r\n       <use x=\"354.199219\" xlink:href=\"#DejaVuSans-32\"/>\r\n      </g>\r\n     </g>\r\n    </g>\r\n    <g id=\"xtick_13\">\r\n     <g id=\"line2d_13\">\r\n      <g>\r\n       <use style=\"stroke:#000000;stroke-width:0.8;\" x=\"528.561364\" xlink:href=\"#mcf732ff0a1\" y=\"279\"/>\r\n      </g>\r\n     </g>\r\n     <g id=\"text_13\">\r\n      <!-- 2020-01 -->\r\n      <g transform=\"translate(507.669957 293.598437)scale(0.1 -0.1)\">\r\n       <use xlink:href=\"#DejaVuSans-32\"/>\r\n       <use x=\"63.623047\" xlink:href=\"#DejaVuSans-30\"/>\r\n       <use x=\"127.246094\" xlink:href=\"#DejaVuSans-32\"/>\r\n       <use x=\"190.869141\" xlink:href=\"#DejaVuSans-30\"/>\r\n       <use x=\"254.492188\" xlink:href=\"#DejaVuSans-2d\"/>\r\n       <use x=\"290.576172\" xlink:href=\"#DejaVuSans-30\"/>\r\n       <use x=\"354.199219\" xlink:href=\"#DejaVuSans-31\"/>\r\n      </g>\r\n     </g>\r\n    </g>\r\n    <g id=\"xtick_14\">\r\n     <g id=\"line2d_14\">\r\n      <g>\r\n       <use style=\"stroke:#000000;stroke-width:0.8;\" x=\"566.137121\" xlink:href=\"#mcf732ff0a1\" y=\"279\"/>\r\n      </g>\r\n     </g>\r\n     <g id=\"text_14\">\r\n      <!-- 2020-02 -->\r\n      <g transform=\"translate(545.245715 293.598437)scale(0.1 -0.1)\">\r\n       <use xlink:href=\"#DejaVuSans-32\"/>\r\n       <use x=\"63.623047\" xlink:href=\"#DejaVuSans-30\"/>\r\n       <use x=\"127.246094\" xlink:href=\"#DejaVuSans-32\"/>\r\n       <use x=\"190.869141\" xlink:href=\"#DejaVuSans-30\"/>\r\n       <use x=\"254.492188\" xlink:href=\"#DejaVuSans-2d\"/>\r\n       <use x=\"290.576172\" xlink:href=\"#DejaVuSans-30\"/>\r\n       <use x=\"354.199219\" xlink:href=\"#DejaVuSans-32\"/>\r\n      </g>\r\n     </g>\r\n    </g>\r\n    <g id=\"xtick_15\">\r\n     <g id=\"line2d_15\">\r\n      <g>\r\n       <use style=\"stroke:#000000;stroke-width:0.8;\" x=\"603.712879\" xlink:href=\"#mcf732ff0a1\" y=\"279\"/>\r\n      </g>\r\n     </g>\r\n     <g id=\"text_15\">\r\n      <!-- 2020-03 -->\r\n      <g transform=\"translate(582.821473 293.598437)scale(0.1 -0.1)\">\r\n       <use xlink:href=\"#DejaVuSans-32\"/>\r\n       <use x=\"63.623047\" xlink:href=\"#DejaVuSans-30\"/>\r\n       <use x=\"127.246094\" xlink:href=\"#DejaVuSans-32\"/>\r\n       <use x=\"190.869141\" xlink:href=\"#DejaVuSans-30\"/>\r\n       <use x=\"254.492188\" xlink:href=\"#DejaVuSans-2d\"/>\r\n       <use x=\"290.576172\" xlink:href=\"#DejaVuSans-30\"/>\r\n       <use x=\"354.199219\" xlink:href=\"#DejaVuSans-33\"/>\r\n      </g>\r\n     </g>\r\n    </g>\r\n    <g id=\"xtick_16\">\r\n     <g id=\"line2d_16\">\r\n      <g>\r\n       <use style=\"stroke:#000000;stroke-width:0.8;\" x=\"641.288636\" xlink:href=\"#mcf732ff0a1\" y=\"279\"/>\r\n      </g>\r\n     </g>\r\n     <g id=\"text_16\">\r\n      <!-- 2020-04 -->\r\n      <g transform=\"translate(620.39723 293.598437)scale(0.1 -0.1)\">\r\n       <use xlink:href=\"#DejaVuSans-32\"/>\r\n       <use x=\"63.623047\" xlink:href=\"#DejaVuSans-30\"/>\r\n       <use x=\"127.246094\" xlink:href=\"#DejaVuSans-32\"/>\r\n       <use x=\"190.869141\" xlink:href=\"#DejaVuSans-30\"/>\r\n       <use x=\"254.492188\" xlink:href=\"#DejaVuSans-2d\"/>\r\n       <use x=\"290.576172\" xlink:href=\"#DejaVuSans-30\"/>\r\n       <use x=\"354.199219\" xlink:href=\"#DejaVuSans-34\"/>\r\n      </g>\r\n     </g>\r\n    </g>\r\n    <g id=\"xtick_17\">\r\n     <g id=\"line2d_17\">\r\n      <g>\r\n       <use style=\"stroke:#000000;stroke-width:0.8;\" x=\"678.864394\" xlink:href=\"#mcf732ff0a1\" y=\"279\"/>\r\n      </g>\r\n     </g>\r\n     <g id=\"text_17\">\r\n      <!-- 2020-05 -->\r\n      <g transform=\"translate(657.972988 293.598437)scale(0.1 -0.1)\">\r\n       <use xlink:href=\"#DejaVuSans-32\"/>\r\n       <use x=\"63.623047\" xlink:href=\"#DejaVuSans-30\"/>\r\n       <use x=\"127.246094\" xlink:href=\"#DejaVuSans-32\"/>\r\n       <use x=\"190.869141\" xlink:href=\"#DejaVuSans-30\"/>\r\n       <use x=\"254.492188\" xlink:href=\"#DejaVuSans-2d\"/>\r\n       <use x=\"290.576172\" xlink:href=\"#DejaVuSans-30\"/>\r\n       <use x=\"354.199219\" xlink:href=\"#DejaVuSans-35\"/>\r\n      </g>\r\n     </g>\r\n    </g>\r\n    <g id=\"xtick_18\">\r\n     <g id=\"line2d_18\">\r\n      <g>\r\n       <use style=\"stroke:#000000;stroke-width:0.8;\" x=\"716.440152\" xlink:href=\"#mcf732ff0a1\" y=\"279\"/>\r\n      </g>\r\n     </g>\r\n     <g id=\"text_18\">\r\n      <!-- 2020-06 -->\r\n      <g transform=\"translate(695.548745 293.598437)scale(0.1 -0.1)\">\r\n       <use xlink:href=\"#DejaVuSans-32\"/>\r\n       <use x=\"63.623047\" xlink:href=\"#DejaVuSans-30\"/>\r\n       <use x=\"127.246094\" xlink:href=\"#DejaVuSans-32\"/>\r\n       <use x=\"190.869141\" xlink:href=\"#DejaVuSans-30\"/>\r\n       <use x=\"254.492188\" xlink:href=\"#DejaVuSans-2d\"/>\r\n       <use x=\"290.576172\" xlink:href=\"#DejaVuSans-30\"/>\r\n       <use x=\"354.199219\" xlink:href=\"#DejaVuSans-36\"/>\r\n      </g>\r\n     </g>\r\n    </g>\r\n    <g id=\"xtick_19\">\r\n     <g id=\"line2d_19\">\r\n      <g>\r\n       <use style=\"stroke:#000000;stroke-width:0.8;\" x=\"754.015909\" xlink:href=\"#mcf732ff0a1\" y=\"279\"/>\r\n      </g>\r\n     </g>\r\n     <g id=\"text_19\">\r\n      <!-- 2020-07 -->\r\n      <g transform=\"translate(733.124503 293.598437)scale(0.1 -0.1)\">\r\n       <use xlink:href=\"#DejaVuSans-32\"/>\r\n       <use x=\"63.623047\" xlink:href=\"#DejaVuSans-30\"/>\r\n       <use x=\"127.246094\" xlink:href=\"#DejaVuSans-32\"/>\r\n       <use x=\"190.869141\" xlink:href=\"#DejaVuSans-30\"/>\r\n       <use x=\"254.492188\" xlink:href=\"#DejaVuSans-2d\"/>\r\n       <use x=\"290.576172\" xlink:href=\"#DejaVuSans-30\"/>\r\n       <use x=\"354.199219\" xlink:href=\"#DejaVuSans-37\"/>\r\n      </g>\r\n     </g>\r\n    </g>\r\n    <g id=\"xtick_20\">\r\n     <g id=\"line2d_20\">\r\n      <g>\r\n       <use style=\"stroke:#000000;stroke-width:0.8;\" x=\"791.591667\" xlink:href=\"#mcf732ff0a1\" y=\"279\"/>\r\n      </g>\r\n     </g>\r\n     <g id=\"text_20\">\r\n      <!-- 2020-08 -->\r\n      <g transform=\"translate(770.70026 293.598437)scale(0.1 -0.1)\">\r\n       <use xlink:href=\"#DejaVuSans-32\"/>\r\n       <use x=\"63.623047\" xlink:href=\"#DejaVuSans-30\"/>\r\n       <use x=\"127.246094\" xlink:href=\"#DejaVuSans-32\"/>\r\n       <use x=\"190.869141\" xlink:href=\"#DejaVuSans-30\"/>\r\n       <use x=\"254.492188\" xlink:href=\"#DejaVuSans-2d\"/>\r\n       <use x=\"290.576172\" xlink:href=\"#DejaVuSans-30\"/>\r\n       <use x=\"354.199219\" xlink:href=\"#DejaVuSans-38\"/>\r\n      </g>\r\n     </g>\r\n    </g>\r\n    <g id=\"xtick_21\">\r\n     <g id=\"line2d_21\">\r\n      <g>\r\n       <use style=\"stroke:#000000;stroke-width:0.8;\" x=\"829.167424\" xlink:href=\"#mcf732ff0a1\" y=\"279\"/>\r\n      </g>\r\n     </g>\r\n     <g id=\"text_21\">\r\n      <!-- 2020-09 -->\r\n      <g transform=\"translate(808.276018 293.598437)scale(0.1 -0.1)\">\r\n       <use xlink:href=\"#DejaVuSans-32\"/>\r\n       <use x=\"63.623047\" xlink:href=\"#DejaVuSans-30\"/>\r\n       <use x=\"127.246094\" xlink:href=\"#DejaVuSans-32\"/>\r\n       <use x=\"190.869141\" xlink:href=\"#DejaVuSans-30\"/>\r\n       <use x=\"254.492188\" xlink:href=\"#DejaVuSans-2d\"/>\r\n       <use x=\"290.576172\" xlink:href=\"#DejaVuSans-30\"/>\r\n       <use x=\"354.199219\" xlink:href=\"#DejaVuSans-39\"/>\r\n      </g>\r\n     </g>\r\n    </g>\r\n    <g id=\"xtick_22\">\r\n     <g id=\"line2d_22\">\r\n      <g>\r\n       <use style=\"stroke:#000000;stroke-width:0.8;\" x=\"866.743182\" xlink:href=\"#mcf732ff0a1\" y=\"279\"/>\r\n      </g>\r\n     </g>\r\n     <g id=\"text_22\">\r\n      <!-- 2020-10 -->\r\n      <g transform=\"translate(845.851776 293.598437)scale(0.1 -0.1)\">\r\n       <use xlink:href=\"#DejaVuSans-32\"/>\r\n       <use x=\"63.623047\" xlink:href=\"#DejaVuSans-30\"/>\r\n       <use x=\"127.246094\" xlink:href=\"#DejaVuSans-32\"/>\r\n       <use x=\"190.869141\" xlink:href=\"#DejaVuSans-30\"/>\r\n       <use x=\"254.492188\" xlink:href=\"#DejaVuSans-2d\"/>\r\n       <use x=\"290.576172\" xlink:href=\"#DejaVuSans-31\"/>\r\n       <use x=\"354.199219\" xlink:href=\"#DejaVuSans-30\"/>\r\n      </g>\r\n     </g>\r\n    </g>\r\n    <g id=\"xtick_23\">\r\n     <g id=\"line2d_23\">\r\n      <g>\r\n       <use style=\"stroke:#000000;stroke-width:0.8;\" x=\"904.318939\" xlink:href=\"#mcf732ff0a1\" y=\"279\"/>\r\n      </g>\r\n     </g>\r\n     <g id=\"text_23\">\r\n      <!-- 2020-11 -->\r\n      <g transform=\"translate(883.427533 293.598437)scale(0.1 -0.1)\">\r\n       <use xlink:href=\"#DejaVuSans-32\"/>\r\n       <use x=\"63.623047\" xlink:href=\"#DejaVuSans-30\"/>\r\n       <use x=\"127.246094\" xlink:href=\"#DejaVuSans-32\"/>\r\n       <use x=\"190.869141\" xlink:href=\"#DejaVuSans-30\"/>\r\n       <use x=\"254.492188\" xlink:href=\"#DejaVuSans-2d\"/>\r\n       <use x=\"290.576172\" xlink:href=\"#DejaVuSans-31\"/>\r\n       <use x=\"354.199219\" xlink:href=\"#DejaVuSans-31\"/>\r\n      </g>\r\n     </g>\r\n    </g>\r\n    <g id=\"xtick_24\">\r\n     <g id=\"line2d_24\">\r\n      <g>\r\n       <use style=\"stroke:#000000;stroke-width:0.8;\" x=\"941.894697\" xlink:href=\"#mcf732ff0a1\" y=\"279\"/>\r\n      </g>\r\n     </g>\r\n     <g id=\"text_24\">\r\n      <!-- 2020-12 -->\r\n      <g transform=\"translate(921.003291 293.598437)scale(0.1 -0.1)\">\r\n       <use xlink:href=\"#DejaVuSans-32\"/>\r\n       <use x=\"63.623047\" xlink:href=\"#DejaVuSans-30\"/>\r\n       <use x=\"127.246094\" xlink:href=\"#DejaVuSans-32\"/>\r\n       <use x=\"190.869141\" xlink:href=\"#DejaVuSans-30\"/>\r\n       <use x=\"254.492188\" xlink:href=\"#DejaVuSans-2d\"/>\r\n       <use x=\"290.576172\" xlink:href=\"#DejaVuSans-31\"/>\r\n       <use x=\"354.199219\" xlink:href=\"#DejaVuSans-32\"/>\r\n      </g>\r\n     </g>\r\n    </g>\r\n    <g id=\"xtick_25\">\r\n     <g id=\"line2d_25\">\r\n      <g>\r\n       <use style=\"stroke:#000000;stroke-width:0.8;\" x=\"979.470455\" xlink:href=\"#mcf732ff0a1\" y=\"279\"/>\r\n      </g>\r\n     </g>\r\n     <g id=\"text_25\">\r\n      <!-- 2021-01 -->\r\n      <g transform=\"translate(958.579048 293.598437)scale(0.1 -0.1)\">\r\n       <use xlink:href=\"#DejaVuSans-32\"/>\r\n       <use x=\"63.623047\" xlink:href=\"#DejaVuSans-30\"/>\r\n       <use x=\"127.246094\" xlink:href=\"#DejaVuSans-32\"/>\r\n       <use x=\"190.869141\" xlink:href=\"#DejaVuSans-31\"/>\r\n       <use x=\"254.492188\" xlink:href=\"#DejaVuSans-2d\"/>\r\n       <use x=\"290.576172\" xlink:href=\"#DejaVuSans-30\"/>\r\n       <use x=\"354.199219\" xlink:href=\"#DejaVuSans-31\"/>\r\n      </g>\r\n     </g>\r\n    </g>\r\n    <g id=\"xtick_26\">\r\n     <g id=\"line2d_26\">\r\n      <g>\r\n       <use style=\"stroke:#000000;stroke-width:0.8;\" x=\"1017.046212\" xlink:href=\"#mcf732ff0a1\" y=\"279\"/>\r\n      </g>\r\n     </g>\r\n     <g id=\"text_26\">\r\n      <!-- 2021-02 -->\r\n      <g transform=\"translate(996.154806 293.598437)scale(0.1 -0.1)\">\r\n       <use xlink:href=\"#DejaVuSans-32\"/>\r\n       <use x=\"63.623047\" xlink:href=\"#DejaVuSans-30\"/>\r\n       <use x=\"127.246094\" xlink:href=\"#DejaVuSans-32\"/>\r\n       <use x=\"190.869141\" xlink:href=\"#DejaVuSans-31\"/>\r\n       <use x=\"254.492188\" xlink:href=\"#DejaVuSans-2d\"/>\r\n       <use x=\"290.576172\" xlink:href=\"#DejaVuSans-30\"/>\r\n       <use x=\"354.199219\" xlink:href=\"#DejaVuSans-32\"/>\r\n      </g>\r\n     </g>\r\n    </g>\r\n    <g id=\"xtick_27\">\r\n     <g id=\"line2d_27\">\r\n      <g>\r\n       <use style=\"stroke:#000000;stroke-width:0.8;\" x=\"1054.62197\" xlink:href=\"#mcf732ff0a1\" y=\"279\"/>\r\n      </g>\r\n     </g>\r\n     <g id=\"text_27\">\r\n      <!-- 2021-03 -->\r\n      <g transform=\"translate(1033.730563 293.598437)scale(0.1 -0.1)\">\r\n       <use xlink:href=\"#DejaVuSans-32\"/>\r\n       <use x=\"63.623047\" xlink:href=\"#DejaVuSans-30\"/>\r\n       <use x=\"127.246094\" xlink:href=\"#DejaVuSans-32\"/>\r\n       <use x=\"190.869141\" xlink:href=\"#DejaVuSans-31\"/>\r\n       <use x=\"254.492188\" xlink:href=\"#DejaVuSans-2d\"/>\r\n       <use x=\"290.576172\" xlink:href=\"#DejaVuSans-30\"/>\r\n       <use x=\"354.199219\" xlink:href=\"#DejaVuSans-33\"/>\r\n      </g>\r\n     </g>\r\n    </g>\r\n    <g id=\"xtick_28\">\r\n     <g id=\"line2d_28\">\r\n      <g>\r\n       <use style=\"stroke:#000000;stroke-width:0.8;\" x=\"1092.197727\" xlink:href=\"#mcf732ff0a1\" y=\"279\"/>\r\n      </g>\r\n     </g>\r\n     <g id=\"text_28\">\r\n      <!-- 2021-04 -->\r\n      <g transform=\"translate(1071.306321 293.598437)scale(0.1 -0.1)\">\r\n       <use xlink:href=\"#DejaVuSans-32\"/>\r\n       <use x=\"63.623047\" xlink:href=\"#DejaVuSans-30\"/>\r\n       <use x=\"127.246094\" xlink:href=\"#DejaVuSans-32\"/>\r\n       <use x=\"190.869141\" xlink:href=\"#DejaVuSans-31\"/>\r\n       <use x=\"254.492188\" xlink:href=\"#DejaVuSans-2d\"/>\r\n       <use x=\"290.576172\" xlink:href=\"#DejaVuSans-30\"/>\r\n       <use x=\"354.199219\" xlink:href=\"#DejaVuSans-34\"/>\r\n      </g>\r\n     </g>\r\n    </g>\r\n   </g>\r\n   <g id=\"matplotlib.axis_2\">\r\n    <g id=\"ytick_1\">\r\n     <g id=\"line2d_29\">\r\n      <defs>\r\n       <path d=\"M 0 0 \r\nL -3.5 0 \r\n\" id=\"mce9e78da01\" style=\"stroke:#000000;stroke-width:0.8;\"/>\r\n      </defs>\r\n      <g>\r\n       <use style=\"stroke:#000000;stroke-width:0.8;\" x=\"26.925\" xlink:href=\"#mce9e78da01\" y=\"266.645455\"/>\r\n      </g>\r\n     </g>\r\n     <g id=\"text_29\">\r\n      <!-- 0 -->\r\n      <g transform=\"translate(13.5625 270.444673)scale(0.1 -0.1)\">\r\n       <use xlink:href=\"#DejaVuSans-30\"/>\r\n      </g>\r\n     </g>\r\n    </g>\r\n    <g id=\"ytick_2\">\r\n     <g id=\"line2d_30\">\r\n      <g>\r\n       <use style=\"stroke:#000000;stroke-width:0.8;\" x=\"26.925\" xlink:href=\"#mce9e78da01\" y=\"217.227273\"/>\r\n      </g>\r\n     </g>\r\n     <g id=\"text_30\">\r\n      <!-- 2 -->\r\n      <g transform=\"translate(13.5625 221.026491)scale(0.1 -0.1)\">\r\n       <use xlink:href=\"#DejaVuSans-32\"/>\r\n      </g>\r\n     </g>\r\n    </g>\r\n    <g id=\"ytick_3\">\r\n     <g id=\"line2d_31\">\r\n      <g>\r\n       <use style=\"stroke:#000000;stroke-width:0.8;\" x=\"26.925\" xlink:href=\"#mce9e78da01\" y=\"167.809091\"/>\r\n      </g>\r\n     </g>\r\n     <g id=\"text_31\">\r\n      <!-- 4 -->\r\n      <g transform=\"translate(13.5625 171.60831)scale(0.1 -0.1)\">\r\n       <use xlink:href=\"#DejaVuSans-34\"/>\r\n      </g>\r\n     </g>\r\n    </g>\r\n    <g id=\"ytick_4\">\r\n     <g id=\"line2d_32\">\r\n      <g>\r\n       <use style=\"stroke:#000000;stroke-width:0.8;\" x=\"26.925\" xlink:href=\"#mce9e78da01\" y=\"118.390909\"/>\r\n      </g>\r\n     </g>\r\n     <g id=\"text_32\">\r\n      <!-- 6 -->\r\n      <g transform=\"translate(13.5625 122.190128)scale(0.1 -0.1)\">\r\n       <use xlink:href=\"#DejaVuSans-36\"/>\r\n      </g>\r\n     </g>\r\n    </g>\r\n    <g id=\"ytick_5\">\r\n     <g id=\"line2d_33\">\r\n      <g>\r\n       <use style=\"stroke:#000000;stroke-width:0.8;\" x=\"26.925\" xlink:href=\"#mce9e78da01\" y=\"68.972727\"/>\r\n      </g>\r\n     </g>\r\n     <g id=\"text_33\">\r\n      <!-- 8 -->\r\n      <g transform=\"translate(13.5625 72.771946)scale(0.1 -0.1)\">\r\n       <use xlink:href=\"#DejaVuSans-38\"/>\r\n      </g>\r\n     </g>\r\n    </g>\r\n    <g id=\"ytick_6\">\r\n     <g id=\"line2d_34\">\r\n      <g>\r\n       <use style=\"stroke:#000000;stroke-width:0.8;\" x=\"26.925\" xlink:href=\"#mce9e78da01\" y=\"19.554545\"/>\r\n      </g>\r\n     </g>\r\n     <g id=\"text_34\">\r\n      <!-- 10 -->\r\n      <g transform=\"translate(7.2 23.353764)scale(0.1 -0.1)\">\r\n       <use xlink:href=\"#DejaVuSans-31\"/>\r\n       <use x=\"63.623047\" xlink:href=\"#DejaVuSans-30\"/>\r\n      </g>\r\n     </g>\r\n    </g>\r\n   </g>\r\n   <g id=\"line2d_35\">\r\n    <path clip-path=\"url(#p73ec22a5c0)\" d=\"M 77.652273 266.645455 \r\nL 115.22803 266.645455 \r\nL 152.803788 217.227273 \r\nL 190.379545 266.645455 \r\nL 227.955303 217.227273 \r\nL 265.531061 217.227273 \r\nL 303.106818 192.518182 \r\nL 340.682576 192.518182 \r\nL 378.258333 192.518182 \r\nL 415.834091 192.518182 \r\nL 453.409848 192.518182 \r\nL 490.985606 192.518182 \r\nL 528.561364 167.809091 \r\nL 566.137121 217.227273 \r\nL 603.712879 266.645455 \r\nL 641.288636 266.645455 \r\nL 678.864394 266.645455 \r\nL 716.440152 217.227273 \r\nL 754.015909 266.645455 \r\nL 791.591667 266.645455 \r\nL 829.167424 266.645455 \r\nL 866.743182 266.645455 \r\nL 904.318939 266.645455 \r\nL 941.894697 266.645455 \r\nL 979.470455 266.645455 \r\nL 1017.046212 266.645455 \r\nL 1054.62197 266.645455 \r\nL 1092.197727 266.645455 \r\n\" style=\"fill:none;stroke:#1f77b4;stroke-linecap:square;stroke-width:1.5;\"/>\r\n    <defs>\r\n     <path d=\"M 0 1.5 \r\nC 0.397805 1.5 0.77937 1.341951 1.06066 1.06066 \r\nC 1.341951 0.77937 1.5 0.397805 1.5 0 \r\nC 1.5 -0.397805 1.341951 -0.77937 1.06066 -1.06066 \r\nC 0.77937 -1.341951 0.397805 -1.5 0 -1.5 \r\nC -0.397805 -1.5 -0.77937 -1.341951 -1.06066 -1.06066 \r\nC -1.341951 -0.77937 -1.5 -0.397805 -1.5 0 \r\nC -1.5 0.397805 -1.341951 0.77937 -1.06066 1.06066 \r\nC -0.77937 1.341951 -0.397805 1.5 0 1.5 \r\nz\r\n\" id=\"m25c82193fd\" style=\"stroke:#1f77b4;\"/>\r\n    </defs>\r\n    <g clip-path=\"url(#p73ec22a5c0)\">\r\n     <use style=\"fill:#1f77b4;stroke:#1f77b4;\" x=\"77.652273\" xlink:href=\"#m25c82193fd\" y=\"266.645455\"/>\r\n     <use style=\"fill:#1f77b4;stroke:#1f77b4;\" x=\"115.22803\" xlink:href=\"#m25c82193fd\" y=\"266.645455\"/>\r\n     <use style=\"fill:#1f77b4;stroke:#1f77b4;\" x=\"152.803788\" xlink:href=\"#m25c82193fd\" y=\"217.227273\"/>\r\n     <use style=\"fill:#1f77b4;stroke:#1f77b4;\" x=\"190.379545\" xlink:href=\"#m25c82193fd\" y=\"266.645455\"/>\r\n     <use style=\"fill:#1f77b4;stroke:#1f77b4;\" x=\"227.955303\" xlink:href=\"#m25c82193fd\" y=\"217.227273\"/>\r\n     <use style=\"fill:#1f77b4;stroke:#1f77b4;\" x=\"265.531061\" xlink:href=\"#m25c82193fd\" y=\"217.227273\"/>\r\n     <use style=\"fill:#1f77b4;stroke:#1f77b4;\" x=\"303.106818\" xlink:href=\"#m25c82193fd\" y=\"192.518182\"/>\r\n     <use style=\"fill:#1f77b4;stroke:#1f77b4;\" x=\"340.682576\" xlink:href=\"#m25c82193fd\" y=\"192.518182\"/>\r\n     <use style=\"fill:#1f77b4;stroke:#1f77b4;\" x=\"378.258333\" xlink:href=\"#m25c82193fd\" y=\"192.518182\"/>\r\n     <use style=\"fill:#1f77b4;stroke:#1f77b4;\" x=\"415.834091\" xlink:href=\"#m25c82193fd\" y=\"192.518182\"/>\r\n     <use style=\"fill:#1f77b4;stroke:#1f77b4;\" x=\"453.409848\" xlink:href=\"#m25c82193fd\" y=\"192.518182\"/>\r\n     <use style=\"fill:#1f77b4;stroke:#1f77b4;\" x=\"490.985606\" xlink:href=\"#m25c82193fd\" y=\"192.518182\"/>\r\n     <use style=\"fill:#1f77b4;stroke:#1f77b4;\" x=\"528.561364\" xlink:href=\"#m25c82193fd\" y=\"167.809091\"/>\r\n     <use style=\"fill:#1f77b4;stroke:#1f77b4;\" x=\"566.137121\" xlink:href=\"#m25c82193fd\" y=\"217.227273\"/>\r\n     <use style=\"fill:#1f77b4;stroke:#1f77b4;\" x=\"603.712879\" xlink:href=\"#m25c82193fd\" y=\"266.645455\"/>\r\n     <use style=\"fill:#1f77b4;stroke:#1f77b4;\" x=\"641.288636\" xlink:href=\"#m25c82193fd\" y=\"266.645455\"/>\r\n     <use style=\"fill:#1f77b4;stroke:#1f77b4;\" x=\"678.864394\" xlink:href=\"#m25c82193fd\" y=\"266.645455\"/>\r\n     <use style=\"fill:#1f77b4;stroke:#1f77b4;\" x=\"716.440152\" xlink:href=\"#m25c82193fd\" y=\"217.227273\"/>\r\n     <use style=\"fill:#1f77b4;stroke:#1f77b4;\" x=\"754.015909\" xlink:href=\"#m25c82193fd\" y=\"266.645455\"/>\r\n     <use style=\"fill:#1f77b4;stroke:#1f77b4;\" x=\"791.591667\" xlink:href=\"#m25c82193fd\" y=\"266.645455\"/>\r\n     <use style=\"fill:#1f77b4;stroke:#1f77b4;\" x=\"829.167424\" xlink:href=\"#m25c82193fd\" y=\"266.645455\"/>\r\n     <use style=\"fill:#1f77b4;stroke:#1f77b4;\" x=\"866.743182\" xlink:href=\"#m25c82193fd\" y=\"266.645455\"/>\r\n     <use style=\"fill:#1f77b4;stroke:#1f77b4;\" x=\"904.318939\" xlink:href=\"#m25c82193fd\" y=\"266.645455\"/>\r\n     <use style=\"fill:#1f77b4;stroke:#1f77b4;\" x=\"941.894697\" xlink:href=\"#m25c82193fd\" y=\"266.645455\"/>\r\n     <use style=\"fill:#1f77b4;stroke:#1f77b4;\" x=\"979.470455\" xlink:href=\"#m25c82193fd\" y=\"266.645455\"/>\r\n     <use style=\"fill:#1f77b4;stroke:#1f77b4;\" x=\"1017.046212\" xlink:href=\"#m25c82193fd\" y=\"266.645455\"/>\r\n     <use style=\"fill:#1f77b4;stroke:#1f77b4;\" x=\"1054.62197\" xlink:href=\"#m25c82193fd\" y=\"266.645455\"/>\r\n     <use style=\"fill:#1f77b4;stroke:#1f77b4;\" x=\"1092.197727\" xlink:href=\"#m25c82193fd\" y=\"266.645455\"/>\r\n    </g>\r\n   </g>\r\n   <g id=\"line2d_36\">\r\n    <path clip-path=\"url(#p73ec22a5c0)\" d=\"M 77.652273 266.645455 \r\nL 115.22803 266.645455 \r\nL 152.803788 192.518182 \r\nL 190.379545 266.645455 \r\nL 227.955303 192.518182 \r\nL 265.531061 192.518182 \r\nL 303.106818 93.681818 \r\nL 340.682576 19.554545 \r\nL 378.258333 118.390909 \r\nL 415.834091 241.936364 \r\nL 453.409848 217.227273 \r\nL 490.985606 192.518182 \r\nL 528.561364 118.390909 \r\nL 566.137121 241.936364 \r\nL 603.712879 266.645455 \r\nL 641.288636 266.645455 \r\nL 678.864394 266.645455 \r\nL 716.440152 241.936364 \r\nL 754.015909 266.645455 \r\nL 791.591667 266.645455 \r\nL 829.167424 266.645455 \r\nL 866.743182 266.645455 \r\nL 904.318939 266.645455 \r\nL 941.894697 266.645455 \r\nL 979.470455 266.645455 \r\nL 1017.046212 266.645455 \r\nL 1054.62197 266.645455 \r\nL 1092.197727 266.645455 \r\n\" style=\"fill:none;stroke:#ff7f0e;stroke-linecap:square;stroke-width:1.5;\"/>\r\n    <defs>\r\n     <path d=\"M 0 1.5 \r\nC 0.397805 1.5 0.77937 1.341951 1.06066 1.06066 \r\nC 1.341951 0.77937 1.5 0.397805 1.5 0 \r\nC 1.5 -0.397805 1.341951 -0.77937 1.06066 -1.06066 \r\nC 0.77937 -1.341951 0.397805 -1.5 0 -1.5 \r\nC -0.397805 -1.5 -0.77937 -1.341951 -1.06066 -1.06066 \r\nC -1.341951 -0.77937 -1.5 -0.397805 -1.5 0 \r\nC -1.5 0.397805 -1.341951 0.77937 -1.06066 1.06066 \r\nC -0.77937 1.341951 -0.397805 1.5 0 1.5 \r\nz\r\n\" id=\"m9ca0dadd6b\" style=\"stroke:#ff7f0e;\"/>\r\n    </defs>\r\n    <g clip-path=\"url(#p73ec22a5c0)\">\r\n     <use style=\"fill:#ff7f0e;stroke:#ff7f0e;\" x=\"77.652273\" xlink:href=\"#m9ca0dadd6b\" y=\"266.645455\"/>\r\n     <use style=\"fill:#ff7f0e;stroke:#ff7f0e;\" x=\"115.22803\" xlink:href=\"#m9ca0dadd6b\" y=\"266.645455\"/>\r\n     <use style=\"fill:#ff7f0e;stroke:#ff7f0e;\" x=\"152.803788\" xlink:href=\"#m9ca0dadd6b\" y=\"192.518182\"/>\r\n     <use style=\"fill:#ff7f0e;stroke:#ff7f0e;\" x=\"190.379545\" xlink:href=\"#m9ca0dadd6b\" y=\"266.645455\"/>\r\n     <use style=\"fill:#ff7f0e;stroke:#ff7f0e;\" x=\"227.955303\" xlink:href=\"#m9ca0dadd6b\" y=\"192.518182\"/>\r\n     <use style=\"fill:#ff7f0e;stroke:#ff7f0e;\" x=\"265.531061\" xlink:href=\"#m9ca0dadd6b\" y=\"192.518182\"/>\r\n     <use style=\"fill:#ff7f0e;stroke:#ff7f0e;\" x=\"303.106818\" xlink:href=\"#m9ca0dadd6b\" y=\"93.681818\"/>\r\n     <use style=\"fill:#ff7f0e;stroke:#ff7f0e;\" x=\"340.682576\" xlink:href=\"#m9ca0dadd6b\" y=\"19.554545\"/>\r\n     <use style=\"fill:#ff7f0e;stroke:#ff7f0e;\" x=\"378.258333\" xlink:href=\"#m9ca0dadd6b\" y=\"118.390909\"/>\r\n     <use style=\"fill:#ff7f0e;stroke:#ff7f0e;\" x=\"415.834091\" xlink:href=\"#m9ca0dadd6b\" y=\"241.936364\"/>\r\n     <use style=\"fill:#ff7f0e;stroke:#ff7f0e;\" x=\"453.409848\" xlink:href=\"#m9ca0dadd6b\" y=\"217.227273\"/>\r\n     <use style=\"fill:#ff7f0e;stroke:#ff7f0e;\" x=\"490.985606\" xlink:href=\"#m9ca0dadd6b\" y=\"192.518182\"/>\r\n     <use style=\"fill:#ff7f0e;stroke:#ff7f0e;\" x=\"528.561364\" xlink:href=\"#m9ca0dadd6b\" y=\"118.390909\"/>\r\n     <use style=\"fill:#ff7f0e;stroke:#ff7f0e;\" x=\"566.137121\" xlink:href=\"#m9ca0dadd6b\" y=\"241.936364\"/>\r\n     <use style=\"fill:#ff7f0e;stroke:#ff7f0e;\" x=\"603.712879\" xlink:href=\"#m9ca0dadd6b\" y=\"266.645455\"/>\r\n     <use style=\"fill:#ff7f0e;stroke:#ff7f0e;\" x=\"641.288636\" xlink:href=\"#m9ca0dadd6b\" y=\"266.645455\"/>\r\n     <use style=\"fill:#ff7f0e;stroke:#ff7f0e;\" x=\"678.864394\" xlink:href=\"#m9ca0dadd6b\" y=\"266.645455\"/>\r\n     <use style=\"fill:#ff7f0e;stroke:#ff7f0e;\" x=\"716.440152\" xlink:href=\"#m9ca0dadd6b\" y=\"241.936364\"/>\r\n     <use style=\"fill:#ff7f0e;stroke:#ff7f0e;\" x=\"754.015909\" xlink:href=\"#m9ca0dadd6b\" y=\"266.645455\"/>\r\n     <use style=\"fill:#ff7f0e;stroke:#ff7f0e;\" x=\"791.591667\" xlink:href=\"#m9ca0dadd6b\" y=\"266.645455\"/>\r\n     <use style=\"fill:#ff7f0e;stroke:#ff7f0e;\" x=\"829.167424\" xlink:href=\"#m9ca0dadd6b\" y=\"266.645455\"/>\r\n     <use style=\"fill:#ff7f0e;stroke:#ff7f0e;\" x=\"866.743182\" xlink:href=\"#m9ca0dadd6b\" y=\"266.645455\"/>\r\n     <use style=\"fill:#ff7f0e;stroke:#ff7f0e;\" x=\"904.318939\" xlink:href=\"#m9ca0dadd6b\" y=\"266.645455\"/>\r\n     <use style=\"fill:#ff7f0e;stroke:#ff7f0e;\" x=\"941.894697\" xlink:href=\"#m9ca0dadd6b\" y=\"266.645455\"/>\r\n     <use style=\"fill:#ff7f0e;stroke:#ff7f0e;\" x=\"979.470455\" xlink:href=\"#m9ca0dadd6b\" y=\"266.645455\"/>\r\n     <use style=\"fill:#ff7f0e;stroke:#ff7f0e;\" x=\"1017.046212\" xlink:href=\"#m9ca0dadd6b\" y=\"266.645455\"/>\r\n     <use style=\"fill:#ff7f0e;stroke:#ff7f0e;\" x=\"1054.62197\" xlink:href=\"#m9ca0dadd6b\" y=\"266.645455\"/>\r\n     <use style=\"fill:#ff7f0e;stroke:#ff7f0e;\" x=\"1092.197727\" xlink:href=\"#m9ca0dadd6b\" y=\"266.645455\"/>\r\n    </g>\r\n   </g>\r\n   <g id=\"patch_3\">\r\n    <path d=\"M 26.925 279 \r\nL 26.925 7.2 \r\n\" style=\"fill:none;stroke:#000000;stroke-linecap:square;stroke-linejoin:miter;stroke-width:0.8;\"/>\r\n   </g>\r\n   <g id=\"patch_4\">\r\n    <path d=\"M 1142.925 279 \r\nL 1142.925 7.2 \r\n\" style=\"fill:none;stroke:#000000;stroke-linecap:square;stroke-linejoin:miter;stroke-width:0.8;\"/>\r\n   </g>\r\n   <g id=\"patch_5\">\r\n    <path d=\"M 26.925 279 \r\nL 1142.925 279 \r\n\" style=\"fill:none;stroke:#000000;stroke-linecap:square;stroke-linejoin:miter;stroke-width:0.8;\"/>\r\n   </g>\r\n   <g id=\"patch_6\">\r\n    <path d=\"M 26.925 7.2 \r\nL 1142.925 7.2 \r\n\" style=\"fill:none;stroke:#000000;stroke-linecap:square;stroke-linejoin:miter;stroke-width:0.8;\"/>\r\n   </g>\r\n   <g id=\"legend_1\">\r\n    <g id=\"patch_7\">\r\n     <path d=\"M 1060.45625 44.55625 \r\nL 1135.925 44.55625 \r\nQ 1137.925 44.55625 1137.925 42.55625 \r\nL 1137.925 14.2 \r\nQ 1137.925 12.2 1135.925 12.2 \r\nL 1060.45625 12.2 \r\nQ 1058.45625 12.2 1058.45625 14.2 \r\nL 1058.45625 42.55625 \r\nQ 1058.45625 44.55625 1060.45625 44.55625 \r\nz\r\n\" style=\"fill:#ffffff;opacity:0.8;stroke:#cccccc;stroke-linejoin:miter;\"/>\r\n    </g>\r\n    <g id=\"line2d_37\">\r\n     <path d=\"M 1062.45625 20.298437 \r\nL 1082.45625 20.298437 \r\n\" style=\"fill:none;stroke:#1f77b4;stroke-linecap:square;stroke-width:1.5;\"/>\r\n    </g>\r\n    <g id=\"line2d_38\">\r\n     <g>\r\n      <use style=\"fill:#1f77b4;stroke:#1f77b4;\" x=\"1072.45625\" xlink:href=\"#m25c82193fd\" y=\"20.298437\"/>\r\n     </g>\r\n    </g>\r\n    <g id=\"text_35\">\r\n     <!-- predicho -->\r\n     <g transform=\"translate(1090.45625 23.798437)scale(0.1 -0.1)\">\r\n      <defs>\r\n       <path d=\"M 1159 525 \r\nL 1159 -1331 \r\nL 581 -1331 \r\nL 581 3500 \r\nL 1159 3500 \r\nL 1159 2969 \r\nQ 1341 3281 1617 3432 \r\nQ 1894 3584 2278 3584 \r\nQ 2916 3584 3314 3078 \r\nQ 3713 2572 3713 1747 \r\nQ 3713 922 3314 415 \r\nQ 2916 -91 2278 -91 \r\nQ 1894 -91 1617 61 \r\nQ 1341 213 1159 525 \r\nz\r\nM 3116 1747 \r\nQ 3116 2381 2855 2742 \r\nQ 2594 3103 2138 3103 \r\nQ 1681 3103 1420 2742 \r\nQ 1159 2381 1159 1747 \r\nQ 1159 1113 1420 752 \r\nQ 1681 391 2138 391 \r\nQ 2594 391 2855 752 \r\nQ 3116 1113 3116 1747 \r\nz\r\n\" id=\"DejaVuSans-70\" transform=\"scale(0.015625)\"/>\r\n       <path d=\"M 2631 2963 \r\nQ 2534 3019 2420 3045 \r\nQ 2306 3072 2169 3072 \r\nQ 1681 3072 1420 2755 \r\nQ 1159 2438 1159 1844 \r\nL 1159 0 \r\nL 581 0 \r\nL 581 3500 \r\nL 1159 3500 \r\nL 1159 2956 \r\nQ 1341 3275 1631 3429 \r\nQ 1922 3584 2338 3584 \r\nQ 2397 3584 2469 3576 \r\nQ 2541 3569 2628 3553 \r\nL 2631 2963 \r\nz\r\n\" id=\"DejaVuSans-72\" transform=\"scale(0.015625)\"/>\r\n       <path d=\"M 3597 1894 \r\nL 3597 1613 \r\nL 953 1613 \r\nQ 991 1019 1311 708 \r\nQ 1631 397 2203 397 \r\nQ 2534 397 2845 478 \r\nQ 3156 559 3463 722 \r\nL 3463 178 \r\nQ 3153 47 2828 -22 \r\nQ 2503 -91 2169 -91 \r\nQ 1331 -91 842 396 \r\nQ 353 884 353 1716 \r\nQ 353 2575 817 3079 \r\nQ 1281 3584 2069 3584 \r\nQ 2775 3584 3186 3129 \r\nQ 3597 2675 3597 1894 \r\nz\r\nM 3022 2063 \r\nQ 3016 2534 2758 2815 \r\nQ 2500 3097 2075 3097 \r\nQ 1594 3097 1305 2825 \r\nQ 1016 2553 972 2059 \r\nL 3022 2063 \r\nz\r\n\" id=\"DejaVuSans-65\" transform=\"scale(0.015625)\"/>\r\n       <path d=\"M 2906 2969 \r\nL 2906 4863 \r\nL 3481 4863 \r\nL 3481 0 \r\nL 2906 0 \r\nL 2906 525 \r\nQ 2725 213 2448 61 \r\nQ 2172 -91 1784 -91 \r\nQ 1150 -91 751 415 \r\nQ 353 922 353 1747 \r\nQ 353 2572 751 3078 \r\nQ 1150 3584 1784 3584 \r\nQ 2172 3584 2448 3432 \r\nQ 2725 3281 2906 2969 \r\nz\r\nM 947 1747 \r\nQ 947 1113 1208 752 \r\nQ 1469 391 1925 391 \r\nQ 2381 391 2643 752 \r\nQ 2906 1113 2906 1747 \r\nQ 2906 2381 2643 2742 \r\nQ 2381 3103 1925 3103 \r\nQ 1469 3103 1208 2742 \r\nQ 947 2381 947 1747 \r\nz\r\n\" id=\"DejaVuSans-64\" transform=\"scale(0.015625)\"/>\r\n       <path d=\"M 603 3500 \r\nL 1178 3500 \r\nL 1178 0 \r\nL 603 0 \r\nL 603 3500 \r\nz\r\nM 603 4863 \r\nL 1178 4863 \r\nL 1178 4134 \r\nL 603 4134 \r\nL 603 4863 \r\nz\r\n\" id=\"DejaVuSans-69\" transform=\"scale(0.015625)\"/>\r\n       <path d=\"M 3122 3366 \r\nL 3122 2828 \r\nQ 2878 2963 2633 3030 \r\nQ 2388 3097 2138 3097 \r\nQ 1578 3097 1268 2742 \r\nQ 959 2388 959 1747 \r\nQ 959 1106 1268 751 \r\nQ 1578 397 2138 397 \r\nQ 2388 397 2633 464 \r\nQ 2878 531 3122 666 \r\nL 3122 134 \r\nQ 2881 22 2623 -34 \r\nQ 2366 -91 2075 -91 \r\nQ 1284 -91 818 406 \r\nQ 353 903 353 1747 \r\nQ 353 2603 823 3093 \r\nQ 1294 3584 2113 3584 \r\nQ 2378 3584 2631 3529 \r\nQ 2884 3475 3122 3366 \r\nz\r\n\" id=\"DejaVuSans-63\" transform=\"scale(0.015625)\"/>\r\n       <path d=\"M 3513 2113 \r\nL 3513 0 \r\nL 2938 0 \r\nL 2938 2094 \r\nQ 2938 2591 2744 2837 \r\nQ 2550 3084 2163 3084 \r\nQ 1697 3084 1428 2787 \r\nQ 1159 2491 1159 1978 \r\nL 1159 0 \r\nL 581 0 \r\nL 581 4863 \r\nL 1159 4863 \r\nL 1159 2956 \r\nQ 1366 3272 1645 3428 \r\nQ 1925 3584 2291 3584 \r\nQ 2894 3584 3203 3211 \r\nQ 3513 2838 3513 2113 \r\nz\r\n\" id=\"DejaVuSans-68\" transform=\"scale(0.015625)\"/>\r\n       <path d=\"M 1959 3097 \r\nQ 1497 3097 1228 2736 \r\nQ 959 2375 959 1747 \r\nQ 959 1119 1226 758 \r\nQ 1494 397 1959 397 \r\nQ 2419 397 2687 759 \r\nQ 2956 1122 2956 1747 \r\nQ 2956 2369 2687 2733 \r\nQ 2419 3097 1959 3097 \r\nz\r\nM 1959 3584 \r\nQ 2709 3584 3137 3096 \r\nQ 3566 2609 3566 1747 \r\nQ 3566 888 3137 398 \r\nQ 2709 -91 1959 -91 \r\nQ 1206 -91 779 398 \r\nQ 353 888 353 1747 \r\nQ 353 2609 779 3096 \r\nQ 1206 3584 1959 3584 \r\nz\r\n\" id=\"DejaVuSans-6f\" transform=\"scale(0.015625)\"/>\r\n      </defs>\r\n      <use xlink:href=\"#DejaVuSans-70\"/>\r\n      <use x=\"63.476562\" xlink:href=\"#DejaVuSans-72\"/>\r\n      <use x=\"102.339844\" xlink:href=\"#DejaVuSans-65\"/>\r\n      <use x=\"163.863281\" xlink:href=\"#DejaVuSans-64\"/>\r\n      <use x=\"227.339844\" xlink:href=\"#DejaVuSans-69\"/>\r\n      <use x=\"255.123047\" xlink:href=\"#DejaVuSans-63\"/>\r\n      <use x=\"310.103516\" xlink:href=\"#DejaVuSans-68\"/>\r\n      <use x=\"373.482422\" xlink:href=\"#DejaVuSans-6f\"/>\r\n     </g>\r\n    </g>\r\n    <g id=\"line2d_39\">\r\n     <path d=\"M 1062.45625 34.976562 \r\nL 1082.45625 34.976562 \r\n\" style=\"fill:none;stroke:#ff7f0e;stroke-linecap:square;stroke-width:1.5;\"/>\r\n    </g>\r\n    <g id=\"line2d_40\">\r\n     <g>\r\n      <use style=\"fill:#ff7f0e;stroke:#ff7f0e;\" x=\"1072.45625\" xlink:href=\"#m9ca0dadd6b\" y=\"34.976562\"/>\r\n     </g>\r\n    </g>\r\n    <g id=\"text_36\">\r\n     <!-- real -->\r\n     <g transform=\"translate(1090.45625 38.476562)scale(0.1 -0.1)\">\r\n      <defs>\r\n       <path d=\"M 2194 1759 \r\nQ 1497 1759 1228 1600 \r\nQ 959 1441 959 1056 \r\nQ 959 750 1161 570 \r\nQ 1363 391 1709 391 \r\nQ 2188 391 2477 730 \r\nQ 2766 1069 2766 1631 \r\nL 2766 1759 \r\nL 2194 1759 \r\nz\r\nM 3341 1997 \r\nL 3341 0 \r\nL 2766 0 \r\nL 2766 531 \r\nQ 2569 213 2275 61 \r\nQ 1981 -91 1556 -91 \r\nQ 1019 -91 701 211 \r\nQ 384 513 384 1019 \r\nQ 384 1609 779 1909 \r\nQ 1175 2209 1959 2209 \r\nL 2766 2209 \r\nL 2766 2266 \r\nQ 2766 2663 2505 2880 \r\nQ 2244 3097 1772 3097 \r\nQ 1472 3097 1187 3025 \r\nQ 903 2953 641 2809 \r\nL 641 3341 \r\nQ 956 3463 1253 3523 \r\nQ 1550 3584 1831 3584 \r\nQ 2591 3584 2966 3190 \r\nQ 3341 2797 3341 1997 \r\nz\r\n\" id=\"DejaVuSans-61\" transform=\"scale(0.015625)\"/>\r\n       <path d=\"M 603 4863 \r\nL 1178 4863 \r\nL 1178 0 \r\nL 603 0 \r\nL 603 4863 \r\nz\r\n\" id=\"DejaVuSans-6c\" transform=\"scale(0.015625)\"/>\r\n      </defs>\r\n      <use xlink:href=\"#DejaVuSans-72\"/>\r\n      <use x=\"38.863281\" xlink:href=\"#DejaVuSans-65\"/>\r\n      <use x=\"100.386719\" xlink:href=\"#DejaVuSans-61\"/>\r\n      <use x=\"161.666016\" xlink:href=\"#DejaVuSans-6c\"/>\r\n     </g>\r\n    </g>\r\n   </g>\r\n  </g>\r\n </g>\r\n <defs>\r\n  <clipPath id=\"p73ec22a5c0\">\r\n   <rect height=\"271.8\" width=\"1116\" x=\"26.925\" y=\"7.2\"/>\r\n  </clipPath>\r\n </defs>\r\n</svg>\r\n",
      "image/png": "[encoded data removed]"
     },
     "metadata": {
      "needs_background": "light"
     }
    }
   ],
   "metadata": {}
  },
  {
   "cell_type": "code",
   "execution_count": 34,
   "source": [
    "mse(res_test['PREDICTED'],res_test['CANTIDAD'])"
   ],
   "outputs": [
    {
     "output_type": "execute_result",
     "data": {
      "text/plain": [
       "2.3106544293695133"
      ]
     },
     "metadata": {},
     "execution_count": 34
    }
   ],
   "metadata": {}
  },
  {
   "cell_type": "code",
   "execution_count": 25,
   "source": [
    "l='-'.join(['d','a'])\r\n",
    "l"
   ],
   "outputs": [
    {
     "output_type": "execute_result",
     "data": {
      "text/plain": [
       "'d-a'"
      ]
     },
     "metadata": {},
     "execution_count": 25
    }
   ],
   "metadata": {}
  },
  {
   "cell_type": "code",
   "execution_count": 35,
   "source": [
    "aux = res.query('REF==\"XA0539:00061:\"')\r\n",
    "fig = go.Figure()\r\n",
    "fig.add_scatter(x=aux['DATE'], y=aux['PREDICTED'], mode='lines+markers', name='Valores predichos')\r\n",
    "fig.add_scatter(x=aux['DATE'], y=aux['CANTIDAD'], mode='lines+markers', name='Valores reales')\r\n",
    "fig.add_vline(x=date_index, line_width=3, line_dash=\"dot\", line_color=\"green\"\r\n",
    "                ,y0=-2,y1=max([aux['PREDICTED'].max(),aux['CANTIDAD'].max()])+1)\r\n",
    "fig.add_annotation(x='-'.join([date_indeaf,'5']), y=max([aux['PREDICTED'].max(),aux['CANTIDAD'].max()]),\r\n",
    "            text=\"Test\",\r\n",
    "            font=dict(\r\n",
    "            family=\"Courier New, monospace\",\r\n",
    "            size=16,\r\n",
    "            color=\"black\"\r\n",
    "            ),\r\n",
    "            showarrow=True,\r\n",
    "            arrowhead=1,\r\n",
    "            ax=35,\r\n",
    "            ay=0,\r\n",
    "            xanchor=\"center\",\r\n",
    "            yanchor=\"middle\",)\r\n",
    "fig.add_annotation(x='-'.join([date_indebef,'25']), y=max([aux['PREDICTED'].max(),aux['CANTIDAD'].max()]),\r\n",
    "            text=\"Train\",\r\n",
    "            font=dict(\r\n",
    "            family=\"Courier New, monospace\",\r\n",
    "            size=16,\r\n",
    "            color=\"black\"\r\n",
    "            ),\r\n",
    "            showarrow=True,\r\n",
    "            arrowhead=1,\r\n",
    "            ax=-40,\r\n",
    "            ay=0,\r\n",
    "            xanchor=\"center\",\r\n",
    "            yanchor=\"middle\",)\r\n",
    "\r\n",
    "fig.add_annotation(x='-'.join([date_indeaf,'31']), y=max([aux['PREDICTED'].max(),aux['CANTIDAD'].max()])/2,\r\n",
    "            text=\"RMSE:<br>{:.2f}\".format(mse(res_test.PREDICTED,res_test.CANTIDAD,squared=False)),\r\n",
    "            font=dict(\r\n",
    "            family=\"Courier New, monospace\",\r\n",
    "            size=16,\r\n",
    "            color=\"black\"\r\n",
    "            ),\r\n",
    "            showarrow=False,\r\n",
    "            ax=35,\r\n",
    "            ay=0,\r\n",
    "            )\r\n",
    "fig.add_annotation(x='-'.join([date_indebef,'1']), y=max([aux['PREDICTED'].max(),aux['CANTIDAD'].max()])/2,\r\n",
    "            text=\"RMSE:<br>{:.2f}\".format(mse(res_train.PREDICTED,res_train.CANTIDAD,squared=False)),\r\n",
    "            font=dict(\r\n",
    "            family=\"Courier New, monospace\",\r\n",
    "            size=16,\r\n",
    "            color=\"black\"\r\n",
    "            ),\r\n",
    "            showarrow=False,\r\n",
    "            arrowhead=1,\r\n",
    "            ax=-40,\r\n",
    "            ay=0,\r\n",
    "            xanchor=\"center\",)\r\n",
    "fig.update_layout(\r\n",
    "    title=\"Ventas por referencia\",\r\n",
    "    yaxis_title=\"Número de ventas\",\r\n",
    "    font=dict(\r\n",
    "        family=\"Courier New, monospace\",\r\n",
    "        size=18,\r\n",
    "        color=\"RebeccaPurple\"\r\n",
    "    ))"
   ],
   "outputs": [
    {
     "output_type": "display_data",
     "data": {
      "application/vnd.plotly.v1+json": {
       "config": {
        "plotlyServerURL": "https://plot.ly"
       },
       "data": [
        {
         "mode": "lines+markers",
         "name": "Valores predichos",
         "type": "scatter",
         "x": [
          "2019-01",
          "2019-02",
          "2019-03",
          "2019-04",
          "2019-05",
          "2019-06",
          "2019-07",
          "2019-08",
          "2019-09",
          "2019-10",
          "2019-11",
          "2019-12",
          "2020-01",
          "2020-02",
          "2020-03",
          "2020-04",
          "2020-05",
          "2020-06",
          "2020-07",
          "2020-08",
          "2020-09",
          "2020-10",
          "2020-11",
          "2020-12",
          "2021-01",
          "2021-02",
          "2021-03",
          "2021-04"
         ],
         "y": [
          9,
          6,
          10,
          5,
          6,
          4,
          16,
          11,
          9,
          11,
          7,
          7,
          12,
          4,
          0,
          0,
          1,
          6,
          0,
          0,
          2,
          2,
          0,
          0,
          0,
          0,
          0,
          0
         ]
        },
        {
         "mode": "lines+markers",
         "name": "Valores reales",
         "type": "scatter",
         "x": [
          "2019-01",
          "2019-02",
          "2019-03",
          "2019-04",
          "2019-05",
          "2019-06",
          "2019-07",
          "2019-08",
          "2019-09",
          "2019-10",
          "2019-11",
          "2019-12",
          "2020-01",
          "2020-02",
          "2020-03",
          "2020-04",
          "2020-05",
          "2020-06",
          "2020-07",
          "2020-08",
          "2020-09",
          "2020-10",
          "2020-11",
          "2020-12",
          "2021-01",
          "2021-02",
          "2021-03",
          "2021-04"
         ],
         "y": [
          6,
          3,
          9,
          6,
          5,
          4,
          22,
          15,
          10,
          7,
          4,
          6,
          11,
          2,
          0,
          0,
          1,
          6,
          0,
          0,
          1,
          1,
          0,
          0,
          0,
          0,
          0,
          0
         ]
        }
       ],
       "layout": {
        "annotations": [
         {
          "arrowhead": 1,
          "ax": 35,
          "ay": 0,
          "font": {
           "color": "black",
           "family": "Courier New, monospace",
           "size": 16
          },
          "showarrow": true,
          "text": "Test",
          "x": "2021-01-5",
          "xanchor": "center",
          "y": 22,
          "yanchor": "middle"
         },
         {
          "arrowhead": 1,
          "ax": -40,
          "ay": 0,
          "font": {
           "color": "black",
           "family": "Courier New, monospace",
           "size": 16
          },
          "showarrow": true,
          "text": "Train",
          "x": "2020-12-25",
          "xanchor": "center",
          "y": 22,
          "yanchor": "middle"
         },
         {
          "ax": 35,
          "ay": 0,
          "font": {
           "color": "black",
           "family": "Courier New, monospace",
           "size": 16
          },
          "showarrow": false,
          "text": "RMSE:<br>1.52",
          "x": "2021-01-31",
          "y": 11
         },
         {
          "arrowhead": 1,
          "ax": -40,
          "ay": 0,
          "font": {
           "color": "black",
           "family": "Courier New, monospace",
           "size": 16
          },
          "showarrow": false,
          "text": "RMSE:<br>1.77",
          "x": "2020-12-1",
          "xanchor": "center",
          "y": 11
         }
        ],
        "font": {
         "color": "RebeccaPurple",
         "family": "Courier New, monospace",
         "size": 18
        },
        "shapes": [
         {
          "line": {
           "color": "green",
           "dash": "dot",
           "width": 3
          },
          "type": "line",
          "x0": "2021-01",
          "x1": "2021-01",
          "xref": "x",
          "y0": -2,
          "y1": 23,
          "yref": "y domain"
         }
        ],
        "template": {
         "data": {
          "bar": [
           {
            "error_x": {
             "color": "#2a3f5f"
            },
            "error_y": {
             "color": "#2a3f5f"
            },
            "marker": {
             "line": {
              "color": "#E5ECF6",
              "width": 0.5
             },
             "pattern": {
              "fillmode": "overlay",
              "size": 10,
              "solidity": 0.2
             }
            },
            "type": "bar"
           }
          ],
          "barpolar": [
           {
            "marker": {
             "line": {
              "color": "#E5ECF6",
              "width": 0.5
             },
             "pattern": {
              "fillmode": "overlay",
              "size": 10,
              "solidity": 0.2
             }
            },
            "type": "barpolar"
           }
          ],
          "carpet": [
           {
            "aaxis": {
             "endlinecolor": "#2a3f5f",
             "gridcolor": "white",
             "linecolor": "white",
             "minorgridcolor": "white",
             "startlinecolor": "#2a3f5f"
            },
            "baxis": {
             "endlinecolor": "#2a3f5f",
             "gridcolor": "white",
             "linecolor": "white",
             "minorgridcolor": "white",
             "startlinecolor": "#2a3f5f"
            },
            "type": "carpet"
           }
          ],
          "choropleth": [
           {
            "colorbar": {
             "outlinewidth": 0,
             "ticks": ""
            },
            "type": "choropleth"
           }
          ],
          "contour": [
           {
            "colorbar": {
             "outlinewidth": 0,
             "ticks": ""
            },
            "colorscale": [
             [
              0,
              "#0d0887"
             ],
             [
              0.1111111111111111,
              "#46039f"
             ],
             [
              0.2222222222222222,
              "#7201a8"
             ],
             [
              0.3333333333333333,
              "#9c179e"
             ],
             [
              0.4444444444444444,
              "#bd3786"
             ],
             [
              0.5555555555555556,
              "#d8576b"
             ],
             [
              0.6666666666666666,
              "#ed7953"
             ],
             [
              0.7777777777777778,
              "#fb9f3a"
             ],
             [
              0.8888888888888888,
              "#fdca26"
             ],
             [
              1,
              "#f0f921"
             ]
            ],
            "type": "contour"
           }
          ],
          "contourcarpet": [
           {
            "colorbar": {
             "outlinewidth": 0,
             "ticks": ""
            },
            "type": "contourcarpet"
           }
          ],
          "heatmap": [
           {
            "colorbar": {
             "outlinewidth": 0,
             "ticks": ""
            },
            "colorscale": [
             [
              0,
              "#0d0887"
             ],
             [
              0.1111111111111111,
              "#46039f"
             ],
             [
              0.2222222222222222,
              "#7201a8"
             ],
             [
              0.3333333333333333,
              "#9c179e"
             ],
             [
              0.4444444444444444,
              "#bd3786"
             ],
             [
              0.5555555555555556,
              "#d8576b"
             ],
             [
              0.6666666666666666,
              "#ed7953"
             ],
             [
              0.7777777777777778,
              "#fb9f3a"
             ],
             [
              0.8888888888888888,
              "#fdca26"
             ],
             [
              1,
              "#f0f921"
             ]
            ],
            "type": "heatmap"
           }
          ],
          "heatmapgl": [
           {
            "colorbar": {
             "outlinewidth": 0,
             "ticks": ""
            },
            "colorscale": [
             [
              0,
              "#0d0887"
             ],
             [
              0.1111111111111111,
              "#46039f"
             ],
             [
              0.2222222222222222,
              "#7201a8"
             ],
             [
              0.3333333333333333,
              "#9c179e"
             ],
             [
              0.4444444444444444,
              "#bd3786"
             ],
             [
              0.5555555555555556,
              "#d8576b"
             ],
             [
              0.6666666666666666,
              "#ed7953"
             ],
             [
              0.7777777777777778,
              "#fb9f3a"
             ],
             [
              0.8888888888888888,
              "#fdca26"
             ],
             [
              1,
              "#f0f921"
             ]
            ],
            "type": "heatmapgl"
           }
          ],
          "histogram": [
           {
            "marker": {
             "pattern": {
              "fillmode": "overlay",
              "size": 10,
              "solidity": 0.2
             }
            },
            "type": "histogram"
           }
          ],
          "histogram2d": [
           {
            "colorbar": {
             "outlinewidth": 0,
             "ticks": ""
            },
            "colorscale": [
             [
              0,
              "#0d0887"
             ],
             [
              0.1111111111111111,
              "#46039f"
             ],
             [
              0.2222222222222222,
              "#7201a8"
             ],
             [
              0.3333333333333333,
              "#9c179e"
             ],
             [
              0.4444444444444444,
              "#bd3786"
             ],
             [
              0.5555555555555556,
              "#d8576b"
             ],
             [
              0.6666666666666666,
              "#ed7953"
             ],
             [
              0.7777777777777778,
              "#fb9f3a"
             ],
             [
              0.8888888888888888,
              "#fdca26"
             ],
             [
              1,
              "#f0f921"
             ]
            ],
            "type": "histogram2d"
           }
          ],
          "histogram2dcontour": [
           {
            "colorbar": {
             "outlinewidth": 0,
             "ticks": ""
            },
            "colorscale": [
             [
              0,
              "#0d0887"
             ],
             [
              0.1111111111111111,
              "#46039f"
             ],
             [
              0.2222222222222222,
              "#7201a8"
             ],
             [
              0.3333333333333333,
              "#9c179e"
             ],
             [
              0.4444444444444444,
              "#bd3786"
             ],
             [
              0.5555555555555556,
              "#d8576b"
             ],
             [
              0.6666666666666666,
              "#ed7953"
             ],
             [
              0.7777777777777778,
              "#fb9f3a"
             ],
             [
              0.8888888888888888,
              "#fdca26"
             ],
             [
              1,
              "#f0f921"
             ]
            ],
            "type": "histogram2dcontour"
           }
          ],
          "mesh3d": [
           {
            "colorbar": {
             "outlinewidth": 0,
             "ticks": ""
            },
            "type": "mesh3d"
           }
          ],
          "parcoords": [
           {
            "line": {
             "colorbar": {
              "outlinewidth": 0,
              "ticks": ""
             }
            },
            "type": "parcoords"
           }
          ],
          "pie": [
           {
            "automargin": true,
            "type": "pie"
           }
          ],
          "scatter": [
           {
            "marker": {
             "colorbar": {
              "outlinewidth": 0,
              "ticks": ""
             }
            },
            "type": "scatter"
           }
          ],
          "scatter3d": [
           {
            "line": {
             "colorbar": {
              "outlinewidth": 0,
              "ticks": ""
             }
            },
            "marker": {
             "colorbar": {
              "outlinewidth": 0,
              "ticks": ""
             }
            },
            "type": "scatter3d"
           }
          ],
          "scattercarpet": [
           {
            "marker": {
             "colorbar": {
              "outlinewidth": 0,
              "ticks": ""
             }
            },
            "type": "scattercarpet"
           }
          ],
          "scattergeo": [
           {
            "marker": {
             "colorbar": {
              "outlinewidth": 0,
              "ticks": ""
             }
            },
            "type": "scattergeo"
           }
          ],
          "scattergl": [
           {
            "marker": {
             "colorbar": {
              "outlinewidth": 0,
              "ticks": ""
             }
            },
            "type": "scattergl"
           }
          ],
          "scattermapbox": [
           {
            "marker": {
             "colorbar": {
              "outlinewidth": 0,
              "ticks": ""
             }
            },
            "type": "scattermapbox"
           }
          ],
          "scatterpolar": [
           {
            "marker": {
             "colorbar": {
              "outlinewidth": 0,
              "ticks": ""
             }
            },
            "type": "scatterpolar"
           }
          ],
          "scatterpolargl": [
           {
            "marker": {
             "colorbar": {
              "outlinewidth": 0,
              "ticks": ""
             }
            },
            "type": "scatterpolargl"
           }
          ],
          "scatterternary": [
           {
            "marker": {
             "colorbar": {
              "outlinewidth": 0,
              "ticks": ""
             }
            },
            "type": "scatterternary"
           }
          ],
          "surface": [
           {
            "colorbar": {
             "outlinewidth": 0,
             "ticks": ""
            },
            "colorscale": [
             [
              0,
              "#0d0887"
             ],
             [
              0.1111111111111111,
              "#46039f"
             ],
             [
              0.2222222222222222,
              "#7201a8"
             ],
             [
              0.3333333333333333,
              "#9c179e"
             ],
             [
              0.4444444444444444,
              "#bd3786"
             ],
             [
              0.5555555555555556,
              "#d8576b"
             ],
             [
              0.6666666666666666,
              "#ed7953"
             ],
             [
              0.7777777777777778,
              "#fb9f3a"
             ],
             [
              0.8888888888888888,
              "#fdca26"
             ],
             [
              1,
              "#f0f921"
             ]
            ],
            "type": "surface"
           }
          ],
          "table": [
           {
            "cells": {
             "fill": {
              "color": "#EBF0F8"
             },
             "line": {
              "color": "white"
             }
            },
            "header": {
             "fill": {
              "color": "#C8D4E3"
             },
             "line": {
              "color": "white"
             }
            },
            "type": "table"
           }
          ]
         },
         "layout": {
          "annotationdefaults": {
           "arrowcolor": "#2a3f5f",
           "arrowhead": 0,
           "arrowwidth": 1
          },
          "autotypenumbers": "strict",
          "coloraxis": {
           "colorbar": {
            "outlinewidth": 0,
            "ticks": ""
           }
          },
          "colorscale": {
           "diverging": [
            [
             0,
             "#8e0152"
            ],
            [
             0.1,
             "#c51b7d"
            ],
            [
             0.2,
             "#de77ae"
            ],
            [
             0.3,
             "#f1b6da"
            ],
            [
             0.4,
             "#fde0ef"
            ],
            [
             0.5,
             "#f7f7f7"
            ],
            [
             0.6,
             "#e6f5d0"
            ],
            [
             0.7,
             "#b8e186"
            ],
            [
             0.8,
             "#7fbc41"
            ],
            [
             0.9,
             "#4d9221"
            ],
            [
             1,
             "#276419"
            ]
           ],
           "sequential": [
            [
             0,
             "#0d0887"
            ],
            [
             0.1111111111111111,
             "#46039f"
            ],
            [
             0.2222222222222222,
             "#7201a8"
            ],
            [
             0.3333333333333333,
             "#9c179e"
            ],
            [
             0.4444444444444444,
             "#bd3786"
            ],
            [
             0.5555555555555556,
             "#d8576b"
            ],
            [
             0.6666666666666666,
             "#ed7953"
            ],
            [
             0.7777777777777778,
             "#fb9f3a"
            ],
            [
             0.8888888888888888,
             "#fdca26"
            ],
            [
             1,
             "#f0f921"
            ]
           ],
           "sequentialminus": [
            [
             0,
             "#0d0887"
            ],
            [
             0.1111111111111111,
             "#46039f"
            ],
            [
             0.2222222222222222,
             "#7201a8"
            ],
            [
             0.3333333333333333,
             "#9c179e"
            ],
            [
             0.4444444444444444,
             "#bd3786"
            ],
            [
             0.5555555555555556,
             "#d8576b"
            ],
            [
             0.6666666666666666,
             "#ed7953"
            ],
            [
             0.7777777777777778,
             "#fb9f3a"
            ],
            [
             0.8888888888888888,
             "#fdca26"
            ],
            [
             1,
             "#f0f921"
            ]
           ]
          },
          "colorway": [
           "#636efa",
           "#EF553B",
           "#00cc96",
           "#ab63fa",
           "#FFA15A",
           "#19d3f3",
           "#FF6692",
           "#B6E880",
           "#FF97FF",
           "#FECB52"
          ],
          "font": {
           "color": "#2a3f5f"
          },
          "geo": {
           "bgcolor": "white",
           "lakecolor": "white",
           "landcolor": "#E5ECF6",
           "showlakes": true,
           "showland": true,
           "subunitcolor": "white"
          },
          "hoverlabel": {
           "align": "left"
          },
          "hovermode": "closest",
          "mapbox": {
           "style": "light"
          },
          "paper_bgcolor": "white",
          "plot_bgcolor": "#E5ECF6",
          "polar": {
           "angularaxis": {
            "gridcolor": "white",
            "linecolor": "white",
            "ticks": ""
           },
           "bgcolor": "#E5ECF6",
           "radialaxis": {
            "gridcolor": "white",
            "linecolor": "white",
            "ticks": ""
           }
          },
          "scene": {
           "xaxis": {
            "backgroundcolor": "#E5ECF6",
            "gridcolor": "white",
            "gridwidth": 2,
            "linecolor": "white",
            "showbackground": true,
            "ticks": "",
            "zerolinecolor": "white"
           },
           "yaxis": {
            "backgroundcolor": "#E5ECF6",
            "gridcolor": "white",
            "gridwidth": 2,
            "linecolor": "white",
            "showbackground": true,
            "ticks": "",
            "zerolinecolor": "white"
           },
           "zaxis": {
            "backgroundcolor": "#E5ECF6",
            "gridcolor": "white",
            "gridwidth": 2,
            "linecolor": "white",
            "showbackground": true,
            "ticks": "",
            "zerolinecolor": "white"
           }
          },
          "shapedefaults": {
           "line": {
            "color": "#2a3f5f"
           }
          },
          "ternary": {
           "aaxis": {
            "gridcolor": "white",
            "linecolor": "white",
            "ticks": ""
           },
           "baxis": {
            "gridcolor": "white",
            "linecolor": "white",
            "ticks": ""
           },
           "bgcolor": "#E5ECF6",
           "caxis": {
            "gridcolor": "white",
            "linecolor": "white",
            "ticks": ""
           }
          },
          "title": {
           "x": 0.05
          },
          "xaxis": {
           "automargin": true,
           "gridcolor": "white",
           "linecolor": "white",
           "ticks": "",
           "title": {
            "standoff": 15
           },
           "zerolinecolor": "white",
           "zerolinewidth": 2
          },
          "yaxis": {
           "automargin": true,
           "gridcolor": "white",
           "linecolor": "white",
           "ticks": "",
           "title": {
            "standoff": 15
           },
           "zerolinecolor": "white",
           "zerolinewidth": 2
          }
         }
        },
        "title": {
         "text": "Ventas por referencia"
        },
        "yaxis": {
         "title": {
          "text": "Número de ventas"
         }
        }
       }
      }
     },
     "metadata": {}
    }
   ],
   "metadata": {}
  },
  {
   "cell_type": "code",
   "execution_count": null,
   "source": [
    "def split_data(prevs):\r\n",
    "    prevs.append(var)\r\n",
    "    x_cat=data[prevs].astype('category')\r\n",
    "    x_cat_dummies=pd.get_dummies(x_cat)\r\n",
    "\r\n",
    "    y = data['CANTIDAD']\r\n",
    "\r\n",
    "    scaler = MinMaxScaler()\r\n",
    "    x_num_norm = scaler.fit_transform(x_num)\r\n",
    "    x = np.append(x_num_norm,x_cat_dummies,axis=1)\r\n",
    "\r\n",
    "    #split data till januar 2021\r\n",
    "    index = data[(data.ANIO==2021)].index[0]\r\n",
    "\r\n",
    "    x_train = x[:index-1]\r\n",
    "    y_train = y[:index-1]\r\n",
    "    x_test = x[index-1:]\r\n",
    "    y_test = y[index-1:]\r\n",
    "    \r\n",
    "    return x_train,y_train,x_test,y_test,prevs\r\n",
    "    \r\n",
    "def fit_model(x_train,y_train):\r\n",
    "    model = GradientBoostingRegressor(**{'learning_rate': 0.1, 'max_depth': 2, 'n_estimators': 300})\r\n",
    "    model.fit(x_train,y_train)\r\n",
    "    \r\n",
    "    return model\r\n",
    "    \r\n",
    "def get_mse(model,x_test,y_test):\r\n",
    "    return mse(model.predict(x_test),y_test)"
   ],
   "outputs": [],
   "metadata": {}
  },
  {
   "cell_type": "code",
   "execution_count": null,
   "source": [
    "data = DataManager().sales_ref_month_sin_ventas_mayores()\r\n",
    "\r\n",
    "num_var=['AREA','ALTO','DESCUENTO(%)','PRECIO','CANTIDAD']\r\n",
    "x_num=data[num_var[:-1]].astype('float')\r\n",
    "\r\n",
    "cat_var=[\r\n",
    "    'ANIO', 'MES', 'TIENDA', 'PUESTOS', 'COLOR_POS', 'CATEGORIA', 'SUBCATEGORIA_POS', 'VIGENCIA',\r\n",
    "    'ORIGEN', 'ESTILO', 'MATERIAL_POS', 'ACABADO', 'F_COVID', 'REF'\r\n",
    "]\r\n",
    "\r\n",
    "x_train,y_train,x_test,y_test,prevs = split_data(cat_var)\r\n",
    "%time model = fit_model(x_train,y_train)\r\n",
    "print('MSE for variables:')\r\n",
    "print(prevs)\r\n",
    "print(get_mse(model,x_test,y_test))\r\n",
    "print('--------------------------------------')"
   ],
   "outputs": [],
   "metadata": {}
  },
  {
   "cell_type": "code",
   "execution_count": null,
   "source": [
    "data = DataManager().sales_ref_month_sin_ventas_mayores()\r\n",
    "data['DATE'] = data['ANIO'].astype(str) + '-' + data['MES'].astype(str).str.zfill(2)\r\n",
    "\r\n",
    "num_var=['AREA','ALTO','DESCUENTO(%)','PRECIO','CANTIDAD']\r\n",
    "x_num=data[num_var[:-1]].astype('float')\r\n",
    "\r\n",
    "cat_var=[\r\n",
    "    'ANIO', 'MES', 'TIENDA', 'PUESTOS', 'COLOR_POS', 'SUBCATEGORIA_POS', 'ESTILO', 'F_COVID' \r\n",
    "]\r\n",
    "\r\n",
    "x_train,y_train,x_test,y_test,prevs = split_data(cat_var)\r\n",
    "%time model = fit_model(x_train,y_train)\r\n",
    "print('MSE for variables:')\r\n",
    "print(prevs)\r\n",
    "print(get_mse(model,x_test,y_test))\r\n",
    "print('--------------------------------------')"
   ],
   "outputs": [],
   "metadata": {}
  },
  {
   "cell_type": "code",
   "execution_count": null,
   "source": [
    "data['PREDICTED'] = model.predict(np.concatenate([x_train,x_test],axis=0)).round()\r\n",
    "data = data.groupby(['REF','DATE']).sum().reset_index()"
   ],
   "outputs": [],
   "metadata": {}
  },
  {
   "cell_type": "code",
   "execution_count": null,
   "source": [
    "aux = data.query('REF==\"D00935:00048:00048\"')\r\n",
    "fig = go.Figure()\r\n",
    "fig.add_scatter(x=aux['DATE'], y=aux['PREDICTED'], mode='lines', name='Valores predichos')\r\n",
    "fig.add_scatter(x=aux['DATE'], y=aux['CANTIDAD'], mode='lines', name='Valores reales')"
   ],
   "outputs": [],
   "metadata": {}
  },
  {
   "cell_type": "code",
   "execution_count": null,
   "source": [],
   "outputs": [],
   "metadata": {}
  }
 ],
 "metadata": {
  "kernelspec": {
   "name": "python3",
   "display_name": "Python 3.9.6 64-bit ('ds4a': conda)"
  },
  "language_info": {
   "codemirror_mode": {
    "name": "ipython",
    "version": 3
   },
   "file_extension": ".py",
   "mimetype": "text/x-python",
   "name": "python",
   "nbconvert_exporter": "python",
   "pygments_lexer": "ipython3",
   "version": "3.9.6"
  },
  "interpreter": {
   "hash": "6eee23b6df0947bb8010c340d8b57dfb4569a6c74ddf8babe304036b5fafc026"
  }
 },
 "nbformat": 4,
 "nbformat_minor": 5
}