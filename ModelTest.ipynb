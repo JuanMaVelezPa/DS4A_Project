{
 "cells": [
  {
   "cell_type": "code",
   "execution_count": 1,
   "source": [
    "%pylab inline\n",
    "import pandas as pd\n",
    "\n",
    "from dataManager import DataManager\n",
    "from model import ModelManager as manager\n",
    "\n",
    "from sklearn.preprocessing import MinMaxScaler\n",
    "from sklearn.ensemble import GradientBoostingRegressor\n",
    "from sklearn.metrics import mean_squared_error as mse\n",
    "\n",
    "import plotly.graph_objects as go"
   ],
   "outputs": [
    {
     "output_type": "stream",
     "name": "stdout",
     "text": [
      "Populating the interactive namespace from numpy and matplotlib\n"
     ]
    }
   ],
   "metadata": {}
  },
  {
   "cell_type": "markdown",
   "source": [
    "## Modelo 1\n",
    "Creación de la nueva data organizada para el modelo. En ella se consideran los meses de `CANTIDAD == 0` para `REF`. Esta forma de organizar los datos no permite hacer disgregación en el modelo por punto de venta (`TIENDA`)."
   ],
   "metadata": {}
  },
  {
   "cell_type": "code",
   "execution_count": 16,
   "source": [
    "prods = data = DataManager().products.drop_duplicates().copy()\n",
    "prods['AREA'] = prods.ANCHO * prods.FONDO\n",
    "\n",
    "data = DataManager().sales_ref_month_sin_ventas_mayores()\n",
    "data['DATE'] = data['ANIO'].astype(str) + '-' + data['MES'].astype(str).str.zfill(2)\n",
    "\n",
    "df = data.pivot_table(index='REF',columns=['DATE','ANIO','MES'],values='CANTIDAD',aggfunc='sum').reset_index()\n",
    "df = pd.melt(df,id_vars='REF')\n",
    "\n",
    "df = df.sort_values(['REF','DATE'])\n",
    "df = df.rename(columns={'value':'CANTIDAD'})\n",
    "df = df.reset_index(drop=True).fillna(0)\n",
    "\n",
    "df = df.merge(data.drop(columns=['TIENDA','ANIO','MES','CANTIDAD']),on=['REF','DATE'],how='left')\n",
    "df = df[['REF','DATE','ANIO','MES','CANTIDAD','PRECIO','SUBTOTAL','DESCUENTO(%)','TOTAL','F_COVID']]\n",
    "df = df.fillna(0)\n",
    "\n",
    "df = df.merge(prods,on='REF',validate='m:1')\n",
    "df = df.sort_values(['ANIO','MES']).reset_index(drop=True)"
   ],
   "outputs": [],
   "metadata": {}
  },
  {
   "cell_type": "code",
   "execution_count": 18,
   "source": [
    "df[df.REF == 'XA0194:00009:'][['REF','DATE','CANTIDAD','PRECIO','TOTAL','COLOR_POS','DESC_LARGA']]"
   ],
   "outputs": [
    {
     "output_type": "execute_result",
     "data": {
      "text/plain": [
       "                 REF     DATE  CANTIDAD        PRECIO       TOTAL COLOR_POS  \\\n",
       "591    XA0194:00009:  2019-01       4.0  2.471881e+06   1235940.0      CAFE   \n",
       "592    XA0194:00009:  2019-01       4.0  2.471881e+06   1235940.0      CAFE   \n",
       "593    XA0194:00009:  2019-01       4.0  2.471881e+06   1235940.0      CAFE   \n",
       "594    XA0194:00009:  2019-01       4.0  2.471881e+06   1235940.0      CAFE   \n",
       "2120   XA0194:00009:  2019-02       0.0  0.000000e+00         0.0      CAFE   \n",
       "3636   XA0194:00009:  2019-03       2.0  2.471881e+06   1235940.0      CAFE   \n",
       "3637   XA0194:00009:  2019-03       2.0  2.471881e+06   1235940.0      CAFE   \n",
       "5287   XA0194:00009:  2019-04       4.0  2.471881e+06   2265390.0      CAFE   \n",
       "5288   XA0194:00009:  2019-04       4.0  2.471882e+06   1977617.0      CAFE   \n",
       "6852   XA0194:00009:  2019-05       2.0  2.471881e+06   1276638.0      CAFE   \n",
       "6853   XA0194:00009:  2019-05       2.0  2.471881e+06   1276638.0      CAFE   \n",
       "8497   XA0194:00009:  2019-06      17.0  2.471880e+06  11581477.0      CAFE   \n",
       "8498   XA0194:00009:  2019-06      17.0  2.471880e+06   3116946.0      CAFE   \n",
       "8499   XA0194:00009:  2019-06      17.0  2.471880e+06   1881006.0      CAFE   \n",
       "10183  XA0194:00009:  2019-07      22.0  2.662025e+06  13839263.0      CAFE   \n",
       "10184  XA0194:00009:  2019-07      22.0  2.471880e+06   1881006.0      CAFE   \n",
       "10185  XA0194:00009:  2019-07      22.0  2.471880e+06   2821509.0      CAFE   \n",
       "10186  XA0194:00009:  2019-07      22.0  2.471882e+06    741565.0      CAFE   \n",
       "10187  XA0194:00009:  2019-07      22.0  2.471880e+06   2821509.0      CAFE   \n",
       "11857  XA0194:00009:  2019-08       3.0  2.471881e+06   3213444.0      CAFE   \n",
       "13483  XA0194:00009:  2019-09       1.0  2.471881e+06   1235940.0      CAFE   \n",
       "15134  XA0194:00009:  2019-10       0.0  0.000000e+00         0.0      CAFE   \n",
       "16837  XA0194:00009:  2019-11       0.0  0.000000e+00         0.0      CAFE   \n",
       "18674  XA0194:00009:  2019-12       0.0  0.000000e+00         0.0      CAFE   \n",
       "20362  XA0194:00009:  2020-01       0.0  0.000000e+00         0.0      CAFE   \n",
       "22206  XA0194:00009:  2020-02       0.0  0.000000e+00         0.0      CAFE   \n",
       "23962  XA0194:00009:  2020-03       0.0  0.000000e+00         0.0      CAFE   \n",
       "25389  XA0194:00009:  2020-04       0.0  0.000000e+00         0.0      CAFE   \n",
       "26652  XA0194:00009:  2020-05       0.0  0.000000e+00         0.0      CAFE   \n",
       "27980  XA0194:00009:  2020-06       0.0  0.000000e+00         0.0      CAFE   \n",
       "29555  XA0194:00009:  2020-07       1.0  2.471882e+06   1359535.0      CAFE   \n",
       "31141  XA0194:00009:  2020-08       0.0  0.000000e+00         0.0      CAFE   \n",
       "32696  XA0194:00009:  2020-09       0.0  0.000000e+00         0.0      CAFE   \n",
       "34435  XA0194:00009:  2020-10       0.0  0.000000e+00         0.0      CAFE   \n",
       "36311  XA0194:00009:  2020-11       0.0  0.000000e+00         0.0      CAFE   \n",
       "38175  XA0194:00009:  2020-12       0.0  0.000000e+00         0.0      CAFE   \n",
       "39857  XA0194:00009:  2021-01       0.0  0.000000e+00         0.0      CAFE   \n",
       "41396  XA0194:00009:  2021-02       0.0  0.000000e+00         0.0      CAFE   \n",
       "43134  XA0194:00009:  2021-03       0.0  0.000000e+00         0.0      CAFE   \n",
       "44775  XA0194:00009:  2021-04       0.0  0.000000e+00         0.0      CAFE   \n",
       "\n",
       "                                 DESC_LARGA  \n",
       "591    SOFA RECLINO WAYLAND 3P CF 2 RECLINO  \n",
       "592    SOFA RECLINO WAYLAND 3P CF 2 RECLINO  \n",
       "593    SOFA RECLINO WAYLAND 3P CF 2 RECLINO  \n",
       "594    SOFA RECLINO WAYLAND 3P CF 2 RECLINO  \n",
       "2120   SOFA RECLINO WAYLAND 3P CF 2 RECLINO  \n",
       "3636   SOFA RECLINO WAYLAND 3P CF 2 RECLINO  \n",
       "3637   SOFA RECLINO WAYLAND 3P CF 2 RECLINO  \n",
       "5287   SOFA RECLINO WAYLAND 3P CF 2 RECLINO  \n",
       "5288   SOFA RECLINO WAYLAND 3P CF 2 RECLINO  \n",
       "6852   SOFA RECLINO WAYLAND 3P CF 2 RECLINO  \n",
       "6853   SOFA RECLINO WAYLAND 3P CF 2 RECLINO  \n",
       "8497   SOFA RECLINO WAYLAND 3P CF 2 RECLINO  \n",
       "8498   SOFA RECLINO WAYLAND 3P CF 2 RECLINO  \n",
       "8499   SOFA RECLINO WAYLAND 3P CF 2 RECLINO  \n",
       "10183  SOFA RECLINO WAYLAND 3P CF 2 RECLINO  \n",
       "10184  SOFA RECLINO WAYLAND 3P CF 2 RECLINO  \n",
       "10185  SOFA RECLINO WAYLAND 3P CF 2 RECLINO  \n",
       "10186  SOFA RECLINO WAYLAND 3P CF 2 RECLINO  \n",
       "10187  SOFA RECLINO WAYLAND 3P CF 2 RECLINO  \n",
       "11857  SOFA RECLINO WAYLAND 3P CF 2 RECLINO  \n",
       "13483  SOFA RECLINO WAYLAND 3P CF 2 RECLINO  \n",
       "15134  SOFA RECLINO WAYLAND 3P CF 2 RECLINO  \n",
       "16837  SOFA RECLINO WAYLAND 3P CF 2 RECLINO  \n",
       "18674  SOFA RECLINO WAYLAND 3P CF 2 RECLINO  \n",
       "20362  SOFA RECLINO WAYLAND 3P CF 2 RECLINO  \n",
       "22206  SOFA RECLINO WAYLAND 3P CF 2 RECLINO  \n",
       "23962  SOFA RECLINO WAYLAND 3P CF 2 RECLINO  \n",
       "25389  SOFA RECLINO WAYLAND 3P CF 2 RECLINO  \n",
       "26652  SOFA RECLINO WAYLAND 3P CF 2 RECLINO  \n",
       "27980  SOFA RECLINO WAYLAND 3P CF 2 RECLINO  \n",
       "29555  SOFA RECLINO WAYLAND 3P CF 2 RECLINO  \n",
       "31141  SOFA RECLINO WAYLAND 3P CF 2 RECLINO  \n",
       "32696  SOFA RECLINO WAYLAND 3P CF 2 RECLINO  \n",
       "34435  SOFA RECLINO WAYLAND 3P CF 2 RECLINO  \n",
       "36311  SOFA RECLINO WAYLAND 3P CF 2 RECLINO  \n",
       "38175  SOFA RECLINO WAYLAND 3P CF 2 RECLINO  \n",
       "39857  SOFA RECLINO WAYLAND 3P CF 2 RECLINO  \n",
       "41396  SOFA RECLINO WAYLAND 3P CF 2 RECLINO  \n",
       "43134  SOFA RECLINO WAYLAND 3P CF 2 RECLINO  \n",
       "44775  SOFA RECLINO WAYLAND 3P CF 2 RECLINO  "
      ],
      "text/html": [
       "<div>\n",
       "<style scoped>\n",
       "    .dataframe tbody tr th:only-of-type {\n",
       "        vertical-align: middle;\n",
       "    }\n",
       "\n",
       "    .dataframe tbody tr th {\n",
       "        vertical-align: top;\n",
       "    }\n",
       "\n",
       "    .dataframe thead th {\n",
       "        text-align: right;\n",
       "    }\n",
       "</style>\n",
       "<table border=\"1\" class=\"dataframe\">\n",
       "  <thead>\n",
       "    <tr style=\"text-align: right;\">\n",
       "      <th></th>\n",
       "      <th>REF</th>\n",
       "      <th>DATE</th>\n",
       "      <th>CANTIDAD</th>\n",
       "      <th>PRECIO</th>\n",
       "      <th>TOTAL</th>\n",
       "      <th>COLOR_POS</th>\n",
       "      <th>DESC_LARGA</th>\n",
       "    </tr>\n",
       "  </thead>\n",
       "  <tbody>\n",
       "    <tr>\n",
       "      <th>591</th>\n",
       "      <td>XA0194:00009:</td>\n",
       "      <td>2019-01</td>\n",
       "      <td>4.0</td>\n",
       "      <td>2.471881e+06</td>\n",
       "      <td>1235940.0</td>\n",
       "      <td>CAFE</td>\n",
       "      <td>SOFA RECLINO WAYLAND 3P CF 2 RECLINO</td>\n",
       "    </tr>\n",
       "    <tr>\n",
       "      <th>592</th>\n",
       "      <td>XA0194:00009:</td>\n",
       "      <td>2019-01</td>\n",
       "      <td>4.0</td>\n",
       "      <td>2.471881e+06</td>\n",
       "      <td>1235940.0</td>\n",
       "      <td>CAFE</td>\n",
       "      <td>SOFA RECLINO WAYLAND 3P CF 2 RECLINO</td>\n",
       "    </tr>\n",
       "    <tr>\n",
       "      <th>593</th>\n",
       "      <td>XA0194:00009:</td>\n",
       "      <td>2019-01</td>\n",
       "      <td>4.0</td>\n",
       "      <td>2.471881e+06</td>\n",
       "      <td>1235940.0</td>\n",
       "      <td>CAFE</td>\n",
       "      <td>SOFA RECLINO WAYLAND 3P CF 2 RECLINO</td>\n",
       "    </tr>\n",
       "    <tr>\n",
       "      <th>594</th>\n",
       "      <td>XA0194:00009:</td>\n",
       "      <td>2019-01</td>\n",
       "      <td>4.0</td>\n",
       "      <td>2.471881e+06</td>\n",
       "      <td>1235940.0</td>\n",
       "      <td>CAFE</td>\n",
       "      <td>SOFA RECLINO WAYLAND 3P CF 2 RECLINO</td>\n",
       "    </tr>\n",
       "    <tr>\n",
       "      <th>2120</th>\n",
       "      <td>XA0194:00009:</td>\n",
       "      <td>2019-02</td>\n",
       "      <td>0.0</td>\n",
       "      <td>0.000000e+00</td>\n",
       "      <td>0.0</td>\n",
       "      <td>CAFE</td>\n",
       "      <td>SOFA RECLINO WAYLAND 3P CF 2 RECLINO</td>\n",
       "    </tr>\n",
       "    <tr>\n",
       "      <th>3636</th>\n",
       "      <td>XA0194:00009:</td>\n",
       "      <td>2019-03</td>\n",
       "      <td>2.0</td>\n",
       "      <td>2.471881e+06</td>\n",
       "      <td>1235940.0</td>\n",
       "      <td>CAFE</td>\n",
       "      <td>SOFA RECLINO WAYLAND 3P CF 2 RECLINO</td>\n",
       "    </tr>\n",
       "    <tr>\n",
       "      <th>3637</th>\n",
       "      <td>XA0194:00009:</td>\n",
       "      <td>2019-03</td>\n",
       "      <td>2.0</td>\n",
       "      <td>2.471881e+06</td>\n",
       "      <td>1235940.0</td>\n",
       "      <td>CAFE</td>\n",
       "      <td>SOFA RECLINO WAYLAND 3P CF 2 RECLINO</td>\n",
       "    </tr>\n",
       "    <tr>\n",
       "      <th>5287</th>\n",
       "      <td>XA0194:00009:</td>\n",
       "      <td>2019-04</td>\n",
       "      <td>4.0</td>\n",
       "      <td>2.471881e+06</td>\n",
       "      <td>2265390.0</td>\n",
       "      <td>CAFE</td>\n",
       "      <td>SOFA RECLINO WAYLAND 3P CF 2 RECLINO</td>\n",
       "    </tr>\n",
       "    <tr>\n",
       "      <th>5288</th>\n",
       "      <td>XA0194:00009:</td>\n",
       "      <td>2019-04</td>\n",
       "      <td>4.0</td>\n",
       "      <td>2.471882e+06</td>\n",
       "      <td>1977617.0</td>\n",
       "      <td>CAFE</td>\n",
       "      <td>SOFA RECLINO WAYLAND 3P CF 2 RECLINO</td>\n",
       "    </tr>\n",
       "    <tr>\n",
       "      <th>6852</th>\n",
       "      <td>XA0194:00009:</td>\n",
       "      <td>2019-05</td>\n",
       "      <td>2.0</td>\n",
       "      <td>2.471881e+06</td>\n",
       "      <td>1276638.0</td>\n",
       "      <td>CAFE</td>\n",
       "      <td>SOFA RECLINO WAYLAND 3P CF 2 RECLINO</td>\n",
       "    </tr>\n",
       "    <tr>\n",
       "      <th>6853</th>\n",
       "      <td>XA0194:00009:</td>\n",
       "      <td>2019-05</td>\n",
       "      <td>2.0</td>\n",
       "      <td>2.471881e+06</td>\n",
       "      <td>1276638.0</td>\n",
       "      <td>CAFE</td>\n",
       "      <td>SOFA RECLINO WAYLAND 3P CF 2 RECLINO</td>\n",
       "    </tr>\n",
       "    <tr>\n",
       "      <th>8497</th>\n",
       "      <td>XA0194:00009:</td>\n",
       "      <td>2019-06</td>\n",
       "      <td>17.0</td>\n",
       "      <td>2.471880e+06</td>\n",
       "      <td>11581477.0</td>\n",
       "      <td>CAFE</td>\n",
       "      <td>SOFA RECLINO WAYLAND 3P CF 2 RECLINO</td>\n",
       "    </tr>\n",
       "    <tr>\n",
       "      <th>8498</th>\n",
       "      <td>XA0194:00009:</td>\n",
       "      <td>2019-06</td>\n",
       "      <td>17.0</td>\n",
       "      <td>2.471880e+06</td>\n",
       "      <td>3116946.0</td>\n",
       "      <td>CAFE</td>\n",
       "      <td>SOFA RECLINO WAYLAND 3P CF 2 RECLINO</td>\n",
       "    </tr>\n",
       "    <tr>\n",
       "      <th>8499</th>\n",
       "      <td>XA0194:00009:</td>\n",
       "      <td>2019-06</td>\n",
       "      <td>17.0</td>\n",
       "      <td>2.471880e+06</td>\n",
       "      <td>1881006.0</td>\n",
       "      <td>CAFE</td>\n",
       "      <td>SOFA RECLINO WAYLAND 3P CF 2 RECLINO</td>\n",
       "    </tr>\n",
       "    <tr>\n",
       "      <th>10183</th>\n",
       "      <td>XA0194:00009:</td>\n",
       "      <td>2019-07</td>\n",
       "      <td>22.0</td>\n",
       "      <td>2.662025e+06</td>\n",
       "      <td>13839263.0</td>\n",
       "      <td>CAFE</td>\n",
       "      <td>SOFA RECLINO WAYLAND 3P CF 2 RECLINO</td>\n",
       "    </tr>\n",
       "    <tr>\n",
       "      <th>10184</th>\n",
       "      <td>XA0194:00009:</td>\n",
       "      <td>2019-07</td>\n",
       "      <td>22.0</td>\n",
       "      <td>2.471880e+06</td>\n",
       "      <td>1881006.0</td>\n",
       "      <td>CAFE</td>\n",
       "      <td>SOFA RECLINO WAYLAND 3P CF 2 RECLINO</td>\n",
       "    </tr>\n",
       "    <tr>\n",
       "      <th>10185</th>\n",
       "      <td>XA0194:00009:</td>\n",
       "      <td>2019-07</td>\n",
       "      <td>22.0</td>\n",
       "      <td>2.471880e+06</td>\n",
       "      <td>2821509.0</td>\n",
       "      <td>CAFE</td>\n",
       "      <td>SOFA RECLINO WAYLAND 3P CF 2 RECLINO</td>\n",
       "    </tr>\n",
       "    <tr>\n",
       "      <th>10186</th>\n",
       "      <td>XA0194:00009:</td>\n",
       "      <td>2019-07</td>\n",
       "      <td>22.0</td>\n",
       "      <td>2.471882e+06</td>\n",
       "      <td>741565.0</td>\n",
       "      <td>CAFE</td>\n",
       "      <td>SOFA RECLINO WAYLAND 3P CF 2 RECLINO</td>\n",
       "    </tr>\n",
       "    <tr>\n",
       "      <th>10187</th>\n",
       "      <td>XA0194:00009:</td>\n",
       "      <td>2019-07</td>\n",
       "      <td>22.0</td>\n",
       "      <td>2.471880e+06</td>\n",
       "      <td>2821509.0</td>\n",
       "      <td>CAFE</td>\n",
       "      <td>SOFA RECLINO WAYLAND 3P CF 2 RECLINO</td>\n",
       "    </tr>\n",
       "    <tr>\n",
       "      <th>11857</th>\n",
       "      <td>XA0194:00009:</td>\n",
       "      <td>2019-08</td>\n",
       "      <td>3.0</td>\n",
       "      <td>2.471881e+06</td>\n",
       "      <td>3213444.0</td>\n",
       "      <td>CAFE</td>\n",
       "      <td>SOFA RECLINO WAYLAND 3P CF 2 RECLINO</td>\n",
       "    </tr>\n",
       "    <tr>\n",
       "      <th>13483</th>\n",
       "      <td>XA0194:00009:</td>\n",
       "      <td>2019-09</td>\n",
       "      <td>1.0</td>\n",
       "      <td>2.471881e+06</td>\n",
       "      <td>1235940.0</td>\n",
       "      <td>CAFE</td>\n",
       "      <td>SOFA RECLINO WAYLAND 3P CF 2 RECLINO</td>\n",
       "    </tr>\n",
       "    <tr>\n",
       "      <th>15134</th>\n",
       "      <td>XA0194:00009:</td>\n",
       "      <td>2019-10</td>\n",
       "      <td>0.0</td>\n",
       "      <td>0.000000e+00</td>\n",
       "      <td>0.0</td>\n",
       "      <td>CAFE</td>\n",
       "      <td>SOFA RECLINO WAYLAND 3P CF 2 RECLINO</td>\n",
       "    </tr>\n",
       "    <tr>\n",
       "      <th>16837</th>\n",
       "      <td>XA0194:00009:</td>\n",
       "      <td>2019-11</td>\n",
       "      <td>0.0</td>\n",
       "      <td>0.000000e+00</td>\n",
       "      <td>0.0</td>\n",
       "      <td>CAFE</td>\n",
       "      <td>SOFA RECLINO WAYLAND 3P CF 2 RECLINO</td>\n",
       "    </tr>\n",
       "    <tr>\n",
       "      <th>18674</th>\n",
       "      <td>XA0194:00009:</td>\n",
       "      <td>2019-12</td>\n",
       "      <td>0.0</td>\n",
       "      <td>0.000000e+00</td>\n",
       "      <td>0.0</td>\n",
       "      <td>CAFE</td>\n",
       "      <td>SOFA RECLINO WAYLAND 3P CF 2 RECLINO</td>\n",
       "    </tr>\n",
       "    <tr>\n",
       "      <th>20362</th>\n",
       "      <td>XA0194:00009:</td>\n",
       "      <td>2020-01</td>\n",
       "      <td>0.0</td>\n",
       "      <td>0.000000e+00</td>\n",
       "      <td>0.0</td>\n",
       "      <td>CAFE</td>\n",
       "      <td>SOFA RECLINO WAYLAND 3P CF 2 RECLINO</td>\n",
       "    </tr>\n",
       "    <tr>\n",
       "      <th>22206</th>\n",
       "      <td>XA0194:00009:</td>\n",
       "      <td>2020-02</td>\n",
       "      <td>0.0</td>\n",
       "      <td>0.000000e+00</td>\n",
       "      <td>0.0</td>\n",
       "      <td>CAFE</td>\n",
       "      <td>SOFA RECLINO WAYLAND 3P CF 2 RECLINO</td>\n",
       "    </tr>\n",
       "    <tr>\n",
       "      <th>23962</th>\n",
       "      <td>XA0194:00009:</td>\n",
       "      <td>2020-03</td>\n",
       "      <td>0.0</td>\n",
       "      <td>0.000000e+00</td>\n",
       "      <td>0.0</td>\n",
       "      <td>CAFE</td>\n",
       "      <td>SOFA RECLINO WAYLAND 3P CF 2 RECLINO</td>\n",
       "    </tr>\n",
       "    <tr>\n",
       "      <th>25389</th>\n",
       "      <td>XA0194:00009:</td>\n",
       "      <td>2020-04</td>\n",
       "      <td>0.0</td>\n",
       "      <td>0.000000e+00</td>\n",
       "      <td>0.0</td>\n",
       "      <td>CAFE</td>\n",
       "      <td>SOFA RECLINO WAYLAND 3P CF 2 RECLINO</td>\n",
       "    </tr>\n",
       "    <tr>\n",
       "      <th>26652</th>\n",
       "      <td>XA0194:00009:</td>\n",
       "      <td>2020-05</td>\n",
       "      <td>0.0</td>\n",
       "      <td>0.000000e+00</td>\n",
       "      <td>0.0</td>\n",
       "      <td>CAFE</td>\n",
       "      <td>SOFA RECLINO WAYLAND 3P CF 2 RECLINO</td>\n",
       "    </tr>\n",
       "    <tr>\n",
       "      <th>27980</th>\n",
       "      <td>XA0194:00009:</td>\n",
       "      <td>2020-06</td>\n",
       "      <td>0.0</td>\n",
       "      <td>0.000000e+00</td>\n",
       "      <td>0.0</td>\n",
       "      <td>CAFE</td>\n",
       "      <td>SOFA RECLINO WAYLAND 3P CF 2 RECLINO</td>\n",
       "    </tr>\n",
       "    <tr>\n",
       "      <th>29555</th>\n",
       "      <td>XA0194:00009:</td>\n",
       "      <td>2020-07</td>\n",
       "      <td>1.0</td>\n",
       "      <td>2.471882e+06</td>\n",
       "      <td>1359535.0</td>\n",
       "      <td>CAFE</td>\n",
       "      <td>SOFA RECLINO WAYLAND 3P CF 2 RECLINO</td>\n",
       "    </tr>\n",
       "    <tr>\n",
       "      <th>31141</th>\n",
       "      <td>XA0194:00009:</td>\n",
       "      <td>2020-08</td>\n",
       "      <td>0.0</td>\n",
       "      <td>0.000000e+00</td>\n",
       "      <td>0.0</td>\n",
       "      <td>CAFE</td>\n",
       "      <td>SOFA RECLINO WAYLAND 3P CF 2 RECLINO</td>\n",
       "    </tr>\n",
       "    <tr>\n",
       "      <th>32696</th>\n",
       "      <td>XA0194:00009:</td>\n",
       "      <td>2020-09</td>\n",
       "      <td>0.0</td>\n",
       "      <td>0.000000e+00</td>\n",
       "      <td>0.0</td>\n",
       "      <td>CAFE</td>\n",
       "      <td>SOFA RECLINO WAYLAND 3P CF 2 RECLINO</td>\n",
       "    </tr>\n",
       "    <tr>\n",
       "      <th>34435</th>\n",
       "      <td>XA0194:00009:</td>\n",
       "      <td>2020-10</td>\n",
       "      <td>0.0</td>\n",
       "      <td>0.000000e+00</td>\n",
       "      <td>0.0</td>\n",
       "      <td>CAFE</td>\n",
       "      <td>SOFA RECLINO WAYLAND 3P CF 2 RECLINO</td>\n",
       "    </tr>\n",
       "    <tr>\n",
       "      <th>36311</th>\n",
       "      <td>XA0194:00009:</td>\n",
       "      <td>2020-11</td>\n",
       "      <td>0.0</td>\n",
       "      <td>0.000000e+00</td>\n",
       "      <td>0.0</td>\n",
       "      <td>CAFE</td>\n",
       "      <td>SOFA RECLINO WAYLAND 3P CF 2 RECLINO</td>\n",
       "    </tr>\n",
       "    <tr>\n",
       "      <th>38175</th>\n",
       "      <td>XA0194:00009:</td>\n",
       "      <td>2020-12</td>\n",
       "      <td>0.0</td>\n",
       "      <td>0.000000e+00</td>\n",
       "      <td>0.0</td>\n",
       "      <td>CAFE</td>\n",
       "      <td>SOFA RECLINO WAYLAND 3P CF 2 RECLINO</td>\n",
       "    </tr>\n",
       "    <tr>\n",
       "      <th>39857</th>\n",
       "      <td>XA0194:00009:</td>\n",
       "      <td>2021-01</td>\n",
       "      <td>0.0</td>\n",
       "      <td>0.000000e+00</td>\n",
       "      <td>0.0</td>\n",
       "      <td>CAFE</td>\n",
       "      <td>SOFA RECLINO WAYLAND 3P CF 2 RECLINO</td>\n",
       "    </tr>\n",
       "    <tr>\n",
       "      <th>41396</th>\n",
       "      <td>XA0194:00009:</td>\n",
       "      <td>2021-02</td>\n",
       "      <td>0.0</td>\n",
       "      <td>0.000000e+00</td>\n",
       "      <td>0.0</td>\n",
       "      <td>CAFE</td>\n",
       "      <td>SOFA RECLINO WAYLAND 3P CF 2 RECLINO</td>\n",
       "    </tr>\n",
       "    <tr>\n",
       "      <th>43134</th>\n",
       "      <td>XA0194:00009:</td>\n",
       "      <td>2021-03</td>\n",
       "      <td>0.0</td>\n",
       "      <td>0.000000e+00</td>\n",
       "      <td>0.0</td>\n",
       "      <td>CAFE</td>\n",
       "      <td>SOFA RECLINO WAYLAND 3P CF 2 RECLINO</td>\n",
       "    </tr>\n",
       "    <tr>\n",
       "      <th>44775</th>\n",
       "      <td>XA0194:00009:</td>\n",
       "      <td>2021-04</td>\n",
       "      <td>0.0</td>\n",
       "      <td>0.000000e+00</td>\n",
       "      <td>0.0</td>\n",
       "      <td>CAFE</td>\n",
       "      <td>SOFA RECLINO WAYLAND 3P CF 2 RECLINO</td>\n",
       "    </tr>\n",
       "  </tbody>\n",
       "</table>\n",
       "</div>"
      ]
     },
     "metadata": {},
     "execution_count": 18
    }
   ],
   "metadata": {}
  },
  {
   "cell_type": "markdown",
   "source": [
    "Preparación de la data para entrenar el modelo"
   ],
   "metadata": {}
  },
  {
   "cell_type": "code",
   "execution_count": 19,
   "source": [
    "num_var=['AREA','ALTO','DESCUENTO(%)','PRECIO','CANTIDAD']\n",
    "x_num=df[num_var[:-1]].astype('float')\n",
    "\n",
    "cat_var=[\n",
    "    'ANIO', 'MES', 'PUESTOS', 'COLOR_POS', 'SUBCATEGORIA_POS', 'ESTILO', 'F_COVID' \n",
    "]\n",
    "x_cat=df[cat_var].astype('category')\n",
    "x_cat_dummies=pd.get_dummies(x_cat)\n",
    "\n",
    "y = df['CANTIDAD']\n",
    "\n",
    "scaler = MinMaxScaler()\n",
    "x_num_norm = scaler.fit_transform(x_num)\n",
    "x = np.append(x_num_norm,x_cat_dummies,axis=1)\n",
    "\n",
    "#split data till januar 2021\n",
    "\n",
    "index = df[(df.ANIO==2021)].index[0]\n",
    "\n",
    "x_train = x[:index-1]\n",
    "y_train = y[:index-1]\n",
    "x_test = x[index-1:]\n",
    "y_test = y[index-1:]"
   ],
   "outputs": [],
   "metadata": {}
  },
  {
   "cell_type": "markdown",
   "source": [
    "Entrenamiento del modelo"
   ],
   "metadata": {}
  },
  {
   "cell_type": "code",
   "execution_count": 20,
   "source": [
    "%%time\n",
    "model = GradientBoostingRegressor(**{'learning_rate': 0.1, 'max_depth': 2, 'n_estimators': 300})\n",
    "model.fit(x_train,y_train)"
   ],
   "outputs": [
    {
     "output_type": "stream",
     "name": "stdout",
     "text": [
      "CPU times: user 14.6 s, sys: 205 ms, total: 14.8 s\n",
      "Wall time: 20 s\n"
     ]
    },
    {
     "output_type": "execute_result",
     "data": {
      "text/plain": [
       "GradientBoostingRegressor(max_depth=2, n_estimators=300)"
      ]
     },
     "metadata": {},
     "execution_count": 20
    }
   ],
   "metadata": {}
  },
  {
   "cell_type": "markdown",
   "source": [
    "Resultado del error"
   ],
   "metadata": {}
  },
  {
   "cell_type": "code",
   "execution_count": 21,
   "source": [
    "mse(model.predict(x_test),y_test)"
   ],
   "outputs": [
    {
     "output_type": "execute_result",
     "data": {
      "text/plain": [
       "17.322043539492785"
      ]
     },
     "metadata": {},
     "execution_count": 21
    }
   ],
   "metadata": {}
  },
  {
   "cell_type": "markdown",
   "source": [
    "Verificación de prueba con el test para identificar variabilidad en la predicción"
   ],
   "metadata": {}
  },
  {
   "cell_type": "code",
   "execution_count": 22,
   "source": [
    "df['PREDICTED'] = model.predict(np.concatenate([x_train,x_test],axis=0)).round()\n",
    "res = df.groupby(['REF','DATE']).sum().reset_index()"
   ],
   "outputs": [],
   "metadata": {}
  },
  {
   "cell_type": "code",
   "execution_count": 23,
   "source": [
    "aux = res.query('REF==\"XA0194:00009:\"')\n",
    "fig = go.Figure()\n",
    "fig.add_scatter(x=aux['DATE'], y=aux['PREDICTED'], mode='lines', name='Valores predichos')\n",
    "fig.add_scatter(x=aux['DATE'], y=aux['CANTIDAD'], mode='lines', name='Valores reales')"
   ],
   "outputs": [
    {
     "output_type": "display_data",
     "data": {
      "application/vnd.plotly.v1+json": {
       "config": {
        "plotlyServerURL": "https://plot.ly"
       },
       "data": [
        {
         "mode": "lines",
         "name": "Valores predichos",
         "type": "scatter",
         "x": [
          "2019-01",
          "2019-02",
          "2019-03",
          "2019-04",
          "2019-05",
          "2019-06",
          "2019-07",
          "2019-08",
          "2019-09",
          "2019-10",
          "2019-11",
          "2019-12",
          "2020-01",
          "2020-02",
          "2020-03",
          "2020-04",
          "2020-05",
          "2020-06",
          "2020-07",
          "2020-08",
          "2020-09",
          "2020-10",
          "2020-11",
          "2020-12",
          "2021-01",
          "2021-02",
          "2021-03",
          "2021-04"
         ],
         "y": [
          32,
          0,
          14,
          20,
          18,
          47,
          71,
          12,
          8,
          0,
          1,
          0,
          0,
          0,
          0,
          0,
          0,
          0,
          9,
          0,
          0,
          0,
          1,
          0,
          0,
          0,
          0,
          0
         ]
        },
        {
         "mode": "lines",
         "name": "Valores reales",
         "type": "scatter",
         "x": [
          "2019-01",
          "2019-02",
          "2019-03",
          "2019-04",
          "2019-05",
          "2019-06",
          "2019-07",
          "2019-08",
          "2019-09",
          "2019-10",
          "2019-11",
          "2019-12",
          "2020-01",
          "2020-02",
          "2020-03",
          "2020-04",
          "2020-05",
          "2020-06",
          "2020-07",
          "2020-08",
          "2020-09",
          "2020-10",
          "2020-11",
          "2020-12",
          "2021-01",
          "2021-02",
          "2021-03",
          "2021-04"
         ],
         "y": [
          16,
          0,
          4,
          8,
          4,
          51,
          110,
          3,
          1,
          0,
          0,
          0,
          0,
          0,
          0,
          0,
          0,
          0,
          1,
          0,
          0,
          0,
          0,
          0,
          0,
          0,
          0,
          0
         ]
        }
       ],
       "layout": {
        "template": {
         "data": {
          "bar": [
           {
            "error_x": {
             "color": "#2a3f5f"
            },
            "error_y": {
             "color": "#2a3f5f"
            },
            "marker": {
             "line": {
              "color": "#E5ECF6",
              "width": 0.5
             },
             "pattern": {
              "fillmode": "overlay",
              "size": 10,
              "solidity": 0.2
             }
            },
            "type": "bar"
           }
          ],
          "barpolar": [
           {
            "marker": {
             "line": {
              "color": "#E5ECF6",
              "width": 0.5
             },
             "pattern": {
              "fillmode": "overlay",
              "size": 10,
              "solidity": 0.2
             }
            },
            "type": "barpolar"
           }
          ],
          "carpet": [
           {
            "aaxis": {
             "endlinecolor": "#2a3f5f",
             "gridcolor": "white",
             "linecolor": "white",
             "minorgridcolor": "white",
             "startlinecolor": "#2a3f5f"
            },
            "baxis": {
             "endlinecolor": "#2a3f5f",
             "gridcolor": "white",
             "linecolor": "white",
             "minorgridcolor": "white",
             "startlinecolor": "#2a3f5f"
            },
            "type": "carpet"
           }
          ],
          "choropleth": [
           {
            "colorbar": {
             "outlinewidth": 0,
             "ticks": ""
            },
            "type": "choropleth"
           }
          ],
          "contour": [
           {
            "colorbar": {
             "outlinewidth": 0,
             "ticks": ""
            },
            "colorscale": [
             [
              0,
              "#0d0887"
             ],
             [
              0.1111111111111111,
              "#46039f"
             ],
             [
              0.2222222222222222,
              "#7201a8"
             ],
             [
              0.3333333333333333,
              "#9c179e"
             ],
             [
              0.4444444444444444,
              "#bd3786"
             ],
             [
              0.5555555555555556,
              "#d8576b"
             ],
             [
              0.6666666666666666,
              "#ed7953"
             ],
             [
              0.7777777777777778,
              "#fb9f3a"
             ],
             [
              0.8888888888888888,
              "#fdca26"
             ],
             [
              1,
              "#f0f921"
             ]
            ],
            "type": "contour"
           }
          ],
          "contourcarpet": [
           {
            "colorbar": {
             "outlinewidth": 0,
             "ticks": ""
            },
            "type": "contourcarpet"
           }
          ],
          "heatmap": [
           {
            "colorbar": {
             "outlinewidth": 0,
             "ticks": ""
            },
            "colorscale": [
             [
              0,
              "#0d0887"
             ],
             [
              0.1111111111111111,
              "#46039f"
             ],
             [
              0.2222222222222222,
              "#7201a8"
             ],
             [
              0.3333333333333333,
              "#9c179e"
             ],
             [
              0.4444444444444444,
              "#bd3786"
             ],
             [
              0.5555555555555556,
              "#d8576b"
             ],
             [
              0.6666666666666666,
              "#ed7953"
             ],
             [
              0.7777777777777778,
              "#fb9f3a"
             ],
             [
              0.8888888888888888,
              "#fdca26"
             ],
             [
              1,
              "#f0f921"
             ]
            ],
            "type": "heatmap"
           }
          ],
          "heatmapgl": [
           {
            "colorbar": {
             "outlinewidth": 0,
             "ticks": ""
            },
            "colorscale": [
             [
              0,
              "#0d0887"
             ],
             [
              0.1111111111111111,
              "#46039f"
             ],
             [
              0.2222222222222222,
              "#7201a8"
             ],
             [
              0.3333333333333333,
              "#9c179e"
             ],
             [
              0.4444444444444444,
              "#bd3786"
             ],
             [
              0.5555555555555556,
              "#d8576b"
             ],
             [
              0.6666666666666666,
              "#ed7953"
             ],
             [
              0.7777777777777778,
              "#fb9f3a"
             ],
             [
              0.8888888888888888,
              "#fdca26"
             ],
             [
              1,
              "#f0f921"
             ]
            ],
            "type": "heatmapgl"
           }
          ],
          "histogram": [
           {
            "marker": {
             "pattern": {
              "fillmode": "overlay",
              "size": 10,
              "solidity": 0.2
             }
            },
            "type": "histogram"
           }
          ],
          "histogram2d": [
           {
            "colorbar": {
             "outlinewidth": 0,
             "ticks": ""
            },
            "colorscale": [
             [
              0,
              "#0d0887"
             ],
             [
              0.1111111111111111,
              "#46039f"
             ],
             [
              0.2222222222222222,
              "#7201a8"
             ],
             [
              0.3333333333333333,
              "#9c179e"
             ],
             [
              0.4444444444444444,
              "#bd3786"
             ],
             [
              0.5555555555555556,
              "#d8576b"
             ],
             [
              0.6666666666666666,
              "#ed7953"
             ],
             [
              0.7777777777777778,
              "#fb9f3a"
             ],
             [
              0.8888888888888888,
              "#fdca26"
             ],
             [
              1,
              "#f0f921"
             ]
            ],
            "type": "histogram2d"
           }
          ],
          "histogram2dcontour": [
           {
            "colorbar": {
             "outlinewidth": 0,
             "ticks": ""
            },
            "colorscale": [
             [
              0,
              "#0d0887"
             ],
             [
              0.1111111111111111,
              "#46039f"
             ],
             [
              0.2222222222222222,
              "#7201a8"
             ],
             [
              0.3333333333333333,
              "#9c179e"
             ],
             [
              0.4444444444444444,
              "#bd3786"
             ],
             [
              0.5555555555555556,
              "#d8576b"
             ],
             [
              0.6666666666666666,
              "#ed7953"
             ],
             [
              0.7777777777777778,
              "#fb9f3a"
             ],
             [
              0.8888888888888888,
              "#fdca26"
             ],
             [
              1,
              "#f0f921"
             ]
            ],
            "type": "histogram2dcontour"
           }
          ],
          "mesh3d": [
           {
            "colorbar": {
             "outlinewidth": 0,
             "ticks": ""
            },
            "type": "mesh3d"
           }
          ],
          "parcoords": [
           {
            "line": {
             "colorbar": {
              "outlinewidth": 0,
              "ticks": ""
             }
            },
            "type": "parcoords"
           }
          ],
          "pie": [
           {
            "automargin": true,
            "type": "pie"
           }
          ],
          "scatter": [
           {
            "marker": {
             "colorbar": {
              "outlinewidth": 0,
              "ticks": ""
             }
            },
            "type": "scatter"
           }
          ],
          "scatter3d": [
           {
            "line": {
             "colorbar": {
              "outlinewidth": 0,
              "ticks": ""
             }
            },
            "marker": {
             "colorbar": {
              "outlinewidth": 0,
              "ticks": ""
             }
            },
            "type": "scatter3d"
           }
          ],
          "scattercarpet": [
           {
            "marker": {
             "colorbar": {
              "outlinewidth": 0,
              "ticks": ""
             }
            },
            "type": "scattercarpet"
           }
          ],
          "scattergeo": [
           {
            "marker": {
             "colorbar": {
              "outlinewidth": 0,
              "ticks": ""
             }
            },
            "type": "scattergeo"
           }
          ],
          "scattergl": [
           {
            "marker": {
             "colorbar": {
              "outlinewidth": 0,
              "ticks": ""
             }
            },
            "type": "scattergl"
           }
          ],
          "scattermapbox": [
           {
            "marker": {
             "colorbar": {
              "outlinewidth": 0,
              "ticks": ""
             }
            },
            "type": "scattermapbox"
           }
          ],
          "scatterpolar": [
           {
            "marker": {
             "colorbar": {
              "outlinewidth": 0,
              "ticks": ""
             }
            },
            "type": "scatterpolar"
           }
          ],
          "scatterpolargl": [
           {
            "marker": {
             "colorbar": {
              "outlinewidth": 0,
              "ticks": ""
             }
            },
            "type": "scatterpolargl"
           }
          ],
          "scatterternary": [
           {
            "marker": {
             "colorbar": {
              "outlinewidth": 0,
              "ticks": ""
             }
            },
            "type": "scatterternary"
           }
          ],
          "surface": [
           {
            "colorbar": {
             "outlinewidth": 0,
             "ticks": ""
            },
            "colorscale": [
             [
              0,
              "#0d0887"
             ],
             [
              0.1111111111111111,
              "#46039f"
             ],
             [
              0.2222222222222222,
              "#7201a8"
             ],
             [
              0.3333333333333333,
              "#9c179e"
             ],
             [
              0.4444444444444444,
              "#bd3786"
             ],
             [
              0.5555555555555556,
              "#d8576b"
             ],
             [
              0.6666666666666666,
              "#ed7953"
             ],
             [
              0.7777777777777778,
              "#fb9f3a"
             ],
             [
              0.8888888888888888,
              "#fdca26"
             ],
             [
              1,
              "#f0f921"
             ]
            ],
            "type": "surface"
           }
          ],
          "table": [
           {
            "cells": {
             "fill": {
              "color": "#EBF0F8"
             },
             "line": {
              "color": "white"
             }
            },
            "header": {
             "fill": {
              "color": "#C8D4E3"
             },
             "line": {
              "color": "white"
             }
            },
            "type": "table"
           }
          ]
         },
         "layout": {
          "annotationdefaults": {
           "arrowcolor": "#2a3f5f",
           "arrowhead": 0,
           "arrowwidth": 1
          },
          "autotypenumbers": "strict",
          "coloraxis": {
           "colorbar": {
            "outlinewidth": 0,
            "ticks": ""
           }
          },
          "colorscale": {
           "diverging": [
            [
             0,
             "#8e0152"
            ],
            [
             0.1,
             "#c51b7d"
            ],
            [
             0.2,
             "#de77ae"
            ],
            [
             0.3,
             "#f1b6da"
            ],
            [
             0.4,
             "#fde0ef"
            ],
            [
             0.5,
             "#f7f7f7"
            ],
            [
             0.6,
             "#e6f5d0"
            ],
            [
             0.7,
             "#b8e186"
            ],
            [
             0.8,
             "#7fbc41"
            ],
            [
             0.9,
             "#4d9221"
            ],
            [
             1,
             "#276419"
            ]
           ],
           "sequential": [
            [
             0,
             "#0d0887"
            ],
            [
             0.1111111111111111,
             "#46039f"
            ],
            [
             0.2222222222222222,
             "#7201a8"
            ],
            [
             0.3333333333333333,
             "#9c179e"
            ],
            [
             0.4444444444444444,
             "#bd3786"
            ],
            [
             0.5555555555555556,
             "#d8576b"
            ],
            [
             0.6666666666666666,
             "#ed7953"
            ],
            [
             0.7777777777777778,
             "#fb9f3a"
            ],
            [
             0.8888888888888888,
             "#fdca26"
            ],
            [
             1,
             "#f0f921"
            ]
           ],
           "sequentialminus": [
            [
             0,
             "#0d0887"
            ],
            [
             0.1111111111111111,
             "#46039f"
            ],
            [
             0.2222222222222222,
             "#7201a8"
            ],
            [
             0.3333333333333333,
             "#9c179e"
            ],
            [
             0.4444444444444444,
             "#bd3786"
            ],
            [
             0.5555555555555556,
             "#d8576b"
            ],
            [
             0.6666666666666666,
             "#ed7953"
            ],
            [
             0.7777777777777778,
             "#fb9f3a"
            ],
            [
             0.8888888888888888,
             "#fdca26"
            ],
            [
             1,
             "#f0f921"
            ]
           ]
          },
          "colorway": [
           "#636efa",
           "#EF553B",
           "#00cc96",
           "#ab63fa",
           "#FFA15A",
           "#19d3f3",
           "#FF6692",
           "#B6E880",
           "#FF97FF",
           "#FECB52"
          ],
          "font": {
           "color": "#2a3f5f"
          },
          "geo": {
           "bgcolor": "white",
           "lakecolor": "white",
           "landcolor": "#E5ECF6",
           "showlakes": true,
           "showland": true,
           "subunitcolor": "white"
          },
          "hoverlabel": {
           "align": "left"
          },
          "hovermode": "closest",
          "mapbox": {
           "style": "light"
          },
          "paper_bgcolor": "white",
          "plot_bgcolor": "#E5ECF6",
          "polar": {
           "angularaxis": {
            "gridcolor": "white",
            "linecolor": "white",
            "ticks": ""
           },
           "bgcolor": "#E5ECF6",
           "radialaxis": {
            "gridcolor": "white",
            "linecolor": "white",
            "ticks": ""
           }
          },
          "scene": {
           "xaxis": {
            "backgroundcolor": "#E5ECF6",
            "gridcolor": "white",
            "gridwidth": 2,
            "linecolor": "white",
            "showbackground": true,
            "ticks": "",
            "zerolinecolor": "white"
           },
           "yaxis": {
            "backgroundcolor": "#E5ECF6",
            "gridcolor": "white",
            "gridwidth": 2,
            "linecolor": "white",
            "showbackground": true,
            "ticks": "",
            "zerolinecolor": "white"
           },
           "zaxis": {
            "backgroundcolor": "#E5ECF6",
            "gridcolor": "white",
            "gridwidth": 2,
            "linecolor": "white",
            "showbackground": true,
            "ticks": "",
            "zerolinecolor": "white"
           }
          },
          "shapedefaults": {
           "line": {
            "color": "#2a3f5f"
           }
          },
          "ternary": {
           "aaxis": {
            "gridcolor": "white",
            "linecolor": "white",
            "ticks": ""
           },
           "baxis": {
            "gridcolor": "white",
            "linecolor": "white",
            "ticks": ""
           },
           "bgcolor": "#E5ECF6",
           "caxis": {
            "gridcolor": "white",
            "linecolor": "white",
            "ticks": ""
           }
          },
          "title": {
           "x": 0.05
          },
          "xaxis": {
           "automargin": true,
           "gridcolor": "white",
           "linecolor": "white",
           "ticks": "",
           "title": {
            "standoff": 15
           },
           "zerolinecolor": "white",
           "zerolinewidth": 2
          },
          "yaxis": {
           "automargin": true,
           "gridcolor": "white",
           "linecolor": "white",
           "ticks": "",
           "title": {
            "standoff": 15
           },
           "zerolinecolor": "white",
           "zerolinewidth": 2
          }
         }
        }
       }
      }
     },
     "metadata": {}
    }
   ],
   "metadata": {}
  },
  {
   "cell_type": "markdown",
   "source": [
    "## Modelo 2\n",
    "El modelo anteriormente desarrollado por johan. Sirve de prueba para identificar las mejores variables a incluir en el modelo 1"
   ],
   "metadata": {}
  },
  {
   "cell_type": "code",
   "execution_count": null,
   "source": [
    "def split_data(prevs):\n",
    "    prevs.append(var)\n",
    "    x_cat=data[prevs].astype('category')\n",
    "    x_cat_dummies=pd.get_dummies(x_cat)\n",
    "\n",
    "    y = data['CANTIDAD']\n",
    "\n",
    "    scaler = MinMaxScaler()\n",
    "    x_num_norm = scaler.fit_transform(x_num)\n",
    "    x = np.append(x_num_norm,x_cat_dummies,axis=1)\n",
    "\n",
    "    #split data till januar 2021\n",
    "    index = data[(data.ANIO==2021)].index[0]\n",
    "\n",
    "    x_train = x[:index-1]\n",
    "    y_train = y[:index-1]\n",
    "    x_test = x[index-1:]\n",
    "    y_test = y[index-1:]\n",
    "    \n",
    "    return x_train,y_train,x_test,y_test,prevs\n",
    "    \n",
    "def fit_model(x_train,y_train):\n",
    "    model = GradientBoostingRegressor(**{'learning_rate': 0.1, 'max_depth': 2, 'n_estimators': 300})\n",
    "    model.fit(x_train,y_train)\n",
    "    \n",
    "    return model\n",
    "    \n",
    "def get_mse(model,x_test,y_test):\n",
    "    return mse(model.predict(x_test),y_test)"
   ],
   "outputs": [],
   "metadata": {}
  },
  {
   "cell_type": "code",
   "execution_count": null,
   "source": [
    "data = DataManager().sales_ref_month_sin_ventas_mayores()\n",
    "\n",
    "num_var=['AREA','ALTO','DESCUENTO(%)','PRECIO','CANTIDAD']\n",
    "x_num=data[num_var[:-1]].astype('float')\n",
    "\n",
    "cat_var=[\n",
    "    'ANIO', 'MES', 'TIENDA', 'PUESTOS', 'COLOR_POS', 'CATEGORIA', 'SUBCATEGORIA_POS', 'VIGENCIA',\n",
    "    'ORIGEN', 'ESTILO', 'MATERIAL_POS', 'ACABADO', 'F_COVID', 'REF'\n",
    "]\n",
    "\n",
    "x_train,y_train,x_test,y_test,prevs = split_data(cat_var)\n",
    "%time model = fit_model(x_train,y_train)\n",
    "print('MSE for variables:')\n",
    "print(prevs)\n",
    "print(get_mse(model,x_test,y_test))\n",
    "print('--------------------------------------')"
   ],
   "outputs": [],
   "metadata": {}
  },
  {
   "cell_type": "code",
   "execution_count": null,
   "source": [
    "data['PREDICTED'] = model.predict(np.concatenate([x_train,x_test],axis=0)).round()\n",
    "data = data.groupby(['REF','DATE']).sum().reset_index()"
   ],
   "outputs": [],
   "metadata": {}
  },
  {
   "cell_type": "code",
   "execution_count": null,
   "source": [
    "aux = data.query('REF==\"D00935:00048:00048\"')\n",
    "fig = go.Figure()\n",
    "fig.add_scatter(x=aux['DATE'], y=aux['PREDICTED'], mode='lines', name='Valores predichos')\n",
    "fig.add_scatter(x=aux['DATE'], y=aux['CANTIDAD'], mode='lines', name='Valores reales')"
   ],
   "outputs": [],
   "metadata": {}
  }
 ],
 "metadata": {
  "kernelspec": {
   "name": "python3",
   "display_name": "Python 3.9.6 64-bit"
  },
  "language_info": {
   "codemirror_mode": {
    "name": "ipython",
    "version": 3
   },
   "file_extension": ".py",
   "mimetype": "text/x-python",
   "name": "python",
   "nbconvert_exporter": "python",
   "pygments_lexer": "ipython3",
   "version": "3.9.6"
  },
  "interpreter": {
   "hash": "aee8b7b246df8f9039afb4144a1f6fd8d2ca17a180786b69acc140d282b71a49"
  }
 },
 "nbformat": 4,
 "nbformat_minor": 5
}
