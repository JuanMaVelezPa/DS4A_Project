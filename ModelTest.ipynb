{
 "cells": [
  {
   "cell_type": "code",
   "execution_count": 1,
   "source": [
    "%pylab inline\n",
    "import pandas as pd\n",
    "\n",
    "from dataManager import DataManager\n",
    "from model import ModelManager as manager\n",
    "\n",
    "from sklearn.preprocessing import MinMaxScaler\n",
    "from sklearn.ensemble import GradientBoostingRegressor\n",
    "from sklearn.metrics import mean_squared_error as mse\n",
    "\n",
    "import plotly.graph_objects as go"
   ],
   "outputs": [
    {
     "output_type": "stream",
     "name": "stdout",
     "text": [
      "Populating the interactive namespace from numpy and matplotlib\n"
     ]
    }
   ],
   "metadata": {}
  },
  {
   "cell_type": "code",
   "execution_count": 2,
   "source": [
    "sales = DataManager().sales_prod.copy().query('VIGENCIA != \"DESCONTINUADO\"')\n",
    "sales['AREA'] = sales['ANCHO']*sales['FONDO']\n",
    "sales = sales.groupby(['REF','TIENDA']).agg({'PRECIO':'mean','DESCUENTO(%)':'mean','AREA':'first',\n",
    "                                            'ALTO':'first','PUESTOS':'first', 'COLOR_POS':'first', \n",
    "                                            'SUBCATEGORIA_POS':'first','MATERIAL_POS':'first','ACABADO':'first',\n",
    "                                            'CATEGORIA':'first','ORIGEN':'first'}).reset_index()\n",
    "\n",
    "# 2021 future months and covid\n",
    "months=[5,6,7,8,9,10,11,12]\n",
    "covid=[1,1,1,1,1,1,1,1]\n",
    "aux0=sales[['REF','TIENDA']].copy()\n",
    "for m,c in zip(months,covid):\n",
    "    aux0[m]=c\n",
    "\n",
    "aux1=pd.melt(aux0,id_vars=['REF','TIENDA'],var_name='MES',value_name='F_COVID')\n",
    "\n",
    "final_df_future=aux1.merge(sales,on=['REF','TIENDA'],how='left',validate='m:1')\n",
    "\n",
    "final_df_future['ANIO'] = 2021\n",
    "final_df_future['DATE'] = final_df_future['ANIO'].astype(str) + '-' +final_df_future['MES'].astype(str).str.zfill(2)\n",
    "final_df_future.sort_values(['ANIO','MES']).reset_index(drop=True)\n",
    "\n",
    "futuro = final_df_future[['REF','TIENDA','DATE','ANIO','MES','PRECIO','DESCUENTO(%)','F_COVID','AREA','ALTO','PUESTOS','COLOR_POS','SUBCATEGORIA_POS','MATERIAL_POS','ACABADO','ORIGEN']]\n",
    "futuro[(futuro.REF == 'BR0002:00193:') & (futuro.TIENDA == 'PAGINA WEB FIOTTI')]\n",
    "futuro"
   ],
   "outputs": [
    {
     "output_type": "execute_result",
     "data": {
      "text/plain": [
       "                 REF                        TIENDA     DATE  ANIO MES  \\\n",
       "0      BR0002:00193:             PAGINA WEB FIOTTI  2021-05  2021   5   \n",
       "1      BR0002:00193:          PUNTO DE VENTA AV 68  2021-05  2021   5   \n",
       "2      BR0002:00193:      PUNTO DE VENTA CALLE 134  2021-05  2021   5   \n",
       "3      BR0002:00193:   PUNTO DE VENTA CENTRO MAYOR  2021-05  2021   5   \n",
       "4      BR0002:00193:  PUNTO DE VENTA PLAZA CENTRAL  2021-05  2021   5   \n",
       "...              ...                           ...      ...   ...  ..   \n",
       "28035  XZ0987:00024:         PUNTO DE VENTA SOACHA  2021-12  2021  12   \n",
       "28036  XZ0989:00024:                ADMINISTRACION  2021-12  2021  12   \n",
       "28037  XZ0989:00024:             PAGINA WEB FIOTTI  2021-12  2021  12   \n",
       "28038  XZ0989:00024:           PUNTO DE VENTA CALI  2021-12  2021  12   \n",
       "28039  XZ0989:00024:      PUNTO DE VENTA CALLE 134  2021-12  2021  12   \n",
       "\n",
       "             PRECIO  DESCUENTO(%)  F_COVID     AREA   ALTO  PUESTOS COLOR_POS  \\\n",
       "0      3.320816e+05      0.529850        1   2583.0  180.0      NaN      OTRO   \n",
       "1      3.221593e+05      0.453105        1   2583.0  180.0      NaN      OTRO   \n",
       "2      3.241880e+05      0.392612        1   2583.0  180.0      NaN      OTRO   \n",
       "3      3.241880e+05      0.392612        1   2583.0  180.0      NaN      OTRO   \n",
       "4      3.284670e+05      0.468105        1   2583.0  180.0      NaN      OTRO   \n",
       "...             ...           ...      ...      ...    ...      ...       ...   \n",
       "28035  1.006722e+06      0.600000        1  10500.0   75.0      6.0      ROJO   \n",
       "28036  8.021830e+05      0.599999        1   8400.0   75.0      4.0      ROJO   \n",
       "28037  4.392000e+05      0.000000        1   8400.0   75.0      4.0      ROJO   \n",
       "28038  6.709250e+05      0.500001        1   8400.0   75.0      4.0      ROJO   \n",
       "28039  8.021830e+05      0.599999        1   8400.0   75.0      4.0      ROJO   \n",
       "\n",
       "      SUBCATEGORIA_POS     MATERIAL_POS    ACABADO     ORIGEN  \n",
       "0                OTROS  MADERA LAMINADA       MATE  IMPORTADO  \n",
       "1                OTROS  MADERA LAMINADA       MATE  IMPORTADO  \n",
       "2                OTROS  MADERA LAMINADA       MATE  IMPORTADO  \n",
       "3                OTROS  MADERA LAMINADA       MATE  IMPORTADO  \n",
       "4                OTROS  MADERA LAMINADA       MATE  IMPORTADO  \n",
       "...                ...              ...        ...        ...  \n",
       "28035           SET 6P           VIDRIO  BRILLANTE  IMPORTADO  \n",
       "28036           SET 4P   METAL + VIDRIO       MATE  IMPORTADO  \n",
       "28037           SET 4P   METAL + VIDRIO       MATE  IMPORTADO  \n",
       "28038           SET 4P   METAL + VIDRIO       MATE  IMPORTADO  \n",
       "28039           SET 4P   METAL + VIDRIO       MATE  IMPORTADO  \n",
       "\n",
       "[28040 rows x 16 columns]"
      ],
      "text/html": [
       "<div>\n",
       "<style scoped>\n",
       "    .dataframe tbody tr th:only-of-type {\n",
       "        vertical-align: middle;\n",
       "    }\n",
       "\n",
       "    .dataframe tbody tr th {\n",
       "        vertical-align: top;\n",
       "    }\n",
       "\n",
       "    .dataframe thead th {\n",
       "        text-align: right;\n",
       "    }\n",
       "</style>\n",
       "<table border=\"1\" class=\"dataframe\">\n",
       "  <thead>\n",
       "    <tr style=\"text-align: right;\">\n",
       "      <th></th>\n",
       "      <th>REF</th>\n",
       "      <th>TIENDA</th>\n",
       "      <th>DATE</th>\n",
       "      <th>ANIO</th>\n",
       "      <th>MES</th>\n",
       "      <th>PRECIO</th>\n",
       "      <th>DESCUENTO(%)</th>\n",
       "      <th>F_COVID</th>\n",
       "      <th>AREA</th>\n",
       "      <th>ALTO</th>\n",
       "      <th>PUESTOS</th>\n",
       "      <th>COLOR_POS</th>\n",
       "      <th>SUBCATEGORIA_POS</th>\n",
       "      <th>MATERIAL_POS</th>\n",
       "      <th>ACABADO</th>\n",
       "      <th>ORIGEN</th>\n",
       "    </tr>\n",
       "  </thead>\n",
       "  <tbody>\n",
       "    <tr>\n",
       "      <th>0</th>\n",
       "      <td>BR0002:00193:</td>\n",
       "      <td>PAGINA WEB FIOTTI</td>\n",
       "      <td>2021-05</td>\n",
       "      <td>2021</td>\n",
       "      <td>5</td>\n",
       "      <td>3.320816e+05</td>\n",
       "      <td>0.529850</td>\n",
       "      <td>1</td>\n",
       "      <td>2583.0</td>\n",
       "      <td>180.0</td>\n",
       "      <td>NaN</td>\n",
       "      <td>OTRO</td>\n",
       "      <td>OTROS</td>\n",
       "      <td>MADERA LAMINADA</td>\n",
       "      <td>MATE</td>\n",
       "      <td>IMPORTADO</td>\n",
       "    </tr>\n",
       "    <tr>\n",
       "      <th>1</th>\n",
       "      <td>BR0002:00193:</td>\n",
       "      <td>PUNTO DE VENTA AV 68</td>\n",
       "      <td>2021-05</td>\n",
       "      <td>2021</td>\n",
       "      <td>5</td>\n",
       "      <td>3.221593e+05</td>\n",
       "      <td>0.453105</td>\n",
       "      <td>1</td>\n",
       "      <td>2583.0</td>\n",
       "      <td>180.0</td>\n",
       "      <td>NaN</td>\n",
       "      <td>OTRO</td>\n",
       "      <td>OTROS</td>\n",
       "      <td>MADERA LAMINADA</td>\n",
       "      <td>MATE</td>\n",
       "      <td>IMPORTADO</td>\n",
       "    </tr>\n",
       "    <tr>\n",
       "      <th>2</th>\n",
       "      <td>BR0002:00193:</td>\n",
       "      <td>PUNTO DE VENTA CALLE 134</td>\n",
       "      <td>2021-05</td>\n",
       "      <td>2021</td>\n",
       "      <td>5</td>\n",
       "      <td>3.241880e+05</td>\n",
       "      <td>0.392612</td>\n",
       "      <td>1</td>\n",
       "      <td>2583.0</td>\n",
       "      <td>180.0</td>\n",
       "      <td>NaN</td>\n",
       "      <td>OTRO</td>\n",
       "      <td>OTROS</td>\n",
       "      <td>MADERA LAMINADA</td>\n",
       "      <td>MATE</td>\n",
       "      <td>IMPORTADO</td>\n",
       "    </tr>\n",
       "    <tr>\n",
       "      <th>3</th>\n",
       "      <td>BR0002:00193:</td>\n",
       "      <td>PUNTO DE VENTA CENTRO MAYOR</td>\n",
       "      <td>2021-05</td>\n",
       "      <td>2021</td>\n",
       "      <td>5</td>\n",
       "      <td>3.241880e+05</td>\n",
       "      <td>0.392612</td>\n",
       "      <td>1</td>\n",
       "      <td>2583.0</td>\n",
       "      <td>180.0</td>\n",
       "      <td>NaN</td>\n",
       "      <td>OTRO</td>\n",
       "      <td>OTROS</td>\n",
       "      <td>MADERA LAMINADA</td>\n",
       "      <td>MATE</td>\n",
       "      <td>IMPORTADO</td>\n",
       "    </tr>\n",
       "    <tr>\n",
       "      <th>4</th>\n",
       "      <td>BR0002:00193:</td>\n",
       "      <td>PUNTO DE VENTA PLAZA CENTRAL</td>\n",
       "      <td>2021-05</td>\n",
       "      <td>2021</td>\n",
       "      <td>5</td>\n",
       "      <td>3.284670e+05</td>\n",
       "      <td>0.468105</td>\n",
       "      <td>1</td>\n",
       "      <td>2583.0</td>\n",
       "      <td>180.0</td>\n",
       "      <td>NaN</td>\n",
       "      <td>OTRO</td>\n",
       "      <td>OTROS</td>\n",
       "      <td>MADERA LAMINADA</td>\n",
       "      <td>MATE</td>\n",
       "      <td>IMPORTADO</td>\n",
       "    </tr>\n",
       "    <tr>\n",
       "      <th>...</th>\n",
       "      <td>...</td>\n",
       "      <td>...</td>\n",
       "      <td>...</td>\n",
       "      <td>...</td>\n",
       "      <td>...</td>\n",
       "      <td>...</td>\n",
       "      <td>...</td>\n",
       "      <td>...</td>\n",
       "      <td>...</td>\n",
       "      <td>...</td>\n",
       "      <td>...</td>\n",
       "      <td>...</td>\n",
       "      <td>...</td>\n",
       "      <td>...</td>\n",
       "      <td>...</td>\n",
       "      <td>...</td>\n",
       "    </tr>\n",
       "    <tr>\n",
       "      <th>28035</th>\n",
       "      <td>XZ0987:00024:</td>\n",
       "      <td>PUNTO DE VENTA SOACHA</td>\n",
       "      <td>2021-12</td>\n",
       "      <td>2021</td>\n",
       "      <td>12</td>\n",
       "      <td>1.006722e+06</td>\n",
       "      <td>0.600000</td>\n",
       "      <td>1</td>\n",
       "      <td>10500.0</td>\n",
       "      <td>75.0</td>\n",
       "      <td>6.0</td>\n",
       "      <td>ROJO</td>\n",
       "      <td>SET 6P</td>\n",
       "      <td>VIDRIO</td>\n",
       "      <td>BRILLANTE</td>\n",
       "      <td>IMPORTADO</td>\n",
       "    </tr>\n",
       "    <tr>\n",
       "      <th>28036</th>\n",
       "      <td>XZ0989:00024:</td>\n",
       "      <td>ADMINISTRACION</td>\n",
       "      <td>2021-12</td>\n",
       "      <td>2021</td>\n",
       "      <td>12</td>\n",
       "      <td>8.021830e+05</td>\n",
       "      <td>0.599999</td>\n",
       "      <td>1</td>\n",
       "      <td>8400.0</td>\n",
       "      <td>75.0</td>\n",
       "      <td>4.0</td>\n",
       "      <td>ROJO</td>\n",
       "      <td>SET 4P</td>\n",
       "      <td>METAL + VIDRIO</td>\n",
       "      <td>MATE</td>\n",
       "      <td>IMPORTADO</td>\n",
       "    </tr>\n",
       "    <tr>\n",
       "      <th>28037</th>\n",
       "      <td>XZ0989:00024:</td>\n",
       "      <td>PAGINA WEB FIOTTI</td>\n",
       "      <td>2021-12</td>\n",
       "      <td>2021</td>\n",
       "      <td>12</td>\n",
       "      <td>4.392000e+05</td>\n",
       "      <td>0.000000</td>\n",
       "      <td>1</td>\n",
       "      <td>8400.0</td>\n",
       "      <td>75.0</td>\n",
       "      <td>4.0</td>\n",
       "      <td>ROJO</td>\n",
       "      <td>SET 4P</td>\n",
       "      <td>METAL + VIDRIO</td>\n",
       "      <td>MATE</td>\n",
       "      <td>IMPORTADO</td>\n",
       "    </tr>\n",
       "    <tr>\n",
       "      <th>28038</th>\n",
       "      <td>XZ0989:00024:</td>\n",
       "      <td>PUNTO DE VENTA CALI</td>\n",
       "      <td>2021-12</td>\n",
       "      <td>2021</td>\n",
       "      <td>12</td>\n",
       "      <td>6.709250e+05</td>\n",
       "      <td>0.500001</td>\n",
       "      <td>1</td>\n",
       "      <td>8400.0</td>\n",
       "      <td>75.0</td>\n",
       "      <td>4.0</td>\n",
       "      <td>ROJO</td>\n",
       "      <td>SET 4P</td>\n",
       "      <td>METAL + VIDRIO</td>\n",
       "      <td>MATE</td>\n",
       "      <td>IMPORTADO</td>\n",
       "    </tr>\n",
       "    <tr>\n",
       "      <th>28039</th>\n",
       "      <td>XZ0989:00024:</td>\n",
       "      <td>PUNTO DE VENTA CALLE 134</td>\n",
       "      <td>2021-12</td>\n",
       "      <td>2021</td>\n",
       "      <td>12</td>\n",
       "      <td>8.021830e+05</td>\n",
       "      <td>0.599999</td>\n",
       "      <td>1</td>\n",
       "      <td>8400.0</td>\n",
       "      <td>75.0</td>\n",
       "      <td>4.0</td>\n",
       "      <td>ROJO</td>\n",
       "      <td>SET 4P</td>\n",
       "      <td>METAL + VIDRIO</td>\n",
       "      <td>MATE</td>\n",
       "      <td>IMPORTADO</td>\n",
       "    </tr>\n",
       "  </tbody>\n",
       "</table>\n",
       "<p>28040 rows × 16 columns</p>\n",
       "</div>"
      ]
     },
     "metadata": {},
     "execution_count": 2
    }
   ],
   "metadata": {}
  },
  {
   "cell_type": "code",
   "execution_count": 3,
   "source": [
    "pasado = DataManager().sales_ref_month_sin_ventas_mayores().copy().query('VIGENCIA != \"DESCONTINUADO\"')\n",
    "pasado"
   ],
   "outputs": [
    {
     "output_type": "execute_result",
     "data": {
      "text/plain": [
       "       ANIO  MES                 REF                       TIENDA     PRECIO  \\\n",
       "0      2019    1  D00510:00079:00079            PAGINA WEB FIOTTI   660402.0   \n",
       "1      2019    1  D00510:00079:00079         PUNTO DE VENTA AV 68   854416.0   \n",
       "2      2019    1  D00510:00079:00079     PUNTO DE VENTA CALLE 134   854416.0   \n",
       "3      2019    1  D00510:00080:00080  PUNTO DE VENTA CENTRO MAYOR   854416.0   \n",
       "4      2019    1  D00510:00112:00112     PUNTO DE VENTA CALLE 134  1050933.0   \n",
       "...     ...  ...                 ...                          ...        ...   \n",
       "20457  2021    4       XZ0573:00005:                VILLA DEL RIO   700016.0   \n",
       "20463  2021    4       XZ0737:00001:     PUNTO DE VENTA CALLE 134  1359198.0   \n",
       "20466  2021    4       XZ0897:00044:         PUNTO DE VENTA AV 68  1160663.0   \n",
       "20467  2021    4       XZ0897:00044:       PUNTO DE VENTA POBLADO  1088256.0   \n",
       "20468  2021    4     XZ0914-1:00001:          PUNTO DE VENTA CALI  1984260.0   \n",
       "\n",
       "       SUBTOTAL  DESCUENTO(%)    TOTAL  CANTIDAD  ALTO  ...  COLOR_POS  \\\n",
       "0        660402      0.000000   660402         1  90.0  ...      NEGRO   \n",
       "1        854416      0.410670   503533         1  90.0  ...      NEGRO   \n",
       "2       2563248      0.410670  1510599         3  90.0  ...      NEGRO   \n",
       "3        854416      0.410670   503533         1  90.0  ...     BLANCO   \n",
       "4       1050933      0.500000   525466         1  90.0  ...       CAFE   \n",
       "...         ...           ...      ...       ...   ...  ...        ...   \n",
       "20457    700016      0.391227   426151         1  76.0  ...      NEGRO   \n",
       "20463   1359198      0.390694   828168         1  75.0  ...     BLANCO   \n",
       "20466   1160663      0.390728   707159         1  75.0  ...       OTRO   \n",
       "20467   1088256      0.400000   652954         1  75.0  ...       OTRO   \n",
       "20468   1984260      0.390870  1208672         1  75.0  ...     BLANCO   \n",
       "\n",
       "           CATEGORIA SUBCATEGORIA_POS VIGENCIA         ORIGEN   ESTILO  \\\n",
       "0      SALAS Y SOFAS            OTROS    LINEA  MANUFACTURADO  MODERNO   \n",
       "1      SALAS Y SOFAS            OTROS    LINEA  MANUFACTURADO  MODERNO   \n",
       "2      SALAS Y SOFAS            OTROS    LINEA  MANUFACTURADO  MODERNO   \n",
       "3      SALAS Y SOFAS            OTROS    LINEA  MANUFACTURADO  MODERNO   \n",
       "4      SALAS Y SOFAS            OTROS    LINEA  MANUFACTURADO  MODERNO   \n",
       "...              ...              ...      ...            ...      ...   \n",
       "20457      COMEDORES      MESAS DE 4P    LINEA      IMPORTADO  MODERNO   \n",
       "20463      COMEDORES           SET 6P    LINEA      IMPORTADO  MODERNO   \n",
       "20466      COMEDORES            OTROS    LINEA      IMPORTADO  MODERNO   \n",
       "20467      COMEDORES            OTROS    LINEA      IMPORTADO  MODERNO   \n",
       "20468      COMEDORES           SET 6P    LINEA      IMPORTADO  CLÁSICO   \n",
       "\n",
       "         MATERIAL_POS          ACABADO F_COVID     DATE  \n",
       "0               otros  TEXTILES SUAVES       0  2019-01  \n",
       "1               otros  TEXTILES SUAVES       0  2019-01  \n",
       "2               otros  TEXTILES SUAVES       0  2019-01  \n",
       "3               otros  TEXTILES SUAVES       0  2019-01  \n",
       "4               otros  TEXTILES SUAVES       0  2019-01  \n",
       "...               ...              ...     ...      ...  \n",
       "20457          VIDRIO        BRILLANTE       1  2021-04  \n",
       "20463          VIDRIO        BRILLANTE       1  2021-04  \n",
       "20466          VIDRIO        BRILLANTE       1  2021-04  \n",
       "20467          VIDRIO        BRILLANTE       1  2021-04  \n",
       "20468  METAL + VIDRIO             MATE       1  2021-04  \n",
       "\n",
       "[10275 rows x 22 columns]"
      ],
      "text/html": [
       "<div>\n",
       "<style scoped>\n",
       "    .dataframe tbody tr th:only-of-type {\n",
       "        vertical-align: middle;\n",
       "    }\n",
       "\n",
       "    .dataframe tbody tr th {\n",
       "        vertical-align: top;\n",
       "    }\n",
       "\n",
       "    .dataframe thead th {\n",
       "        text-align: right;\n",
       "    }\n",
       "</style>\n",
       "<table border=\"1\" class=\"dataframe\">\n",
       "  <thead>\n",
       "    <tr style=\"text-align: right;\">\n",
       "      <th></th>\n",
       "      <th>ANIO</th>\n",
       "      <th>MES</th>\n",
       "      <th>REF</th>\n",
       "      <th>TIENDA</th>\n",
       "      <th>PRECIO</th>\n",
       "      <th>SUBTOTAL</th>\n",
       "      <th>DESCUENTO(%)</th>\n",
       "      <th>TOTAL</th>\n",
       "      <th>CANTIDAD</th>\n",
       "      <th>ALTO</th>\n",
       "      <th>...</th>\n",
       "      <th>COLOR_POS</th>\n",
       "      <th>CATEGORIA</th>\n",
       "      <th>SUBCATEGORIA_POS</th>\n",
       "      <th>VIGENCIA</th>\n",
       "      <th>ORIGEN</th>\n",
       "      <th>ESTILO</th>\n",
       "      <th>MATERIAL_POS</th>\n",
       "      <th>ACABADO</th>\n",
       "      <th>F_COVID</th>\n",
       "      <th>DATE</th>\n",
       "    </tr>\n",
       "  </thead>\n",
       "  <tbody>\n",
       "    <tr>\n",
       "      <th>0</th>\n",
       "      <td>2019</td>\n",
       "      <td>1</td>\n",
       "      <td>D00510:00079:00079</td>\n",
       "      <td>PAGINA WEB FIOTTI</td>\n",
       "      <td>660402.0</td>\n",
       "      <td>660402</td>\n",
       "      <td>0.000000</td>\n",
       "      <td>660402</td>\n",
       "      <td>1</td>\n",
       "      <td>90.0</td>\n",
       "      <td>...</td>\n",
       "      <td>NEGRO</td>\n",
       "      <td>SALAS Y SOFAS</td>\n",
       "      <td>OTROS</td>\n",
       "      <td>LINEA</td>\n",
       "      <td>MANUFACTURADO</td>\n",
       "      <td>MODERNO</td>\n",
       "      <td>otros</td>\n",
       "      <td>TEXTILES SUAVES</td>\n",
       "      <td>0</td>\n",
       "      <td>2019-01</td>\n",
       "    </tr>\n",
       "    <tr>\n",
       "      <th>1</th>\n",
       "      <td>2019</td>\n",
       "      <td>1</td>\n",
       "      <td>D00510:00079:00079</td>\n",
       "      <td>PUNTO DE VENTA AV 68</td>\n",
       "      <td>854416.0</td>\n",
       "      <td>854416</td>\n",
       "      <td>0.410670</td>\n",
       "      <td>503533</td>\n",
       "      <td>1</td>\n",
       "      <td>90.0</td>\n",
       "      <td>...</td>\n",
       "      <td>NEGRO</td>\n",
       "      <td>SALAS Y SOFAS</td>\n",
       "      <td>OTROS</td>\n",
       "      <td>LINEA</td>\n",
       "      <td>MANUFACTURADO</td>\n",
       "      <td>MODERNO</td>\n",
       "      <td>otros</td>\n",
       "      <td>TEXTILES SUAVES</td>\n",
       "      <td>0</td>\n",
       "      <td>2019-01</td>\n",
       "    </tr>\n",
       "    <tr>\n",
       "      <th>2</th>\n",
       "      <td>2019</td>\n",
       "      <td>1</td>\n",
       "      <td>D00510:00079:00079</td>\n",
       "      <td>PUNTO DE VENTA CALLE 134</td>\n",
       "      <td>854416.0</td>\n",
       "      <td>2563248</td>\n",
       "      <td>0.410670</td>\n",
       "      <td>1510599</td>\n",
       "      <td>3</td>\n",
       "      <td>90.0</td>\n",
       "      <td>...</td>\n",
       "      <td>NEGRO</td>\n",
       "      <td>SALAS Y SOFAS</td>\n",
       "      <td>OTROS</td>\n",
       "      <td>LINEA</td>\n",
       "      <td>MANUFACTURADO</td>\n",
       "      <td>MODERNO</td>\n",
       "      <td>otros</td>\n",
       "      <td>TEXTILES SUAVES</td>\n",
       "      <td>0</td>\n",
       "      <td>2019-01</td>\n",
       "    </tr>\n",
       "    <tr>\n",
       "      <th>3</th>\n",
       "      <td>2019</td>\n",
       "      <td>1</td>\n",
       "      <td>D00510:00080:00080</td>\n",
       "      <td>PUNTO DE VENTA CENTRO MAYOR</td>\n",
       "      <td>854416.0</td>\n",
       "      <td>854416</td>\n",
       "      <td>0.410670</td>\n",
       "      <td>503533</td>\n",
       "      <td>1</td>\n",
       "      <td>90.0</td>\n",
       "      <td>...</td>\n",
       "      <td>BLANCO</td>\n",
       "      <td>SALAS Y SOFAS</td>\n",
       "      <td>OTROS</td>\n",
       "      <td>LINEA</td>\n",
       "      <td>MANUFACTURADO</td>\n",
       "      <td>MODERNO</td>\n",
       "      <td>otros</td>\n",
       "      <td>TEXTILES SUAVES</td>\n",
       "      <td>0</td>\n",
       "      <td>2019-01</td>\n",
       "    </tr>\n",
       "    <tr>\n",
       "      <th>4</th>\n",
       "      <td>2019</td>\n",
       "      <td>1</td>\n",
       "      <td>D00510:00112:00112</td>\n",
       "      <td>PUNTO DE VENTA CALLE 134</td>\n",
       "      <td>1050933.0</td>\n",
       "      <td>1050933</td>\n",
       "      <td>0.500000</td>\n",
       "      <td>525466</td>\n",
       "      <td>1</td>\n",
       "      <td>90.0</td>\n",
       "      <td>...</td>\n",
       "      <td>CAFE</td>\n",
       "      <td>SALAS Y SOFAS</td>\n",
       "      <td>OTROS</td>\n",
       "      <td>LINEA</td>\n",
       "      <td>MANUFACTURADO</td>\n",
       "      <td>MODERNO</td>\n",
       "      <td>otros</td>\n",
       "      <td>TEXTILES SUAVES</td>\n",
       "      <td>0</td>\n",
       "      <td>2019-01</td>\n",
       "    </tr>\n",
       "    <tr>\n",
       "      <th>...</th>\n",
       "      <td>...</td>\n",
       "      <td>...</td>\n",
       "      <td>...</td>\n",
       "      <td>...</td>\n",
       "      <td>...</td>\n",
       "      <td>...</td>\n",
       "      <td>...</td>\n",
       "      <td>...</td>\n",
       "      <td>...</td>\n",
       "      <td>...</td>\n",
       "      <td>...</td>\n",
       "      <td>...</td>\n",
       "      <td>...</td>\n",
       "      <td>...</td>\n",
       "      <td>...</td>\n",
       "      <td>...</td>\n",
       "      <td>...</td>\n",
       "      <td>...</td>\n",
       "      <td>...</td>\n",
       "      <td>...</td>\n",
       "      <td>...</td>\n",
       "    </tr>\n",
       "    <tr>\n",
       "      <th>20457</th>\n",
       "      <td>2021</td>\n",
       "      <td>4</td>\n",
       "      <td>XZ0573:00005:</td>\n",
       "      <td>VILLA DEL RIO</td>\n",
       "      <td>700016.0</td>\n",
       "      <td>700016</td>\n",
       "      <td>0.391227</td>\n",
       "      <td>426151</td>\n",
       "      <td>1</td>\n",
       "      <td>76.0</td>\n",
       "      <td>...</td>\n",
       "      <td>NEGRO</td>\n",
       "      <td>COMEDORES</td>\n",
       "      <td>MESAS DE 4P</td>\n",
       "      <td>LINEA</td>\n",
       "      <td>IMPORTADO</td>\n",
       "      <td>MODERNO</td>\n",
       "      <td>VIDRIO</td>\n",
       "      <td>BRILLANTE</td>\n",
       "      <td>1</td>\n",
       "      <td>2021-04</td>\n",
       "    </tr>\n",
       "    <tr>\n",
       "      <th>20463</th>\n",
       "      <td>2021</td>\n",
       "      <td>4</td>\n",
       "      <td>XZ0737:00001:</td>\n",
       "      <td>PUNTO DE VENTA CALLE 134</td>\n",
       "      <td>1359198.0</td>\n",
       "      <td>1359198</td>\n",
       "      <td>0.390694</td>\n",
       "      <td>828168</td>\n",
       "      <td>1</td>\n",
       "      <td>75.0</td>\n",
       "      <td>...</td>\n",
       "      <td>BLANCO</td>\n",
       "      <td>COMEDORES</td>\n",
       "      <td>SET 6P</td>\n",
       "      <td>LINEA</td>\n",
       "      <td>IMPORTADO</td>\n",
       "      <td>MODERNO</td>\n",
       "      <td>VIDRIO</td>\n",
       "      <td>BRILLANTE</td>\n",
       "      <td>1</td>\n",
       "      <td>2021-04</td>\n",
       "    </tr>\n",
       "    <tr>\n",
       "      <th>20466</th>\n",
       "      <td>2021</td>\n",
       "      <td>4</td>\n",
       "      <td>XZ0897:00044:</td>\n",
       "      <td>PUNTO DE VENTA AV 68</td>\n",
       "      <td>1160663.0</td>\n",
       "      <td>1160663</td>\n",
       "      <td>0.390728</td>\n",
       "      <td>707159</td>\n",
       "      <td>1</td>\n",
       "      <td>75.0</td>\n",
       "      <td>...</td>\n",
       "      <td>OTRO</td>\n",
       "      <td>COMEDORES</td>\n",
       "      <td>OTROS</td>\n",
       "      <td>LINEA</td>\n",
       "      <td>IMPORTADO</td>\n",
       "      <td>MODERNO</td>\n",
       "      <td>VIDRIO</td>\n",
       "      <td>BRILLANTE</td>\n",
       "      <td>1</td>\n",
       "      <td>2021-04</td>\n",
       "    </tr>\n",
       "    <tr>\n",
       "      <th>20467</th>\n",
       "      <td>2021</td>\n",
       "      <td>4</td>\n",
       "      <td>XZ0897:00044:</td>\n",
       "      <td>PUNTO DE VENTA POBLADO</td>\n",
       "      <td>1088256.0</td>\n",
       "      <td>1088256</td>\n",
       "      <td>0.400000</td>\n",
       "      <td>652954</td>\n",
       "      <td>1</td>\n",
       "      <td>75.0</td>\n",
       "      <td>...</td>\n",
       "      <td>OTRO</td>\n",
       "      <td>COMEDORES</td>\n",
       "      <td>OTROS</td>\n",
       "      <td>LINEA</td>\n",
       "      <td>IMPORTADO</td>\n",
       "      <td>MODERNO</td>\n",
       "      <td>VIDRIO</td>\n",
       "      <td>BRILLANTE</td>\n",
       "      <td>1</td>\n",
       "      <td>2021-04</td>\n",
       "    </tr>\n",
       "    <tr>\n",
       "      <th>20468</th>\n",
       "      <td>2021</td>\n",
       "      <td>4</td>\n",
       "      <td>XZ0914-1:00001:</td>\n",
       "      <td>PUNTO DE VENTA CALI</td>\n",
       "      <td>1984260.0</td>\n",
       "      <td>1984260</td>\n",
       "      <td>0.390870</td>\n",
       "      <td>1208672</td>\n",
       "      <td>1</td>\n",
       "      <td>75.0</td>\n",
       "      <td>...</td>\n",
       "      <td>BLANCO</td>\n",
       "      <td>COMEDORES</td>\n",
       "      <td>SET 6P</td>\n",
       "      <td>LINEA</td>\n",
       "      <td>IMPORTADO</td>\n",
       "      <td>CLÁSICO</td>\n",
       "      <td>METAL + VIDRIO</td>\n",
       "      <td>MATE</td>\n",
       "      <td>1</td>\n",
       "      <td>2021-04</td>\n",
       "    </tr>\n",
       "  </tbody>\n",
       "</table>\n",
       "<p>10275 rows × 22 columns</p>\n",
       "</div>"
      ]
     },
     "metadata": {},
     "execution_count": 3
    }
   ],
   "metadata": {}
  },
  {
   "cell_type": "code",
   "execution_count": 4,
   "source": [
    "scaler = MinMaxScaler()\n",
    "\n",
    "num_var=['AREA','ALTO','DESCUENTO(%)','PRECIO','CANTIDAD']\n",
    "x_num=pasado[num_var[:-1]].astype('float')\n",
    "x_num_norm = scaler.fit_transform(x_num)\n",
    "\n",
    "cat_var=[\n",
    "    'TIENDA','MES',\n",
    "    'F_COVID','PUESTOS','COLOR_POS','SUBCATEGORIA_POS',\n",
    "    'MATERIAL_POS','ACABADO','ORIGEN'\n",
    "]\n",
    "x_cat=pasado[cat_var].astype('category')\n",
    "x_cat_dummies=pd.get_dummies(x_cat)\n",
    "\n",
    "x = np.append(x_num_norm,x_cat_dummies,axis=1)\n",
    "y = pasado['CANTIDAD']\n",
    "\n",
    "model = GradientBoostingRegressor(**{'learning_rate': 0.01, 'max_depth': 6, 'n_estimators': 200})\n",
    "model.fit(x,y)"
   ],
   "outputs": [
    {
     "output_type": "execute_result",
     "data": {
      "text/plain": [
       "GradientBoostingRegressor(learning_rate=0.01, max_depth=6, n_estimators=200)"
      ]
     },
     "metadata": {},
     "execution_count": 4
    }
   ],
   "metadata": {}
  },
  {
   "cell_type": "code",
   "execution_count": 12,
   "source": [
    "total = pd.concat([pasado.drop(columns='CANTIDAD').copy(),futuro.copy()]).reset_index(drop=True)\n",
    "particion = 10275\n",
    "total[particion:]"
   ],
   "outputs": [
    {
     "output_type": "execute_result",
     "data": {
      "text/plain": [
       "       ANIO MES            REF                        TIENDA        PRECIO  \\\n",
       "10275  2021   5  BR0002:00193:             PAGINA WEB FIOTTI  3.320816e+05   \n",
       "10276  2021   5  BR0002:00193:          PUNTO DE VENTA AV 68  3.221593e+05   \n",
       "10277  2021   5  BR0002:00193:      PUNTO DE VENTA CALLE 134  3.241880e+05   \n",
       "10278  2021   5  BR0002:00193:   PUNTO DE VENTA CENTRO MAYOR  3.241880e+05   \n",
       "10279  2021   5  BR0002:00193:  PUNTO DE VENTA PLAZA CENTRAL  3.284670e+05   \n",
       "...     ...  ..            ...                           ...           ...   \n",
       "38310  2021  12  XZ0987:00024:         PUNTO DE VENTA SOACHA  1.006722e+06   \n",
       "38311  2021  12  XZ0989:00024:                ADMINISTRACION  8.021830e+05   \n",
       "38312  2021  12  XZ0989:00024:             PAGINA WEB FIOTTI  4.392000e+05   \n",
       "38313  2021  12  XZ0989:00024:           PUNTO DE VENTA CALI  6.709250e+05   \n",
       "38314  2021  12  XZ0989:00024:      PUNTO DE VENTA CALLE 134  8.021830e+05   \n",
       "\n",
       "       SUBTOTAL  DESCUENTO(%)  TOTAL   ALTO     AREA  ...  COLOR_POS  \\\n",
       "10275       NaN      0.529850    NaN  180.0   2583.0  ...       OTRO   \n",
       "10276       NaN      0.453105    NaN  180.0   2583.0  ...       OTRO   \n",
       "10277       NaN      0.392612    NaN  180.0   2583.0  ...       OTRO   \n",
       "10278       NaN      0.392612    NaN  180.0   2583.0  ...       OTRO   \n",
       "10279       NaN      0.468105    NaN  180.0   2583.0  ...       OTRO   \n",
       "...         ...           ...    ...    ...      ...  ...        ...   \n",
       "38310       NaN      0.600000    NaN   75.0  10500.0  ...       ROJO   \n",
       "38311       NaN      0.599999    NaN   75.0   8400.0  ...       ROJO   \n",
       "38312       NaN      0.000000    NaN   75.0   8400.0  ...       ROJO   \n",
       "38313       NaN      0.500001    NaN   75.0   8400.0  ...       ROJO   \n",
       "38314       NaN      0.599999    NaN   75.0   8400.0  ...       ROJO   \n",
       "\n",
       "      CATEGORIA SUBCATEGORIA_POS VIGENCIA     ORIGEN ESTILO     MATERIAL_POS  \\\n",
       "10275       NaN            OTROS      NaN  IMPORTADO    NaN  MADERA LAMINADA   \n",
       "10276       NaN            OTROS      NaN  IMPORTADO    NaN  MADERA LAMINADA   \n",
       "10277       NaN            OTROS      NaN  IMPORTADO    NaN  MADERA LAMINADA   \n",
       "10278       NaN            OTROS      NaN  IMPORTADO    NaN  MADERA LAMINADA   \n",
       "10279       NaN            OTROS      NaN  IMPORTADO    NaN  MADERA LAMINADA   \n",
       "...         ...              ...      ...        ...    ...              ...   \n",
       "38310       NaN           SET 6P      NaN  IMPORTADO    NaN           VIDRIO   \n",
       "38311       NaN           SET 4P      NaN  IMPORTADO    NaN   METAL + VIDRIO   \n",
       "38312       NaN           SET 4P      NaN  IMPORTADO    NaN   METAL + VIDRIO   \n",
       "38313       NaN           SET 4P      NaN  IMPORTADO    NaN   METAL + VIDRIO   \n",
       "38314       NaN           SET 4P      NaN  IMPORTADO    NaN   METAL + VIDRIO   \n",
       "\n",
       "         ACABADO F_COVID     DATE  \n",
       "10275       MATE       1  2021-05  \n",
       "10276       MATE       1  2021-05  \n",
       "10277       MATE       1  2021-05  \n",
       "10278       MATE       1  2021-05  \n",
       "10279       MATE       1  2021-05  \n",
       "...          ...     ...      ...  \n",
       "38310  BRILLANTE       1  2021-12  \n",
       "38311       MATE       1  2021-12  \n",
       "38312       MATE       1  2021-12  \n",
       "38313       MATE       1  2021-12  \n",
       "38314       MATE       1  2021-12  \n",
       "\n",
       "[28040 rows x 21 columns]"
      ],
      "text/html": [
       "<div>\n",
       "<style scoped>\n",
       "    .dataframe tbody tr th:only-of-type {\n",
       "        vertical-align: middle;\n",
       "    }\n",
       "\n",
       "    .dataframe tbody tr th {\n",
       "        vertical-align: top;\n",
       "    }\n",
       "\n",
       "    .dataframe thead th {\n",
       "        text-align: right;\n",
       "    }\n",
       "</style>\n",
       "<table border=\"1\" class=\"dataframe\">\n",
       "  <thead>\n",
       "    <tr style=\"text-align: right;\">\n",
       "      <th></th>\n",
       "      <th>ANIO</th>\n",
       "      <th>MES</th>\n",
       "      <th>REF</th>\n",
       "      <th>TIENDA</th>\n",
       "      <th>PRECIO</th>\n",
       "      <th>SUBTOTAL</th>\n",
       "      <th>DESCUENTO(%)</th>\n",
       "      <th>TOTAL</th>\n",
       "      <th>ALTO</th>\n",
       "      <th>AREA</th>\n",
       "      <th>...</th>\n",
       "      <th>COLOR_POS</th>\n",
       "      <th>CATEGORIA</th>\n",
       "      <th>SUBCATEGORIA_POS</th>\n",
       "      <th>VIGENCIA</th>\n",
       "      <th>ORIGEN</th>\n",
       "      <th>ESTILO</th>\n",
       "      <th>MATERIAL_POS</th>\n",
       "      <th>ACABADO</th>\n",
       "      <th>F_COVID</th>\n",
       "      <th>DATE</th>\n",
       "    </tr>\n",
       "  </thead>\n",
       "  <tbody>\n",
       "    <tr>\n",
       "      <th>10275</th>\n",
       "      <td>2021</td>\n",
       "      <td>5</td>\n",
       "      <td>BR0002:00193:</td>\n",
       "      <td>PAGINA WEB FIOTTI</td>\n",
       "      <td>3.320816e+05</td>\n",
       "      <td>NaN</td>\n",
       "      <td>0.529850</td>\n",
       "      <td>NaN</td>\n",
       "      <td>180.0</td>\n",
       "      <td>2583.0</td>\n",
       "      <td>...</td>\n",
       "      <td>OTRO</td>\n",
       "      <td>NaN</td>\n",
       "      <td>OTROS</td>\n",
       "      <td>NaN</td>\n",
       "      <td>IMPORTADO</td>\n",
       "      <td>NaN</td>\n",
       "      <td>MADERA LAMINADA</td>\n",
       "      <td>MATE</td>\n",
       "      <td>1</td>\n",
       "      <td>2021-05</td>\n",
       "    </tr>\n",
       "    <tr>\n",
       "      <th>10276</th>\n",
       "      <td>2021</td>\n",
       "      <td>5</td>\n",
       "      <td>BR0002:00193:</td>\n",
       "      <td>PUNTO DE VENTA AV 68</td>\n",
       "      <td>3.221593e+05</td>\n",
       "      <td>NaN</td>\n",
       "      <td>0.453105</td>\n",
       "      <td>NaN</td>\n",
       "      <td>180.0</td>\n",
       "      <td>2583.0</td>\n",
       "      <td>...</td>\n",
       "      <td>OTRO</td>\n",
       "      <td>NaN</td>\n",
       "      <td>OTROS</td>\n",
       "      <td>NaN</td>\n",
       "      <td>IMPORTADO</td>\n",
       "      <td>NaN</td>\n",
       "      <td>MADERA LAMINADA</td>\n",
       "      <td>MATE</td>\n",
       "      <td>1</td>\n",
       "      <td>2021-05</td>\n",
       "    </tr>\n",
       "    <tr>\n",
       "      <th>10277</th>\n",
       "      <td>2021</td>\n",
       "      <td>5</td>\n",
       "      <td>BR0002:00193:</td>\n",
       "      <td>PUNTO DE VENTA CALLE 134</td>\n",
       "      <td>3.241880e+05</td>\n",
       "      <td>NaN</td>\n",
       "      <td>0.392612</td>\n",
       "      <td>NaN</td>\n",
       "      <td>180.0</td>\n",
       "      <td>2583.0</td>\n",
       "      <td>...</td>\n",
       "      <td>OTRO</td>\n",
       "      <td>NaN</td>\n",
       "      <td>OTROS</td>\n",
       "      <td>NaN</td>\n",
       "      <td>IMPORTADO</td>\n",
       "      <td>NaN</td>\n",
       "      <td>MADERA LAMINADA</td>\n",
       "      <td>MATE</td>\n",
       "      <td>1</td>\n",
       "      <td>2021-05</td>\n",
       "    </tr>\n",
       "    <tr>\n",
       "      <th>10278</th>\n",
       "      <td>2021</td>\n",
       "      <td>5</td>\n",
       "      <td>BR0002:00193:</td>\n",
       "      <td>PUNTO DE VENTA CENTRO MAYOR</td>\n",
       "      <td>3.241880e+05</td>\n",
       "      <td>NaN</td>\n",
       "      <td>0.392612</td>\n",
       "      <td>NaN</td>\n",
       "      <td>180.0</td>\n",
       "      <td>2583.0</td>\n",
       "      <td>...</td>\n",
       "      <td>OTRO</td>\n",
       "      <td>NaN</td>\n",
       "      <td>OTROS</td>\n",
       "      <td>NaN</td>\n",
       "      <td>IMPORTADO</td>\n",
       "      <td>NaN</td>\n",
       "      <td>MADERA LAMINADA</td>\n",
       "      <td>MATE</td>\n",
       "      <td>1</td>\n",
       "      <td>2021-05</td>\n",
       "    </tr>\n",
       "    <tr>\n",
       "      <th>10279</th>\n",
       "      <td>2021</td>\n",
       "      <td>5</td>\n",
       "      <td>BR0002:00193:</td>\n",
       "      <td>PUNTO DE VENTA PLAZA CENTRAL</td>\n",
       "      <td>3.284670e+05</td>\n",
       "      <td>NaN</td>\n",
       "      <td>0.468105</td>\n",
       "      <td>NaN</td>\n",
       "      <td>180.0</td>\n",
       "      <td>2583.0</td>\n",
       "      <td>...</td>\n",
       "      <td>OTRO</td>\n",
       "      <td>NaN</td>\n",
       "      <td>OTROS</td>\n",
       "      <td>NaN</td>\n",
       "      <td>IMPORTADO</td>\n",
       "      <td>NaN</td>\n",
       "      <td>MADERA LAMINADA</td>\n",
       "      <td>MATE</td>\n",
       "      <td>1</td>\n",
       "      <td>2021-05</td>\n",
       "    </tr>\n",
       "    <tr>\n",
       "      <th>...</th>\n",
       "      <td>...</td>\n",
       "      <td>...</td>\n",
       "      <td>...</td>\n",
       "      <td>...</td>\n",
       "      <td>...</td>\n",
       "      <td>...</td>\n",
       "      <td>...</td>\n",
       "      <td>...</td>\n",
       "      <td>...</td>\n",
       "      <td>...</td>\n",
       "      <td>...</td>\n",
       "      <td>...</td>\n",
       "      <td>...</td>\n",
       "      <td>...</td>\n",
       "      <td>...</td>\n",
       "      <td>...</td>\n",
       "      <td>...</td>\n",
       "      <td>...</td>\n",
       "      <td>...</td>\n",
       "      <td>...</td>\n",
       "      <td>...</td>\n",
       "    </tr>\n",
       "    <tr>\n",
       "      <th>38310</th>\n",
       "      <td>2021</td>\n",
       "      <td>12</td>\n",
       "      <td>XZ0987:00024:</td>\n",
       "      <td>PUNTO DE VENTA SOACHA</td>\n",
       "      <td>1.006722e+06</td>\n",
       "      <td>NaN</td>\n",
       "      <td>0.600000</td>\n",
       "      <td>NaN</td>\n",
       "      <td>75.0</td>\n",
       "      <td>10500.0</td>\n",
       "      <td>...</td>\n",
       "      <td>ROJO</td>\n",
       "      <td>NaN</td>\n",
       "      <td>SET 6P</td>\n",
       "      <td>NaN</td>\n",
       "      <td>IMPORTADO</td>\n",
       "      <td>NaN</td>\n",
       "      <td>VIDRIO</td>\n",
       "      <td>BRILLANTE</td>\n",
       "      <td>1</td>\n",
       "      <td>2021-12</td>\n",
       "    </tr>\n",
       "    <tr>\n",
       "      <th>38311</th>\n",
       "      <td>2021</td>\n",
       "      <td>12</td>\n",
       "      <td>XZ0989:00024:</td>\n",
       "      <td>ADMINISTRACION</td>\n",
       "      <td>8.021830e+05</td>\n",
       "      <td>NaN</td>\n",
       "      <td>0.599999</td>\n",
       "      <td>NaN</td>\n",
       "      <td>75.0</td>\n",
       "      <td>8400.0</td>\n",
       "      <td>...</td>\n",
       "      <td>ROJO</td>\n",
       "      <td>NaN</td>\n",
       "      <td>SET 4P</td>\n",
       "      <td>NaN</td>\n",
       "      <td>IMPORTADO</td>\n",
       "      <td>NaN</td>\n",
       "      <td>METAL + VIDRIO</td>\n",
       "      <td>MATE</td>\n",
       "      <td>1</td>\n",
       "      <td>2021-12</td>\n",
       "    </tr>\n",
       "    <tr>\n",
       "      <th>38312</th>\n",
       "      <td>2021</td>\n",
       "      <td>12</td>\n",
       "      <td>XZ0989:00024:</td>\n",
       "      <td>PAGINA WEB FIOTTI</td>\n",
       "      <td>4.392000e+05</td>\n",
       "      <td>NaN</td>\n",
       "      <td>0.000000</td>\n",
       "      <td>NaN</td>\n",
       "      <td>75.0</td>\n",
       "      <td>8400.0</td>\n",
       "      <td>...</td>\n",
       "      <td>ROJO</td>\n",
       "      <td>NaN</td>\n",
       "      <td>SET 4P</td>\n",
       "      <td>NaN</td>\n",
       "      <td>IMPORTADO</td>\n",
       "      <td>NaN</td>\n",
       "      <td>METAL + VIDRIO</td>\n",
       "      <td>MATE</td>\n",
       "      <td>1</td>\n",
       "      <td>2021-12</td>\n",
       "    </tr>\n",
       "    <tr>\n",
       "      <th>38313</th>\n",
       "      <td>2021</td>\n",
       "      <td>12</td>\n",
       "      <td>XZ0989:00024:</td>\n",
       "      <td>PUNTO DE VENTA CALI</td>\n",
       "      <td>6.709250e+05</td>\n",
       "      <td>NaN</td>\n",
       "      <td>0.500001</td>\n",
       "      <td>NaN</td>\n",
       "      <td>75.0</td>\n",
       "      <td>8400.0</td>\n",
       "      <td>...</td>\n",
       "      <td>ROJO</td>\n",
       "      <td>NaN</td>\n",
       "      <td>SET 4P</td>\n",
       "      <td>NaN</td>\n",
       "      <td>IMPORTADO</td>\n",
       "      <td>NaN</td>\n",
       "      <td>METAL + VIDRIO</td>\n",
       "      <td>MATE</td>\n",
       "      <td>1</td>\n",
       "      <td>2021-12</td>\n",
       "    </tr>\n",
       "    <tr>\n",
       "      <th>38314</th>\n",
       "      <td>2021</td>\n",
       "      <td>12</td>\n",
       "      <td>XZ0989:00024:</td>\n",
       "      <td>PUNTO DE VENTA CALLE 134</td>\n",
       "      <td>8.021830e+05</td>\n",
       "      <td>NaN</td>\n",
       "      <td>0.599999</td>\n",
       "      <td>NaN</td>\n",
       "      <td>75.0</td>\n",
       "      <td>8400.0</td>\n",
       "      <td>...</td>\n",
       "      <td>ROJO</td>\n",
       "      <td>NaN</td>\n",
       "      <td>SET 4P</td>\n",
       "      <td>NaN</td>\n",
       "      <td>IMPORTADO</td>\n",
       "      <td>NaN</td>\n",
       "      <td>METAL + VIDRIO</td>\n",
       "      <td>MATE</td>\n",
       "      <td>1</td>\n",
       "      <td>2021-12</td>\n",
       "    </tr>\n",
       "  </tbody>\n",
       "</table>\n",
       "<p>28040 rows × 21 columns</p>\n",
       "</div>"
      ]
     },
     "metadata": {},
     "execution_count": 12
    }
   ],
   "metadata": {}
  },
  {
   "cell_type": "code",
   "execution_count": 13,
   "source": [
    "num=['AREA','ALTO','DESCUENTO(%)','PRECIO','CANTIDAD']\n",
    "x_num=total[num[:-1]].astype('float')\n",
    "x_norm = scaler.fit_transform(x_num)\n",
    "\n",
    "cat=[\n",
    "    'TIENDA','MES',\n",
    "    'F_COVID','PUESTOS','COLOR_POS','SUBCATEGORIA_POS',\n",
    "    'MATERIAL_POS','ACABADO','ORIGEN'\n",
    "]\n",
    "x_cat=total[cat].astype('category')\n",
    "x_dummies=pd.get_dummies(x_cat)\n",
    "\n",
    "x = np.append(x_num,x_dummies,axis=1)\n",
    "x = x[particion:]\n",
    "\n",
    "y = model.predict(x)"
   ],
   "outputs": [],
   "metadata": {}
  },
  {
   "cell_type": "code",
   "execution_count": 14,
   "source": [
    "futuro['PREDICTED'] = y.round()\n",
    "futuro"
   ],
   "outputs": [
    {
     "output_type": "execute_result",
     "data": {
      "text/plain": [
       "                 REF                        TIENDA     DATE  ANIO MES  \\\n",
       "0      BR0002:00193:             PAGINA WEB FIOTTI  2021-05  2021   5   \n",
       "1      BR0002:00193:          PUNTO DE VENTA AV 68  2021-05  2021   5   \n",
       "2      BR0002:00193:      PUNTO DE VENTA CALLE 134  2021-05  2021   5   \n",
       "3      BR0002:00193:   PUNTO DE VENTA CENTRO MAYOR  2021-05  2021   5   \n",
       "4      BR0002:00193:  PUNTO DE VENTA PLAZA CENTRAL  2021-05  2021   5   \n",
       "...              ...                           ...      ...   ...  ..   \n",
       "28035  XZ0987:00024:         PUNTO DE VENTA SOACHA  2021-12  2021  12   \n",
       "28036  XZ0989:00024:                ADMINISTRACION  2021-12  2021  12   \n",
       "28037  XZ0989:00024:             PAGINA WEB FIOTTI  2021-12  2021  12   \n",
       "28038  XZ0989:00024:           PUNTO DE VENTA CALI  2021-12  2021  12   \n",
       "28039  XZ0989:00024:      PUNTO DE VENTA CALLE 134  2021-12  2021  12   \n",
       "\n",
       "             PRECIO  DESCUENTO(%)  F_COVID     AREA   ALTO  PUESTOS COLOR_POS  \\\n",
       "0      3.320816e+05      0.529850        1   2583.0  180.0      NaN      OTRO   \n",
       "1      3.221593e+05      0.453105        1   2583.0  180.0      NaN      OTRO   \n",
       "2      3.241880e+05      0.392612        1   2583.0  180.0      NaN      OTRO   \n",
       "3      3.241880e+05      0.392612        1   2583.0  180.0      NaN      OTRO   \n",
       "4      3.284670e+05      0.468105        1   2583.0  180.0      NaN      OTRO   \n",
       "...             ...           ...      ...      ...    ...      ...       ...   \n",
       "28035  1.006722e+06      0.600000        1  10500.0   75.0      6.0      ROJO   \n",
       "28036  8.021830e+05      0.599999        1   8400.0   75.0      4.0      ROJO   \n",
       "28037  4.392000e+05      0.000000        1   8400.0   75.0      4.0      ROJO   \n",
       "28038  6.709250e+05      0.500001        1   8400.0   75.0      4.0      ROJO   \n",
       "28039  8.021830e+05      0.599999        1   8400.0   75.0      4.0      ROJO   \n",
       "\n",
       "      SUBCATEGORIA_POS     MATERIAL_POS    ACABADO     ORIGEN  PREDICTED  \n",
       "0                OTROS  MADERA LAMINADA       MATE  IMPORTADO        2.0  \n",
       "1                OTROS  MADERA LAMINADA       MATE  IMPORTADO        3.0  \n",
       "2                OTROS  MADERA LAMINADA       MATE  IMPORTADO        2.0  \n",
       "3                OTROS  MADERA LAMINADA       MATE  IMPORTADO        2.0  \n",
       "4                OTROS  MADERA LAMINADA       MATE  IMPORTADO        2.0  \n",
       "...                ...              ...        ...        ...        ...  \n",
       "28035           SET 6P           VIDRIO  BRILLANTE  IMPORTADO        2.0  \n",
       "28036           SET 4P   METAL + VIDRIO       MATE  IMPORTADO        2.0  \n",
       "28037           SET 4P   METAL + VIDRIO       MATE  IMPORTADO        5.0  \n",
       "28038           SET 4P   METAL + VIDRIO       MATE  IMPORTADO        2.0  \n",
       "28039           SET 4P   METAL + VIDRIO       MATE  IMPORTADO        2.0  \n",
       "\n",
       "[28040 rows x 17 columns]"
      ],
      "text/html": [
       "<div>\n",
       "<style scoped>\n",
       "    .dataframe tbody tr th:only-of-type {\n",
       "        vertical-align: middle;\n",
       "    }\n",
       "\n",
       "    .dataframe tbody tr th {\n",
       "        vertical-align: top;\n",
       "    }\n",
       "\n",
       "    .dataframe thead th {\n",
       "        text-align: right;\n",
       "    }\n",
       "</style>\n",
       "<table border=\"1\" class=\"dataframe\">\n",
       "  <thead>\n",
       "    <tr style=\"text-align: right;\">\n",
       "      <th></th>\n",
       "      <th>REF</th>\n",
       "      <th>TIENDA</th>\n",
       "      <th>DATE</th>\n",
       "      <th>ANIO</th>\n",
       "      <th>MES</th>\n",
       "      <th>PRECIO</th>\n",
       "      <th>DESCUENTO(%)</th>\n",
       "      <th>F_COVID</th>\n",
       "      <th>AREA</th>\n",
       "      <th>ALTO</th>\n",
       "      <th>PUESTOS</th>\n",
       "      <th>COLOR_POS</th>\n",
       "      <th>SUBCATEGORIA_POS</th>\n",
       "      <th>MATERIAL_POS</th>\n",
       "      <th>ACABADO</th>\n",
       "      <th>ORIGEN</th>\n",
       "      <th>PREDICTED</th>\n",
       "    </tr>\n",
       "  </thead>\n",
       "  <tbody>\n",
       "    <tr>\n",
       "      <th>0</th>\n",
       "      <td>BR0002:00193:</td>\n",
       "      <td>PAGINA WEB FIOTTI</td>\n",
       "      <td>2021-05</td>\n",
       "      <td>2021</td>\n",
       "      <td>5</td>\n",
       "      <td>3.320816e+05</td>\n",
       "      <td>0.529850</td>\n",
       "      <td>1</td>\n",
       "      <td>2583.0</td>\n",
       "      <td>180.0</td>\n",
       "      <td>NaN</td>\n",
       "      <td>OTRO</td>\n",
       "      <td>OTROS</td>\n",
       "      <td>MADERA LAMINADA</td>\n",
       "      <td>MATE</td>\n",
       "      <td>IMPORTADO</td>\n",
       "      <td>2.0</td>\n",
       "    </tr>\n",
       "    <tr>\n",
       "      <th>1</th>\n",
       "      <td>BR0002:00193:</td>\n",
       "      <td>PUNTO DE VENTA AV 68</td>\n",
       "      <td>2021-05</td>\n",
       "      <td>2021</td>\n",
       "      <td>5</td>\n",
       "      <td>3.221593e+05</td>\n",
       "      <td>0.453105</td>\n",
       "      <td>1</td>\n",
       "      <td>2583.0</td>\n",
       "      <td>180.0</td>\n",
       "      <td>NaN</td>\n",
       "      <td>OTRO</td>\n",
       "      <td>OTROS</td>\n",
       "      <td>MADERA LAMINADA</td>\n",
       "      <td>MATE</td>\n",
       "      <td>IMPORTADO</td>\n",
       "      <td>3.0</td>\n",
       "    </tr>\n",
       "    <tr>\n",
       "      <th>2</th>\n",
       "      <td>BR0002:00193:</td>\n",
       "      <td>PUNTO DE VENTA CALLE 134</td>\n",
       "      <td>2021-05</td>\n",
       "      <td>2021</td>\n",
       "      <td>5</td>\n",
       "      <td>3.241880e+05</td>\n",
       "      <td>0.392612</td>\n",
       "      <td>1</td>\n",
       "      <td>2583.0</td>\n",
       "      <td>180.0</td>\n",
       "      <td>NaN</td>\n",
       "      <td>OTRO</td>\n",
       "      <td>OTROS</td>\n",
       "      <td>MADERA LAMINADA</td>\n",
       "      <td>MATE</td>\n",
       "      <td>IMPORTADO</td>\n",
       "      <td>2.0</td>\n",
       "    </tr>\n",
       "    <tr>\n",
       "      <th>3</th>\n",
       "      <td>BR0002:00193:</td>\n",
       "      <td>PUNTO DE VENTA CENTRO MAYOR</td>\n",
       "      <td>2021-05</td>\n",
       "      <td>2021</td>\n",
       "      <td>5</td>\n",
       "      <td>3.241880e+05</td>\n",
       "      <td>0.392612</td>\n",
       "      <td>1</td>\n",
       "      <td>2583.0</td>\n",
       "      <td>180.0</td>\n",
       "      <td>NaN</td>\n",
       "      <td>OTRO</td>\n",
       "      <td>OTROS</td>\n",
       "      <td>MADERA LAMINADA</td>\n",
       "      <td>MATE</td>\n",
       "      <td>IMPORTADO</td>\n",
       "      <td>2.0</td>\n",
       "    </tr>\n",
       "    <tr>\n",
       "      <th>4</th>\n",
       "      <td>BR0002:00193:</td>\n",
       "      <td>PUNTO DE VENTA PLAZA CENTRAL</td>\n",
       "      <td>2021-05</td>\n",
       "      <td>2021</td>\n",
       "      <td>5</td>\n",
       "      <td>3.284670e+05</td>\n",
       "      <td>0.468105</td>\n",
       "      <td>1</td>\n",
       "      <td>2583.0</td>\n",
       "      <td>180.0</td>\n",
       "      <td>NaN</td>\n",
       "      <td>OTRO</td>\n",
       "      <td>OTROS</td>\n",
       "      <td>MADERA LAMINADA</td>\n",
       "      <td>MATE</td>\n",
       "      <td>IMPORTADO</td>\n",
       "      <td>2.0</td>\n",
       "    </tr>\n",
       "    <tr>\n",
       "      <th>...</th>\n",
       "      <td>...</td>\n",
       "      <td>...</td>\n",
       "      <td>...</td>\n",
       "      <td>...</td>\n",
       "      <td>...</td>\n",
       "      <td>...</td>\n",
       "      <td>...</td>\n",
       "      <td>...</td>\n",
       "      <td>...</td>\n",
       "      <td>...</td>\n",
       "      <td>...</td>\n",
       "      <td>...</td>\n",
       "      <td>...</td>\n",
       "      <td>...</td>\n",
       "      <td>...</td>\n",
       "      <td>...</td>\n",
       "      <td>...</td>\n",
       "    </tr>\n",
       "    <tr>\n",
       "      <th>28035</th>\n",
       "      <td>XZ0987:00024:</td>\n",
       "      <td>PUNTO DE VENTA SOACHA</td>\n",
       "      <td>2021-12</td>\n",
       "      <td>2021</td>\n",
       "      <td>12</td>\n",
       "      <td>1.006722e+06</td>\n",
       "      <td>0.600000</td>\n",
       "      <td>1</td>\n",
       "      <td>10500.0</td>\n",
       "      <td>75.0</td>\n",
       "      <td>6.0</td>\n",
       "      <td>ROJO</td>\n",
       "      <td>SET 6P</td>\n",
       "      <td>VIDRIO</td>\n",
       "      <td>BRILLANTE</td>\n",
       "      <td>IMPORTADO</td>\n",
       "      <td>2.0</td>\n",
       "    </tr>\n",
       "    <tr>\n",
       "      <th>28036</th>\n",
       "      <td>XZ0989:00024:</td>\n",
       "      <td>ADMINISTRACION</td>\n",
       "      <td>2021-12</td>\n",
       "      <td>2021</td>\n",
       "      <td>12</td>\n",
       "      <td>8.021830e+05</td>\n",
       "      <td>0.599999</td>\n",
       "      <td>1</td>\n",
       "      <td>8400.0</td>\n",
       "      <td>75.0</td>\n",
       "      <td>4.0</td>\n",
       "      <td>ROJO</td>\n",
       "      <td>SET 4P</td>\n",
       "      <td>METAL + VIDRIO</td>\n",
       "      <td>MATE</td>\n",
       "      <td>IMPORTADO</td>\n",
       "      <td>2.0</td>\n",
       "    </tr>\n",
       "    <tr>\n",
       "      <th>28037</th>\n",
       "      <td>XZ0989:00024:</td>\n",
       "      <td>PAGINA WEB FIOTTI</td>\n",
       "      <td>2021-12</td>\n",
       "      <td>2021</td>\n",
       "      <td>12</td>\n",
       "      <td>4.392000e+05</td>\n",
       "      <td>0.000000</td>\n",
       "      <td>1</td>\n",
       "      <td>8400.0</td>\n",
       "      <td>75.0</td>\n",
       "      <td>4.0</td>\n",
       "      <td>ROJO</td>\n",
       "      <td>SET 4P</td>\n",
       "      <td>METAL + VIDRIO</td>\n",
       "      <td>MATE</td>\n",
       "      <td>IMPORTADO</td>\n",
       "      <td>5.0</td>\n",
       "    </tr>\n",
       "    <tr>\n",
       "      <th>28038</th>\n",
       "      <td>XZ0989:00024:</td>\n",
       "      <td>PUNTO DE VENTA CALI</td>\n",
       "      <td>2021-12</td>\n",
       "      <td>2021</td>\n",
       "      <td>12</td>\n",
       "      <td>6.709250e+05</td>\n",
       "      <td>0.500001</td>\n",
       "      <td>1</td>\n",
       "      <td>8400.0</td>\n",
       "      <td>75.0</td>\n",
       "      <td>4.0</td>\n",
       "      <td>ROJO</td>\n",
       "      <td>SET 4P</td>\n",
       "      <td>METAL + VIDRIO</td>\n",
       "      <td>MATE</td>\n",
       "      <td>IMPORTADO</td>\n",
       "      <td>2.0</td>\n",
       "    </tr>\n",
       "    <tr>\n",
       "      <th>28039</th>\n",
       "      <td>XZ0989:00024:</td>\n",
       "      <td>PUNTO DE VENTA CALLE 134</td>\n",
       "      <td>2021-12</td>\n",
       "      <td>2021</td>\n",
       "      <td>12</td>\n",
       "      <td>8.021830e+05</td>\n",
       "      <td>0.599999</td>\n",
       "      <td>1</td>\n",
       "      <td>8400.0</td>\n",
       "      <td>75.0</td>\n",
       "      <td>4.0</td>\n",
       "      <td>ROJO</td>\n",
       "      <td>SET 4P</td>\n",
       "      <td>METAL + VIDRIO</td>\n",
       "      <td>MATE</td>\n",
       "      <td>IMPORTADO</td>\n",
       "      <td>2.0</td>\n",
       "    </tr>\n",
       "  </tbody>\n",
       "</table>\n",
       "<p>28040 rows × 17 columns</p>\n",
       "</div>"
      ]
     },
     "metadata": {},
     "execution_count": 14
    }
   ],
   "metadata": {}
  },
  {
   "cell_type": "code",
   "execution_count": 18,
   "source": [
    "futuro['PREDICTED_M'] = (futuro.PREDICTED / 5).round()\n",
    "\n",
    "d_futuro = futuro.groupby(['DATE']).sum().reset_index()\n",
    "d_pasado = pasado.groupby(['DATE']).sum().reset_index()\n",
    "defi = d_futuro#.query('REF==\"D00935:00048:00048\"')\n",
    "fig = go.Figure()\n",
    "fig.add_scatter(x=defi['DATE'], y=defi['PREDICTED_M'], mode='lines', name='Valores predichos')\n",
    "fig.add_scatter(x=d_pasado['DATE'], y=d_pasado['CANTIDAD'], mode='lines', name='Valores reales')\n"
   ],
   "outputs": [
    {
     "output_type": "display_data",
     "data": {
      "application/vnd.plotly.v1+json": {
       "config": {
        "plotlyServerURL": "https://plot.ly"
       },
       "data": [
        {
         "mode": "lines",
         "name": "Valores predichos",
         "type": "scatter",
         "x": [
          "2021-05",
          "2021-06",
          "2021-07",
          "2021-08",
          "2021-09",
          "2021-10",
          "2021-11",
          "2021-12"
         ],
         "y": [
          1483,
          1652,
          1429,
          1562,
          1373,
          1361,
          1376,
          1376
         ]
        },
        {
         "mode": "lines",
         "name": "Valores reales",
         "type": "scatter",
         "x": [
          "2019-01",
          "2019-02",
          "2019-03",
          "2019-04",
          "2019-05",
          "2019-06",
          "2019-07",
          "2019-08",
          "2019-09",
          "2019-10",
          "2019-11",
          "2019-12",
          "2020-01",
          "2020-02",
          "2020-03",
          "2020-04",
          "2020-05",
          "2020-06",
          "2020-07",
          "2020-08",
          "2020-09",
          "2020-10",
          "2020-11",
          "2020-12",
          "2021-01",
          "2021-02",
          "2021-03",
          "2021-04"
         ],
         "y": [
          408,
          350,
          638,
          615,
          765,
          842,
          918,
          698,
          1013,
          845,
          1701,
          1150,
          1426,
          1251,
          515,
          59,
          156,
          1022,
          995,
          732,
          1157,
          1410,
          1800,
          1565,
          515,
          1332,
          1218,
          668
         ]
        }
       ],
       "layout": {
        "template": {
         "data": {
          "bar": [
           {
            "error_x": {
             "color": "#2a3f5f"
            },
            "error_y": {
             "color": "#2a3f5f"
            },
            "marker": {
             "line": {
              "color": "#E5ECF6",
              "width": 0.5
             },
             "pattern": {
              "fillmode": "overlay",
              "size": 10,
              "solidity": 0.2
             }
            },
            "type": "bar"
           }
          ],
          "barpolar": [
           {
            "marker": {
             "line": {
              "color": "#E5ECF6",
              "width": 0.5
             },
             "pattern": {
              "fillmode": "overlay",
              "size": 10,
              "solidity": 0.2
             }
            },
            "type": "barpolar"
           }
          ],
          "carpet": [
           {
            "aaxis": {
             "endlinecolor": "#2a3f5f",
             "gridcolor": "white",
             "linecolor": "white",
             "minorgridcolor": "white",
             "startlinecolor": "#2a3f5f"
            },
            "baxis": {
             "endlinecolor": "#2a3f5f",
             "gridcolor": "white",
             "linecolor": "white",
             "minorgridcolor": "white",
             "startlinecolor": "#2a3f5f"
            },
            "type": "carpet"
           }
          ],
          "choropleth": [
           {
            "colorbar": {
             "outlinewidth": 0,
             "ticks": ""
            },
            "type": "choropleth"
           }
          ],
          "contour": [
           {
            "colorbar": {
             "outlinewidth": 0,
             "ticks": ""
            },
            "colorscale": [
             [
              0,
              "#0d0887"
             ],
             [
              0.1111111111111111,
              "#46039f"
             ],
             [
              0.2222222222222222,
              "#7201a8"
             ],
             [
              0.3333333333333333,
              "#9c179e"
             ],
             [
              0.4444444444444444,
              "#bd3786"
             ],
             [
              0.5555555555555556,
              "#d8576b"
             ],
             [
              0.6666666666666666,
              "#ed7953"
             ],
             [
              0.7777777777777778,
              "#fb9f3a"
             ],
             [
              0.8888888888888888,
              "#fdca26"
             ],
             [
              1,
              "#f0f921"
             ]
            ],
            "type": "contour"
           }
          ],
          "contourcarpet": [
           {
            "colorbar": {
             "outlinewidth": 0,
             "ticks": ""
            },
            "type": "contourcarpet"
           }
          ],
          "heatmap": [
           {
            "colorbar": {
             "outlinewidth": 0,
             "ticks": ""
            },
            "colorscale": [
             [
              0,
              "#0d0887"
             ],
             [
              0.1111111111111111,
              "#46039f"
             ],
             [
              0.2222222222222222,
              "#7201a8"
             ],
             [
              0.3333333333333333,
              "#9c179e"
             ],
             [
              0.4444444444444444,
              "#bd3786"
             ],
             [
              0.5555555555555556,
              "#d8576b"
             ],
             [
              0.6666666666666666,
              "#ed7953"
             ],
             [
              0.7777777777777778,
              "#fb9f3a"
             ],
             [
              0.8888888888888888,
              "#fdca26"
             ],
             [
              1,
              "#f0f921"
             ]
            ],
            "type": "heatmap"
           }
          ],
          "heatmapgl": [
           {
            "colorbar": {
             "outlinewidth": 0,
             "ticks": ""
            },
            "colorscale": [
             [
              0,
              "#0d0887"
             ],
             [
              0.1111111111111111,
              "#46039f"
             ],
             [
              0.2222222222222222,
              "#7201a8"
             ],
             [
              0.3333333333333333,
              "#9c179e"
             ],
             [
              0.4444444444444444,
              "#bd3786"
             ],
             [
              0.5555555555555556,
              "#d8576b"
             ],
             [
              0.6666666666666666,
              "#ed7953"
             ],
             [
              0.7777777777777778,
              "#fb9f3a"
             ],
             [
              0.8888888888888888,
              "#fdca26"
             ],
             [
              1,
              "#f0f921"
             ]
            ],
            "type": "heatmapgl"
           }
          ],
          "histogram": [
           {
            "marker": {
             "pattern": {
              "fillmode": "overlay",
              "size": 10,
              "solidity": 0.2
             }
            },
            "type": "histogram"
           }
          ],
          "histogram2d": [
           {
            "colorbar": {
             "outlinewidth": 0,
             "ticks": ""
            },
            "colorscale": [
             [
              0,
              "#0d0887"
             ],
             [
              0.1111111111111111,
              "#46039f"
             ],
             [
              0.2222222222222222,
              "#7201a8"
             ],
             [
              0.3333333333333333,
              "#9c179e"
             ],
             [
              0.4444444444444444,
              "#bd3786"
             ],
             [
              0.5555555555555556,
              "#d8576b"
             ],
             [
              0.6666666666666666,
              "#ed7953"
             ],
             [
              0.7777777777777778,
              "#fb9f3a"
             ],
             [
              0.8888888888888888,
              "#fdca26"
             ],
             [
              1,
              "#f0f921"
             ]
            ],
            "type": "histogram2d"
           }
          ],
          "histogram2dcontour": [
           {
            "colorbar": {
             "outlinewidth": 0,
             "ticks": ""
            },
            "colorscale": [
             [
              0,
              "#0d0887"
             ],
             [
              0.1111111111111111,
              "#46039f"
             ],
             [
              0.2222222222222222,
              "#7201a8"
             ],
             [
              0.3333333333333333,
              "#9c179e"
             ],
             [
              0.4444444444444444,
              "#bd3786"
             ],
             [
              0.5555555555555556,
              "#d8576b"
             ],
             [
              0.6666666666666666,
              "#ed7953"
             ],
             [
              0.7777777777777778,
              "#fb9f3a"
             ],
             [
              0.8888888888888888,
              "#fdca26"
             ],
             [
              1,
              "#f0f921"
             ]
            ],
            "type": "histogram2dcontour"
           }
          ],
          "mesh3d": [
           {
            "colorbar": {
             "outlinewidth": 0,
             "ticks": ""
            },
            "type": "mesh3d"
           }
          ],
          "parcoords": [
           {
            "line": {
             "colorbar": {
              "outlinewidth": 0,
              "ticks": ""
             }
            },
            "type": "parcoords"
           }
          ],
          "pie": [
           {
            "automargin": true,
            "type": "pie"
           }
          ],
          "scatter": [
           {
            "marker": {
             "colorbar": {
              "outlinewidth": 0,
              "ticks": ""
             }
            },
            "type": "scatter"
           }
          ],
          "scatter3d": [
           {
            "line": {
             "colorbar": {
              "outlinewidth": 0,
              "ticks": ""
             }
            },
            "marker": {
             "colorbar": {
              "outlinewidth": 0,
              "ticks": ""
             }
            },
            "type": "scatter3d"
           }
          ],
          "scattercarpet": [
           {
            "marker": {
             "colorbar": {
              "outlinewidth": 0,
              "ticks": ""
             }
            },
            "type": "scattercarpet"
           }
          ],
          "scattergeo": [
           {
            "marker": {
             "colorbar": {
              "outlinewidth": 0,
              "ticks": ""
             }
            },
            "type": "scattergeo"
           }
          ],
          "scattergl": [
           {
            "marker": {
             "colorbar": {
              "outlinewidth": 0,
              "ticks": ""
             }
            },
            "type": "scattergl"
           }
          ],
          "scattermapbox": [
           {
            "marker": {
             "colorbar": {
              "outlinewidth": 0,
              "ticks": ""
             }
            },
            "type": "scattermapbox"
           }
          ],
          "scatterpolar": [
           {
            "marker": {
             "colorbar": {
              "outlinewidth": 0,
              "ticks": ""
             }
            },
            "type": "scatterpolar"
           }
          ],
          "scatterpolargl": [
           {
            "marker": {
             "colorbar": {
              "outlinewidth": 0,
              "ticks": ""
             }
            },
            "type": "scatterpolargl"
           }
          ],
          "scatterternary": [
           {
            "marker": {
             "colorbar": {
              "outlinewidth": 0,
              "ticks": ""
             }
            },
            "type": "scatterternary"
           }
          ],
          "surface": [
           {
            "colorbar": {
             "outlinewidth": 0,
             "ticks": ""
            },
            "colorscale": [
             [
              0,
              "#0d0887"
             ],
             [
              0.1111111111111111,
              "#46039f"
             ],
             [
              0.2222222222222222,
              "#7201a8"
             ],
             [
              0.3333333333333333,
              "#9c179e"
             ],
             [
              0.4444444444444444,
              "#bd3786"
             ],
             [
              0.5555555555555556,
              "#d8576b"
             ],
             [
              0.6666666666666666,
              "#ed7953"
             ],
             [
              0.7777777777777778,
              "#fb9f3a"
             ],
             [
              0.8888888888888888,
              "#fdca26"
             ],
             [
              1,
              "#f0f921"
             ]
            ],
            "type": "surface"
           }
          ],
          "table": [
           {
            "cells": {
             "fill": {
              "color": "#EBF0F8"
             },
             "line": {
              "color": "white"
             }
            },
            "header": {
             "fill": {
              "color": "#C8D4E3"
             },
             "line": {
              "color": "white"
             }
            },
            "type": "table"
           }
          ]
         },
         "layout": {
          "annotationdefaults": {
           "arrowcolor": "#2a3f5f",
           "arrowhead": 0,
           "arrowwidth": 1
          },
          "autotypenumbers": "strict",
          "coloraxis": {
           "colorbar": {
            "outlinewidth": 0,
            "ticks": ""
           }
          },
          "colorscale": {
           "diverging": [
            [
             0,
             "#8e0152"
            ],
            [
             0.1,
             "#c51b7d"
            ],
            [
             0.2,
             "#de77ae"
            ],
            [
             0.3,
             "#f1b6da"
            ],
            [
             0.4,
             "#fde0ef"
            ],
            [
             0.5,
             "#f7f7f7"
            ],
            [
             0.6,
             "#e6f5d0"
            ],
            [
             0.7,
             "#b8e186"
            ],
            [
             0.8,
             "#7fbc41"
            ],
            [
             0.9,
             "#4d9221"
            ],
            [
             1,
             "#276419"
            ]
           ],
           "sequential": [
            [
             0,
             "#0d0887"
            ],
            [
             0.1111111111111111,
             "#46039f"
            ],
            [
             0.2222222222222222,
             "#7201a8"
            ],
            [
             0.3333333333333333,
             "#9c179e"
            ],
            [
             0.4444444444444444,
             "#bd3786"
            ],
            [
             0.5555555555555556,
             "#d8576b"
            ],
            [
             0.6666666666666666,
             "#ed7953"
            ],
            [
             0.7777777777777778,
             "#fb9f3a"
            ],
            [
             0.8888888888888888,
             "#fdca26"
            ],
            [
             1,
             "#f0f921"
            ]
           ],
           "sequentialminus": [
            [
             0,
             "#0d0887"
            ],
            [
             0.1111111111111111,
             "#46039f"
            ],
            [
             0.2222222222222222,
             "#7201a8"
            ],
            [
             0.3333333333333333,
             "#9c179e"
            ],
            [
             0.4444444444444444,
             "#bd3786"
            ],
            [
             0.5555555555555556,
             "#d8576b"
            ],
            [
             0.6666666666666666,
             "#ed7953"
            ],
            [
             0.7777777777777778,
             "#fb9f3a"
            ],
            [
             0.8888888888888888,
             "#fdca26"
            ],
            [
             1,
             "#f0f921"
            ]
           ]
          },
          "colorway": [
           "#636efa",
           "#EF553B",
           "#00cc96",
           "#ab63fa",
           "#FFA15A",
           "#19d3f3",
           "#FF6692",
           "#B6E880",
           "#FF97FF",
           "#FECB52"
          ],
          "font": {
           "color": "#2a3f5f"
          },
          "geo": {
           "bgcolor": "white",
           "lakecolor": "white",
           "landcolor": "#E5ECF6",
           "showlakes": true,
           "showland": true,
           "subunitcolor": "white"
          },
          "hoverlabel": {
           "align": "left"
          },
          "hovermode": "closest",
          "mapbox": {
           "style": "light"
          },
          "paper_bgcolor": "white",
          "plot_bgcolor": "#E5ECF6",
          "polar": {
           "angularaxis": {
            "gridcolor": "white",
            "linecolor": "white",
            "ticks": ""
           },
           "bgcolor": "#E5ECF6",
           "radialaxis": {
            "gridcolor": "white",
            "linecolor": "white",
            "ticks": ""
           }
          },
          "scene": {
           "xaxis": {
            "backgroundcolor": "#E5ECF6",
            "gridcolor": "white",
            "gridwidth": 2,
            "linecolor": "white",
            "showbackground": true,
            "ticks": "",
            "zerolinecolor": "white"
           },
           "yaxis": {
            "backgroundcolor": "#E5ECF6",
            "gridcolor": "white",
            "gridwidth": 2,
            "linecolor": "white",
            "showbackground": true,
            "ticks": "",
            "zerolinecolor": "white"
           },
           "zaxis": {
            "backgroundcolor": "#E5ECF6",
            "gridcolor": "white",
            "gridwidth": 2,
            "linecolor": "white",
            "showbackground": true,
            "ticks": "",
            "zerolinecolor": "white"
           }
          },
          "shapedefaults": {
           "line": {
            "color": "#2a3f5f"
           }
          },
          "ternary": {
           "aaxis": {
            "gridcolor": "white",
            "linecolor": "white",
            "ticks": ""
           },
           "baxis": {
            "gridcolor": "white",
            "linecolor": "white",
            "ticks": ""
           },
           "bgcolor": "#E5ECF6",
           "caxis": {
            "gridcolor": "white",
            "linecolor": "white",
            "ticks": ""
           }
          },
          "title": {
           "x": 0.05
          },
          "xaxis": {
           "automargin": true,
           "gridcolor": "white",
           "linecolor": "white",
           "ticks": "",
           "title": {
            "standoff": 15
           },
           "zerolinecolor": "white",
           "zerolinewidth": 2
          },
          "yaxis": {
           "automargin": true,
           "gridcolor": "white",
           "linecolor": "white",
           "ticks": "",
           "title": {
            "standoff": 15
           },
           "zerolinecolor": "white",
           "zerolinewidth": 2
          }
         }
        }
       }
      }
     },
     "metadata": {}
    }
   ],
   "metadata": {}
  },
  {
   "cell_type": "code",
   "execution_count": 21,
   "source": [
    "sales = DataManager().sales_prod.copy()\n",
    "n = len(sales[(sales.ANIO == 2021) & (sales.MES == 4)].REF.unique())\n",
    "m = len(sales.REF.unique())\n",
    "print(n%m)"
   ],
   "outputs": [
    {
     "output_type": "stream",
     "name": "stdout",
     "text": [
      "284\n"
     ]
    }
   ],
   "metadata": {}
  },
  {
   "cell_type": "code",
   "execution_count": 22,
   "source": [
    "g = len(futuro[(futuro.ANIO == 2021) & (futuro.MES == 5) & (futuro.PREDICTED_M > 0)].REF.unique())\n",
    "h = len(futuro.REF.unique())\n",
    "print(g,h)"
   ],
   "outputs": [
    {
     "output_type": "stream",
     "name": "stdout",
     "text": [
      "413 584\n"
     ]
    }
   ],
   "metadata": {}
  },
  {
   "cell_type": "code",
   "execution_count": null,
   "source": [],
   "outputs": [],
   "metadata": {}
  }
 ],
 "metadata": {
  "kernelspec": {
   "name": "python3",
   "display_name": "Python 3.9.6 64-bit"
  },
  "language_info": {
   "codemirror_mode": {
    "name": "ipython",
    "version": 3
   },
   "file_extension": ".py",
   "mimetype": "text/x-python",
   "name": "python",
   "nbconvert_exporter": "python",
   "pygments_lexer": "ipython3",
   "version": "3.9.6"
  },
  "interpreter": {
   "hash": "aee8b7b246df8f9039afb4144a1f6fd8d2ca17a180786b69acc140d282b71a49"
  }
 },
 "nbformat": 4,
 "nbformat_minor": 5
}