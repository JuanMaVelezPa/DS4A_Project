{
 "cells": [
  {
   "cell_type": "code",
   "execution_count": 2,
   "source": [
    "%pylab inline\n",
    "import pandas as pd\n",
    "\n",
    "from dataManager import DataManager\n",
    "from model import ModelManager as manager\n",
    "\n",
    "from sklearn.preprocessing import MinMaxScaler\n",
    "from sklearn.ensemble import GradientBoostingRegressor\n",
    "from sklearn.metrics import mean_squared_error as mse\n",
    "\n",
    "import plotly.graph_objects as go"
   ],
   "outputs": [
    {
     "output_type": "stream",
     "name": "stdout",
     "text": [
      "Populating the interactive namespace from numpy and matplotlib\n"
     ]
    }
   ],
   "metadata": {}
  },
  {
   "cell_type": "code",
   "execution_count": 3,
   "source": [
    "prods = data = DataManager().products.drop_duplicates().copy()\n",
    "prods['AREA'] = prods.ANCHO * prods.FONDO\n",
    "\n",
    "data = DataManager().sales_ref_month_sin_ventas_mayores()\n",
    "data['DATE'] = data['ANIO'].astype(str) + '-' + data['MES'].astype(str).str.zfill(2)\n",
    "\n",
    "df = data.pivot_table(index='REF',columns=['DATE','ANIO','MES'],values='CANTIDAD',aggfunc='sum').reset_index()\n",
    "df = pd.melt(df,id_vars='REF')\n",
    "\n",
    "df = df.sort_values(['REF','DATE'])\n",
    "df = df.rename(columns={'value':'CANTIDAD'})\n",
    "df = df.reset_index(drop=True).fillna(0)\n",
    "\n",
    "df = df.merge(data.drop(columns=['TIENDA','ANIO','MES','CANTIDAD']).groupby(['REF','DATE']).mean(),on=['REF','DATE'],how='left',validate='1:1')\n",
    "df = df[['REF','DATE','ANIO','MES','CANTIDAD','PRECIO','DESCUENTO(%)','F_COVID']]\n",
    "df = df.fillna(0)\n",
    "\n",
    "df = df.merge(prods,on='REF',validate='m:1')\n",
    "df = df.sort_values(['ANIO','MES']).reset_index(drop=True)"
   ],
   "outputs": [],
   "metadata": {}
  },
  {
   "cell_type": "code",
   "execution_count": 10,
   "source": [
    "num_var=['AREA','ALTO','DESCUENTO(%)','PRECIO','CANTIDAD']\n",
    "x_num=df[num_var[:-1]].astype('float')\n",
    "\n",
    "cat_var=[\n",
    "    'ANIO', 'MES', 'PUESTOS', 'COLOR_POS', 'SUBCATEGORIA_POS', 'ESTILO', 'F_COVID' \n",
    "]\n",
    "x_cat=df[cat_var].astype('category')\n",
    "x_cat_dummies=pd.get_dummies(x_cat)\n",
    "\n",
    "y = df['CANTIDAD']\n",
    "\n",
    "scaler = MinMaxScaler()\n",
    "x_num_norm = scaler.fit_transform(x_num)\n",
    "x = np.append(x_num_norm,x_cat_dummies,axis=1)\n",
    "\n",
    "#split data till januar 2021\n",
    "\n",
    "index = df[(df.ANIO==2021)].index[0]\n",
    "\n",
    "x_train = x[:index]\n",
    "y_train = y[:index]\n",
    "x_test = x[index:]\n",
    "y_test = y[index:]"
   ],
   "outputs": [],
   "metadata": {}
  },
  {
   "cell_type": "code",
   "execution_count": 15,
   "source": [
    "df[index-1:]"
   ],
   "outputs": [
    {
     "output_type": "execute_result",
     "data": {
      "text/plain": [
       "                 REF     DATE  ANIO  MES  CANTIDAD         PRECIO  \\\n",
       "30071  XZ0993:00100:  2020-12  2020   12       0.0       0.000000   \n",
       "30072  A01040:00005:  2021-01  2021    1       0.0       0.000000   \n",
       "30073  BR0002:00193:  2021-01  2021    1       2.0  325593.000000   \n",
       "30074  BR0003:00194:  2021-01  2021    1       1.0  324188.000000   \n",
       "30075  BR0004:00193:  2021-01  2021    1       0.0       0.000000   \n",
       "...              ...      ...   ...  ...       ...            ...   \n",
       "35079  XZ0986:00005:  2021-04  2021    4       0.0       0.000000   \n",
       "35080  XZ0987:00024:  2021-04  2021    4       0.0       0.000000   \n",
       "35081  XZ0988:00005:  2021-04  2021    4       0.0       0.000000   \n",
       "35082  XZ0989:00024:  2021-04  2021    4       0.0       0.000000   \n",
       "35083  XZ0993:00100:  2021-04  2021    4       3.0  577867.333333   \n",
       "\n",
       "       DESCUENTO(%)  F_COVID   ITEM                DESCRIPCION  ... PUESTOS  \\\n",
       "30071      0.000000      0.0  11151          MESA CENTRO FILIS  ...     NaN   \n",
       "30072      0.000000      0.0  11057           SILLA COMEDOR 85  ...     1.0   \n",
       "30073      0.417836      2.0  19389              ESTANTE PRAIA  ...     NaN   \n",
       "30074      0.392612      2.0  19390              ESTANTE PRAIA  ...     NaN   \n",
       "30075      0.000000      0.0  19391  ESCRITORIO RETRO L PARANA  ...     NaN   \n",
       "...             ...      ...    ...                        ...  ...     ...   \n",
       "35079      0.000000      0.0  11123             COMEDOR SAMUEL  ...     6.0   \n",
       "35080      0.000000      0.0  11127             COMEDOR SAMUEL  ...     6.0   \n",
       "35081      0.000000      0.0  11131             COMEDOR SAMUEL  ...     4.0   \n",
       "35082      0.000000      0.0  11136             COMEDOR SAMUEL  ...     4.0   \n",
       "35083      0.535837      1.0  11151          MESA CENTRO FILIS  ...     NaN   \n",
       "\n",
       "                COLOR  ANCHO   ALTO  FONDO  \\\n",
       "30071          BLANCO  100.0   44.0   50.0   \n",
       "30072           NEGRO   40.0   77.0   47.0   \n",
       "30073  BLANCO/RUSTICO   41.0  180.0   63.0   \n",
       "30074   NEGRO/RUSTICO   41.0  180.0   63.0   \n",
       "30075  BLANCO/RUSTICO  136.0   78.0  108.0   \n",
       "...               ...    ...    ...    ...   \n",
       "35079           NEGRO  150.0   75.0   70.0   \n",
       "35080            ROJO  150.0   75.0   70.0   \n",
       "35081           NEGRO  120.0   75.0   70.0   \n",
       "35082            ROJO  120.0   75.0   70.0   \n",
       "35083          BLANCO  100.0   44.0   50.0   \n",
       "\n",
       "                                     DESC_LARGA   SUBCATEGORIA_POS  COLOR_POS  \\\n",
       "30071  MESA CENTRO FILIS LACA BL 2C LIQUIDACIÓN    MESAS DE CENTRO     BLANCO   \n",
       "30072      SILLA COMEDOR 85-1062 NG NO GARANTIA  SILLAS DE COMEDOR      NEGRO   \n",
       "30073        ESTANTE PRAIA 1 GAV RT3091 BL/RUST              OTROS       OTRO   \n",
       "30074        ESTANTE PRAIA 1 GAV RT3091 NG/RUST              OTROS       OTRO   \n",
       "30075  ESCRITORIO RETRO L PARANA RT3077 BL/RUST              OTROS       OTRO   \n",
       "...                                         ...                ...        ...   \n",
       "35079            COMEDOR SAMUEL 150X90 6P NG 3C             SET 6P      NEGRO   \n",
       "35080            COMEDOR SAMUEL 150X90 6P RJ 3C             SET 6P       ROJO   \n",
       "35081                   COMEDOR SAMUEL 4P NG 3C             SET 4P      NEGRO   \n",
       "35082            COMEDOR SAMUEL 120X70 4P RJ 3C             SET 4P       ROJO   \n",
       "35083  MESA CENTRO FILIS LACA BL 2C LIQUIDACIÓN    MESAS DE CENTRO     BLANCO   \n",
       "\n",
       "          MATERIAL_POS     AREA  \n",
       "30071           VIDRIO   5000.0  \n",
       "30072        SINTÉTICO   1880.0  \n",
       "30073  MADERA LAMINADA   2583.0  \n",
       "30074  MADERA LAMINADA   2583.0  \n",
       "30075  MADERA LAMINADA  14688.0  \n",
       "...                ...      ...  \n",
       "35079           VIDRIO  10500.0  \n",
       "35080           VIDRIO  10500.0  \n",
       "35081           VIDRIO   8400.0  \n",
       "35082   METAL + VIDRIO   8400.0  \n",
       "35083           VIDRIO   5000.0  \n",
       "\n",
       "[5013 rows x 27 columns]"
      ],
      "text/html": [
       "<div>\n",
       "<style scoped>\n",
       "    .dataframe tbody tr th:only-of-type {\n",
       "        vertical-align: middle;\n",
       "    }\n",
       "\n",
       "    .dataframe tbody tr th {\n",
       "        vertical-align: top;\n",
       "    }\n",
       "\n",
       "    .dataframe thead th {\n",
       "        text-align: right;\n",
       "    }\n",
       "</style>\n",
       "<table border=\"1\" class=\"dataframe\">\n",
       "  <thead>\n",
       "    <tr style=\"text-align: right;\">\n",
       "      <th></th>\n",
       "      <th>REF</th>\n",
       "      <th>DATE</th>\n",
       "      <th>ANIO</th>\n",
       "      <th>MES</th>\n",
       "      <th>CANTIDAD</th>\n",
       "      <th>PRECIO</th>\n",
       "      <th>DESCUENTO(%)</th>\n",
       "      <th>F_COVID</th>\n",
       "      <th>ITEM</th>\n",
       "      <th>DESCRIPCION</th>\n",
       "      <th>...</th>\n",
       "      <th>PUESTOS</th>\n",
       "      <th>COLOR</th>\n",
       "      <th>ANCHO</th>\n",
       "      <th>ALTO</th>\n",
       "      <th>FONDO</th>\n",
       "      <th>DESC_LARGA</th>\n",
       "      <th>SUBCATEGORIA_POS</th>\n",
       "      <th>COLOR_POS</th>\n",
       "      <th>MATERIAL_POS</th>\n",
       "      <th>AREA</th>\n",
       "    </tr>\n",
       "  </thead>\n",
       "  <tbody>\n",
       "    <tr>\n",
       "      <th>30071</th>\n",
       "      <td>XZ0993:00100:</td>\n",
       "      <td>2020-12</td>\n",
       "      <td>2020</td>\n",
       "      <td>12</td>\n",
       "      <td>0.0</td>\n",
       "      <td>0.000000</td>\n",
       "      <td>0.000000</td>\n",
       "      <td>0.0</td>\n",
       "      <td>11151</td>\n",
       "      <td>MESA CENTRO FILIS</td>\n",
       "      <td>...</td>\n",
       "      <td>NaN</td>\n",
       "      <td>BLANCO</td>\n",
       "      <td>100.0</td>\n",
       "      <td>44.0</td>\n",
       "      <td>50.0</td>\n",
       "      <td>MESA CENTRO FILIS LACA BL 2C LIQUIDACIÓN</td>\n",
       "      <td>MESAS DE CENTRO</td>\n",
       "      <td>BLANCO</td>\n",
       "      <td>VIDRIO</td>\n",
       "      <td>5000.0</td>\n",
       "    </tr>\n",
       "    <tr>\n",
       "      <th>30072</th>\n",
       "      <td>A01040:00005:</td>\n",
       "      <td>2021-01</td>\n",
       "      <td>2021</td>\n",
       "      <td>1</td>\n",
       "      <td>0.0</td>\n",
       "      <td>0.000000</td>\n",
       "      <td>0.000000</td>\n",
       "      <td>0.0</td>\n",
       "      <td>11057</td>\n",
       "      <td>SILLA COMEDOR 85</td>\n",
       "      <td>...</td>\n",
       "      <td>1.0</td>\n",
       "      <td>NEGRO</td>\n",
       "      <td>40.0</td>\n",
       "      <td>77.0</td>\n",
       "      <td>47.0</td>\n",
       "      <td>SILLA COMEDOR 85-1062 NG NO GARANTIA</td>\n",
       "      <td>SILLAS DE COMEDOR</td>\n",
       "      <td>NEGRO</td>\n",
       "      <td>SINTÉTICO</td>\n",
       "      <td>1880.0</td>\n",
       "    </tr>\n",
       "    <tr>\n",
       "      <th>30073</th>\n",
       "      <td>BR0002:00193:</td>\n",
       "      <td>2021-01</td>\n",
       "      <td>2021</td>\n",
       "      <td>1</td>\n",
       "      <td>2.0</td>\n",
       "      <td>325593.000000</td>\n",
       "      <td>0.417836</td>\n",
       "      <td>2.0</td>\n",
       "      <td>19389</td>\n",
       "      <td>ESTANTE PRAIA</td>\n",
       "      <td>...</td>\n",
       "      <td>NaN</td>\n",
       "      <td>BLANCO/RUSTICO</td>\n",
       "      <td>41.0</td>\n",
       "      <td>180.0</td>\n",
       "      <td>63.0</td>\n",
       "      <td>ESTANTE PRAIA 1 GAV RT3091 BL/RUST</td>\n",
       "      <td>OTROS</td>\n",
       "      <td>OTRO</td>\n",
       "      <td>MADERA LAMINADA</td>\n",
       "      <td>2583.0</td>\n",
       "    </tr>\n",
       "    <tr>\n",
       "      <th>30074</th>\n",
       "      <td>BR0003:00194:</td>\n",
       "      <td>2021-01</td>\n",
       "      <td>2021</td>\n",
       "      <td>1</td>\n",
       "      <td>1.0</td>\n",
       "      <td>324188.000000</td>\n",
       "      <td>0.392612</td>\n",
       "      <td>2.0</td>\n",
       "      <td>19390</td>\n",
       "      <td>ESTANTE PRAIA</td>\n",
       "      <td>...</td>\n",
       "      <td>NaN</td>\n",
       "      <td>NEGRO/RUSTICO</td>\n",
       "      <td>41.0</td>\n",
       "      <td>180.0</td>\n",
       "      <td>63.0</td>\n",
       "      <td>ESTANTE PRAIA 1 GAV RT3091 NG/RUST</td>\n",
       "      <td>OTROS</td>\n",
       "      <td>OTRO</td>\n",
       "      <td>MADERA LAMINADA</td>\n",
       "      <td>2583.0</td>\n",
       "    </tr>\n",
       "    <tr>\n",
       "      <th>30075</th>\n",
       "      <td>BR0004:00193:</td>\n",
       "      <td>2021-01</td>\n",
       "      <td>2021</td>\n",
       "      <td>1</td>\n",
       "      <td>0.0</td>\n",
       "      <td>0.000000</td>\n",
       "      <td>0.000000</td>\n",
       "      <td>0.0</td>\n",
       "      <td>19391</td>\n",
       "      <td>ESCRITORIO RETRO L PARANA</td>\n",
       "      <td>...</td>\n",
       "      <td>NaN</td>\n",
       "      <td>BLANCO/RUSTICO</td>\n",
       "      <td>136.0</td>\n",
       "      <td>78.0</td>\n",
       "      <td>108.0</td>\n",
       "      <td>ESCRITORIO RETRO L PARANA RT3077 BL/RUST</td>\n",
       "      <td>OTROS</td>\n",
       "      <td>OTRO</td>\n",
       "      <td>MADERA LAMINADA</td>\n",
       "      <td>14688.0</td>\n",
       "    </tr>\n",
       "    <tr>\n",
       "      <th>...</th>\n",
       "      <td>...</td>\n",
       "      <td>...</td>\n",
       "      <td>...</td>\n",
       "      <td>...</td>\n",
       "      <td>...</td>\n",
       "      <td>...</td>\n",
       "      <td>...</td>\n",
       "      <td>...</td>\n",
       "      <td>...</td>\n",
       "      <td>...</td>\n",
       "      <td>...</td>\n",
       "      <td>...</td>\n",
       "      <td>...</td>\n",
       "      <td>...</td>\n",
       "      <td>...</td>\n",
       "      <td>...</td>\n",
       "      <td>...</td>\n",
       "      <td>...</td>\n",
       "      <td>...</td>\n",
       "      <td>...</td>\n",
       "      <td>...</td>\n",
       "    </tr>\n",
       "    <tr>\n",
       "      <th>35079</th>\n",
       "      <td>XZ0986:00005:</td>\n",
       "      <td>2021-04</td>\n",
       "      <td>2021</td>\n",
       "      <td>4</td>\n",
       "      <td>0.0</td>\n",
       "      <td>0.000000</td>\n",
       "      <td>0.000000</td>\n",
       "      <td>0.0</td>\n",
       "      <td>11123</td>\n",
       "      <td>COMEDOR SAMUEL</td>\n",
       "      <td>...</td>\n",
       "      <td>6.0</td>\n",
       "      <td>NEGRO</td>\n",
       "      <td>150.0</td>\n",
       "      <td>75.0</td>\n",
       "      <td>70.0</td>\n",
       "      <td>COMEDOR SAMUEL 150X90 6P NG 3C</td>\n",
       "      <td>SET 6P</td>\n",
       "      <td>NEGRO</td>\n",
       "      <td>VIDRIO</td>\n",
       "      <td>10500.0</td>\n",
       "    </tr>\n",
       "    <tr>\n",
       "      <th>35080</th>\n",
       "      <td>XZ0987:00024:</td>\n",
       "      <td>2021-04</td>\n",
       "      <td>2021</td>\n",
       "      <td>4</td>\n",
       "      <td>0.0</td>\n",
       "      <td>0.000000</td>\n",
       "      <td>0.000000</td>\n",
       "      <td>0.0</td>\n",
       "      <td>11127</td>\n",
       "      <td>COMEDOR SAMUEL</td>\n",
       "      <td>...</td>\n",
       "      <td>6.0</td>\n",
       "      <td>ROJO</td>\n",
       "      <td>150.0</td>\n",
       "      <td>75.0</td>\n",
       "      <td>70.0</td>\n",
       "      <td>COMEDOR SAMUEL 150X90 6P RJ 3C</td>\n",
       "      <td>SET 6P</td>\n",
       "      <td>ROJO</td>\n",
       "      <td>VIDRIO</td>\n",
       "      <td>10500.0</td>\n",
       "    </tr>\n",
       "    <tr>\n",
       "      <th>35081</th>\n",
       "      <td>XZ0988:00005:</td>\n",
       "      <td>2021-04</td>\n",
       "      <td>2021</td>\n",
       "      <td>4</td>\n",
       "      <td>0.0</td>\n",
       "      <td>0.000000</td>\n",
       "      <td>0.000000</td>\n",
       "      <td>0.0</td>\n",
       "      <td>11131</td>\n",
       "      <td>COMEDOR SAMUEL</td>\n",
       "      <td>...</td>\n",
       "      <td>4.0</td>\n",
       "      <td>NEGRO</td>\n",
       "      <td>120.0</td>\n",
       "      <td>75.0</td>\n",
       "      <td>70.0</td>\n",
       "      <td>COMEDOR SAMUEL 4P NG 3C</td>\n",
       "      <td>SET 4P</td>\n",
       "      <td>NEGRO</td>\n",
       "      <td>VIDRIO</td>\n",
       "      <td>8400.0</td>\n",
       "    </tr>\n",
       "    <tr>\n",
       "      <th>35082</th>\n",
       "      <td>XZ0989:00024:</td>\n",
       "      <td>2021-04</td>\n",
       "      <td>2021</td>\n",
       "      <td>4</td>\n",
       "      <td>0.0</td>\n",
       "      <td>0.000000</td>\n",
       "      <td>0.000000</td>\n",
       "      <td>0.0</td>\n",
       "      <td>11136</td>\n",
       "      <td>COMEDOR SAMUEL</td>\n",
       "      <td>...</td>\n",
       "      <td>4.0</td>\n",
       "      <td>ROJO</td>\n",
       "      <td>120.0</td>\n",
       "      <td>75.0</td>\n",
       "      <td>70.0</td>\n",
       "      <td>COMEDOR SAMUEL 120X70 4P RJ 3C</td>\n",
       "      <td>SET 4P</td>\n",
       "      <td>ROJO</td>\n",
       "      <td>METAL + VIDRIO</td>\n",
       "      <td>8400.0</td>\n",
       "    </tr>\n",
       "    <tr>\n",
       "      <th>35083</th>\n",
       "      <td>XZ0993:00100:</td>\n",
       "      <td>2021-04</td>\n",
       "      <td>2021</td>\n",
       "      <td>4</td>\n",
       "      <td>3.0</td>\n",
       "      <td>577867.333333</td>\n",
       "      <td>0.535837</td>\n",
       "      <td>1.0</td>\n",
       "      <td>11151</td>\n",
       "      <td>MESA CENTRO FILIS</td>\n",
       "      <td>...</td>\n",
       "      <td>NaN</td>\n",
       "      <td>BLANCO</td>\n",
       "      <td>100.0</td>\n",
       "      <td>44.0</td>\n",
       "      <td>50.0</td>\n",
       "      <td>MESA CENTRO FILIS LACA BL 2C LIQUIDACIÓN</td>\n",
       "      <td>MESAS DE CENTRO</td>\n",
       "      <td>BLANCO</td>\n",
       "      <td>VIDRIO</td>\n",
       "      <td>5000.0</td>\n",
       "    </tr>\n",
       "  </tbody>\n",
       "</table>\n",
       "<p>5013 rows × 27 columns</p>\n",
       "</div>"
      ]
     },
     "metadata": {},
     "execution_count": 15
    }
   ],
   "metadata": {}
  },
  {
   "cell_type": "code",
   "execution_count": 13,
   "source": [
    "%%time\r\n",
    "model = GradientBoostingRegressor(**{'learning_rate': 0.1, 'max_depth': 2, 'n_estimators': 300})\r\n",
    "model.fit(x_train,y_train)"
   ],
   "outputs": [
    {
     "output_type": "stream",
     "name": "stdout",
     "text": [
      "CPU times: user 10.1 s, sys: 194 ms, total: 10.3 s\n",
      "Wall time: 13.9 s\n"
     ]
    },
    {
     "output_type": "execute_result",
     "data": {
      "text/plain": [
       "GradientBoostingRegressor(max_depth=2, n_estimators=300)"
      ]
     },
     "metadata": {},
     "execution_count": 13
    }
   ],
   "metadata": {}
  },
  {
   "cell_type": "code",
   "execution_count": 22,
   "source": [
    "mse(model.predict(x_test),y_test)"
   ],
   "outputs": [
    {
     "output_type": "execute_result",
     "data": {
      "text/plain": [
       "6.047817363608716"
      ]
     },
     "metadata": {},
     "execution_count": 22
    }
   ],
   "metadata": {}
  },
  {
   "cell_type": "code",
   "execution_count": 15,
   "source": [
    "df['PREDICTED'] = model.predict(np.concatenate([x_train,x_test],axis=0)).round()\r\n",
    "res = df.groupby(['REF','DATE']).sum().reset_index()"
   ],
   "outputs": [],
   "metadata": {}
  },
  {
   "cell_type": "code",
   "execution_count": 20,
   "source": [
    "aux = res.query('REF==\"XA0539:00061:\"')\r\n",
    "fig = go.Figure()\r\n",
    "fig.add_scatter(x=aux['DATE'], y=aux['PREDICTED'], mode='lines', name='Valores predichos')\r\n",
    "fig.add_scatter(x=aux['DATE'], y=aux['CANTIDAD'], mode='lines', name='Valores reales')"
   ],
   "outputs": [
    {
     "output_type": "display_data",
     "data": {
      "application/vnd.plotly.v1+json": {
       "config": {
        "plotlyServerURL": "https://plot.ly"
       },
       "data": [
        {
         "mode": "lines",
         "name": "Valores predichos",
         "type": "scatter",
         "x": [
          "2019-01",
          "2019-02",
          "2019-03",
          "2019-04",
          "2019-05",
          "2019-06",
          "2019-07",
          "2019-08",
          "2019-09",
          "2019-10",
          "2019-11",
          "2019-12",
          "2020-01",
          "2020-02",
          "2020-03",
          "2020-04",
          "2020-05",
          "2020-06",
          "2020-07",
          "2020-08",
          "2020-09",
          "2020-10",
          "2020-11",
          "2020-12",
          "2021-01",
          "2021-02",
          "2021-03",
          "2021-04"
         ],
         "y": [
          7,
          6,
          8,
          8,
          6,
          3,
          8,
          9,
          12,
          8,
          10,
          7,
          11,
          8,
          0,
          0,
          4,
          6,
          0,
          0,
          6,
          6,
          0,
          0,
          0,
          0,
          0,
          0
         ]
        },
        {
         "mode": "lines",
         "name": "Valores reales",
         "type": "scatter",
         "x": [
          "2019-01",
          "2019-02",
          "2019-03",
          "2019-04",
          "2019-05",
          "2019-06",
          "2019-07",
          "2019-08",
          "2019-09",
          "2019-10",
          "2019-11",
          "2019-12",
          "2020-01",
          "2020-02",
          "2020-03",
          "2020-04",
          "2020-05",
          "2020-06",
          "2020-07",
          "2020-08",
          "2020-09",
          "2020-10",
          "2020-11",
          "2020-12",
          "2021-01",
          "2021-02",
          "2021-03",
          "2021-04"
         ],
         "y": [
          6,
          3,
          9,
          6,
          5,
          4,
          22,
          15,
          10,
          7,
          4,
          6,
          11,
          2,
          0,
          0,
          1,
          6,
          0,
          0,
          1,
          1,
          0,
          0,
          0,
          0,
          0,
          0
         ]
        }
       ],
       "layout": {
        "template": {
         "data": {
          "bar": [
           {
            "error_x": {
             "color": "#2a3f5f"
            },
            "error_y": {
             "color": "#2a3f5f"
            },
            "marker": {
             "line": {
              "color": "#E5ECF6",
              "width": 0.5
             },
             "pattern": {
              "fillmode": "overlay",
              "size": 10,
              "solidity": 0.2
             }
            },
            "type": "bar"
           }
          ],
          "barpolar": [
           {
            "marker": {
             "line": {
              "color": "#E5ECF6",
              "width": 0.5
             },
             "pattern": {
              "fillmode": "overlay",
              "size": 10,
              "solidity": 0.2
             }
            },
            "type": "barpolar"
           }
          ],
          "carpet": [
           {
            "aaxis": {
             "endlinecolor": "#2a3f5f",
             "gridcolor": "white",
             "linecolor": "white",
             "minorgridcolor": "white",
             "startlinecolor": "#2a3f5f"
            },
            "baxis": {
             "endlinecolor": "#2a3f5f",
             "gridcolor": "white",
             "linecolor": "white",
             "minorgridcolor": "white",
             "startlinecolor": "#2a3f5f"
            },
            "type": "carpet"
           }
          ],
          "choropleth": [
           {
            "colorbar": {
             "outlinewidth": 0,
             "ticks": ""
            },
            "type": "choropleth"
           }
          ],
          "contour": [
           {
            "colorbar": {
             "outlinewidth": 0,
             "ticks": ""
            },
            "colorscale": [
             [
              0,
              "#0d0887"
             ],
             [
              0.1111111111111111,
              "#46039f"
             ],
             [
              0.2222222222222222,
              "#7201a8"
             ],
             [
              0.3333333333333333,
              "#9c179e"
             ],
             [
              0.4444444444444444,
              "#bd3786"
             ],
             [
              0.5555555555555556,
              "#d8576b"
             ],
             [
              0.6666666666666666,
              "#ed7953"
             ],
             [
              0.7777777777777778,
              "#fb9f3a"
             ],
             [
              0.8888888888888888,
              "#fdca26"
             ],
             [
              1,
              "#f0f921"
             ]
            ],
            "type": "contour"
           }
          ],
          "contourcarpet": [
           {
            "colorbar": {
             "outlinewidth": 0,
             "ticks": ""
            },
            "type": "contourcarpet"
           }
          ],
          "heatmap": [
           {
            "colorbar": {
             "outlinewidth": 0,
             "ticks": ""
            },
            "colorscale": [
             [
              0,
              "#0d0887"
             ],
             [
              0.1111111111111111,
              "#46039f"
             ],
             [
              0.2222222222222222,
              "#7201a8"
             ],
             [
              0.3333333333333333,
              "#9c179e"
             ],
             [
              0.4444444444444444,
              "#bd3786"
             ],
             [
              0.5555555555555556,
              "#d8576b"
             ],
             [
              0.6666666666666666,
              "#ed7953"
             ],
             [
              0.7777777777777778,
              "#fb9f3a"
             ],
             [
              0.8888888888888888,
              "#fdca26"
             ],
             [
              1,
              "#f0f921"
             ]
            ],
            "type": "heatmap"
           }
          ],
          "heatmapgl": [
           {
            "colorbar": {
             "outlinewidth": 0,
             "ticks": ""
            },
            "colorscale": [
             [
              0,
              "#0d0887"
             ],
             [
              0.1111111111111111,
              "#46039f"
             ],
             [
              0.2222222222222222,
              "#7201a8"
             ],
             [
              0.3333333333333333,
              "#9c179e"
             ],
             [
              0.4444444444444444,
              "#bd3786"
             ],
             [
              0.5555555555555556,
              "#d8576b"
             ],
             [
              0.6666666666666666,
              "#ed7953"
             ],
             [
              0.7777777777777778,
              "#fb9f3a"
             ],
             [
              0.8888888888888888,
              "#fdca26"
             ],
             [
              1,
              "#f0f921"
             ]
            ],
            "type": "heatmapgl"
           }
          ],
          "histogram": [
           {
            "marker": {
             "pattern": {
              "fillmode": "overlay",
              "size": 10,
              "solidity": 0.2
             }
            },
            "type": "histogram"
           }
          ],
          "histogram2d": [
           {
            "colorbar": {
             "outlinewidth": 0,
             "ticks": ""
            },
            "colorscale": [
             [
              0,
              "#0d0887"
             ],
             [
              0.1111111111111111,
              "#46039f"
             ],
             [
              0.2222222222222222,
              "#7201a8"
             ],
             [
              0.3333333333333333,
              "#9c179e"
             ],
             [
              0.4444444444444444,
              "#bd3786"
             ],
             [
              0.5555555555555556,
              "#d8576b"
             ],
             [
              0.6666666666666666,
              "#ed7953"
             ],
             [
              0.7777777777777778,
              "#fb9f3a"
             ],
             [
              0.8888888888888888,
              "#fdca26"
             ],
             [
              1,
              "#f0f921"
             ]
            ],
            "type": "histogram2d"
           }
          ],
          "histogram2dcontour": [
           {
            "colorbar": {
             "outlinewidth": 0,
             "ticks": ""
            },
            "colorscale": [
             [
              0,
              "#0d0887"
             ],
             [
              0.1111111111111111,
              "#46039f"
             ],
             [
              0.2222222222222222,
              "#7201a8"
             ],
             [
              0.3333333333333333,
              "#9c179e"
             ],
             [
              0.4444444444444444,
              "#bd3786"
             ],
             [
              0.5555555555555556,
              "#d8576b"
             ],
             [
              0.6666666666666666,
              "#ed7953"
             ],
             [
              0.7777777777777778,
              "#fb9f3a"
             ],
             [
              0.8888888888888888,
              "#fdca26"
             ],
             [
              1,
              "#f0f921"
             ]
            ],
            "type": "histogram2dcontour"
           }
          ],
          "mesh3d": [
           {
            "colorbar": {
             "outlinewidth": 0,
             "ticks": ""
            },
            "type": "mesh3d"
           }
          ],
          "parcoords": [
           {
            "line": {
             "colorbar": {
              "outlinewidth": 0,
              "ticks": ""
             }
            },
            "type": "parcoords"
           }
          ],
          "pie": [
           {
            "automargin": true,
            "type": "pie"
           }
          ],
          "scatter": [
           {
            "marker": {
             "colorbar": {
              "outlinewidth": 0,
              "ticks": ""
             }
            },
            "type": "scatter"
           }
          ],
          "scatter3d": [
           {
            "line": {
             "colorbar": {
              "outlinewidth": 0,
              "ticks": ""
             }
            },
            "marker": {
             "colorbar": {
              "outlinewidth": 0,
              "ticks": ""
             }
            },
            "type": "scatter3d"
           }
          ],
          "scattercarpet": [
           {
            "marker": {
             "colorbar": {
              "outlinewidth": 0,
              "ticks": ""
             }
            },
            "type": "scattercarpet"
           }
          ],
          "scattergeo": [
           {
            "marker": {
             "colorbar": {
              "outlinewidth": 0,
              "ticks": ""
             }
            },
            "type": "scattergeo"
           }
          ],
          "scattergl": [
           {
            "marker": {
             "colorbar": {
              "outlinewidth": 0,
              "ticks": ""
             }
            },
            "type": "scattergl"
           }
          ],
          "scattermapbox": [
           {
            "marker": {
             "colorbar": {
              "outlinewidth": 0,
              "ticks": ""
             }
            },
            "type": "scattermapbox"
           }
          ],
          "scatterpolar": [
           {
            "marker": {
             "colorbar": {
              "outlinewidth": 0,
              "ticks": ""
             }
            },
            "type": "scatterpolar"
           }
          ],
          "scatterpolargl": [
           {
            "marker": {
             "colorbar": {
              "outlinewidth": 0,
              "ticks": ""
             }
            },
            "type": "scatterpolargl"
           }
          ],
          "scatterternary": [
           {
            "marker": {
             "colorbar": {
              "outlinewidth": 0,
              "ticks": ""
             }
            },
            "type": "scatterternary"
           }
          ],
          "surface": [
           {
            "colorbar": {
             "outlinewidth": 0,
             "ticks": ""
            },
            "colorscale": [
             [
              0,
              "#0d0887"
             ],
             [
              0.1111111111111111,
              "#46039f"
             ],
             [
              0.2222222222222222,
              "#7201a8"
             ],
             [
              0.3333333333333333,
              "#9c179e"
             ],
             [
              0.4444444444444444,
              "#bd3786"
             ],
             [
              0.5555555555555556,
              "#d8576b"
             ],
             [
              0.6666666666666666,
              "#ed7953"
             ],
             [
              0.7777777777777778,
              "#fb9f3a"
             ],
             [
              0.8888888888888888,
              "#fdca26"
             ],
             [
              1,
              "#f0f921"
             ]
            ],
            "type": "surface"
           }
          ],
          "table": [
           {
            "cells": {
             "fill": {
              "color": "#EBF0F8"
             },
             "line": {
              "color": "white"
             }
            },
            "header": {
             "fill": {
              "color": "#C8D4E3"
             },
             "line": {
              "color": "white"
             }
            },
            "type": "table"
           }
          ]
         },
         "layout": {
          "annotationdefaults": {
           "arrowcolor": "#2a3f5f",
           "arrowhead": 0,
           "arrowwidth": 1
          },
          "autotypenumbers": "strict",
          "coloraxis": {
           "colorbar": {
            "outlinewidth": 0,
            "ticks": ""
           }
          },
          "colorscale": {
           "diverging": [
            [
             0,
             "#8e0152"
            ],
            [
             0.1,
             "#c51b7d"
            ],
            [
             0.2,
             "#de77ae"
            ],
            [
             0.3,
             "#f1b6da"
            ],
            [
             0.4,
             "#fde0ef"
            ],
            [
             0.5,
             "#f7f7f7"
            ],
            [
             0.6,
             "#e6f5d0"
            ],
            [
             0.7,
             "#b8e186"
            ],
            [
             0.8,
             "#7fbc41"
            ],
            [
             0.9,
             "#4d9221"
            ],
            [
             1,
             "#276419"
            ]
           ],
           "sequential": [
            [
             0,
             "#0d0887"
            ],
            [
             0.1111111111111111,
             "#46039f"
            ],
            [
             0.2222222222222222,
             "#7201a8"
            ],
            [
             0.3333333333333333,
             "#9c179e"
            ],
            [
             0.4444444444444444,
             "#bd3786"
            ],
            [
             0.5555555555555556,
             "#d8576b"
            ],
            [
             0.6666666666666666,
             "#ed7953"
            ],
            [
             0.7777777777777778,
             "#fb9f3a"
            ],
            [
             0.8888888888888888,
             "#fdca26"
            ],
            [
             1,
             "#f0f921"
            ]
           ],
           "sequentialminus": [
            [
             0,
             "#0d0887"
            ],
            [
             0.1111111111111111,
             "#46039f"
            ],
            [
             0.2222222222222222,
             "#7201a8"
            ],
            [
             0.3333333333333333,
             "#9c179e"
            ],
            [
             0.4444444444444444,
             "#bd3786"
            ],
            [
             0.5555555555555556,
             "#d8576b"
            ],
            [
             0.6666666666666666,
             "#ed7953"
            ],
            [
             0.7777777777777778,
             "#fb9f3a"
            ],
            [
             0.8888888888888888,
             "#fdca26"
            ],
            [
             1,
             "#f0f921"
            ]
           ]
          },
          "colorway": [
           "#636efa",
           "#EF553B",
           "#00cc96",
           "#ab63fa",
           "#FFA15A",
           "#19d3f3",
           "#FF6692",
           "#B6E880",
           "#FF97FF",
           "#FECB52"
          ],
          "font": {
           "color": "#2a3f5f"
          },
          "geo": {
           "bgcolor": "white",
           "lakecolor": "white",
           "landcolor": "#E5ECF6",
           "showlakes": true,
           "showland": true,
           "subunitcolor": "white"
          },
          "hoverlabel": {
           "align": "left"
          },
          "hovermode": "closest",
          "mapbox": {
           "style": "light"
          },
          "paper_bgcolor": "white",
          "plot_bgcolor": "#E5ECF6",
          "polar": {
           "angularaxis": {
            "gridcolor": "white",
            "linecolor": "white",
            "ticks": ""
           },
           "bgcolor": "#E5ECF6",
           "radialaxis": {
            "gridcolor": "white",
            "linecolor": "white",
            "ticks": ""
           }
          },
          "scene": {
           "xaxis": {
            "backgroundcolor": "#E5ECF6",
            "gridcolor": "white",
            "gridwidth": 2,
            "linecolor": "white",
            "showbackground": true,
            "ticks": "",
            "zerolinecolor": "white"
           },
           "yaxis": {
            "backgroundcolor": "#E5ECF6",
            "gridcolor": "white",
            "gridwidth": 2,
            "linecolor": "white",
            "showbackground": true,
            "ticks": "",
            "zerolinecolor": "white"
           },
           "zaxis": {
            "backgroundcolor": "#E5ECF6",
            "gridcolor": "white",
            "gridwidth": 2,
            "linecolor": "white",
            "showbackground": true,
            "ticks": "",
            "zerolinecolor": "white"
           }
          },
          "shapedefaults": {
           "line": {
            "color": "#2a3f5f"
           }
          },
          "ternary": {
           "aaxis": {
            "gridcolor": "white",
            "linecolor": "white",
            "ticks": ""
           },
           "baxis": {
            "gridcolor": "white",
            "linecolor": "white",
            "ticks": ""
           },
           "bgcolor": "#E5ECF6",
           "caxis": {
            "gridcolor": "white",
            "linecolor": "white",
            "ticks": ""
           }
          },
          "title": {
           "x": 0.05
          },
          "xaxis": {
           "automargin": true,
           "gridcolor": "white",
           "linecolor": "white",
           "ticks": "",
           "title": {
            "standoff": 15
           },
           "zerolinecolor": "white",
           "zerolinewidth": 2
          },
          "yaxis": {
           "automargin": true,
           "gridcolor": "white",
           "linecolor": "white",
           "ticks": "",
           "title": {
            "standoff": 15
           },
           "zerolinecolor": "white",
           "zerolinewidth": 2
          }
         }
        }
       }
      }
     },
     "metadata": {}
    }
   ],
   "metadata": {}
  },
  {
   "cell_type": "code",
   "execution_count": null,
   "source": [
    "def split_data(prevs):\r\n",
    "    prevs.append(var)\r\n",
    "    x_cat=data[prevs].astype('category')\r\n",
    "    x_cat_dummies=pd.get_dummies(x_cat)\r\n",
    "\r\n",
    "    y = data['CANTIDAD']\r\n",
    "\r\n",
    "    scaler = MinMaxScaler()\r\n",
    "    x_num_norm = scaler.fit_transform(x_num)\r\n",
    "    x = np.append(x_num_norm,x_cat_dummies,axis=1)\r\n",
    "\r\n",
    "    #split data till januar 2021\r\n",
    "    index = data[(data.ANIO==2021)].index[0]\r\n",
    "\r\n",
    "    x_train = x[:index-1]\r\n",
    "    y_train = y[:index-1]\r\n",
    "    x_test = x[index-1:]\r\n",
    "    y_test = y[index-1:]\r\n",
    "    \r\n",
    "    return x_train,y_train,x_test,y_test,prevs\r\n",
    "    \r\n",
    "def fit_model(x_train,y_train):\r\n",
    "    model = GradientBoostingRegressor(**{'learning_rate': 0.1, 'max_depth': 2, 'n_estimators': 300})\r\n",
    "    model.fit(x_train,y_train)\r\n",
    "    \r\n",
    "    return model\r\n",
    "    \r\n",
    "def get_mse(model,x_test,y_test):\r\n",
    "    return mse(model.predict(x_test),y_test)"
   ],
   "outputs": [],
   "metadata": {}
  },
  {
   "cell_type": "code",
   "execution_count": null,
   "source": [
    "data = DataManager().sales_ref_month_sin_ventas_mayores()\r\n",
    "\r\n",
    "num_var=['AREA','ALTO','DESCUENTO(%)','PRECIO','CANTIDAD']\r\n",
    "x_num=data[num_var[:-1]].astype('float')\r\n",
    "\r\n",
    "cat_var=[\r\n",
    "    'ANIO', 'MES', 'TIENDA', 'PUESTOS', 'COLOR_POS', 'CATEGORIA', 'SUBCATEGORIA_POS', 'VIGENCIA',\r\n",
    "    'ORIGEN', 'ESTILO', 'MATERIAL_POS', 'ACABADO', 'F_COVID', 'REF'\r\n",
    "]\r\n",
    "\r\n",
    "x_train,y_train,x_test,y_test,prevs = split_data(cat_var)\r\n",
    "%time model = fit_model(x_train,y_train)\r\n",
    "print('MSE for variables:')\r\n",
    "print(prevs)\r\n",
    "print(get_mse(model,x_test,y_test))\r\n",
    "print('--------------------------------------')"
   ],
   "outputs": [],
   "metadata": {}
  },
  {
   "cell_type": "code",
   "execution_count": null,
   "source": [
    "data = DataManager().sales_ref_month_sin_ventas_mayores()\r\n",
    "data['DATE'] = data['ANIO'].astype(str) + '-' + data['MES'].astype(str).str.zfill(2)\r\n",
    "\r\n",
    "num_var=['AREA','ALTO','DESCUENTO(%)','PRECIO','CANTIDAD']\r\n",
    "x_num=data[num_var[:-1]].astype('float')\r\n",
    "\r\n",
    "cat_var=[\r\n",
    "    'ANIO', 'MES', 'TIENDA', 'PUESTOS', 'COLOR_POS', 'SUBCATEGORIA_POS', 'ESTILO', 'F_COVID' \r\n",
    "]\r\n",
    "\r\n",
    "x_train,y_train,x_test,y_test,prevs = split_data(cat_var)\r\n",
    "%time model = fit_model(x_train,y_train)\r\n",
    "print('MSE for variables:')\r\n",
    "print(prevs)\r\n",
    "print(get_mse(model,x_test,y_test))\r\n",
    "print('--------------------------------------')"
   ],
   "outputs": [],
   "metadata": {}
  },
  {
   "cell_type": "code",
   "execution_count": null,
   "source": [
    "data['PREDICTED'] = model.predict(np.concatenate([x_train,x_test],axis=0)).round()\r\n",
    "data = data.groupby(['REF','DATE']).sum().reset_index()"
   ],
   "outputs": [],
   "metadata": {}
  },
  {
   "cell_type": "code",
   "execution_count": null,
   "source": [
    "aux = data.query('REF==\"D00935:00048:00048\"')\r\n",
    "fig = go.Figure()\r\n",
    "fig.add_scatter(x=aux['DATE'], y=aux['PREDICTED'], mode='lines', name='Valores predichos')\r\n",
    "fig.add_scatter(x=aux['DATE'], y=aux['CANTIDAD'], mode='lines', name='Valores reales')"
   ],
   "outputs": [],
   "metadata": {}
  },
  {
   "cell_type": "code",
   "execution_count": null,
   "source": [],
   "outputs": [],
   "metadata": {}
  }
 ],
 "metadata": {
  "kernelspec": {
   "name": "python3",
   "display_name": "Python 3.9.6 64-bit"
  },
  "language_info": {
   "codemirror_mode": {
    "name": "ipython",
    "version": 3
   },
   "file_extension": ".py",
   "mimetype": "text/x-python",
   "name": "python",
   "nbconvert_exporter": "python",
   "pygments_lexer": "ipython3",
   "version": "3.9.6"
  },
  "interpreter": {
   "hash": "aee8b7b246df8f9039afb4144a1f6fd8d2ca17a180786b69acc140d282b71a49"
  }
 },
 "nbformat": 4,
 "nbformat_minor": 5
}