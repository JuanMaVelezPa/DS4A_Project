{
 "cells": [
  {
   "cell_type": "code",
   "execution_count": null,
   "source": [
    "%pylab inline\n",
    "import pandas as pd\n",
    "\n",
    "from dataManager import DataManager\n",
    "from model import ModelManager as manager\n",
    "\n",
    "from sklearn.preprocessing import MinMaxScaler\n",
    "from sklearn.ensemble import GradientBoostingRegressor\n",
    "from sklearn.metrics import mean_squared_error as mse\n",
    "\n",
    "import plotly.graph_objects as go"
   ],
   "outputs": [],
   "metadata": {}
  },
  {
   "cell_type": "code",
   "execution_count": null,
   "source": [
    "promedios = DataManager().sales_prod.copy()\n",
    "promedios = promedios.groupby(['REF']).agg({'PRECIO':'mean','DESCUENTO(%)':'mean','DESC_LARGA':'first'})[['PRECIO','DESCUENTO(%)']]\n",
    "promedios\n",
    "\n",
    "covid = DataManager().sales_ref_month_sin_ventas_mayores()[['DATE','F_COVID']].drop_duplicates()\n",
    "covid = covid.set_index('DATE')\n",
    "covid"
   ],
   "outputs": [],
   "metadata": {}
  },
  {
   "cell_type": "code",
   "execution_count": null,
   "source": [
    "prods = data = DataManager().products.drop_duplicates().copy()\n",
    "prods['AREA'] = prods.ANCHO * prods.FONDO\n",
    "\n",
    "data = DataManager().sales_ref_month_sin_ventas_mayores()\n",
    "data['DATE'] = data['ANIO'].astype(str) + '-' + data['MES'].astype(str).str.zfill(2)\n",
    "\n",
    "pasado = data.pivot_table(index='REF',columns=['DATE','ANIO','MES','TIENDA'],values='CANTIDAD',aggfunc='sum').reset_index()\n",
    "pasado = pd.melt(pasado,id_vars='REF')\n",
    "\n",
    "pasado = pasado.sort_values(['REF','DATE'])\n",
    "pasado = pasado.rename(columns={'value':'CANTIDAD'})\n",
    "pasado = pasado.reset_index(drop=True).fillna(0)\n",
    "\n",
    "pasado = pasado.merge(data.drop(columns=['CANTIDAD','ANIO','MES']).groupby(['REF','DATE','TIENDA']).agg({'PRECIO':'mean','DESCUENTO(%)':'mean','F_COVID':'first'}),on=['REF','DATE','TIENDA'],how='left',validate='1:1')\n",
    "pasado = pasado[['REF','TIENDA','DATE','ANIO','MES','CANTIDAD','PRECIO','DESCUENTO(%)','F_COVID']]\n",
    "\n",
    "pasado = pasado.set_index('DATE')\n",
    "pasado.update(covid)\n",
    "pasado.reset_index(inplace=True)\n",
    "\n",
    "pasado = pasado.set_index('REF')\n",
    "pasado.update(promedios, overwrite=False)\n",
    "pasado.reset_index(inplace=True)\n",
    "\n",
    "pasado = pasado.merge(prods,on='REF',validate='m:1')\n",
    "pasado = pasado.sort_values(['ANIO','MES']).reset_index(drop=True)\n",
    "\n",
    "pasado"
   ],
   "outputs": [],
   "metadata": {}
  },
  {
   "cell_type": "code",
   "execution_count": null,
   "source": [
    "sales = pasado.copy().query('VIGENCIA != \"DESCONTINUADO\"')\n",
    "sales = sales.groupby(['REF','TIENDA']).agg({'PRECIO':'mean','DESCUENTO(%)':'mean',\n",
    "    'AREA':'first','ALTO':'first','PUESTOS':'first', 'COLOR_POS':'first', \n",
    "    'SUBCATEGORIA_POS':'first','MATERIAL_POS':'first','ACABADO':'first',\n",
    "    'CATEGORIA':'first','ORIGEN':'first'}\n",
    ").reset_index()\n",
    "\n",
    "# 2021 future months and covid\n",
    "months = [5,6,7,8,9,10,11,12]\n",
    "covid = [1,1,1,1,1,1,1,1]\n",
    "min_sales = sales[['REF','TIENDA']].copy()\n",
    "for m,c in zip(months,covid):\n",
    "    min_sales[m]=c\n",
    "\n",
    "melt_sales=pd.melt(min_sales,id_vars=['REF','TIENDA'],var_name='MES',value_name='F_COVID')\n",
    "futuro=melt_sales.merge(sales,on=['REF','TIENDA'],how='left',validate='m:1')\n",
    "\n",
    "futuro['ANIO'] = 2021\n",
    "futuro['DATE'] = futuro['ANIO'].astype(str) + '-' +futuro['MES'].astype(str).str.zfill(2)\n",
    "futuro.sort_values(['ANIO','MES']).reset_index(drop=True)\n",
    "\n",
    "futuro = futuro[['REF','TIENDA','DATE','ANIO','MES','PRECIO','DESCUENTO(%)','F_COVID','AREA','ALTO','PUESTOS','COLOR_POS','SUBCATEGORIA_POS','MATERIAL_POS','ACABADO','ORIGEN']]\n",
    "futuro[(futuro.REF == 'BR0002:00193:') & (futuro.TIENDA == 'PAGINA WEB FIOTTI')]\n",
    "futuro = futuro.fillna(0)\n",
    "futuro"
   ],
   "outputs": [],
   "metadata": {}
  },
  {
   "cell_type": "code",
   "execution_count": null,
   "source": [
    "total = pd.concat([pasado.drop(columns='CANTIDAD').copy(),futuro.copy()]).reset_index(drop=True)\n",
    "particion = len(futuro)\n",
    "total[:-particion]"
   ],
   "outputs": [],
   "metadata": {}
  },
  {
   "cell_type": "code",
   "execution_count": null,
   "source": [
    "scaler = MinMaxScaler()\n",
    "\n",
    "num=['AREA','ALTO','DESCUENTO(%)','PRECIO','CANTIDAD']\n",
    "x_num=total[num[:-1]].astype('float')\n",
    "x_norm = scaler.fit_transform(x_num)\n",
    "\n",
    "cat=[\n",
    "    'TIENDA','MES',\n",
    "    'F_COVID','PUESTOS','COLOR_POS','SUBCATEGORIA_POS',\n",
    "    'MATERIAL_POS','ACABADO','ORIGEN'\n",
    "]\n",
    "x_cat=total[cat].astype('category')\n",
    "x_dummies=pd.get_dummies(x_cat)\n",
    "\n",
    "x_tot = np.append(x_num,x_dummies,axis=1)\n",
    "x = x_tot[:-particion]\n",
    "y = pasado['CANTIDAD']\n",
    "\n",
    "model = GradientBoostingRegressor(**{'learning_rate': 0.01, 'max_depth': 6, 'n_estimators': 200})\n",
    "model.fit(x,y)"
   ],
   "outputs": [],
   "metadata": {}
  },
  {
   "cell_type": "code",
   "execution_count": null,
   "source": [
    "x = x_tot[-particion:]\n",
    "y = model.predict(x)"
   ],
   "outputs": [],
   "metadata": {}
  },
  {
   "cell_type": "code",
   "execution_count": null,
   "source": [
    "futuro['PREDICTED'] = y.round()\n",
    "futuro"
   ],
   "outputs": [],
   "metadata": {}
  },
  {
   "cell_type": "code",
   "execution_count": null,
   "source": [
    "futuro['PREDICTED_M'] = (futuro.PREDICTED).round()\n",
    "\n",
    "d_futuro = futuro.groupby(['DATE']).sum().reset_index()\n",
    "d_pasado = pasado.groupby(['DATE']).sum().reset_index()\n",
    "defi = d_futuro#.query('REF==\"D00935:00048:00048\"')\n",
    "fig = go.Figure()\n",
    "fig.add_scatter(x=defi['DATE'], y=defi['PREDICTED'], mode='lines', name='Valores predichos')\n",
    "fig.add_scatter(x=d_pasado['DATE'], y=d_pasado['CANTIDAD'], mode='lines', name='Valores reales')\n"
   ],
   "outputs": [],
   "metadata": {}
  },
  {
   "cell_type": "code",
   "execution_count": null,
   "source": [
    "n = len(pasado[(pasado.ANIO == 2021) & (pasado.MES == 4) & (pasado.CANTIDAD > 0)].REF.unique())\n",
    "m = len(pasado.REF.unique())\n",
    "print(n,m)"
   ],
   "outputs": [],
   "metadata": {}
  },
  {
   "cell_type": "code",
   "execution_count": 28,
   "source": [
    "g = len(futuro[(futuro.ANIO == 2021) & (futuro.MES == 5) & (futuro.PREDICTED > 0)].REF.unique())\n",
    "h = len(futuro.REF.unique())\n",
    "print(g,h)"
   ],
   "outputs": [
    {
     "output_type": "stream",
     "name": "stdout",
     "text": [
      "98 584\n"
     ]
    }
   ],
   "metadata": {}
  },
  {
   "cell_type": "code",
   "execution_count": 29,
   "source": [
    "test = futuro[futuro.MES == 5].PREDICTED.value_counts().to_frame().reset_index().rename(columns={'index':'VALUE'})\n",
    "test"
   ],
   "outputs": [
    {
     "output_type": "execute_result",
     "data": {
      "text/plain": [
       "   VALUE  PREDICTED\n",
       "0    0.0       8035\n",
       "1    1.0        112\n",
       "2    2.0         13\n",
       "3    3.0         12\n",
       "4    5.0          2\n",
       "5    4.0          1\n",
       "6   10.0          1"
      ],
      "text/html": [
       "<div>\n",
       "<style scoped>\n",
       "    .dataframe tbody tr th:only-of-type {\n",
       "        vertical-align: middle;\n",
       "    }\n",
       "\n",
       "    .dataframe tbody tr th {\n",
       "        vertical-align: top;\n",
       "    }\n",
       "\n",
       "    .dataframe thead th {\n",
       "        text-align: right;\n",
       "    }\n",
       "</style>\n",
       "<table border=\"1\" class=\"dataframe\">\n",
       "  <thead>\n",
       "    <tr style=\"text-align: right;\">\n",
       "      <th></th>\n",
       "      <th>VALUE</th>\n",
       "      <th>PREDICTED</th>\n",
       "    </tr>\n",
       "  </thead>\n",
       "  <tbody>\n",
       "    <tr>\n",
       "      <th>0</th>\n",
       "      <td>0.0</td>\n",
       "      <td>8035</td>\n",
       "    </tr>\n",
       "    <tr>\n",
       "      <th>1</th>\n",
       "      <td>1.0</td>\n",
       "      <td>112</td>\n",
       "    </tr>\n",
       "    <tr>\n",
       "      <th>2</th>\n",
       "      <td>2.0</td>\n",
       "      <td>13</td>\n",
       "    </tr>\n",
       "    <tr>\n",
       "      <th>3</th>\n",
       "      <td>3.0</td>\n",
       "      <td>12</td>\n",
       "    </tr>\n",
       "    <tr>\n",
       "      <th>4</th>\n",
       "      <td>5.0</td>\n",
       "      <td>2</td>\n",
       "    </tr>\n",
       "    <tr>\n",
       "      <th>5</th>\n",
       "      <td>4.0</td>\n",
       "      <td>1</td>\n",
       "    </tr>\n",
       "    <tr>\n",
       "      <th>6</th>\n",
       "      <td>10.0</td>\n",
       "      <td>1</td>\n",
       "    </tr>\n",
       "  </tbody>\n",
       "</table>\n",
       "</div>"
      ]
     },
     "metadata": {},
     "execution_count": 29
    }
   ],
   "metadata": {}
  },
  {
   "cell_type": "code",
   "execution_count": 22,
   "source": [
    "pred_past_test = pasado.copy()\n",
    "pred_past_test['PREDICTED'] = model.predict(x_tot[:-particion])\n",
    "pred_past_test"
   ],
   "outputs": [
    {
     "output_type": "execute_result",
     "data": {
      "text/plain": [
       "                  REF     DATE                         TIENDA  ANIO  MES  \\\n",
       "0       A01040:00005:  2019-01                 ADMINISTRACION  2019    1   \n",
       "1       A01040:00005:  2019-01              PAGINA WEB FIOTTI  2019    1   \n",
       "2       A01040:00005:  2019-01           PUNTO DE VENTA AV 68  2019    1   \n",
       "3       A01040:00005:  2019-01     PUNTO DE VENTA BUCARAMANGA  2019    1   \n",
       "4       A01040:00005:  2019-01            PUNTO DE VENTA CALI  2019    1   \n",
       "...               ...      ...                            ...   ...  ...   \n",
       "382160  XZ0993:00100:  2021-04   PUNTO DE VENTA PLAZA CENTRAL  2021    4   \n",
       "382161  XZ0993:00100:  2021-04  PUNTO DE VENTA PLAZA IMPERIAL  2021    4   \n",
       "382162  XZ0993:00100:  2021-04         PUNTO DE VENTA POBLADO  2021    4   \n",
       "382163  XZ0993:00100:  2021-04               VENTAS DIGITALES  2021    4   \n",
       "382164  XZ0993:00100:  2021-04                  VILLA DEL RIO  2021    4   \n",
       "\n",
       "        CANTIDAD        PRECIO  DESCUENTO(%)  F_COVID   ITEM  ...   COLOR  \\\n",
       "0            0.0  145210.21875       0.65000      0.0  11057  ...   NEGRO   \n",
       "1            0.0  145210.21875       0.65000      0.0  11057  ...   NEGRO   \n",
       "2            0.0  145210.21875       0.65000      0.0  11057  ...   NEGRO   \n",
       "3            0.0  145210.21875       0.65000      0.0  11057  ...   NEGRO   \n",
       "4            0.0  145210.21875       0.65000      0.0  11057  ...   NEGRO   \n",
       "...          ...           ...           ...      ...    ...  ...     ...   \n",
       "382160       0.0  484316.47619       0.48131      1.0  11151  ...  BLANCO   \n",
       "382161       0.0  484316.47619       0.48131      1.0  11151  ...  BLANCO   \n",
       "382162       0.0  484316.47619       0.48131      1.0  11151  ...  BLANCO   \n",
       "382163       0.0  484316.47619       0.48131      1.0  11151  ...  BLANCO   \n",
       "382164       0.0  484316.47619       0.48131      1.0  11151  ...  BLANCO   \n",
       "\n",
       "        ANCHO  ALTO FONDO                                DESC_LARGA  \\\n",
       "0        40.0  77.0  47.0      SILLA COMEDOR 85-1062 NG NO GARANTIA   \n",
       "1        40.0  77.0  47.0      SILLA COMEDOR 85-1062 NG NO GARANTIA   \n",
       "2        40.0  77.0  47.0      SILLA COMEDOR 85-1062 NG NO GARANTIA   \n",
       "3        40.0  77.0  47.0      SILLA COMEDOR 85-1062 NG NO GARANTIA   \n",
       "4        40.0  77.0  47.0      SILLA COMEDOR 85-1062 NG NO GARANTIA   \n",
       "...       ...   ...   ...                                       ...   \n",
       "382160  100.0  44.0  50.0  MESA CENTRO FILIS LACA BL 2C LIQUIDACIÓN   \n",
       "382161  100.0  44.0  50.0  MESA CENTRO FILIS LACA BL 2C LIQUIDACIÓN   \n",
       "382162  100.0  44.0  50.0  MESA CENTRO FILIS LACA BL 2C LIQUIDACIÓN   \n",
       "382163  100.0  44.0  50.0  MESA CENTRO FILIS LACA BL 2C LIQUIDACIÓN   \n",
       "382164  100.0  44.0  50.0  MESA CENTRO FILIS LACA BL 2C LIQUIDACIÓN   \n",
       "\n",
       "         SUBCATEGORIA_POS COLOR_POS MATERIAL_POS    AREA PREDICTED  \n",
       "0       SILLAS DE COMEDOR     NEGRO    SINTÉTICO  1880.0  0.084206  \n",
       "1       SILLAS DE COMEDOR     NEGRO    SINTÉTICO  1880.0  0.084206  \n",
       "2       SILLAS DE COMEDOR     NEGRO    SINTÉTICO  1880.0  0.796419  \n",
       "3       SILLAS DE COMEDOR     NEGRO    SINTÉTICO  1880.0  0.084206  \n",
       "4       SILLAS DE COMEDOR     NEGRO    SINTÉTICO  1880.0  0.086559  \n",
       "...                   ...       ...          ...     ...       ...  \n",
       "382160    MESAS DE CENTRO    BLANCO       VIDRIO  5000.0  0.053286  \n",
       "382161    MESAS DE CENTRO    BLANCO       VIDRIO  5000.0  0.053286  \n",
       "382162    MESAS DE CENTRO    BLANCO       VIDRIO  5000.0  0.053286  \n",
       "382163    MESAS DE CENTRO    BLANCO       VIDRIO  5000.0  0.053286  \n",
       "382164    MESAS DE CENTRO    BLANCO       VIDRIO  5000.0  0.053286  \n",
       "\n",
       "[382165 rows x 29 columns]"
      ],
      "text/html": [
       "<div>\n",
       "<style scoped>\n",
       "    .dataframe tbody tr th:only-of-type {\n",
       "        vertical-align: middle;\n",
       "    }\n",
       "\n",
       "    .dataframe tbody tr th {\n",
       "        vertical-align: top;\n",
       "    }\n",
       "\n",
       "    .dataframe thead th {\n",
       "        text-align: right;\n",
       "    }\n",
       "</style>\n",
       "<table border=\"1\" class=\"dataframe\">\n",
       "  <thead>\n",
       "    <tr style=\"text-align: right;\">\n",
       "      <th></th>\n",
       "      <th>REF</th>\n",
       "      <th>DATE</th>\n",
       "      <th>TIENDA</th>\n",
       "      <th>ANIO</th>\n",
       "      <th>MES</th>\n",
       "      <th>CANTIDAD</th>\n",
       "      <th>PRECIO</th>\n",
       "      <th>DESCUENTO(%)</th>\n",
       "      <th>F_COVID</th>\n",
       "      <th>ITEM</th>\n",
       "      <th>...</th>\n",
       "      <th>COLOR</th>\n",
       "      <th>ANCHO</th>\n",
       "      <th>ALTO</th>\n",
       "      <th>FONDO</th>\n",
       "      <th>DESC_LARGA</th>\n",
       "      <th>SUBCATEGORIA_POS</th>\n",
       "      <th>COLOR_POS</th>\n",
       "      <th>MATERIAL_POS</th>\n",
       "      <th>AREA</th>\n",
       "      <th>PREDICTED</th>\n",
       "    </tr>\n",
       "  </thead>\n",
       "  <tbody>\n",
       "    <tr>\n",
       "      <th>0</th>\n",
       "      <td>A01040:00005:</td>\n",
       "      <td>2019-01</td>\n",
       "      <td>ADMINISTRACION</td>\n",
       "      <td>2019</td>\n",
       "      <td>1</td>\n",
       "      <td>0.0</td>\n",
       "      <td>145210.21875</td>\n",
       "      <td>0.65000</td>\n",
       "      <td>0.0</td>\n",
       "      <td>11057</td>\n",
       "      <td>...</td>\n",
       "      <td>NEGRO</td>\n",
       "      <td>40.0</td>\n",
       "      <td>77.0</td>\n",
       "      <td>47.0</td>\n",
       "      <td>SILLA COMEDOR 85-1062 NG NO GARANTIA</td>\n",
       "      <td>SILLAS DE COMEDOR</td>\n",
       "      <td>NEGRO</td>\n",
       "      <td>SINTÉTICO</td>\n",
       "      <td>1880.0</td>\n",
       "      <td>0.084206</td>\n",
       "    </tr>\n",
       "    <tr>\n",
       "      <th>1</th>\n",
       "      <td>A01040:00005:</td>\n",
       "      <td>2019-01</td>\n",
       "      <td>PAGINA WEB FIOTTI</td>\n",
       "      <td>2019</td>\n",
       "      <td>1</td>\n",
       "      <td>0.0</td>\n",
       "      <td>145210.21875</td>\n",
       "      <td>0.65000</td>\n",
       "      <td>0.0</td>\n",
       "      <td>11057</td>\n",
       "      <td>...</td>\n",
       "      <td>NEGRO</td>\n",
       "      <td>40.0</td>\n",
       "      <td>77.0</td>\n",
       "      <td>47.0</td>\n",
       "      <td>SILLA COMEDOR 85-1062 NG NO GARANTIA</td>\n",
       "      <td>SILLAS DE COMEDOR</td>\n",
       "      <td>NEGRO</td>\n",
       "      <td>SINTÉTICO</td>\n",
       "      <td>1880.0</td>\n",
       "      <td>0.084206</td>\n",
       "    </tr>\n",
       "    <tr>\n",
       "      <th>2</th>\n",
       "      <td>A01040:00005:</td>\n",
       "      <td>2019-01</td>\n",
       "      <td>PUNTO DE VENTA AV 68</td>\n",
       "      <td>2019</td>\n",
       "      <td>1</td>\n",
       "      <td>0.0</td>\n",
       "      <td>145210.21875</td>\n",
       "      <td>0.65000</td>\n",
       "      <td>0.0</td>\n",
       "      <td>11057</td>\n",
       "      <td>...</td>\n",
       "      <td>NEGRO</td>\n",
       "      <td>40.0</td>\n",
       "      <td>77.0</td>\n",
       "      <td>47.0</td>\n",
       "      <td>SILLA COMEDOR 85-1062 NG NO GARANTIA</td>\n",
       "      <td>SILLAS DE COMEDOR</td>\n",
       "      <td>NEGRO</td>\n",
       "      <td>SINTÉTICO</td>\n",
       "      <td>1880.0</td>\n",
       "      <td>0.796419</td>\n",
       "    </tr>\n",
       "    <tr>\n",
       "      <th>3</th>\n",
       "      <td>A01040:00005:</td>\n",
       "      <td>2019-01</td>\n",
       "      <td>PUNTO DE VENTA BUCARAMANGA</td>\n",
       "      <td>2019</td>\n",
       "      <td>1</td>\n",
       "      <td>0.0</td>\n",
       "      <td>145210.21875</td>\n",
       "      <td>0.65000</td>\n",
       "      <td>0.0</td>\n",
       "      <td>11057</td>\n",
       "      <td>...</td>\n",
       "      <td>NEGRO</td>\n",
       "      <td>40.0</td>\n",
       "      <td>77.0</td>\n",
       "      <td>47.0</td>\n",
       "      <td>SILLA COMEDOR 85-1062 NG NO GARANTIA</td>\n",
       "      <td>SILLAS DE COMEDOR</td>\n",
       "      <td>NEGRO</td>\n",
       "      <td>SINTÉTICO</td>\n",
       "      <td>1880.0</td>\n",
       "      <td>0.084206</td>\n",
       "    </tr>\n",
       "    <tr>\n",
       "      <th>4</th>\n",
       "      <td>A01040:00005:</td>\n",
       "      <td>2019-01</td>\n",
       "      <td>PUNTO DE VENTA CALI</td>\n",
       "      <td>2019</td>\n",
       "      <td>1</td>\n",
       "      <td>0.0</td>\n",
       "      <td>145210.21875</td>\n",
       "      <td>0.65000</td>\n",
       "      <td>0.0</td>\n",
       "      <td>11057</td>\n",
       "      <td>...</td>\n",
       "      <td>NEGRO</td>\n",
       "      <td>40.0</td>\n",
       "      <td>77.0</td>\n",
       "      <td>47.0</td>\n",
       "      <td>SILLA COMEDOR 85-1062 NG NO GARANTIA</td>\n",
       "      <td>SILLAS DE COMEDOR</td>\n",
       "      <td>NEGRO</td>\n",
       "      <td>SINTÉTICO</td>\n",
       "      <td>1880.0</td>\n",
       "      <td>0.086559</td>\n",
       "    </tr>\n",
       "    <tr>\n",
       "      <th>...</th>\n",
       "      <td>...</td>\n",
       "      <td>...</td>\n",
       "      <td>...</td>\n",
       "      <td>...</td>\n",
       "      <td>...</td>\n",
       "      <td>...</td>\n",
       "      <td>...</td>\n",
       "      <td>...</td>\n",
       "      <td>...</td>\n",
       "      <td>...</td>\n",
       "      <td>...</td>\n",
       "      <td>...</td>\n",
       "      <td>...</td>\n",
       "      <td>...</td>\n",
       "      <td>...</td>\n",
       "      <td>...</td>\n",
       "      <td>...</td>\n",
       "      <td>...</td>\n",
       "      <td>...</td>\n",
       "      <td>...</td>\n",
       "      <td>...</td>\n",
       "    </tr>\n",
       "    <tr>\n",
       "      <th>382160</th>\n",
       "      <td>XZ0993:00100:</td>\n",
       "      <td>2021-04</td>\n",
       "      <td>PUNTO DE VENTA PLAZA CENTRAL</td>\n",
       "      <td>2021</td>\n",
       "      <td>4</td>\n",
       "      <td>0.0</td>\n",
       "      <td>484316.47619</td>\n",
       "      <td>0.48131</td>\n",
       "      <td>1.0</td>\n",
       "      <td>11151</td>\n",
       "      <td>...</td>\n",
       "      <td>BLANCO</td>\n",
       "      <td>100.0</td>\n",
       "      <td>44.0</td>\n",
       "      <td>50.0</td>\n",
       "      <td>MESA CENTRO FILIS LACA BL 2C LIQUIDACIÓN</td>\n",
       "      <td>MESAS DE CENTRO</td>\n",
       "      <td>BLANCO</td>\n",
       "      <td>VIDRIO</td>\n",
       "      <td>5000.0</td>\n",
       "      <td>0.053286</td>\n",
       "    </tr>\n",
       "    <tr>\n",
       "      <th>382161</th>\n",
       "      <td>XZ0993:00100:</td>\n",
       "      <td>2021-04</td>\n",
       "      <td>PUNTO DE VENTA PLAZA IMPERIAL</td>\n",
       "      <td>2021</td>\n",
       "      <td>4</td>\n",
       "      <td>0.0</td>\n",
       "      <td>484316.47619</td>\n",
       "      <td>0.48131</td>\n",
       "      <td>1.0</td>\n",
       "      <td>11151</td>\n",
       "      <td>...</td>\n",
       "      <td>BLANCO</td>\n",
       "      <td>100.0</td>\n",
       "      <td>44.0</td>\n",
       "      <td>50.0</td>\n",
       "      <td>MESA CENTRO FILIS LACA BL 2C LIQUIDACIÓN</td>\n",
       "      <td>MESAS DE CENTRO</td>\n",
       "      <td>BLANCO</td>\n",
       "      <td>VIDRIO</td>\n",
       "      <td>5000.0</td>\n",
       "      <td>0.053286</td>\n",
       "    </tr>\n",
       "    <tr>\n",
       "      <th>382162</th>\n",
       "      <td>XZ0993:00100:</td>\n",
       "      <td>2021-04</td>\n",
       "      <td>PUNTO DE VENTA POBLADO</td>\n",
       "      <td>2021</td>\n",
       "      <td>4</td>\n",
       "      <td>0.0</td>\n",
       "      <td>484316.47619</td>\n",
       "      <td>0.48131</td>\n",
       "      <td>1.0</td>\n",
       "      <td>11151</td>\n",
       "      <td>...</td>\n",
       "      <td>BLANCO</td>\n",
       "      <td>100.0</td>\n",
       "      <td>44.0</td>\n",
       "      <td>50.0</td>\n",
       "      <td>MESA CENTRO FILIS LACA BL 2C LIQUIDACIÓN</td>\n",
       "      <td>MESAS DE CENTRO</td>\n",
       "      <td>BLANCO</td>\n",
       "      <td>VIDRIO</td>\n",
       "      <td>5000.0</td>\n",
       "      <td>0.053286</td>\n",
       "    </tr>\n",
       "    <tr>\n",
       "      <th>382163</th>\n",
       "      <td>XZ0993:00100:</td>\n",
       "      <td>2021-04</td>\n",
       "      <td>VENTAS DIGITALES</td>\n",
       "      <td>2021</td>\n",
       "      <td>4</td>\n",
       "      <td>0.0</td>\n",
       "      <td>484316.47619</td>\n",
       "      <td>0.48131</td>\n",
       "      <td>1.0</td>\n",
       "      <td>11151</td>\n",
       "      <td>...</td>\n",
       "      <td>BLANCO</td>\n",
       "      <td>100.0</td>\n",
       "      <td>44.0</td>\n",
       "      <td>50.0</td>\n",
       "      <td>MESA CENTRO FILIS LACA BL 2C LIQUIDACIÓN</td>\n",
       "      <td>MESAS DE CENTRO</td>\n",
       "      <td>BLANCO</td>\n",
       "      <td>VIDRIO</td>\n",
       "      <td>5000.0</td>\n",
       "      <td>0.053286</td>\n",
       "    </tr>\n",
       "    <tr>\n",
       "      <th>382164</th>\n",
       "      <td>XZ0993:00100:</td>\n",
       "      <td>2021-04</td>\n",
       "      <td>VILLA DEL RIO</td>\n",
       "      <td>2021</td>\n",
       "      <td>4</td>\n",
       "      <td>0.0</td>\n",
       "      <td>484316.47619</td>\n",
       "      <td>0.48131</td>\n",
       "      <td>1.0</td>\n",
       "      <td>11151</td>\n",
       "      <td>...</td>\n",
       "      <td>BLANCO</td>\n",
       "      <td>100.0</td>\n",
       "      <td>44.0</td>\n",
       "      <td>50.0</td>\n",
       "      <td>MESA CENTRO FILIS LACA BL 2C LIQUIDACIÓN</td>\n",
       "      <td>MESAS DE CENTRO</td>\n",
       "      <td>BLANCO</td>\n",
       "      <td>VIDRIO</td>\n",
       "      <td>5000.0</td>\n",
       "      <td>0.053286</td>\n",
       "    </tr>\n",
       "  </tbody>\n",
       "</table>\n",
       "<p>382165 rows × 29 columns</p>\n",
       "</div>"
      ]
     },
     "metadata": {},
     "execution_count": 22
    }
   ],
   "metadata": {}
  },
  {
   "cell_type": "code",
   "execution_count": 27,
   "source": [
    "defi = pred_past_test.groupby(['DATE']).sum().reset_index()\n",
    "\n",
    "fig = go.Figure()\n",
    "fig.add_scatter(x=defi['DATE'], y=defi['PREDICTED'], mode='lines', name='Valores predichos')\n",
    "fig.add_scatter(x=defi['DATE'], y=defi['CANTIDAD'], mode='lines', name='Valores reales')\n",
    "fig.add_scatter(x=d_futuro['DATE'], y=d_futuro['PREDICTED'], mode='lines', name='Valores futuros')"
   ],
   "outputs": [
    {
     "output_type": "display_data",
     "data": {
      "application/vnd.plotly.v1+json": {
       "config": {
        "plotlyServerURL": "https://plot.ly"
       },
       "data": [
        {
         "mode": "lines",
         "name": "Valores predichos",
         "type": "scatter",
         "x": [
          "2019-01",
          "2019-02",
          "2019-03",
          "2019-04",
          "2019-05",
          "2019-06",
          "2019-07",
          "2019-08",
          "2019-09",
          "2019-10",
          "2019-11",
          "2019-12",
          "2020-01",
          "2020-02",
          "2020-03",
          "2020-04",
          "2020-05",
          "2020-06",
          "2020-07",
          "2020-08",
          "2020-09",
          "2020-10",
          "2020-11",
          "2020-12",
          "2021-01",
          "2021-02",
          "2021-03",
          "2021-04"
         ],
         "y": [
          1875.7585928361505,
          1814.26966814758,
          1855.8549350536707,
          1837.3121762820347,
          1823.1985512104914,
          1826.0571158477107,
          1830.6578229485483,
          1826.4871113295053,
          1850.9080283174644,
          1852.5956313513652,
          2275.314899071615,
          1974.6723974420404,
          2005.197017290447,
          1927.269019608702,
          1543.3629795033307,
          863.2393721023737,
          1088.1239520894578,
          1638.1664755418587,
          1824.8276204984181,
          1680.6024113399285,
          1616.0533513288344,
          1758.2613038337488,
          2044.5832143860703,
          1725.536782438998,
          1564.5408256156259,
          1577.9453663332322,
          1544.6289873308585,
          1434.5743909207424
         ]
        },
        {
         "mode": "lines",
         "name": "Valores reales",
         "type": "scatter",
         "x": [
          "2019-01",
          "2019-02",
          "2019-03",
          "2019-04",
          "2019-05",
          "2019-06",
          "2019-07",
          "2019-08",
          "2019-09",
          "2019-10",
          "2019-11",
          "2019-12",
          "2020-01",
          "2020-02",
          "2020-03",
          "2020-04",
          "2020-05",
          "2020-06",
          "2020-07",
          "2020-08",
          "2020-09",
          "2020-10",
          "2020-11",
          "2020-12",
          "2021-01",
          "2021-02",
          "2021-03",
          "2021-04"
         ],
         "y": [
          1323,
          1283,
          1703,
          1410,
          1879,
          1904,
          2222,
          1708,
          2040,
          1658,
          3161,
          2332,
          2617,
          2945,
          1151,
          107,
          277,
          1660,
          1719,
          1274,
          1774,
          2176,
          2689,
          2183,
          726,
          1871,
          1725,
          963
         ]
        },
        {
         "mode": "lines",
         "name": "Valores futuros",
         "type": "scatter",
         "x": [
          "2021-05",
          "2021-06",
          "2021-07",
          "2021-08",
          "2021-09",
          "2021-10",
          "2021-11",
          "2021-12"
         ],
         "y": [
          198,
          223,
          194,
          194,
          194,
          212,
          482,
          245
         ]
        }
       ],
       "layout": {
        "template": {
         "data": {
          "bar": [
           {
            "error_x": {
             "color": "#2a3f5f"
            },
            "error_y": {
             "color": "#2a3f5f"
            },
            "marker": {
             "line": {
              "color": "#E5ECF6",
              "width": 0.5
             },
             "pattern": {
              "fillmode": "overlay",
              "size": 10,
              "solidity": 0.2
             }
            },
            "type": "bar"
           }
          ],
          "barpolar": [
           {
            "marker": {
             "line": {
              "color": "#E5ECF6",
              "width": 0.5
             },
             "pattern": {
              "fillmode": "overlay",
              "size": 10,
              "solidity": 0.2
             }
            },
            "type": "barpolar"
           }
          ],
          "carpet": [
           {
            "aaxis": {
             "endlinecolor": "#2a3f5f",
             "gridcolor": "white",
             "linecolor": "white",
             "minorgridcolor": "white",
             "startlinecolor": "#2a3f5f"
            },
            "baxis": {
             "endlinecolor": "#2a3f5f",
             "gridcolor": "white",
             "linecolor": "white",
             "minorgridcolor": "white",
             "startlinecolor": "#2a3f5f"
            },
            "type": "carpet"
           }
          ],
          "choropleth": [
           {
            "colorbar": {
             "outlinewidth": 0,
             "ticks": ""
            },
            "type": "choropleth"
           }
          ],
          "contour": [
           {
            "colorbar": {
             "outlinewidth": 0,
             "ticks": ""
            },
            "colorscale": [
             [
              0,
              "#0d0887"
             ],
             [
              0.1111111111111111,
              "#46039f"
             ],
             [
              0.2222222222222222,
              "#7201a8"
             ],
             [
              0.3333333333333333,
              "#9c179e"
             ],
             [
              0.4444444444444444,
              "#bd3786"
             ],
             [
              0.5555555555555556,
              "#d8576b"
             ],
             [
              0.6666666666666666,
              "#ed7953"
             ],
             [
              0.7777777777777778,
              "#fb9f3a"
             ],
             [
              0.8888888888888888,
              "#fdca26"
             ],
             [
              1,
              "#f0f921"
             ]
            ],
            "type": "contour"
           }
          ],
          "contourcarpet": [
           {
            "colorbar": {
             "outlinewidth": 0,
             "ticks": ""
            },
            "type": "contourcarpet"
           }
          ],
          "heatmap": [
           {
            "colorbar": {
             "outlinewidth": 0,
             "ticks": ""
            },
            "colorscale": [
             [
              0,
              "#0d0887"
             ],
             [
              0.1111111111111111,
              "#46039f"
             ],
             [
              0.2222222222222222,
              "#7201a8"
             ],
             [
              0.3333333333333333,
              "#9c179e"
             ],
             [
              0.4444444444444444,
              "#bd3786"
             ],
             [
              0.5555555555555556,
              "#d8576b"
             ],
             [
              0.6666666666666666,
              "#ed7953"
             ],
             [
              0.7777777777777778,
              "#fb9f3a"
             ],
             [
              0.8888888888888888,
              "#fdca26"
             ],
             [
              1,
              "#f0f921"
             ]
            ],
            "type": "heatmap"
           }
          ],
          "heatmapgl": [
           {
            "colorbar": {
             "outlinewidth": 0,
             "ticks": ""
            },
            "colorscale": [
             [
              0,
              "#0d0887"
             ],
             [
              0.1111111111111111,
              "#46039f"
             ],
             [
              0.2222222222222222,
              "#7201a8"
             ],
             [
              0.3333333333333333,
              "#9c179e"
             ],
             [
              0.4444444444444444,
              "#bd3786"
             ],
             [
              0.5555555555555556,
              "#d8576b"
             ],
             [
              0.6666666666666666,
              "#ed7953"
             ],
             [
              0.7777777777777778,
              "#fb9f3a"
             ],
             [
              0.8888888888888888,
              "#fdca26"
             ],
             [
              1,
              "#f0f921"
             ]
            ],
            "type": "heatmapgl"
           }
          ],
          "histogram": [
           {
            "marker": {
             "pattern": {
              "fillmode": "overlay",
              "size": 10,
              "solidity": 0.2
             }
            },
            "type": "histogram"
           }
          ],
          "histogram2d": [
           {
            "colorbar": {
             "outlinewidth": 0,
             "ticks": ""
            },
            "colorscale": [
             [
              0,
              "#0d0887"
             ],
             [
              0.1111111111111111,
              "#46039f"
             ],
             [
              0.2222222222222222,
              "#7201a8"
             ],
             [
              0.3333333333333333,
              "#9c179e"
             ],
             [
              0.4444444444444444,
              "#bd3786"
             ],
             [
              0.5555555555555556,
              "#d8576b"
             ],
             [
              0.6666666666666666,
              "#ed7953"
             ],
             [
              0.7777777777777778,
              "#fb9f3a"
             ],
             [
              0.8888888888888888,
              "#fdca26"
             ],
             [
              1,
              "#f0f921"
             ]
            ],
            "type": "histogram2d"
           }
          ],
          "histogram2dcontour": [
           {
            "colorbar": {
             "outlinewidth": 0,
             "ticks": ""
            },
            "colorscale": [
             [
              0,
              "#0d0887"
             ],
             [
              0.1111111111111111,
              "#46039f"
             ],
             [
              0.2222222222222222,
              "#7201a8"
             ],
             [
              0.3333333333333333,
              "#9c179e"
             ],
             [
              0.4444444444444444,
              "#bd3786"
             ],
             [
              0.5555555555555556,
              "#d8576b"
             ],
             [
              0.6666666666666666,
              "#ed7953"
             ],
             [
              0.7777777777777778,
              "#fb9f3a"
             ],
             [
              0.8888888888888888,
              "#fdca26"
             ],
             [
              1,
              "#f0f921"
             ]
            ],
            "type": "histogram2dcontour"
           }
          ],
          "mesh3d": [
           {
            "colorbar": {
             "outlinewidth": 0,
             "ticks": ""
            },
            "type": "mesh3d"
           }
          ],
          "parcoords": [
           {
            "line": {
             "colorbar": {
              "outlinewidth": 0,
              "ticks": ""
             }
            },
            "type": "parcoords"
           }
          ],
          "pie": [
           {
            "automargin": true,
            "type": "pie"
           }
          ],
          "scatter": [
           {
            "marker": {
             "colorbar": {
              "outlinewidth": 0,
              "ticks": ""
             }
            },
            "type": "scatter"
           }
          ],
          "scatter3d": [
           {
            "line": {
             "colorbar": {
              "outlinewidth": 0,
              "ticks": ""
             }
            },
            "marker": {
             "colorbar": {
              "outlinewidth": 0,
              "ticks": ""
             }
            },
            "type": "scatter3d"
           }
          ],
          "scattercarpet": [
           {
            "marker": {
             "colorbar": {
              "outlinewidth": 0,
              "ticks": ""
             }
            },
            "type": "scattercarpet"
           }
          ],
          "scattergeo": [
           {
            "marker": {
             "colorbar": {
              "outlinewidth": 0,
              "ticks": ""
             }
            },
            "type": "scattergeo"
           }
          ],
          "scattergl": [
           {
            "marker": {
             "colorbar": {
              "outlinewidth": 0,
              "ticks": ""
             }
            },
            "type": "scattergl"
           }
          ],
          "scattermapbox": [
           {
            "marker": {
             "colorbar": {
              "outlinewidth": 0,
              "ticks": ""
             }
            },
            "type": "scattermapbox"
           }
          ],
          "scatterpolar": [
           {
            "marker": {
             "colorbar": {
              "outlinewidth": 0,
              "ticks": ""
             }
            },
            "type": "scatterpolar"
           }
          ],
          "scatterpolargl": [
           {
            "marker": {
             "colorbar": {
              "outlinewidth": 0,
              "ticks": ""
             }
            },
            "type": "scatterpolargl"
           }
          ],
          "scatterternary": [
           {
            "marker": {
             "colorbar": {
              "outlinewidth": 0,
              "ticks": ""
             }
            },
            "type": "scatterternary"
           }
          ],
          "surface": [
           {
            "colorbar": {
             "outlinewidth": 0,
             "ticks": ""
            },
            "colorscale": [
             [
              0,
              "#0d0887"
             ],
             [
              0.1111111111111111,
              "#46039f"
             ],
             [
              0.2222222222222222,
              "#7201a8"
             ],
             [
              0.3333333333333333,
              "#9c179e"
             ],
             [
              0.4444444444444444,
              "#bd3786"
             ],
             [
              0.5555555555555556,
              "#d8576b"
             ],
             [
              0.6666666666666666,
              "#ed7953"
             ],
             [
              0.7777777777777778,
              "#fb9f3a"
             ],
             [
              0.8888888888888888,
              "#fdca26"
             ],
             [
              1,
              "#f0f921"
             ]
            ],
            "type": "surface"
           }
          ],
          "table": [
           {
            "cells": {
             "fill": {
              "color": "#EBF0F8"
             },
             "line": {
              "color": "white"
             }
            },
            "header": {
             "fill": {
              "color": "#C8D4E3"
             },
             "line": {
              "color": "white"
             }
            },
            "type": "table"
           }
          ]
         },
         "layout": {
          "annotationdefaults": {
           "arrowcolor": "#2a3f5f",
           "arrowhead": 0,
           "arrowwidth": 1
          },
          "autotypenumbers": "strict",
          "coloraxis": {
           "colorbar": {
            "outlinewidth": 0,
            "ticks": ""
           }
          },
          "colorscale": {
           "diverging": [
            [
             0,
             "#8e0152"
            ],
            [
             0.1,
             "#c51b7d"
            ],
            [
             0.2,
             "#de77ae"
            ],
            [
             0.3,
             "#f1b6da"
            ],
            [
             0.4,
             "#fde0ef"
            ],
            [
             0.5,
             "#f7f7f7"
            ],
            [
             0.6,
             "#e6f5d0"
            ],
            [
             0.7,
             "#b8e186"
            ],
            [
             0.8,
             "#7fbc41"
            ],
            [
             0.9,
             "#4d9221"
            ],
            [
             1,
             "#276419"
            ]
           ],
           "sequential": [
            [
             0,
             "#0d0887"
            ],
            [
             0.1111111111111111,
             "#46039f"
            ],
            [
             0.2222222222222222,
             "#7201a8"
            ],
            [
             0.3333333333333333,
             "#9c179e"
            ],
            [
             0.4444444444444444,
             "#bd3786"
            ],
            [
             0.5555555555555556,
             "#d8576b"
            ],
            [
             0.6666666666666666,
             "#ed7953"
            ],
            [
             0.7777777777777778,
             "#fb9f3a"
            ],
            [
             0.8888888888888888,
             "#fdca26"
            ],
            [
             1,
             "#f0f921"
            ]
           ],
           "sequentialminus": [
            [
             0,
             "#0d0887"
            ],
            [
             0.1111111111111111,
             "#46039f"
            ],
            [
             0.2222222222222222,
             "#7201a8"
            ],
            [
             0.3333333333333333,
             "#9c179e"
            ],
            [
             0.4444444444444444,
             "#bd3786"
            ],
            [
             0.5555555555555556,
             "#d8576b"
            ],
            [
             0.6666666666666666,
             "#ed7953"
            ],
            [
             0.7777777777777778,
             "#fb9f3a"
            ],
            [
             0.8888888888888888,
             "#fdca26"
            ],
            [
             1,
             "#f0f921"
            ]
           ]
          },
          "colorway": [
           "#636efa",
           "#EF553B",
           "#00cc96",
           "#ab63fa",
           "#FFA15A",
           "#19d3f3",
           "#FF6692",
           "#B6E880",
           "#FF97FF",
           "#FECB52"
          ],
          "font": {
           "color": "#2a3f5f"
          },
          "geo": {
           "bgcolor": "white",
           "lakecolor": "white",
           "landcolor": "#E5ECF6",
           "showlakes": true,
           "showland": true,
           "subunitcolor": "white"
          },
          "hoverlabel": {
           "align": "left"
          },
          "hovermode": "closest",
          "mapbox": {
           "style": "light"
          },
          "paper_bgcolor": "white",
          "plot_bgcolor": "#E5ECF6",
          "polar": {
           "angularaxis": {
            "gridcolor": "white",
            "linecolor": "white",
            "ticks": ""
           },
           "bgcolor": "#E5ECF6",
           "radialaxis": {
            "gridcolor": "white",
            "linecolor": "white",
            "ticks": ""
           }
          },
          "scene": {
           "xaxis": {
            "backgroundcolor": "#E5ECF6",
            "gridcolor": "white",
            "gridwidth": 2,
            "linecolor": "white",
            "showbackground": true,
            "ticks": "",
            "zerolinecolor": "white"
           },
           "yaxis": {
            "backgroundcolor": "#E5ECF6",
            "gridcolor": "white",
            "gridwidth": 2,
            "linecolor": "white",
            "showbackground": true,
            "ticks": "",
            "zerolinecolor": "white"
           },
           "zaxis": {
            "backgroundcolor": "#E5ECF6",
            "gridcolor": "white",
            "gridwidth": 2,
            "linecolor": "white",
            "showbackground": true,
            "ticks": "",
            "zerolinecolor": "white"
           }
          },
          "shapedefaults": {
           "line": {
            "color": "#2a3f5f"
           }
          },
          "ternary": {
           "aaxis": {
            "gridcolor": "white",
            "linecolor": "white",
            "ticks": ""
           },
           "baxis": {
            "gridcolor": "white",
            "linecolor": "white",
            "ticks": ""
           },
           "bgcolor": "#E5ECF6",
           "caxis": {
            "gridcolor": "white",
            "linecolor": "white",
            "ticks": ""
           }
          },
          "title": {
           "x": 0.05
          },
          "xaxis": {
           "automargin": true,
           "gridcolor": "white",
           "linecolor": "white",
           "ticks": "",
           "title": {
            "standoff": 15
           },
           "zerolinecolor": "white",
           "zerolinewidth": 2
          },
          "yaxis": {
           "automargin": true,
           "gridcolor": "white",
           "linecolor": "white",
           "ticks": "",
           "title": {
            "standoff": 15
           },
           "zerolinecolor": "white",
           "zerolinewidth": 2
          }
         }
        }
       }
      }
     },
     "metadata": {}
    }
   ],
   "metadata": {}
  },
  {
   "cell_type": "code",
   "execution_count": 30,
   "source": [
    "import statsmodels.api as sm\n",
    "\n",
    "mod = sm.OLS(pasado['CANTIDAD'], sm.add_constant(x_tot[:-particion]))\n",
    "res = mod.fit()\n",
    "res.summary()"
   ],
   "outputs": [],
   "metadata": {}
  },
  {
   "cell_type": "code",
   "execution_count": null,
   "source": [],
   "outputs": [],
   "metadata": {}
  }
 ],
 "metadata": {
  "kernelspec": {
   "name": "python3",
   "display_name": "Python 3.9.6 64-bit"
  },
  "language_info": {
   "codemirror_mode": {
    "name": "ipython",
    "version": 3
   },
   "file_extension": ".py",
   "mimetype": "text/x-python",
   "name": "python",
   "nbconvert_exporter": "python",
   "pygments_lexer": "ipython3",
   "version": "3.9.6"
  },
  "interpreter": {
   "hash": "aee8b7b246df8f9039afb4144a1f6fd8d2ca17a180786b69acc140d282b71a49"
  }
 },
 "nbformat": 4,
 "nbformat_minor": 5
}