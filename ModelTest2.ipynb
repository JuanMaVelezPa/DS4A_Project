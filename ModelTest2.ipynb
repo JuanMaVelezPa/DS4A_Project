{
 "cells": [
  {
   "cell_type": "code",
   "execution_count": 1,
   "source": [
    "%pylab inline\r\n",
    "import pandas as pd\r\n",
    "\r\n",
    "from dataManager import DataManager\r\n",
    "from model import ModelManager as manager\r\n",
    "\r\n",
    "from sklearn.preprocessing import MinMaxScaler\r\n",
    "from sklearn.ensemble import GradientBoostingRegressor\r\n",
    "from sklearn.metrics import mean_squared_error as mse\r\n",
    "\r\n",
    "import plotly.graph_objects as go"
   ],
   "outputs": [
    {
     "output_type": "stream",
     "name": "stdout",
     "text": [
      "Populating the interactive namespace from numpy and matplotlib\n"
     ]
    }
   ],
   "metadata": {}
  },
  {
   "cell_type": "code",
   "execution_count": 2,
   "source": [
    "promedios = DataManager().sales_prod.copy()\r\n",
    "promedios = promedios.groupby(['REF']).agg({'PRECIO':'mean','DESCUENTO(%)':'mean','DESC_LARGA':'first'})[['PRECIO','DESCUENTO(%)']]\r\n",
    "\r\n",
    "covid = DataManager().sales_ref_month_sin_ventas_mayores()[['DATE','F_COVID']].drop_duplicates()\r\n",
    "covid = covid.set_index('DATE')"
   ],
   "outputs": [],
   "metadata": {}
  },
  {
   "cell_type": "code",
   "execution_count": 3,
   "source": [
    "prods = data = DataManager().products.drop_duplicates().copy()\r\n",
    "prods['AREA'] = prods.ANCHO * prods.FONDO\r\n",
    "\r\n",
    "data = DataManager().sales_ref_month_sin_ventas_mayores()\r\n",
    "data['DATE'] = data['ANIO'].astype(str) + '-' + data['MES'].astype(str).str.zfill(2)\r\n",
    "\r\n",
    "pasado = data.pivot_table(index='REF',columns=['DATE','ANIO','MES','TIENDA'],values='CANTIDAD',aggfunc='sum').reset_index()\r\n",
    "pasado = pd.melt(pasado,id_vars='REF')\r\n",
    "\r\n",
    "pasado = pasado.sort_values(['REF','DATE'])\r\n",
    "pasado = pasado.rename(columns={'value':'CANTIDAD'})\r\n",
    "pasado = pasado.reset_index(drop=True).fillna(0)\r\n",
    "\r\n",
    "pasado = pasado.merge(data.drop(columns=['CANTIDAD','ANIO','MES']).groupby(['REF','DATE','TIENDA']).agg({'PRECIO':'mean','DESCUENTO(%)':'mean','F_COVID':'first'}),on=['REF','DATE','TIENDA'],how='left',validate='1:1')\r\n",
    "pasado = pasado[['REF','TIENDA','DATE','ANIO','MES','CANTIDAD','PRECIO','DESCUENTO(%)','F_COVID']]\r\n",
    "\r\n",
    "pasado = pasado.set_index('DATE')\r\n",
    "pasado.update(covid)\r\n",
    "pasado.reset_index(inplace=True)\r\n",
    "\r\n",
    "pasado = pasado.set_index('REF')\r\n",
    "pasado.update(promedios, overwrite=False)\r\n",
    "pasado.reset_index(inplace=True)\r\n",
    "\r\n",
    "pasado = pasado.merge(prods,on='REF',validate='m:1')\r\n",
    "pasado = pasado.sort_values(['ANIO','MES']).reset_index(drop=True)"
   ],
   "outputs": [],
   "metadata": {}
  },
  {
   "cell_type": "code",
   "execution_count": 4,
   "source": [
    "sales = pasado.copy().query('VIGENCIA != \"DESCONTINUADO\"')\r\n",
    "sales = sales.groupby(['REF','TIENDA']).agg({'PRECIO':'mean','DESCUENTO(%)':'mean',\r\n",
    "    'AREA':'first','ALTO':'first','PUESTOS':'first', 'COLOR_POS':'first', \r\n",
    "    'SUBCATEGORIA_POS':'first','MATERIAL_POS':'first','ACABADO':'first',\r\n",
    "    'CATEGORIA':'first','ORIGEN':'first'}\r\n",
    ").reset_index()\r\n",
    "\r\n",
    "# 2021 future months and covid\r\n",
    "months = [5,6,7,8,9,10,11,12]\r\n",
    "covid = [0,0,0,0,0,0,0,0]\r\n",
    "min_sales = sales[['REF','TIENDA']].copy()\r\n",
    "for m,c in zip(months,covid):\r\n",
    "    min_sales[m]=c\r\n",
    "\r\n",
    "melt_sales=pd.melt(min_sales,id_vars=['REF','TIENDA'],var_name='MES',value_name='F_COVID')\r\n",
    "futuro=melt_sales.merge(sales,on=['REF','TIENDA'],how='left',validate='m:1')\r\n",
    "\r\n",
    "futuro['ANIO'] = 2021\r\n",
    "futuro['DATE'] = futuro['ANIO'].astype(str) + '-' +futuro['MES'].astype(str).str.zfill(2)\r\n",
    "futuro.sort_values(['ANIO','MES']).reset_index(drop=True)\r\n",
    "\r\n",
    "futuro = futuro[['REF','TIENDA','DATE','ANIO','MES','PRECIO','DESCUENTO(%)','F_COVID','AREA','ALTO','PUESTOS','COLOR_POS','SUBCATEGORIA_POS','MATERIAL_POS','ACABADO','ORIGEN']]\r\n",
    "futuro[(futuro.REF == 'BR0002:00193:') & (futuro.TIENDA == 'PAGINA WEB FIOTTI')]\r\n",
    "futuro = futuro.fillna(0)"
   ],
   "outputs": [],
   "metadata": {}
  },
  {
   "cell_type": "code",
   "execution_count": 5,
   "source": [
    "total = pd.concat([pasado.drop(columns='CANTIDAD').copy(),futuro.copy()]).reset_index(drop=True)\r\n",
    "particion = len(futuro)"
   ],
   "outputs": [],
   "metadata": {}
  },
  {
   "cell_type": "code",
   "execution_count": 6,
   "source": [
    "scaler = MinMaxScaler()\r\n",
    "\r\n",
    "num=['AREA','ALTO','DESCUENTO(%)','PRECIO','CANTIDAD']\r\n",
    "x_num=total[num[:-1]].astype('float')\r\n",
    "x_norm = scaler.fit_transform(x_num)\r\n",
    "\r\n",
    "cat=[\r\n",
    "    'TIENDA','MES',\r\n",
    "    'F_COVID','PUESTOS','COLOR_POS','SUBCATEGORIA_POS',\r\n",
    "    'MATERIAL_POS','ACABADO','ORIGEN'\r\n",
    "]\r\n",
    "x_cat=total[cat].astype('category')\r\n",
    "x_dummies=pd.get_dummies(x_cat)\r\n",
    "\r\n",
    "x_tot = np.append(x_num,x_dummies,axis=1)\r\n",
    "x_past = x_tot[:-particion]\r\n",
    "y_past = pasado['CANTIDAD']"
   ],
   "outputs": [],
   "metadata": {}
  },
  {
   "cell_type": "code",
   "execution_count": 7,
   "source": [
    "model = GradientBoostingRegressor(**{'learning_rate': 0.01, 'max_depth': 6, 'n_estimators': 200})\r\n",
    "model.fit(x_past,y_past)"
   ],
   "outputs": [
    {
     "output_type": "execute_result",
     "data": {
      "text/plain": [
       "GradientBoostingRegressor(learning_rate=0.01, max_depth=6, n_estimators=200)"
      ]
     },
     "metadata": {},
     "execution_count": 7
    }
   ],
   "metadata": {}
  },
  {
   "cell_type": "code",
   "execution_count": 8,
   "source": [
    "x_fut = x_tot[-particion:]\r\n",
    "y_fut = model.predict(x_fut)"
   ],
   "outputs": [],
   "metadata": {}
  },
  {
   "cell_type": "code",
   "execution_count": 12,
   "source": [
    "pasado['PREDICTED'] = model.predict(x_past)\r\n",
    "\r\n",
    "d_futuro = futuro.groupby(['DATE']).sum().reset_index()\r\n",
    "d_pasado = pasado.groupby(['DATE']).sum().reset_index()\r\n",
    "defi = d_futuro#.query('REF==\"D00935:00048:00048\"')\r\n",
    "fig = go.Figure()\r\n",
    "fig.add_scatter(x=defi['DATE'], y=defi['PREDICTED'], mode='lines', name='Valores predichos')\r\n",
    "fig.add_scatter(x=d_pasado['DATE'], y=d_pasado['PREDICTED'], mode='lines', name='Valores predichos')\r\n",
    "fig.add_scatter(x=d_pasado['DATE'], y=d_pasado['CANTIDAD'], mode='lines', name='Valores reales')\r\n"
   ],
   "outputs": [
    {
     "output_type": "display_data",
     "data": {
      "application/vnd.plotly.v1+json": {
       "config": {
        "plotlyServerURL": "https://plot.ly"
       },
       "data": [
        {
         "mode": "lines",
         "name": "Valores predichos",
         "type": "scatter",
         "x": [
          "2021-05",
          "2021-06",
          "2021-07",
          "2021-08",
          "2021-09",
          "2021-10",
          "2021-11",
          "2021-12"
         ],
         "y": [
          812.9955389502857,
          813.3040485931111,
          813.0408383342954,
          813.0408383342954,
          813.0983270228596,
          813.0408383342954,
          945.1457949140531,
          848.9984118267369
         ]
        },
        {
         "mode": "lines",
         "name": "Valores predichos",
         "type": "scatter",
         "x": [
          "2019-01",
          "2019-02",
          "2019-03",
          "2019-04",
          "2019-05",
          "2019-06",
          "2019-07",
          "2019-08",
          "2019-09",
          "2019-10",
          "2019-11",
          "2019-12",
          "2020-01",
          "2020-02",
          "2020-03",
          "2020-04",
          "2020-05",
          "2020-06",
          "2020-07",
          "2020-08",
          "2020-09",
          "2020-10",
          "2020-11",
          "2020-12",
          "2021-01",
          "2021-02",
          "2021-03",
          "2021-04"
         ],
         "y": [
          1704.3859418792238,
          1665.5495570402295,
          1708.8037891820843,
          1658.489882434086,
          1672.0214388926502,
          1633.9465456269224,
          1669.7135749510685,
          1686.5929637390198,
          1660.946451190271,
          1675.4658631862744,
          1978.6258757827131,
          1806.6052201069776,
          1870.5575086819833,
          1787.4361390279491,
          1432.8852838100715,
          776.0808307870792,
          977.1360757127194,
          1505.3271472879283,
          1633.5630263449027,
          1555.8670908895838,
          1533.8966603110052,
          1686.0065588159478,
          1903.006444289283,
          1618.5130673233239,
          1435.9760683613051,
          1510.2453450971757,
          1466.1314508963187,
          1336.2241983517354
         ]
        },
        {
         "mode": "lines",
         "name": "Valores reales",
         "type": "scatter",
         "x": [
          "2019-01",
          "2019-02",
          "2019-03",
          "2019-04",
          "2019-05",
          "2019-06",
          "2019-07",
          "2019-08",
          "2019-09",
          "2019-10",
          "2019-11",
          "2019-12",
          "2020-01",
          "2020-02",
          "2020-03",
          "2020-04",
          "2020-05",
          "2020-06",
          "2020-07",
          "2020-08",
          "2020-09",
          "2020-10",
          "2020-11",
          "2020-12",
          "2021-01",
          "2021-02",
          "2021-03",
          "2021-04"
         ],
         "y": [
          1171,
          1193,
          1599,
          1297,
          1805,
          1693,
          2023,
          1520,
          1805,
          1530,
          2648,
          2102,
          2320,
          2596,
          1130,
          107,
          226,
          1510,
          1525,
          1130,
          1730,
          2099,
          2510,
          2066,
          726,
          1825,
          1701,
          963
         ]
        }
       ],
       "layout": {
        "template": {
         "data": {
          "bar": [
           {
            "error_x": {
             "color": "#2a3f5f"
            },
            "error_y": {
             "color": "#2a3f5f"
            },
            "marker": {
             "line": {
              "color": "#E5ECF6",
              "width": 0.5
             },
             "pattern": {
              "fillmode": "overlay",
              "size": 10,
              "solidity": 0.2
             }
            },
            "type": "bar"
           }
          ],
          "barpolar": [
           {
            "marker": {
             "line": {
              "color": "#E5ECF6",
              "width": 0.5
             },
             "pattern": {
              "fillmode": "overlay",
              "size": 10,
              "solidity": 0.2
             }
            },
            "type": "barpolar"
           }
          ],
          "carpet": [
           {
            "aaxis": {
             "endlinecolor": "#2a3f5f",
             "gridcolor": "white",
             "linecolor": "white",
             "minorgridcolor": "white",
             "startlinecolor": "#2a3f5f"
            },
            "baxis": {
             "endlinecolor": "#2a3f5f",
             "gridcolor": "white",
             "linecolor": "white",
             "minorgridcolor": "white",
             "startlinecolor": "#2a3f5f"
            },
            "type": "carpet"
           }
          ],
          "choropleth": [
           {
            "colorbar": {
             "outlinewidth": 0,
             "ticks": ""
            },
            "type": "choropleth"
           }
          ],
          "contour": [
           {
            "colorbar": {
             "outlinewidth": 0,
             "ticks": ""
            },
            "colorscale": [
             [
              0,
              "#0d0887"
             ],
             [
              0.1111111111111111,
              "#46039f"
             ],
             [
              0.2222222222222222,
              "#7201a8"
             ],
             [
              0.3333333333333333,
              "#9c179e"
             ],
             [
              0.4444444444444444,
              "#bd3786"
             ],
             [
              0.5555555555555556,
              "#d8576b"
             ],
             [
              0.6666666666666666,
              "#ed7953"
             ],
             [
              0.7777777777777778,
              "#fb9f3a"
             ],
             [
              0.8888888888888888,
              "#fdca26"
             ],
             [
              1,
              "#f0f921"
             ]
            ],
            "type": "contour"
           }
          ],
          "contourcarpet": [
           {
            "colorbar": {
             "outlinewidth": 0,
             "ticks": ""
            },
            "type": "contourcarpet"
           }
          ],
          "heatmap": [
           {
            "colorbar": {
             "outlinewidth": 0,
             "ticks": ""
            },
            "colorscale": [
             [
              0,
              "#0d0887"
             ],
             [
              0.1111111111111111,
              "#46039f"
             ],
             [
              0.2222222222222222,
              "#7201a8"
             ],
             [
              0.3333333333333333,
              "#9c179e"
             ],
             [
              0.4444444444444444,
              "#bd3786"
             ],
             [
              0.5555555555555556,
              "#d8576b"
             ],
             [
              0.6666666666666666,
              "#ed7953"
             ],
             [
              0.7777777777777778,
              "#fb9f3a"
             ],
             [
              0.8888888888888888,
              "#fdca26"
             ],
             [
              1,
              "#f0f921"
             ]
            ],
            "type": "heatmap"
           }
          ],
          "heatmapgl": [
           {
            "colorbar": {
             "outlinewidth": 0,
             "ticks": ""
            },
            "colorscale": [
             [
              0,
              "#0d0887"
             ],
             [
              0.1111111111111111,
              "#46039f"
             ],
             [
              0.2222222222222222,
              "#7201a8"
             ],
             [
              0.3333333333333333,
              "#9c179e"
             ],
             [
              0.4444444444444444,
              "#bd3786"
             ],
             [
              0.5555555555555556,
              "#d8576b"
             ],
             [
              0.6666666666666666,
              "#ed7953"
             ],
             [
              0.7777777777777778,
              "#fb9f3a"
             ],
             [
              0.8888888888888888,
              "#fdca26"
             ],
             [
              1,
              "#f0f921"
             ]
            ],
            "type": "heatmapgl"
           }
          ],
          "histogram": [
           {
            "marker": {
             "pattern": {
              "fillmode": "overlay",
              "size": 10,
              "solidity": 0.2
             }
            },
            "type": "histogram"
           }
          ],
          "histogram2d": [
           {
            "colorbar": {
             "outlinewidth": 0,
             "ticks": ""
            },
            "colorscale": [
             [
              0,
              "#0d0887"
             ],
             [
              0.1111111111111111,
              "#46039f"
             ],
             [
              0.2222222222222222,
              "#7201a8"
             ],
             [
              0.3333333333333333,
              "#9c179e"
             ],
             [
              0.4444444444444444,
              "#bd3786"
             ],
             [
              0.5555555555555556,
              "#d8576b"
             ],
             [
              0.6666666666666666,
              "#ed7953"
             ],
             [
              0.7777777777777778,
              "#fb9f3a"
             ],
             [
              0.8888888888888888,
              "#fdca26"
             ],
             [
              1,
              "#f0f921"
             ]
            ],
            "type": "histogram2d"
           }
          ],
          "histogram2dcontour": [
           {
            "colorbar": {
             "outlinewidth": 0,
             "ticks": ""
            },
            "colorscale": [
             [
              0,
              "#0d0887"
             ],
             [
              0.1111111111111111,
              "#46039f"
             ],
             [
              0.2222222222222222,
              "#7201a8"
             ],
             [
              0.3333333333333333,
              "#9c179e"
             ],
             [
              0.4444444444444444,
              "#bd3786"
             ],
             [
              0.5555555555555556,
              "#d8576b"
             ],
             [
              0.6666666666666666,
              "#ed7953"
             ],
             [
              0.7777777777777778,
              "#fb9f3a"
             ],
             [
              0.8888888888888888,
              "#fdca26"
             ],
             [
              1,
              "#f0f921"
             ]
            ],
            "type": "histogram2dcontour"
           }
          ],
          "mesh3d": [
           {
            "colorbar": {
             "outlinewidth": 0,
             "ticks": ""
            },
            "type": "mesh3d"
           }
          ],
          "parcoords": [
           {
            "line": {
             "colorbar": {
              "outlinewidth": 0,
              "ticks": ""
             }
            },
            "type": "parcoords"
           }
          ],
          "pie": [
           {
            "automargin": true,
            "type": "pie"
           }
          ],
          "scatter": [
           {
            "marker": {
             "colorbar": {
              "outlinewidth": 0,
              "ticks": ""
             }
            },
            "type": "scatter"
           }
          ],
          "scatter3d": [
           {
            "line": {
             "colorbar": {
              "outlinewidth": 0,
              "ticks": ""
             }
            },
            "marker": {
             "colorbar": {
              "outlinewidth": 0,
              "ticks": ""
             }
            },
            "type": "scatter3d"
           }
          ],
          "scattercarpet": [
           {
            "marker": {
             "colorbar": {
              "outlinewidth": 0,
              "ticks": ""
             }
            },
            "type": "scattercarpet"
           }
          ],
          "scattergeo": [
           {
            "marker": {
             "colorbar": {
              "outlinewidth": 0,
              "ticks": ""
             }
            },
            "type": "scattergeo"
           }
          ],
          "scattergl": [
           {
            "marker": {
             "colorbar": {
              "outlinewidth": 0,
              "ticks": ""
             }
            },
            "type": "scattergl"
           }
          ],
          "scattermapbox": [
           {
            "marker": {
             "colorbar": {
              "outlinewidth": 0,
              "ticks": ""
             }
            },
            "type": "scattermapbox"
           }
          ],
          "scatterpolar": [
           {
            "marker": {
             "colorbar": {
              "outlinewidth": 0,
              "ticks": ""
             }
            },
            "type": "scatterpolar"
           }
          ],
          "scatterpolargl": [
           {
            "marker": {
             "colorbar": {
              "outlinewidth": 0,
              "ticks": ""
             }
            },
            "type": "scatterpolargl"
           }
          ],
          "scatterternary": [
           {
            "marker": {
             "colorbar": {
              "outlinewidth": 0,
              "ticks": ""
             }
            },
            "type": "scatterternary"
           }
          ],
          "surface": [
           {
            "colorbar": {
             "outlinewidth": 0,
             "ticks": ""
            },
            "colorscale": [
             [
              0,
              "#0d0887"
             ],
             [
              0.1111111111111111,
              "#46039f"
             ],
             [
              0.2222222222222222,
              "#7201a8"
             ],
             [
              0.3333333333333333,
              "#9c179e"
             ],
             [
              0.4444444444444444,
              "#bd3786"
             ],
             [
              0.5555555555555556,
              "#d8576b"
             ],
             [
              0.6666666666666666,
              "#ed7953"
             ],
             [
              0.7777777777777778,
              "#fb9f3a"
             ],
             [
              0.8888888888888888,
              "#fdca26"
             ],
             [
              1,
              "#f0f921"
             ]
            ],
            "type": "surface"
           }
          ],
          "table": [
           {
            "cells": {
             "fill": {
              "color": "#EBF0F8"
             },
             "line": {
              "color": "white"
             }
            },
            "header": {
             "fill": {
              "color": "#C8D4E3"
             },
             "line": {
              "color": "white"
             }
            },
            "type": "table"
           }
          ]
         },
         "layout": {
          "annotationdefaults": {
           "arrowcolor": "#2a3f5f",
           "arrowhead": 0,
           "arrowwidth": 1
          },
          "autotypenumbers": "strict",
          "coloraxis": {
           "colorbar": {
            "outlinewidth": 0,
            "ticks": ""
           }
          },
          "colorscale": {
           "diverging": [
            [
             0,
             "#8e0152"
            ],
            [
             0.1,
             "#c51b7d"
            ],
            [
             0.2,
             "#de77ae"
            ],
            [
             0.3,
             "#f1b6da"
            ],
            [
             0.4,
             "#fde0ef"
            ],
            [
             0.5,
             "#f7f7f7"
            ],
            [
             0.6,
             "#e6f5d0"
            ],
            [
             0.7,
             "#b8e186"
            ],
            [
             0.8,
             "#7fbc41"
            ],
            [
             0.9,
             "#4d9221"
            ],
            [
             1,
             "#276419"
            ]
           ],
           "sequential": [
            [
             0,
             "#0d0887"
            ],
            [
             0.1111111111111111,
             "#46039f"
            ],
            [
             0.2222222222222222,
             "#7201a8"
            ],
            [
             0.3333333333333333,
             "#9c179e"
            ],
            [
             0.4444444444444444,
             "#bd3786"
            ],
            [
             0.5555555555555556,
             "#d8576b"
            ],
            [
             0.6666666666666666,
             "#ed7953"
            ],
            [
             0.7777777777777778,
             "#fb9f3a"
            ],
            [
             0.8888888888888888,
             "#fdca26"
            ],
            [
             1,
             "#f0f921"
            ]
           ],
           "sequentialminus": [
            [
             0,
             "#0d0887"
            ],
            [
             0.1111111111111111,
             "#46039f"
            ],
            [
             0.2222222222222222,
             "#7201a8"
            ],
            [
             0.3333333333333333,
             "#9c179e"
            ],
            [
             0.4444444444444444,
             "#bd3786"
            ],
            [
             0.5555555555555556,
             "#d8576b"
            ],
            [
             0.6666666666666666,
             "#ed7953"
            ],
            [
             0.7777777777777778,
             "#fb9f3a"
            ],
            [
             0.8888888888888888,
             "#fdca26"
            ],
            [
             1,
             "#f0f921"
            ]
           ]
          },
          "colorway": [
           "#636efa",
           "#EF553B",
           "#00cc96",
           "#ab63fa",
           "#FFA15A",
           "#19d3f3",
           "#FF6692",
           "#B6E880",
           "#FF97FF",
           "#FECB52"
          ],
          "font": {
           "color": "#2a3f5f"
          },
          "geo": {
           "bgcolor": "white",
           "lakecolor": "white",
           "landcolor": "#E5ECF6",
           "showlakes": true,
           "showland": true,
           "subunitcolor": "white"
          },
          "hoverlabel": {
           "align": "left"
          },
          "hovermode": "closest",
          "mapbox": {
           "style": "light"
          },
          "paper_bgcolor": "white",
          "plot_bgcolor": "#E5ECF6",
          "polar": {
           "angularaxis": {
            "gridcolor": "white",
            "linecolor": "white",
            "ticks": ""
           },
           "bgcolor": "#E5ECF6",
           "radialaxis": {
            "gridcolor": "white",
            "linecolor": "white",
            "ticks": ""
           }
          },
          "scene": {
           "xaxis": {
            "backgroundcolor": "#E5ECF6",
            "gridcolor": "white",
            "gridwidth": 2,
            "linecolor": "white",
            "showbackground": true,
            "ticks": "",
            "zerolinecolor": "white"
           },
           "yaxis": {
            "backgroundcolor": "#E5ECF6",
            "gridcolor": "white",
            "gridwidth": 2,
            "linecolor": "white",
            "showbackground": true,
            "ticks": "",
            "zerolinecolor": "white"
           },
           "zaxis": {
            "backgroundcolor": "#E5ECF6",
            "gridcolor": "white",
            "gridwidth": 2,
            "linecolor": "white",
            "showbackground": true,
            "ticks": "",
            "zerolinecolor": "white"
           }
          },
          "shapedefaults": {
           "line": {
            "color": "#2a3f5f"
           }
          },
          "ternary": {
           "aaxis": {
            "gridcolor": "white",
            "linecolor": "white",
            "ticks": ""
           },
           "baxis": {
            "gridcolor": "white",
            "linecolor": "white",
            "ticks": ""
           },
           "bgcolor": "#E5ECF6",
           "caxis": {
            "gridcolor": "white",
            "linecolor": "white",
            "ticks": ""
           }
          },
          "title": {
           "x": 0.05
          },
          "xaxis": {
           "automargin": true,
           "gridcolor": "white",
           "linecolor": "white",
           "ticks": "",
           "title": {
            "standoff": 15
           },
           "zerolinecolor": "white",
           "zerolinewidth": 2
          },
          "yaxis": {
           "automargin": true,
           "gridcolor": "white",
           "linecolor": "white",
           "ticks": "",
           "title": {
            "standoff": 15
           },
           "zerolinecolor": "white",
           "zerolinewidth": 2
          }
         }
        }
       }
      }
     },
     "metadata": {}
    }
   ],
   "metadata": {}
  },
  {
   "cell_type": "code",
   "execution_count": 46,
   "source": [
    "import statsmodels.api as sm\r\n",
    "\r\n",
    "mod = sm.OLS(y, sm.add_constant(x))\r\n",
    "res = mod.fit()\r\n",
    "res.summary()"
   ],
   "outputs": [
    {
     "output_type": "execute_result",
     "data": {
      "text/plain": [
       "<class 'statsmodels.iolib.summary.Summary'>\n",
       "\"\"\"\n",
       "                            OLS Regression Results                            \n",
       "==============================================================================\n",
       "Dep. Variable:               CANTIDAD   R-squared:                       0.035\n",
       "Model:                            OLS   Adj. R-squared:                  0.035\n",
       "Method:                 Least Squares   F-statistic:                     187.3\n",
       "Date:                Wed, 01 Sep 2021   Prob (F-statistic):               0.00\n",
       "Time:                        19:14:20   Log-Likelihood:            -5.1014e+05\n",
       "No. Observations:              382165   AIC:                         1.020e+06\n",
       "Df Residuals:                  382089   BIC:                         1.021e+06\n",
       "Df Model:                          75                                         \n",
       "Covariance Type:            nonrobust                                         \n",
       "==============================================================================\n",
       "                 coef    std err          t      P>|t|      [0.025      0.975]\n",
       "------------------------------------------------------------------------------\n",
       "const          0.0716      0.007     10.396      0.000       0.058       0.085\n",
       "x1          6.898e-07   3.64e-07      1.897      0.058   -2.29e-08     1.4e-06\n",
       "x2             0.0006   8.24e-05      6.793      0.000       0.000       0.001\n",
       "x3            -0.1923      0.012    -16.093      0.000      -0.216      -0.169\n",
       "x4         -5.082e-08   4.85e-09    -10.474      0.000   -6.03e-08   -4.13e-08\n",
       "x5            -0.0403      0.005     -8.051      0.000      -0.050      -0.030\n",
       "x6            -0.0233      0.005     -4.730      0.000      -0.033      -0.014\n",
       "x7             0.4166      0.005     84.637      0.000       0.407       0.426\n",
       "x8            -0.0923      0.012     -7.429      0.000      -0.117      -0.068\n",
       "x9            -0.0081      0.005     -1.619      0.105      -0.018       0.002\n",
       "x10            0.0560      0.005     11.377      0.000       0.046       0.066\n",
       "x11            0.0902      0.005     18.322      0.000       0.081       0.100\n",
       "x12           -0.0780      0.006    -14.167      0.000      -0.089      -0.067\n",
       "x13           -0.0274      0.005     -5.394      0.000      -0.037      -0.017\n",
       "x14           -0.0148      0.005     -3.004      0.003      -0.024      -0.005\n",
       "x15           -0.0631      0.005    -12.426      0.000      -0.073      -0.053\n",
       "x16           -0.0699      0.006    -11.175      0.000      -0.082      -0.058\n",
       "x17           -0.0314      0.008     -4.075      0.000      -0.047      -0.016\n",
       "x18           -0.0427      0.011     -3.810      0.000      -0.065      -0.021\n",
       "x19           -0.0140      0.005     -3.034      0.002      -0.023      -0.005\n",
       "x20            0.0144      0.004      3.213      0.001       0.006       0.023\n",
       "x21            0.0076      0.005      1.528      0.127      -0.002       0.017\n",
       "x22           -0.0529      0.005    -10.616      0.000      -0.063      -0.043\n",
       "x23           -0.0505      0.006     -8.521      0.000      -0.062      -0.039\n",
       "x24            0.0067      0.006      1.188      0.235      -0.004       0.018\n",
       "x25            0.0166      0.005      3.040      0.002       0.006       0.027\n",
       "x26           -0.0108      0.006     -1.879      0.060      -0.022       0.000\n",
       "x27            0.0197      0.006      3.422      0.001       0.008       0.031\n",
       "x28            0.0114      0.005      2.131      0.033       0.001       0.022\n",
       "x29            0.0817      0.005     15.239      0.000       0.071       0.092\n",
       "x30            0.0416      0.006      7.315      0.000       0.030       0.053\n",
       "x31            0.0600      0.003     19.330      0.000       0.054       0.066\n",
       "x32            0.0279      0.004      7.558      0.000       0.021       0.035\n",
       "x33            0.0129      0.005      2.635      0.008       0.003       0.022\n",
       "x34           -0.0292      0.006     -4.693      0.000      -0.041      -0.017\n",
       "x35         2.343e-16    2.3e-17     10.185      0.000    1.89e-16    2.79e-16\n",
       "x36            0.0367      0.013      2.796      0.005       0.011       0.062\n",
       "x37            0.0829      0.012      6.754      0.000       0.059       0.107\n",
       "x38            0.0875      0.013      6.640      0.000       0.062       0.113\n",
       "x39            0.1465      0.019      7.514      0.000       0.108       0.185\n",
       "x40            0.0773      0.012      6.223      0.000       0.053       0.102\n",
       "x41            0.1686      0.025      6.852      0.000       0.120       0.217\n",
       "x42           -0.0240      0.010     -2.354      0.019      -0.044      -0.004\n",
       "x43            0.0105      0.007      1.420      0.156      -0.004       0.025\n",
       "x44           -0.0396      0.009     -4.399      0.000      -0.057      -0.022\n",
       "x45           -0.0518      0.006     -8.500      0.000      -0.064      -0.040\n",
       "x46           -0.0248      0.004     -5.513      0.000      -0.034      -0.016\n",
       "x47           -0.0247      0.009     -2.842      0.004      -0.042      -0.008\n",
       "x48           -0.0234      0.004     -5.500      0.000      -0.032      -0.015\n",
       "x49            0.3157      0.019     16.630      0.000       0.279       0.353\n",
       "x50            0.0205      0.005      4.401      0.000       0.011       0.030\n",
       "x51           -0.0320      0.004     -7.505      0.000      -0.040      -0.024\n",
       "x52           -0.0549      0.008     -6.630      0.000      -0.071      -0.039\n",
       "x53           -0.1164      0.020     -5.880      0.000      -0.155      -0.078\n",
       "x54        -9.191e-05      0.009     -0.010      0.992      -0.018       0.018\n",
       "x55           -0.0511      0.006     -8.934      0.000      -0.062      -0.040\n",
       "x56           -0.0255      0.011     -2.322      0.020      -0.047      -0.004\n",
       "x57           -0.0232      0.011     -2.043      0.041      -0.046      -0.001\n",
       "x58            0.0682      0.011      6.301      0.000       0.047       0.089\n",
       "x59            0.1187      0.013      8.805      0.000       0.092       0.145\n",
       "x60           -0.0456      0.018     -2.514      0.012      -0.081      -0.010\n",
       "x61           -0.0447      0.014     -3.201      0.001      -0.072      -0.017\n",
       "x62            0.0219      0.010      2.215      0.027       0.003       0.041\n",
       "x63            0.1320      0.010     13.166      0.000       0.112       0.152\n",
       "x64           -0.0090      0.011     -0.805      0.421      -0.031       0.013\n",
       "x65            0.0051      0.009      0.536      0.592      -0.013       0.024\n",
       "x66            0.0413      0.012      3.467      0.001       0.018       0.065\n",
       "x67            0.1533      0.009     17.973      0.000       0.137       0.170\n",
       "x68            0.0024      0.011      0.218      0.827      -0.019       0.024\n",
       "x69            0.0954      0.010      9.145      0.000       0.075       0.116\n",
       "x70            0.1425      0.022      6.619      0.000       0.100       0.185\n",
       "x71           -0.4213      0.016    -26.335      0.000      -0.453      -0.390\n",
       "x72            0.0992      0.008     13.068      0.000       0.084       0.114\n",
       "x73            0.4131      0.020     20.522      0.000       0.374       0.453\n",
       "x74           -0.1198      0.017     -7.186      0.000      -0.152      -0.087\n",
       "x75           -0.1310      0.012    -10.573      0.000      -0.155      -0.107\n",
       "x76           -0.2041      0.049     -4.182      0.000      -0.300      -0.108\n",
       "x77           -0.1292      0.029     -4.399      0.000      -0.187      -0.072\n",
       "x78           -0.1662      0.021     -7.783      0.000      -0.208      -0.124\n",
       "x79           -0.1179      0.013     -9.136      0.000      -0.143      -0.093\n",
       "x80            0.5411      0.052     10.455      0.000       0.440       0.643\n",
       "x81           -0.0145      0.017     -0.850      0.395      -0.048       0.019\n",
       "x82            0.0744      0.005     15.698      0.000       0.065       0.084\n",
       "x83            0.0051      0.005      0.944      0.345      -0.005       0.016\n",
       "x84           -0.0078      0.008     -0.951      0.342      -0.024       0.008\n",
       "==============================================================================\n",
       "Omnibus:                   907013.301   Durbin-Watson:                   1.763\n",
       "Prob(Omnibus):                  0.000   Jarque-Bera (JB):      21489072251.935\n",
       "Skew:                          23.850   Prob(JB):                         0.00\n",
       "Kurtosis:                    1163.707   Cond. No.                     5.66e+19\n",
       "==============================================================================\n",
       "\n",
       "Notes:\n",
       "[1] Standard Errors assume that the covariance matrix of the errors is correctly specified.\n",
       "[2] The smallest eigenvalue is 1.53e-22. This might indicate that there are\n",
       "strong multicollinearity problems or that the design matrix is singular.\n",
       "\"\"\""
      ],
      "text/html": [
       "<table class=\"simpletable\">\n",
       "<caption>OLS Regression Results</caption>\n",
       "<tr>\n",
       "  <th>Dep. Variable:</th>        <td>CANTIDAD</td>     <th>  R-squared:         </th>  <td>   0.035</td>  \n",
       "</tr>\n",
       "<tr>\n",
       "  <th>Model:</th>                   <td>OLS</td>       <th>  Adj. R-squared:    </th>  <td>   0.035</td>  \n",
       "</tr>\n",
       "<tr>\n",
       "  <th>Method:</th>             <td>Least Squares</td>  <th>  F-statistic:       </th>  <td>   187.3</td>  \n",
       "</tr>\n",
       "<tr>\n",
       "  <th>Date:</th>             <td>Wed, 01 Sep 2021</td> <th>  Prob (F-statistic):</th>   <td>  0.00</td>   \n",
       "</tr>\n",
       "<tr>\n",
       "  <th>Time:</th>                 <td>19:14:20</td>     <th>  Log-Likelihood:    </th> <td>-5.1014e+05</td>\n",
       "</tr>\n",
       "<tr>\n",
       "  <th>No. Observations:</th>      <td>382165</td>      <th>  AIC:               </th>  <td>1.020e+06</td> \n",
       "</tr>\n",
       "<tr>\n",
       "  <th>Df Residuals:</th>          <td>382089</td>      <th>  BIC:               </th>  <td>1.021e+06</td> \n",
       "</tr>\n",
       "<tr>\n",
       "  <th>Df Model:</th>              <td>    75</td>      <th>                     </th>      <td> </td>     \n",
       "</tr>\n",
       "<tr>\n",
       "  <th>Covariance Type:</th>      <td>nonrobust</td>    <th>                     </th>      <td> </td>     \n",
       "</tr>\n",
       "</table>\n",
       "<table class=\"simpletable\">\n",
       "<tr>\n",
       "    <td></td>       <th>coef</th>     <th>std err</th>      <th>t</th>      <th>P>|t|</th>  <th>[0.025</th>    <th>0.975]</th>  \n",
       "</tr>\n",
       "<tr>\n",
       "  <th>const</th> <td>    0.0716</td> <td>    0.007</td> <td>   10.396</td> <td> 0.000</td> <td>    0.058</td> <td>    0.085</td>\n",
       "</tr>\n",
       "<tr>\n",
       "  <th>x1</th>    <td> 6.898e-07</td> <td> 3.64e-07</td> <td>    1.897</td> <td> 0.058</td> <td>-2.29e-08</td> <td>  1.4e-06</td>\n",
       "</tr>\n",
       "<tr>\n",
       "  <th>x2</th>    <td>    0.0006</td> <td> 8.24e-05</td> <td>    6.793</td> <td> 0.000</td> <td>    0.000</td> <td>    0.001</td>\n",
       "</tr>\n",
       "<tr>\n",
       "  <th>x3</th>    <td>   -0.1923</td> <td>    0.012</td> <td>  -16.093</td> <td> 0.000</td> <td>   -0.216</td> <td>   -0.169</td>\n",
       "</tr>\n",
       "<tr>\n",
       "  <th>x4</th>    <td>-5.082e-08</td> <td> 4.85e-09</td> <td>  -10.474</td> <td> 0.000</td> <td>-6.03e-08</td> <td>-4.13e-08</td>\n",
       "</tr>\n",
       "<tr>\n",
       "  <th>x5</th>    <td>   -0.0403</td> <td>    0.005</td> <td>   -8.051</td> <td> 0.000</td> <td>   -0.050</td> <td>   -0.030</td>\n",
       "</tr>\n",
       "<tr>\n",
       "  <th>x6</th>    <td>   -0.0233</td> <td>    0.005</td> <td>   -4.730</td> <td> 0.000</td> <td>   -0.033</td> <td>   -0.014</td>\n",
       "</tr>\n",
       "<tr>\n",
       "  <th>x7</th>    <td>    0.4166</td> <td>    0.005</td> <td>   84.637</td> <td> 0.000</td> <td>    0.407</td> <td>    0.426</td>\n",
       "</tr>\n",
       "<tr>\n",
       "  <th>x8</th>    <td>   -0.0923</td> <td>    0.012</td> <td>   -7.429</td> <td> 0.000</td> <td>   -0.117</td> <td>   -0.068</td>\n",
       "</tr>\n",
       "<tr>\n",
       "  <th>x9</th>    <td>   -0.0081</td> <td>    0.005</td> <td>   -1.619</td> <td> 0.105</td> <td>   -0.018</td> <td>    0.002</td>\n",
       "</tr>\n",
       "<tr>\n",
       "  <th>x10</th>   <td>    0.0560</td> <td>    0.005</td> <td>   11.377</td> <td> 0.000</td> <td>    0.046</td> <td>    0.066</td>\n",
       "</tr>\n",
       "<tr>\n",
       "  <th>x11</th>   <td>    0.0902</td> <td>    0.005</td> <td>   18.322</td> <td> 0.000</td> <td>    0.081</td> <td>    0.100</td>\n",
       "</tr>\n",
       "<tr>\n",
       "  <th>x12</th>   <td>   -0.0780</td> <td>    0.006</td> <td>  -14.167</td> <td> 0.000</td> <td>   -0.089</td> <td>   -0.067</td>\n",
       "</tr>\n",
       "<tr>\n",
       "  <th>x13</th>   <td>   -0.0274</td> <td>    0.005</td> <td>   -5.394</td> <td> 0.000</td> <td>   -0.037</td> <td>   -0.017</td>\n",
       "</tr>\n",
       "<tr>\n",
       "  <th>x14</th>   <td>   -0.0148</td> <td>    0.005</td> <td>   -3.004</td> <td> 0.003</td> <td>   -0.024</td> <td>   -0.005</td>\n",
       "</tr>\n",
       "<tr>\n",
       "  <th>x15</th>   <td>   -0.0631</td> <td>    0.005</td> <td>  -12.426</td> <td> 0.000</td> <td>   -0.073</td> <td>   -0.053</td>\n",
       "</tr>\n",
       "<tr>\n",
       "  <th>x16</th>   <td>   -0.0699</td> <td>    0.006</td> <td>  -11.175</td> <td> 0.000</td> <td>   -0.082</td> <td>   -0.058</td>\n",
       "</tr>\n",
       "<tr>\n",
       "  <th>x17</th>   <td>   -0.0314</td> <td>    0.008</td> <td>   -4.075</td> <td> 0.000</td> <td>   -0.047</td> <td>   -0.016</td>\n",
       "</tr>\n",
       "<tr>\n",
       "  <th>x18</th>   <td>   -0.0427</td> <td>    0.011</td> <td>   -3.810</td> <td> 0.000</td> <td>   -0.065</td> <td>   -0.021</td>\n",
       "</tr>\n",
       "<tr>\n",
       "  <th>x19</th>   <td>   -0.0140</td> <td>    0.005</td> <td>   -3.034</td> <td> 0.002</td> <td>   -0.023</td> <td>   -0.005</td>\n",
       "</tr>\n",
       "<tr>\n",
       "  <th>x20</th>   <td>    0.0144</td> <td>    0.004</td> <td>    3.213</td> <td> 0.001</td> <td>    0.006</td> <td>    0.023</td>\n",
       "</tr>\n",
       "<tr>\n",
       "  <th>x21</th>   <td>    0.0076</td> <td>    0.005</td> <td>    1.528</td> <td> 0.127</td> <td>   -0.002</td> <td>    0.017</td>\n",
       "</tr>\n",
       "<tr>\n",
       "  <th>x22</th>   <td>   -0.0529</td> <td>    0.005</td> <td>  -10.616</td> <td> 0.000</td> <td>   -0.063</td> <td>   -0.043</td>\n",
       "</tr>\n",
       "<tr>\n",
       "  <th>x23</th>   <td>   -0.0505</td> <td>    0.006</td> <td>   -8.521</td> <td> 0.000</td> <td>   -0.062</td> <td>   -0.039</td>\n",
       "</tr>\n",
       "<tr>\n",
       "  <th>x24</th>   <td>    0.0067</td> <td>    0.006</td> <td>    1.188</td> <td> 0.235</td> <td>   -0.004</td> <td>    0.018</td>\n",
       "</tr>\n",
       "<tr>\n",
       "  <th>x25</th>   <td>    0.0166</td> <td>    0.005</td> <td>    3.040</td> <td> 0.002</td> <td>    0.006</td> <td>    0.027</td>\n",
       "</tr>\n",
       "<tr>\n",
       "  <th>x26</th>   <td>   -0.0108</td> <td>    0.006</td> <td>   -1.879</td> <td> 0.060</td> <td>   -0.022</td> <td>    0.000</td>\n",
       "</tr>\n",
       "<tr>\n",
       "  <th>x27</th>   <td>    0.0197</td> <td>    0.006</td> <td>    3.422</td> <td> 0.001</td> <td>    0.008</td> <td>    0.031</td>\n",
       "</tr>\n",
       "<tr>\n",
       "  <th>x28</th>   <td>    0.0114</td> <td>    0.005</td> <td>    2.131</td> <td> 0.033</td> <td>    0.001</td> <td>    0.022</td>\n",
       "</tr>\n",
       "<tr>\n",
       "  <th>x29</th>   <td>    0.0817</td> <td>    0.005</td> <td>   15.239</td> <td> 0.000</td> <td>    0.071</td> <td>    0.092</td>\n",
       "</tr>\n",
       "<tr>\n",
       "  <th>x30</th>   <td>    0.0416</td> <td>    0.006</td> <td>    7.315</td> <td> 0.000</td> <td>    0.030</td> <td>    0.053</td>\n",
       "</tr>\n",
       "<tr>\n",
       "  <th>x31</th>   <td>    0.0600</td> <td>    0.003</td> <td>   19.330</td> <td> 0.000</td> <td>    0.054</td> <td>    0.066</td>\n",
       "</tr>\n",
       "<tr>\n",
       "  <th>x32</th>   <td>    0.0279</td> <td>    0.004</td> <td>    7.558</td> <td> 0.000</td> <td>    0.021</td> <td>    0.035</td>\n",
       "</tr>\n",
       "<tr>\n",
       "  <th>x33</th>   <td>    0.0129</td> <td>    0.005</td> <td>    2.635</td> <td> 0.008</td> <td>    0.003</td> <td>    0.022</td>\n",
       "</tr>\n",
       "<tr>\n",
       "  <th>x34</th>   <td>   -0.0292</td> <td>    0.006</td> <td>   -4.693</td> <td> 0.000</td> <td>   -0.041</td> <td>   -0.017</td>\n",
       "</tr>\n",
       "<tr>\n",
       "  <th>x35</th>   <td> 2.343e-16</td> <td>  2.3e-17</td> <td>   10.185</td> <td> 0.000</td> <td> 1.89e-16</td> <td> 2.79e-16</td>\n",
       "</tr>\n",
       "<tr>\n",
       "  <th>x36</th>   <td>    0.0367</td> <td>    0.013</td> <td>    2.796</td> <td> 0.005</td> <td>    0.011</td> <td>    0.062</td>\n",
       "</tr>\n",
       "<tr>\n",
       "  <th>x37</th>   <td>    0.0829</td> <td>    0.012</td> <td>    6.754</td> <td> 0.000</td> <td>    0.059</td> <td>    0.107</td>\n",
       "</tr>\n",
       "<tr>\n",
       "  <th>x38</th>   <td>    0.0875</td> <td>    0.013</td> <td>    6.640</td> <td> 0.000</td> <td>    0.062</td> <td>    0.113</td>\n",
       "</tr>\n",
       "<tr>\n",
       "  <th>x39</th>   <td>    0.1465</td> <td>    0.019</td> <td>    7.514</td> <td> 0.000</td> <td>    0.108</td> <td>    0.185</td>\n",
       "</tr>\n",
       "<tr>\n",
       "  <th>x40</th>   <td>    0.0773</td> <td>    0.012</td> <td>    6.223</td> <td> 0.000</td> <td>    0.053</td> <td>    0.102</td>\n",
       "</tr>\n",
       "<tr>\n",
       "  <th>x41</th>   <td>    0.1686</td> <td>    0.025</td> <td>    6.852</td> <td> 0.000</td> <td>    0.120</td> <td>    0.217</td>\n",
       "</tr>\n",
       "<tr>\n",
       "  <th>x42</th>   <td>   -0.0240</td> <td>    0.010</td> <td>   -2.354</td> <td> 0.019</td> <td>   -0.044</td> <td>   -0.004</td>\n",
       "</tr>\n",
       "<tr>\n",
       "  <th>x43</th>   <td>    0.0105</td> <td>    0.007</td> <td>    1.420</td> <td> 0.156</td> <td>   -0.004</td> <td>    0.025</td>\n",
       "</tr>\n",
       "<tr>\n",
       "  <th>x44</th>   <td>   -0.0396</td> <td>    0.009</td> <td>   -4.399</td> <td> 0.000</td> <td>   -0.057</td> <td>   -0.022</td>\n",
       "</tr>\n",
       "<tr>\n",
       "  <th>x45</th>   <td>   -0.0518</td> <td>    0.006</td> <td>   -8.500</td> <td> 0.000</td> <td>   -0.064</td> <td>   -0.040</td>\n",
       "</tr>\n",
       "<tr>\n",
       "  <th>x46</th>   <td>   -0.0248</td> <td>    0.004</td> <td>   -5.513</td> <td> 0.000</td> <td>   -0.034</td> <td>   -0.016</td>\n",
       "</tr>\n",
       "<tr>\n",
       "  <th>x47</th>   <td>   -0.0247</td> <td>    0.009</td> <td>   -2.842</td> <td> 0.004</td> <td>   -0.042</td> <td>   -0.008</td>\n",
       "</tr>\n",
       "<tr>\n",
       "  <th>x48</th>   <td>   -0.0234</td> <td>    0.004</td> <td>   -5.500</td> <td> 0.000</td> <td>   -0.032</td> <td>   -0.015</td>\n",
       "</tr>\n",
       "<tr>\n",
       "  <th>x49</th>   <td>    0.3157</td> <td>    0.019</td> <td>   16.630</td> <td> 0.000</td> <td>    0.279</td> <td>    0.353</td>\n",
       "</tr>\n",
       "<tr>\n",
       "  <th>x50</th>   <td>    0.0205</td> <td>    0.005</td> <td>    4.401</td> <td> 0.000</td> <td>    0.011</td> <td>    0.030</td>\n",
       "</tr>\n",
       "<tr>\n",
       "  <th>x51</th>   <td>   -0.0320</td> <td>    0.004</td> <td>   -7.505</td> <td> 0.000</td> <td>   -0.040</td> <td>   -0.024</td>\n",
       "</tr>\n",
       "<tr>\n",
       "  <th>x52</th>   <td>   -0.0549</td> <td>    0.008</td> <td>   -6.630</td> <td> 0.000</td> <td>   -0.071</td> <td>   -0.039</td>\n",
       "</tr>\n",
       "<tr>\n",
       "  <th>x53</th>   <td>   -0.1164</td> <td>    0.020</td> <td>   -5.880</td> <td> 0.000</td> <td>   -0.155</td> <td>   -0.078</td>\n",
       "</tr>\n",
       "<tr>\n",
       "  <th>x54</th>   <td>-9.191e-05</td> <td>    0.009</td> <td>   -0.010</td> <td> 0.992</td> <td>   -0.018</td> <td>    0.018</td>\n",
       "</tr>\n",
       "<tr>\n",
       "  <th>x55</th>   <td>   -0.0511</td> <td>    0.006</td> <td>   -8.934</td> <td> 0.000</td> <td>   -0.062</td> <td>   -0.040</td>\n",
       "</tr>\n",
       "<tr>\n",
       "  <th>x56</th>   <td>   -0.0255</td> <td>    0.011</td> <td>   -2.322</td> <td> 0.020</td> <td>   -0.047</td> <td>   -0.004</td>\n",
       "</tr>\n",
       "<tr>\n",
       "  <th>x57</th>   <td>   -0.0232</td> <td>    0.011</td> <td>   -2.043</td> <td> 0.041</td> <td>   -0.046</td> <td>   -0.001</td>\n",
       "</tr>\n",
       "<tr>\n",
       "  <th>x58</th>   <td>    0.0682</td> <td>    0.011</td> <td>    6.301</td> <td> 0.000</td> <td>    0.047</td> <td>    0.089</td>\n",
       "</tr>\n",
       "<tr>\n",
       "  <th>x59</th>   <td>    0.1187</td> <td>    0.013</td> <td>    8.805</td> <td> 0.000</td> <td>    0.092</td> <td>    0.145</td>\n",
       "</tr>\n",
       "<tr>\n",
       "  <th>x60</th>   <td>   -0.0456</td> <td>    0.018</td> <td>   -2.514</td> <td> 0.012</td> <td>   -0.081</td> <td>   -0.010</td>\n",
       "</tr>\n",
       "<tr>\n",
       "  <th>x61</th>   <td>   -0.0447</td> <td>    0.014</td> <td>   -3.201</td> <td> 0.001</td> <td>   -0.072</td> <td>   -0.017</td>\n",
       "</tr>\n",
       "<tr>\n",
       "  <th>x62</th>   <td>    0.0219</td> <td>    0.010</td> <td>    2.215</td> <td> 0.027</td> <td>    0.003</td> <td>    0.041</td>\n",
       "</tr>\n",
       "<tr>\n",
       "  <th>x63</th>   <td>    0.1320</td> <td>    0.010</td> <td>   13.166</td> <td> 0.000</td> <td>    0.112</td> <td>    0.152</td>\n",
       "</tr>\n",
       "<tr>\n",
       "  <th>x64</th>   <td>   -0.0090</td> <td>    0.011</td> <td>   -0.805</td> <td> 0.421</td> <td>   -0.031</td> <td>    0.013</td>\n",
       "</tr>\n",
       "<tr>\n",
       "  <th>x65</th>   <td>    0.0051</td> <td>    0.009</td> <td>    0.536</td> <td> 0.592</td> <td>   -0.013</td> <td>    0.024</td>\n",
       "</tr>\n",
       "<tr>\n",
       "  <th>x66</th>   <td>    0.0413</td> <td>    0.012</td> <td>    3.467</td> <td> 0.001</td> <td>    0.018</td> <td>    0.065</td>\n",
       "</tr>\n",
       "<tr>\n",
       "  <th>x67</th>   <td>    0.1533</td> <td>    0.009</td> <td>   17.973</td> <td> 0.000</td> <td>    0.137</td> <td>    0.170</td>\n",
       "</tr>\n",
       "<tr>\n",
       "  <th>x68</th>   <td>    0.0024</td> <td>    0.011</td> <td>    0.218</td> <td> 0.827</td> <td>   -0.019</td> <td>    0.024</td>\n",
       "</tr>\n",
       "<tr>\n",
       "  <th>x69</th>   <td>    0.0954</td> <td>    0.010</td> <td>    9.145</td> <td> 0.000</td> <td>    0.075</td> <td>    0.116</td>\n",
       "</tr>\n",
       "<tr>\n",
       "  <th>x70</th>   <td>    0.1425</td> <td>    0.022</td> <td>    6.619</td> <td> 0.000</td> <td>    0.100</td> <td>    0.185</td>\n",
       "</tr>\n",
       "<tr>\n",
       "  <th>x71</th>   <td>   -0.4213</td> <td>    0.016</td> <td>  -26.335</td> <td> 0.000</td> <td>   -0.453</td> <td>   -0.390</td>\n",
       "</tr>\n",
       "<tr>\n",
       "  <th>x72</th>   <td>    0.0992</td> <td>    0.008</td> <td>   13.068</td> <td> 0.000</td> <td>    0.084</td> <td>    0.114</td>\n",
       "</tr>\n",
       "<tr>\n",
       "  <th>x73</th>   <td>    0.4131</td> <td>    0.020</td> <td>   20.522</td> <td> 0.000</td> <td>    0.374</td> <td>    0.453</td>\n",
       "</tr>\n",
       "<tr>\n",
       "  <th>x74</th>   <td>   -0.1198</td> <td>    0.017</td> <td>   -7.186</td> <td> 0.000</td> <td>   -0.152</td> <td>   -0.087</td>\n",
       "</tr>\n",
       "<tr>\n",
       "  <th>x75</th>   <td>   -0.1310</td> <td>    0.012</td> <td>  -10.573</td> <td> 0.000</td> <td>   -0.155</td> <td>   -0.107</td>\n",
       "</tr>\n",
       "<tr>\n",
       "  <th>x76</th>   <td>   -0.2041</td> <td>    0.049</td> <td>   -4.182</td> <td> 0.000</td> <td>   -0.300</td> <td>   -0.108</td>\n",
       "</tr>\n",
       "<tr>\n",
       "  <th>x77</th>   <td>   -0.1292</td> <td>    0.029</td> <td>   -4.399</td> <td> 0.000</td> <td>   -0.187</td> <td>   -0.072</td>\n",
       "</tr>\n",
       "<tr>\n",
       "  <th>x78</th>   <td>   -0.1662</td> <td>    0.021</td> <td>   -7.783</td> <td> 0.000</td> <td>   -0.208</td> <td>   -0.124</td>\n",
       "</tr>\n",
       "<tr>\n",
       "  <th>x79</th>   <td>   -0.1179</td> <td>    0.013</td> <td>   -9.136</td> <td> 0.000</td> <td>   -0.143</td> <td>   -0.093</td>\n",
       "</tr>\n",
       "<tr>\n",
       "  <th>x80</th>   <td>    0.5411</td> <td>    0.052</td> <td>   10.455</td> <td> 0.000</td> <td>    0.440</td> <td>    0.643</td>\n",
       "</tr>\n",
       "<tr>\n",
       "  <th>x81</th>   <td>   -0.0145</td> <td>    0.017</td> <td>   -0.850</td> <td> 0.395</td> <td>   -0.048</td> <td>    0.019</td>\n",
       "</tr>\n",
       "<tr>\n",
       "  <th>x82</th>   <td>    0.0744</td> <td>    0.005</td> <td>   15.698</td> <td> 0.000</td> <td>    0.065</td> <td>    0.084</td>\n",
       "</tr>\n",
       "<tr>\n",
       "  <th>x83</th>   <td>    0.0051</td> <td>    0.005</td> <td>    0.944</td> <td> 0.345</td> <td>   -0.005</td> <td>    0.016</td>\n",
       "</tr>\n",
       "<tr>\n",
       "  <th>x84</th>   <td>   -0.0078</td> <td>    0.008</td> <td>   -0.951</td> <td> 0.342</td> <td>   -0.024</td> <td>    0.008</td>\n",
       "</tr>\n",
       "</table>\n",
       "<table class=\"simpletable\">\n",
       "<tr>\n",
       "  <th>Omnibus:</th>       <td>907013.301</td> <th>  Durbin-Watson:     </th>    <td>   1.763</td>    \n",
       "</tr>\n",
       "<tr>\n",
       "  <th>Prob(Omnibus):</th>   <td> 0.000</td>   <th>  Jarque-Bera (JB):  </th> <td>21489072251.935</td>\n",
       "</tr>\n",
       "<tr>\n",
       "  <th>Skew:</th>            <td>23.850</td>   <th>  Prob(JB):          </th>    <td>    0.00</td>    \n",
       "</tr>\n",
       "<tr>\n",
       "  <th>Kurtosis:</th>       <td>1163.707</td>  <th>  Cond. No.          </th>    <td>5.66e+19</td>    \n",
       "</tr>\n",
       "</table><br/><br/>Notes:<br/>[1] Standard Errors assume that the covariance matrix of the errors is correctly specified.<br/>[2] The smallest eigenvalue is 1.53e-22. This might indicate that there are<br/>strong multicollinearity problems or that the design matrix is singular."
      ]
     },
     "metadata": {},
     "execution_count": 46
    }
   ],
   "metadata": {}
  },
  {
   "cell_type": "code",
   "execution_count": 48,
   "source": [
    "pred_past_test = pasado.copy()\r\n",
    "pred_past_test['PREDICTED'] = res.predict(sm.add_constant(x,has_constant='add'))\r\n",
    "\r\n",
    "pred_fut_test = futuro.copy()\r\n",
    "pred_fut_test['PREDICTED'] = res.predict(sm.add_constant(x_fut,has_constant='add'))"
   ],
   "outputs": [],
   "metadata": {}
  },
  {
   "cell_type": "code",
   "execution_count": 49,
   "source": [
    "d_pasado = pred_past_test.groupby(['DATE']).sum().reset_index()\r\n",
    "d_futuro = pred_fut_test.groupby(['DATE']).sum().reset_index()\r\n",
    "\r\n",
    "fig = go.Figure()\r\n",
    "fig.add_scatter(x=d_pasado['DATE'], y=d_pasado['PREDICTED'], mode='lines', name='Valores predichos')\r\n",
    "fig.add_scatter(x=d_pasado['DATE'], y=d_pasado['CANTIDAD'], mode='lines', name='Valores reales')\r\n",
    "fig.add_scatter(x=d_futuro['DATE'], y=d_futuro['PREDICTED'], mode='lines', name='Valores futuros')"
   ],
   "outputs": [
    {
     "output_type": "display_data",
     "data": {
      "application/vnd.plotly.v1+json": {
       "config": {
        "plotlyServerURL": "https://plot.ly"
       },
       "data": [
        {
         "mode": "lines",
         "name": "Valores predichos",
         "type": "scatter",
         "x": [
          "2019-01",
          "2019-02",
          "2019-03",
          "2019-04",
          "2019-05",
          "2019-06",
          "2019-07",
          "2019-08",
          "2019-09",
          "2019-10",
          "2019-11",
          "2019-12",
          "2020-01",
          "2020-02",
          "2020-03",
          "2020-04",
          "2020-05",
          "2020-06",
          "2020-07",
          "2020-08",
          "2020-09",
          "2020-10",
          "2020-11",
          "2020-12",
          "2021-01",
          "2021-02",
          "2021-03",
          "2021-04"
         ],
         "y": [
          1769.8005964908177,
          2189.2249309474587,
          2079.8675549755817,
          1174.7998027599112,
          1240.465408031294,
          2031.3861604372505,
          2164.538726131671,
          1788.7787540944726,
          2207.14136107498,
          2098.1925229686117,
          3059.5693729097775,
          2517.8332949679675,
          1736.4460010184066,
          2126.955534602473,
          808.986873504118,
          449.01312879216243,
          915.5345944327086,
          1532.6138422721526,
          1776.46127683893,
          1193.2212489020642,
          1606.8586419228843,
          1735.8074801185958,
          2790.4306301807032,
          1997.1667081706041,
          1159.7534072411265,
          1782.8195390599592,
          1690.1455761273128,
          856.1870723965244
         ]
        },
        {
         "mode": "lines",
         "name": "Valores reales",
         "type": "scatter",
         "x": [
          "2019-01",
          "2019-02",
          "2019-03",
          "2019-04",
          "2019-05",
          "2019-06",
          "2019-07",
          "2019-08",
          "2019-09",
          "2019-10",
          "2019-11",
          "2019-12",
          "2020-01",
          "2020-02",
          "2020-03",
          "2020-04",
          "2020-05",
          "2020-06",
          "2020-07",
          "2020-08",
          "2020-09",
          "2020-10",
          "2020-11",
          "2020-12",
          "2021-01",
          "2021-02",
          "2021-03",
          "2021-04"
         ],
         "y": [
          1323,
          1283,
          1703,
          1410,
          1879,
          1904,
          2222,
          1708,
          2040,
          1658,
          3161,
          2332,
          2617,
          2945,
          1151,
          107,
          277,
          1660,
          1719,
          1274,
          1774,
          2176,
          2689,
          2183,
          726,
          1871,
          1725,
          963
         ]
        },
        {
         "mode": "lines",
         "name": "Valores futuros",
         "type": "scatter",
         "x": [
          "2021-05",
          "2021-06",
          "2021-07",
          "2021-08",
          "2021-09",
          "2021-10",
          "2021-11",
          "2021-12"
         ],
         "y": [
          628.4331570542224,
          1096.3610505378763,
          1176.85152011574,
          953.0095937403266,
          1202.347507170041,
          1134.848085344751,
          1709.7025971694757,
          1381.6704628095
         ]
        }
       ],
       "layout": {
        "template": {
         "data": {
          "bar": [
           {
            "error_x": {
             "color": "#2a3f5f"
            },
            "error_y": {
             "color": "#2a3f5f"
            },
            "marker": {
             "line": {
              "color": "#E5ECF6",
              "width": 0.5
             },
             "pattern": {
              "fillmode": "overlay",
              "size": 10,
              "solidity": 0.2
             }
            },
            "type": "bar"
           }
          ],
          "barpolar": [
           {
            "marker": {
             "line": {
              "color": "#E5ECF6",
              "width": 0.5
             },
             "pattern": {
              "fillmode": "overlay",
              "size": 10,
              "solidity": 0.2
             }
            },
            "type": "barpolar"
           }
          ],
          "carpet": [
           {
            "aaxis": {
             "endlinecolor": "#2a3f5f",
             "gridcolor": "white",
             "linecolor": "white",
             "minorgridcolor": "white",
             "startlinecolor": "#2a3f5f"
            },
            "baxis": {
             "endlinecolor": "#2a3f5f",
             "gridcolor": "white",
             "linecolor": "white",
             "minorgridcolor": "white",
             "startlinecolor": "#2a3f5f"
            },
            "type": "carpet"
           }
          ],
          "choropleth": [
           {
            "colorbar": {
             "outlinewidth": 0,
             "ticks": ""
            },
            "type": "choropleth"
           }
          ],
          "contour": [
           {
            "colorbar": {
             "outlinewidth": 0,
             "ticks": ""
            },
            "colorscale": [
             [
              0,
              "#0d0887"
             ],
             [
              0.1111111111111111,
              "#46039f"
             ],
             [
              0.2222222222222222,
              "#7201a8"
             ],
             [
              0.3333333333333333,
              "#9c179e"
             ],
             [
              0.4444444444444444,
              "#bd3786"
             ],
             [
              0.5555555555555556,
              "#d8576b"
             ],
             [
              0.6666666666666666,
              "#ed7953"
             ],
             [
              0.7777777777777778,
              "#fb9f3a"
             ],
             [
              0.8888888888888888,
              "#fdca26"
             ],
             [
              1,
              "#f0f921"
             ]
            ],
            "type": "contour"
           }
          ],
          "contourcarpet": [
           {
            "colorbar": {
             "outlinewidth": 0,
             "ticks": ""
            },
            "type": "contourcarpet"
           }
          ],
          "heatmap": [
           {
            "colorbar": {
             "outlinewidth": 0,
             "ticks": ""
            },
            "colorscale": [
             [
              0,
              "#0d0887"
             ],
             [
              0.1111111111111111,
              "#46039f"
             ],
             [
              0.2222222222222222,
              "#7201a8"
             ],
             [
              0.3333333333333333,
              "#9c179e"
             ],
             [
              0.4444444444444444,
              "#bd3786"
             ],
             [
              0.5555555555555556,
              "#d8576b"
             ],
             [
              0.6666666666666666,
              "#ed7953"
             ],
             [
              0.7777777777777778,
              "#fb9f3a"
             ],
             [
              0.8888888888888888,
              "#fdca26"
             ],
             [
              1,
              "#f0f921"
             ]
            ],
            "type": "heatmap"
           }
          ],
          "heatmapgl": [
           {
            "colorbar": {
             "outlinewidth": 0,
             "ticks": ""
            },
            "colorscale": [
             [
              0,
              "#0d0887"
             ],
             [
              0.1111111111111111,
              "#46039f"
             ],
             [
              0.2222222222222222,
              "#7201a8"
             ],
             [
              0.3333333333333333,
              "#9c179e"
             ],
             [
              0.4444444444444444,
              "#bd3786"
             ],
             [
              0.5555555555555556,
              "#d8576b"
             ],
             [
              0.6666666666666666,
              "#ed7953"
             ],
             [
              0.7777777777777778,
              "#fb9f3a"
             ],
             [
              0.8888888888888888,
              "#fdca26"
             ],
             [
              1,
              "#f0f921"
             ]
            ],
            "type": "heatmapgl"
           }
          ],
          "histogram": [
           {
            "marker": {
             "pattern": {
              "fillmode": "overlay",
              "size": 10,
              "solidity": 0.2
             }
            },
            "type": "histogram"
           }
          ],
          "histogram2d": [
           {
            "colorbar": {
             "outlinewidth": 0,
             "ticks": ""
            },
            "colorscale": [
             [
              0,
              "#0d0887"
             ],
             [
              0.1111111111111111,
              "#46039f"
             ],
             [
              0.2222222222222222,
              "#7201a8"
             ],
             [
              0.3333333333333333,
              "#9c179e"
             ],
             [
              0.4444444444444444,
              "#bd3786"
             ],
             [
              0.5555555555555556,
              "#d8576b"
             ],
             [
              0.6666666666666666,
              "#ed7953"
             ],
             [
              0.7777777777777778,
              "#fb9f3a"
             ],
             [
              0.8888888888888888,
              "#fdca26"
             ],
             [
              1,
              "#f0f921"
             ]
            ],
            "type": "histogram2d"
           }
          ],
          "histogram2dcontour": [
           {
            "colorbar": {
             "outlinewidth": 0,
             "ticks": ""
            },
            "colorscale": [
             [
              0,
              "#0d0887"
             ],
             [
              0.1111111111111111,
              "#46039f"
             ],
             [
              0.2222222222222222,
              "#7201a8"
             ],
             [
              0.3333333333333333,
              "#9c179e"
             ],
             [
              0.4444444444444444,
              "#bd3786"
             ],
             [
              0.5555555555555556,
              "#d8576b"
             ],
             [
              0.6666666666666666,
              "#ed7953"
             ],
             [
              0.7777777777777778,
              "#fb9f3a"
             ],
             [
              0.8888888888888888,
              "#fdca26"
             ],
             [
              1,
              "#f0f921"
             ]
            ],
            "type": "histogram2dcontour"
           }
          ],
          "mesh3d": [
           {
            "colorbar": {
             "outlinewidth": 0,
             "ticks": ""
            },
            "type": "mesh3d"
           }
          ],
          "parcoords": [
           {
            "line": {
             "colorbar": {
              "outlinewidth": 0,
              "ticks": ""
             }
            },
            "type": "parcoords"
           }
          ],
          "pie": [
           {
            "automargin": true,
            "type": "pie"
           }
          ],
          "scatter": [
           {
            "marker": {
             "colorbar": {
              "outlinewidth": 0,
              "ticks": ""
             }
            },
            "type": "scatter"
           }
          ],
          "scatter3d": [
           {
            "line": {
             "colorbar": {
              "outlinewidth": 0,
              "ticks": ""
             }
            },
            "marker": {
             "colorbar": {
              "outlinewidth": 0,
              "ticks": ""
             }
            },
            "type": "scatter3d"
           }
          ],
          "scattercarpet": [
           {
            "marker": {
             "colorbar": {
              "outlinewidth": 0,
              "ticks": ""
             }
            },
            "type": "scattercarpet"
           }
          ],
          "scattergeo": [
           {
            "marker": {
             "colorbar": {
              "outlinewidth": 0,
              "ticks": ""
             }
            },
            "type": "scattergeo"
           }
          ],
          "scattergl": [
           {
            "marker": {
             "colorbar": {
              "outlinewidth": 0,
              "ticks": ""
             }
            },
            "type": "scattergl"
           }
          ],
          "scattermapbox": [
           {
            "marker": {
             "colorbar": {
              "outlinewidth": 0,
              "ticks": ""
             }
            },
            "type": "scattermapbox"
           }
          ],
          "scatterpolar": [
           {
            "marker": {
             "colorbar": {
              "outlinewidth": 0,
              "ticks": ""
             }
            },
            "type": "scatterpolar"
           }
          ],
          "scatterpolargl": [
           {
            "marker": {
             "colorbar": {
              "outlinewidth": 0,
              "ticks": ""
             }
            },
            "type": "scatterpolargl"
           }
          ],
          "scatterternary": [
           {
            "marker": {
             "colorbar": {
              "outlinewidth": 0,
              "ticks": ""
             }
            },
            "type": "scatterternary"
           }
          ],
          "surface": [
           {
            "colorbar": {
             "outlinewidth": 0,
             "ticks": ""
            },
            "colorscale": [
             [
              0,
              "#0d0887"
             ],
             [
              0.1111111111111111,
              "#46039f"
             ],
             [
              0.2222222222222222,
              "#7201a8"
             ],
             [
              0.3333333333333333,
              "#9c179e"
             ],
             [
              0.4444444444444444,
              "#bd3786"
             ],
             [
              0.5555555555555556,
              "#d8576b"
             ],
             [
              0.6666666666666666,
              "#ed7953"
             ],
             [
              0.7777777777777778,
              "#fb9f3a"
             ],
             [
              0.8888888888888888,
              "#fdca26"
             ],
             [
              1,
              "#f0f921"
             ]
            ],
            "type": "surface"
           }
          ],
          "table": [
           {
            "cells": {
             "fill": {
              "color": "#EBF0F8"
             },
             "line": {
              "color": "white"
             }
            },
            "header": {
             "fill": {
              "color": "#C8D4E3"
             },
             "line": {
              "color": "white"
             }
            },
            "type": "table"
           }
          ]
         },
         "layout": {
          "annotationdefaults": {
           "arrowcolor": "#2a3f5f",
           "arrowhead": 0,
           "arrowwidth": 1
          },
          "autotypenumbers": "strict",
          "coloraxis": {
           "colorbar": {
            "outlinewidth": 0,
            "ticks": ""
           }
          },
          "colorscale": {
           "diverging": [
            [
             0,
             "#8e0152"
            ],
            [
             0.1,
             "#c51b7d"
            ],
            [
             0.2,
             "#de77ae"
            ],
            [
             0.3,
             "#f1b6da"
            ],
            [
             0.4,
             "#fde0ef"
            ],
            [
             0.5,
             "#f7f7f7"
            ],
            [
             0.6,
             "#e6f5d0"
            ],
            [
             0.7,
             "#b8e186"
            ],
            [
             0.8,
             "#7fbc41"
            ],
            [
             0.9,
             "#4d9221"
            ],
            [
             1,
             "#276419"
            ]
           ],
           "sequential": [
            [
             0,
             "#0d0887"
            ],
            [
             0.1111111111111111,
             "#46039f"
            ],
            [
             0.2222222222222222,
             "#7201a8"
            ],
            [
             0.3333333333333333,
             "#9c179e"
            ],
            [
             0.4444444444444444,
             "#bd3786"
            ],
            [
             0.5555555555555556,
             "#d8576b"
            ],
            [
             0.6666666666666666,
             "#ed7953"
            ],
            [
             0.7777777777777778,
             "#fb9f3a"
            ],
            [
             0.8888888888888888,
             "#fdca26"
            ],
            [
             1,
             "#f0f921"
            ]
           ],
           "sequentialminus": [
            [
             0,
             "#0d0887"
            ],
            [
             0.1111111111111111,
             "#46039f"
            ],
            [
             0.2222222222222222,
             "#7201a8"
            ],
            [
             0.3333333333333333,
             "#9c179e"
            ],
            [
             0.4444444444444444,
             "#bd3786"
            ],
            [
             0.5555555555555556,
             "#d8576b"
            ],
            [
             0.6666666666666666,
             "#ed7953"
            ],
            [
             0.7777777777777778,
             "#fb9f3a"
            ],
            [
             0.8888888888888888,
             "#fdca26"
            ],
            [
             1,
             "#f0f921"
            ]
           ]
          },
          "colorway": [
           "#636efa",
           "#EF553B",
           "#00cc96",
           "#ab63fa",
           "#FFA15A",
           "#19d3f3",
           "#FF6692",
           "#B6E880",
           "#FF97FF",
           "#FECB52"
          ],
          "font": {
           "color": "#2a3f5f"
          },
          "geo": {
           "bgcolor": "white",
           "lakecolor": "white",
           "landcolor": "#E5ECF6",
           "showlakes": true,
           "showland": true,
           "subunitcolor": "white"
          },
          "hoverlabel": {
           "align": "left"
          },
          "hovermode": "closest",
          "mapbox": {
           "style": "light"
          },
          "paper_bgcolor": "white",
          "plot_bgcolor": "#E5ECF6",
          "polar": {
           "angularaxis": {
            "gridcolor": "white",
            "linecolor": "white",
            "ticks": ""
           },
           "bgcolor": "#E5ECF6",
           "radialaxis": {
            "gridcolor": "white",
            "linecolor": "white",
            "ticks": ""
           }
          },
          "scene": {
           "xaxis": {
            "backgroundcolor": "#E5ECF6",
            "gridcolor": "white",
            "gridwidth": 2,
            "linecolor": "white",
            "showbackground": true,
            "ticks": "",
            "zerolinecolor": "white"
           },
           "yaxis": {
            "backgroundcolor": "#E5ECF6",
            "gridcolor": "white",
            "gridwidth": 2,
            "linecolor": "white",
            "showbackground": true,
            "ticks": "",
            "zerolinecolor": "white"
           },
           "zaxis": {
            "backgroundcolor": "#E5ECF6",
            "gridcolor": "white",
            "gridwidth": 2,
            "linecolor": "white",
            "showbackground": true,
            "ticks": "",
            "zerolinecolor": "white"
           }
          },
          "shapedefaults": {
           "line": {
            "color": "#2a3f5f"
           }
          },
          "ternary": {
           "aaxis": {
            "gridcolor": "white",
            "linecolor": "white",
            "ticks": ""
           },
           "baxis": {
            "gridcolor": "white",
            "linecolor": "white",
            "ticks": ""
           },
           "bgcolor": "#E5ECF6",
           "caxis": {
            "gridcolor": "white",
            "linecolor": "white",
            "ticks": ""
           }
          },
          "title": {
           "x": 0.05
          },
          "xaxis": {
           "automargin": true,
           "gridcolor": "white",
           "linecolor": "white",
           "ticks": "",
           "title": {
            "standoff": 15
           },
           "zerolinecolor": "white",
           "zerolinewidth": 2
          },
          "yaxis": {
           "automargin": true,
           "gridcolor": "white",
           "linecolor": "white",
           "ticks": "",
           "title": {
            "standoff": 15
           },
           "zerolinecolor": "white",
           "zerolinewidth": 2
          }
         }
        }
       }
      }
     },
     "metadata": {}
    }
   ],
   "metadata": {}
  },
  {
   "cell_type": "code",
   "execution_count": null,
   "source": [],
   "outputs": [],
   "metadata": {}
  }
 ],
 "metadata": {
  "kernelspec": {
   "name": "python3",
   "display_name": "Python 3.9.6 64-bit ('ds4a': conda)"
  },
  "language_info": {
   "codemirror_mode": {
    "name": "ipython",
    "version": 3
   },
   "file_extension": ".py",
   "mimetype": "text/x-python",
   "name": "python",
   "nbconvert_exporter": "python",
   "pygments_lexer": "ipython3",
   "version": "3.9.6"
  },
  "interpreter": {
   "hash": "6eee23b6df0947bb8010c340d8b57dfb4569a6c74ddf8babe304036b5fafc026"
  }
 },
 "nbformat": 4,
 "nbformat_minor": 5
}